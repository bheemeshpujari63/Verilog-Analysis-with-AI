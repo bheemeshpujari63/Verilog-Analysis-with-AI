{
 "cells": [
  {
   "cell_type": "code",
   "execution_count": null,
   "metadata": {
    "colab": {
     "base_uri": "https://localhost:8080/"
    },
    "id": "MqhWjDnPMiWL",
    "outputId": "b7536585-b118-468c-a709-5bf3ef54acf3"
   },
   "outputs": [
    {
     "name": "stdout",
     "output_type": "stream",
     "text": [
      "Mounted at /content/drive\n"
     ]
    }
   ],
   "source": [
    "from google.colab import drive\n",
    "drive.mount(\"/content/drive\")"
   ]
  },
  {
   "cell_type": "code",
   "execution_count": null,
   "metadata": {
    "colab": {
     "base_uri": "https://localhost:8080/"
    },
    "id": "38BT58WKMuuw",
    "outputId": "ce614b11-3302-48e7-8837-b61a224efba9"
   },
   "outputs": [
    {
     "name": "stdout",
     "output_type": "stream",
     "text": [
      "\u001b[2K   \u001b[90m━━━━━━━━━━━━━━━━━━━━━━━━━━━━━━━━━━━━━━━━\u001b[0m \u001b[32m76.1/76.1 MB\u001b[0m \u001b[31m10.8 MB/s\u001b[0m eta \u001b[36m0:00:00\u001b[0m\n",
      "\u001b[2K   \u001b[90m━━━━━━━━━━━━━━━━━━━━━━━━━━━━━━━━━━━━━━━━\u001b[0m \u001b[32m363.4/363.4 MB\u001b[0m \u001b[31m5.1 MB/s\u001b[0m eta \u001b[36m0:00:00\u001b[0m\n",
      "\u001b[2K   \u001b[90m━━━━━━━━━━━━━━━━━━━━━━━━━━━━━━━━━━━━━━━━\u001b[0m \u001b[32m13.8/13.8 MB\u001b[0m \u001b[31m103.0 MB/s\u001b[0m eta \u001b[36m0:00:00\u001b[0m\n",
      "\u001b[2K   \u001b[90m━━━━━━━━━━━━━━━━━━━━━━━━━━━━━━━━━━━━━━━━\u001b[0m \u001b[32m24.6/24.6 MB\u001b[0m \u001b[31m82.9 MB/s\u001b[0m eta \u001b[36m0:00:00\u001b[0m\n",
      "\u001b[2K   \u001b[90m━━━━━━━━━━━━━━━━━━━━━━━━━━━━━━━━━━━━━━━━\u001b[0m \u001b[32m883.7/883.7 kB\u001b[0m \u001b[31m51.7 MB/s\u001b[0m eta \u001b[36m0:00:00\u001b[0m\n",
      "\u001b[2K   \u001b[90m━━━━━━━━━━━━━━━━━━━━━━━━━━━━━━━━━━━━━━━━\u001b[0m \u001b[32m664.8/664.8 MB\u001b[0m \u001b[31m2.3 MB/s\u001b[0m eta \u001b[36m0:00:00\u001b[0m\n",
      "\u001b[2K   \u001b[90m━━━━━━━━━━━━━━━━━━━━━━━━━━━━━━━━━━━━━━━━\u001b[0m \u001b[32m211.5/211.5 MB\u001b[0m \u001b[31m5.4 MB/s\u001b[0m eta \u001b[36m0:00:00\u001b[0m\n",
      "\u001b[2K   \u001b[90m━━━━━━━━━━━━━━━━━━━━━━━━━━━━━━━━━━━━━━━━\u001b[0m \u001b[32m56.3/56.3 MB\u001b[0m \u001b[31m12.2 MB/s\u001b[0m eta \u001b[36m0:00:00\u001b[0m\n",
      "\u001b[2K   \u001b[90m━━━━━━━━━━━━━━━━━━━━━━━━━━━━━━━━━━━━━━━━\u001b[0m \u001b[32m127.9/127.9 MB\u001b[0m \u001b[31m7.4 MB/s\u001b[0m eta \u001b[36m0:00:00\u001b[0m\n",
      "\u001b[2K   \u001b[90m━━━━━━━━━━━━━━━━━━━━━━━━━━━━━━━━━━━━━━━━\u001b[0m \u001b[32m207.5/207.5 MB\u001b[0m \u001b[31m5.0 MB/s\u001b[0m eta \u001b[36m0:00:00\u001b[0m\n",
      "\u001b[2K   \u001b[90m━━━━━━━━━━━━━━━━━━━━━━━━━━━━━━━━━━━━━━━━\u001b[0m \u001b[32m21.1/21.1 MB\u001b[0m \u001b[31m65.3 MB/s\u001b[0m eta \u001b[36m0:00:00\u001b[0m\n",
      "\u001b[?25hW: Skipping acquire of configured file 'main/source/Sources' as repository 'https://r2u.stat.illinois.edu/ubuntu jammy InRelease' does not seem to provide it (sources.list entry misspelt?)\n",
      "Selecting previously unselected package iverilog.\n",
      "(Reading database ... 126315 files and directories currently installed.)\n",
      "Preparing to unpack .../iverilog_11.0-1.1_amd64.deb ...\n",
      "Unpacking iverilog (11.0-1.1) ...\n",
      "Selecting previously unselected package libsystemc:amd64.\n",
      "Preparing to unpack .../libsystemc_2.3.3-5.1_amd64.deb ...\n",
      "Unpacking libsystemc:amd64 (2.3.3-5.1) ...\n",
      "Selecting previously unselected package libsystemc-dev:amd64.\n",
      "Preparing to unpack .../libsystemc-dev_2.3.3-5.1_amd64.deb ...\n",
      "Unpacking libsystemc-dev:amd64 (2.3.3-5.1) ...\n",
      "Selecting previously unselected package verilator.\n",
      "Preparing to unpack .../verilator_4.038-1_amd64.deb ...\n",
      "Unpacking verilator (4.038-1) ...\n",
      "Setting up verilator (4.038-1) ...\n",
      "Setting up iverilog (11.0-1.1) ...\n",
      "Setting up libsystemc:amd64 (2.3.3-5.1) ...\n",
      "Setting up libsystemc-dev:amd64 (2.3.3-5.1) ...\n",
      "Processing triggers for man-db (2.10.2-1) ...\n",
      "Processing triggers for libc-bin (2.35-0ubuntu3.8) ...\n",
      "/sbin/ldconfig.real: /usr/local/lib/libtbb.so.12 is not a symbolic link\n",
      "\n",
      "/sbin/ldconfig.real: /usr/local/lib/libumf.so.0 is not a symbolic link\n",
      "\n",
      "/sbin/ldconfig.real: /usr/local/lib/libur_adapter_level_zero.so.0 is not a symbolic link\n",
      "\n",
      "/sbin/ldconfig.real: /usr/local/lib/libtbbbind_2_5.so.3 is not a symbolic link\n",
      "\n",
      "/sbin/ldconfig.real: /usr/local/lib/libtbbbind.so.3 is not a symbolic link\n",
      "\n",
      "/sbin/ldconfig.real: /usr/local/lib/libtbbbind_2_0.so.3 is not a symbolic link\n",
      "\n",
      "/sbin/ldconfig.real: /usr/local/lib/libhwloc.so.15 is not a symbolic link\n",
      "\n",
      "/sbin/ldconfig.real: /usr/local/lib/libur_loader.so.0 is not a symbolic link\n",
      "\n",
      "/sbin/ldconfig.real: /usr/local/lib/libtbbmalloc.so.2 is not a symbolic link\n",
      "\n",
      "/sbin/ldconfig.real: /usr/local/lib/libtbbmalloc_proxy.so.2 is not a symbolic link\n",
      "\n",
      "/sbin/ldconfig.real: /usr/local/lib/libtcm.so.1 is not a symbolic link\n",
      "\n",
      "/sbin/ldconfig.real: /usr/local/lib/libur_adapter_opencl.so.0 is not a symbolic link\n",
      "\n",
      "/sbin/ldconfig.real: /usr/local/lib/libtcm_debug.so.1 is not a symbolic link\n",
      "\n"
     ]
    }
   ],
   "source": [
    "!pip install transformers pandas openpyxl numpy bitsandbytes accelerate -q\n",
    "!apt-get update -qq\n",
    "!apt-get install -y verilator iverilog -qq"
   ]
  },
  {
   "cell_type": "code",
   "execution_count": null,
   "metadata": {
    "colab": {
     "base_uri": "https://localhost:8080/",
     "height": 1000,
     "referenced_widgets": [
      "0fbd707bbac4449a8169562251b70755",
      "2f124e89f8994023a3f2df022c907094",
      "8c72c988c7a6470fbe8db23fe13a7736",
      "1e3338e48ea748129f71905138241937",
      "7d93523bf4ce49c48e5f25496956e51f",
      "c2fa7e08d6004a82a2ba71b23de3874f",
      "f680d6c49b8b41cbbac9cf9bed27c6a1",
      "9ea77d548b6043e78612989664d6cc82",
      "32e054e5067944db8ac2726a784bf90f",
      "fe1b8953c631409fae57b38495fc20c7",
      "bc6b18cc9a6c4ccf83f850abe543f528"
     ]
    },
    "id": "vS-EfiizM5HL",
    "outputId": "4f796ce4-2ad2-4f2f-a109-387a325508f1"
   },
   "outputs": [
    {
     "metadata": {
      "tags": null
     },
     "name": "stdout",
     "output_type": "stream",
     "text": [
      "Loading Phi-2 model... This may take a moment.\n"
     ]
    },
    {
     "data": {
      "text/plain": [
       "Loading checkpoint shards:   0%|          | 0/2 [00:00<?, ?it/s]"
      ]
     },
     "metadata": {},
     "output_type": "display_data"
    },
    {
     "metadata": {
      "tags": null
     },
     "name": "stdout",
     "output_type": "stream",
     "text": [
      "Phi-2 model loaded successfully. Using device: cuda:0\n",
      "Found 227 Verilog files.\n",
      "\n",
      "Processing /content/drive/MyDrive/RTLData/Negation of assignment/s38584_0.v...\n",
      "Multiple or nested module definitions detected.\n",
      "Created fixed Verilog file: testbenches/fixed_s38584_0.v\n",
      "Module: dff, Ports: {'CK': 'input', 'q': 'output', 'd': 'unknown'}\n"
     ]
    },
    {
     "metadata": {
      "tags": null
     },
     "name": "stderr",
     "output_type": "stream",
     "text": [
      "The attention mask and the pad token id were not set. As a consequence, you may observe unexpected behavior. Please pass your input's `attention_mask` to obtain reliable results.\n",
      "Setting `pad_token_id` to `eos_token_id`:50256 for open-end generation.\n"
     ]
    },
    {
     "metadata": {
      "tags": null
     },
     "name": "stdout",
     "output_type": "stream",
     "text": [
      "Running LLM analysis with Phi-2...\n"
     ]
    },
    {
     "metadata": {
      "tags": null
     },
     "name": "stderr",
     "output_type": "stream",
     "text": [
      "The attention mask and the pad token id were not set. As a consequence, you may observe unexpected behavior. Please pass your input's `attention_mask` to obtain reliable results.\n",
      "Setting `pad_token_id` to `eos_token_id`:50256 for open-end generation.\n"
     ]
    },
    {
     "metadata": {
      "tags": null
     },
     "name": "stdout",
     "output_type": "stream",
     "text": [
      "Generating testbench with Phi-2...\n",
      "Testbench saved to testbenches/dff_tb.v\n",
      "Compilation failed for dff:\n",
      "testbenches/dff_tb.v:1: error: 'dff' has already been declared in this scope.\n",
      "testbenches/fixed_s38584_0.v:1:      : It was declared here as a module.\n",
      "testbenches/dff_tb.v:6: Module dff was already declared here: testbenches/fixed_s38584_0.v:1\n",
      "\n",
      "\n",
      "\n",
      "Processing /content/drive/MyDrive/RTLData/Negation of assignment/CarrySkipAdder_2.v...\n",
      "Multiple or nested module definitions detected.\n",
      "Created fixed Verilog file: testbenches/fixed_CarrySkipAdder_2.v\n",
      "Module: jcsablock, Ports: {'Y': 'output', 'carryout': 'output', 'A': 'input', 'B': 'unknown', 'carryin': 'input'}\n"
     ]
    },
    {
     "metadata": {
      "tags": null
     },
     "name": "stderr",
     "output_type": "stream",
     "text": [
      "The attention mask and the pad token id were not set. As a consequence, you may observe unexpected behavior. Please pass your input's `attention_mask` to obtain reliable results.\n",
      "Setting `pad_token_id` to `eos_token_id`:50256 for open-end generation.\n",
      "The attention mask and the pad token id were not set. As a consequence, you may observe unexpected behavior. Please pass your input's `attention_mask` to obtain reliable results.\n",
      "Setting `pad_token_id` to `eos_token_id`:50256 for open-end generation.\n"
     ]
    },
    {
     "metadata": {
      "tags": null
     },
     "name": "stdout",
     "output_type": "stream",
     "text": [
      "Running LLM analysis with Phi-2...\n",
      "Generating testbench with Phi-2...\n",
      "Testbench saved to testbenches/jcsablock_tb.v\n",
      "Compilation failed for jcsablock:\n",
      "testbenches/fixed_CarrySkipAdder_2.v:14: syntax error\n",
      "testbenches/fixed_CarrySkipAdder_2.v:16: error: invalid module item.\n",
      "testbenches/fixed_CarrySkipAdder_2.v:19: syntax error\n",
      "testbenches/fixed_CarrySkipAdder_2.v:22: error: invalid module item.\n",
      "testbenches/jcsablock_tb.v:1: error: 'jcsablock' has already been declared in this scope.\n",
      "testbenches/fixed_CarrySkipAdder_2.v:1:      : It was declared here as a module.\n",
      "testbenches/jcsablock_tb.v:14: syntax error\n",
      "testbenches/jcsablock_tb.v:16: error: invalid module item.\n",
      "testbenches/jcsablock_tb.v:19: syntax error\n",
      "testbenches/jcsablock_tb.v:22: error: invalid module item.\n",
      "testbenches/jcsablock_tb.v:25: Module jcsablock was already declared here: testbenches/fixed_CarrySkipAdder_2.v:1\n",
      "\n",
      "\n",
      "\n",
      "Processing /content/drive/MyDrive/RTLData/Negation of assignment/s15850_0.v...\n"
     ]
    },
    {
     "metadata": {
      "tags": null
     },
     "name": "stderr",
     "output_type": "stream",
     "text": [
      "The attention mask and the pad token id were not set. As a consequence, you may observe unexpected behavior. Please pass your input's `attention_mask` to obtain reliable results.\n",
      "Setting `pad_token_id` to `eos_token_id`:50256 for open-end generation.\n"
     ]
    },
    {
     "metadata": {
      "tags": null
     },
     "name": "stdout",
     "output_type": "stream",
     "text": [
      "Multiple or nested module definitions detected.\n",
      "Created fixed Verilog file: testbenches/fixed_s15850_0.v\n",
      "Module: dff, Ports: {'CK': 'input', 'q': 'output', 'd': 'unknown'}\n",
      "Running LLM analysis with Phi-2...\n"
     ]
    },
    {
     "metadata": {
      "tags": null
     },
     "name": "stderr",
     "output_type": "stream",
     "text": [
      "The attention mask and the pad token id were not set. As a consequence, you may observe unexpected behavior. Please pass your input's `attention_mask` to obtain reliable results.\n",
      "Setting `pad_token_id` to `eos_token_id`:50256 for open-end generation.\n"
     ]
    },
    {
     "metadata": {
      "tags": null
     },
     "name": "stdout",
     "output_type": "stream",
     "text": [
      "Generating testbench with Phi-2...\n",
      "Testbench saved to testbenches/dff_tb.v\n",
      "Compilation failed for dff:\n",
      "testbenches/dff_tb.v:9: error: Sized numeric constant must have a size greater than zero.\n",
      "\n",
      "\n",
      "Processing /content/drive/MyDrive/RTLData/Negation of assignment/GreyCounter_2.v...\n",
      "No valid module declaration found.\n",
      "Created fixed Verilog file: testbenches/fixed_GreyCounter_2.v\n",
      "Could not parse module definition in testbenches/fixed_GreyCounter_2.v\n",
      "\n",
      "Processing /content/drive/MyDrive/RTLData/Negation of assignment/FIFOBuffer_3.v...\n"
     ]
    },
    {
     "metadata": {
      "tags": null
     },
     "name": "stderr",
     "output_type": "stream",
     "text": [
      "The attention mask and the pad token id were not set. As a consequence, you may observe unexpected behavior. Please pass your input's `attention_mask` to obtain reliable results.\n",
      "Setting `pad_token_id` to `eos_token_id`:50256 for open-end generation.\n"
     ]
    },
    {
     "metadata": {
      "tags": null
     },
     "name": "stdout",
     "output_type": "stream",
     "text": [
      "Module: jFIFO, Ports: {'DATAOUT': 'output', 'full': 'output', 'empty': 'unknown', 'clock': 'input', 'reset': 'input', 'wn': 'unknown', 'rn': 'unknown', 'DATAIN': 'input'}\n",
      "Running LLM analysis with Phi-2...\n"
     ]
    },
    {
     "metadata": {
      "tags": null
     },
     "name": "stderr",
     "output_type": "stream",
     "text": [
      "The attention mask and the pad token id were not set. As a consequence, you may observe unexpected behavior. Please pass your input's `attention_mask` to obtain reliable results.\n",
      "Setting `pad_token_id` to `eos_token_id`:50256 for open-end generation.\n"
     ]
    },
    {
     "metadata": {
      "tags": null
     },
     "name": "stdout",
     "output_type": "stream",
     "text": [
      "Generating testbench with Phi-2...\n",
      "Testbench saved to testbenches/jFIFO_tb.v\n",
      "Compilation failed for jFIFO:\n",
      "/content/drive/MyDrive/RTLData/Negation of assignment/FIFOBuffer_3.v:13: syntax error\n",
      "/content/drive/MyDrive/RTLData/Negation of assignment/FIFOBuffer_3.v:13: error: syntax error in left side of continuous assignment.\n",
      "testbenches/jFIFO_tb.v:31: syntax error\n",
      "I give up.\n",
      "\n",
      "\n",
      "Processing /content/drive/MyDrive/RTLData/Negation of assignment/MooreOverlap copy_ParameterError_6.v...\n"
     ]
    },
    {
     "metadata": {
      "tags": null
     },
     "name": "stderr",
     "output_type": "stream",
     "text": [
      "The attention mask and the pad token id were not set. As a consequence, you may observe unexpected behavior. Please pass your input's `attention_mask` to obtain reliable results.\n",
      "Setting `pad_token_id` to `eos_token_id`:50256 for open-end generation.\n"
     ]
    },
    {
     "metadata": {
      "tags": null
     },
     "name": "stdout",
     "output_type": "stream",
     "text": [
      "Module: jfsmMooreWithOverlap, Ports: {'dataout': 'output', 'clock': 'input', 'reset': 'input', 'datain': 'unknown'}\n",
      "Running LLM analysis with Phi-2...\n"
     ]
    },
    {
     "metadata": {
      "tags": null
     },
     "name": "stderr",
     "output_type": "stream",
     "text": [
      "The attention mask and the pad token id were not set. As a consequence, you may observe unexpected behavior. Please pass your input's `attention_mask` to obtain reliable results.\n",
      "Setting `pad_token_id` to `eos_token_id`:50256 for open-end generation.\n"
     ]
    },
    {
     "metadata": {
      "tags": null
     },
     "name": "stdout",
     "output_type": "stream",
     "text": [
      "Generating testbench with Phi-2...\n",
      "Testbench saved to testbenches/jfsmMooreWithOverlap_tb.v\n",
      "Compilation failed for jfsmMooreWithOverlap:\n",
      "testbenches/jfsmMooreWithOverlap_tb.v:20: syntax error\n",
      "testbenches/jfsmMooreWithOverlap_tb.v:20: error: malformed statement\n",
      "\n",
      "\n",
      "Processing /content/drive/MyDrive/RTLData/Negation of assignment/FSm_full_0.v...\n"
     ]
    },
    {
     "metadata": {
      "tags": null
     },
     "name": "stderr",
     "output_type": "stream",
     "text": [
      "The attention mask and the pad token id were not set. As a consequence, you may observe unexpected behavior. Please pass your input's `attention_mask` to obtain reliable results.\n",
      "Setting `pad_token_id` to `eos_token_id`:50256 for open-end generation.\n"
     ]
    },
    {
     "metadata": {
      "tags": null
     },
     "name": "stdout",
     "output_type": "stream",
     "text": [
      "Module: fsm_full, Ports: {'clock': 'input', '// Clockreset': 'input', '// Active high resetreq_0': 'input', '// Active high request from agent 0req_1': 'output', '// Active high request from agent 1req_2': 'output', '// Active high request from agent 2req_3': 'output', '// Active high request from agent 3gnt_0': 'output', '// Active high grant to agent 0gnt_1': 'unknown', '// Active high grant to agent 1gnt_2': 'unknown', '// Active high grant to agent 2gnt_3   // Active high grant to agent 3': 'unknown'}\n",
      "Running LLM analysis with Phi-2...\n"
     ]
    },
    {
     "metadata": {
      "tags": null
     },
     "name": "stderr",
     "output_type": "stream",
     "text": [
      "The attention mask and the pad token id were not set. As a consequence, you may observe unexpected behavior. Please pass your input's `attention_mask` to obtain reliable results.\n",
      "Setting `pad_token_id` to `eos_token_id`:50256 for open-end generation.\n"
     ]
    },
    {
     "metadata": {
      "tags": null
     },
     "name": "stdout",
     "output_type": "stream",
     "text": [
      "Generating testbench with Phi-2...\n",
      "Testbench saved to testbenches/fsm_full_tb.v\n",
      "Compilation failed for fsm_full:\n",
      "testbenches/fsm_full_tb.v:1: error: 'fsm_full' has already been declared in this scope.\n",
      "/content/drive/MyDrive/RTLData/Negation of assignment/FSm_full_0.v:1:      : It was declared here as a module.\n",
      "testbenches/fsm_full_tb.v:114: Module fsm_full was already declared here: /content/drive/MyDrive/RTLData/Negation of assignment/FSm_full_0.v:1\n",
      "\n",
      "\n",
      "\n",
      "Processing /content/drive/MyDrive/RTLData/Negation of assignment/c499_0.v...\n"
     ]
    },
    {
     "metadata": {
      "tags": null
     },
     "name": "stderr",
     "output_type": "stream",
     "text": [
      "Token indices sequence length is longer than the specified maximum sequence length for this model (4595 > 2048). Running this sequence through the model will result in indexing errors\n",
      "The attention mask and the pad token id were not set. As a consequence, you may observe unexpected behavior. Please pass your input's `attention_mask` to obtain reliable results.\n",
      "Setting `pad_token_id` to `eos_token_id`:50256 for open-end generation.\n",
      "The attention mask and the pad token id were not set. As a consequence, you may observe unexpected behavior. Please pass your input's `attention_mask` to obtain reliable results.\n",
      "Setting `pad_token_id` to `eos_token_id`:50256 for open-end generation.\n"
     ]
    },
    {
     "metadata": {
      "tags": null
     },
     "name": "stdout",
     "output_type": "stream",
     "text": [
      "Module: c499, Ports: {'N1': 'input', 'N5': 'unknown', 'N9': 'unknown', 'N13': 'unknown', 'N17': 'unknown', 'N21': 'unknown', 'N25': 'unknown', 'N29': 'unknown', 'N33': 'unknown', 'N37': 'unknown', 'N41': 'unknown', 'N45': 'unknown', 'N49': 'unknown', 'N53': 'unknown', 'N57': 'unknown', 'N61': 'unknown', 'N65': 'unknown', 'N69': 'unknown', 'N73': 'unknown', 'N77': 'unknown', 'N81': 'unknown', 'N85': 'unknown', 'N89': 'unknown', 'N93': 'unknown', 'N97': 'unknown', 'N101': 'unknown', 'N105': 'unknown', 'N109': 'unknown', 'N113': 'unknown', 'N117': 'unknown', 'N121': 'unknown', 'N125': 'unknown', 'N129': 'unknown', 'N130': 'unknown', 'N131': 'unknown', 'N132': 'unknown', 'N133': 'unknown', 'N134': 'unknown', 'N135': 'unknown', 'N136': 'unknown', 'N137': 'unknown', 'N724': 'output', 'N725': 'unknown', 'N726': 'unknown', 'N727': 'unknown', 'N728': 'unknown', 'N729': 'unknown', 'N730': 'unknown', 'N731': 'unknown', 'N732': 'unknown', 'N733': 'unknown', 'N734': 'unknown', 'N735': 'unknown', 'N736': 'unknown', 'N737': 'unknown', 'N738': 'unknown', 'N739': 'unknown', 'N740': 'unknown', 'N741': 'unknown', 'N742': 'unknown', 'N743': 'unknown', 'N744': 'unknown', 'N745': 'unknown', 'N746': 'unknown', 'N747': 'unknown', 'N748': 'unknown', 'N749': 'unknown', 'N750': 'unknown', 'N751': 'unknown', 'N752': 'unknown', 'N753': 'unknown', 'N754': 'unknown', 'N755': 'unknown'}\n",
      "Running LLM analysis with Phi-2...\n",
      "Error generating with Phi-2: Input length of input_ids is 4595, but `max_length` is set to 2048. This can lead to unexpected behavior. You should consider increasing `max_length` or, better yet, setting `max_new_tokens`.\n",
      "Using device for rule-based analysis: cuda\n",
      "Generating testbench with Phi-2...\n",
      "Error generating with Phi-2: Input length of input_ids is 5115, but `max_length` is set to 4096. This can lead to unexpected behavior. You should consider increasing `max_length` or, better yet, setting `max_new_tokens`.\n",
      "Testbench saved to testbenches/c499_tb.v\n",
      "Simulation output saved for c499\n",
      "\n",
      "Processing /content/drive/MyDrive/RTLData/Negation of assignment/s349_0.v...\n"
     ]
    },
    {
     "metadata": {
      "tags": null
     },
     "name": "stderr",
     "output_type": "stream",
     "text": [
      "The attention mask and the pad token id were not set. As a consequence, you may observe unexpected behavior. Please pass your input's `attention_mask` to obtain reliable results.\n",
      "Setting `pad_token_id` to `eos_token_id`:50256 for open-end generation.\n"
     ]
    },
    {
     "metadata": {
      "tags": null
     },
     "name": "stdout",
     "output_type": "stream",
     "text": [
      "Multiple or nested module definitions detected.\n",
      "Created fixed Verilog file: testbenches/fixed_s349_0.v\n",
      "Module: dff, Ports: {'CK': 'input', 'Q': 'output', 'D': 'unknown'}\n",
      "Running LLM analysis with Phi-2...\n"
     ]
    },
    {
     "metadata": {
      "tags": null
     },
     "name": "stderr",
     "output_type": "stream",
     "text": [
      "The attention mask and the pad token id were not set. As a consequence, you may observe unexpected behavior. Please pass your input's `attention_mask` to obtain reliable results.\n",
      "Setting `pad_token_id` to `eos_token_id`:50256 for open-end generation.\n"
     ]
    },
    {
     "metadata": {
      "tags": null
     },
     "name": "stdout",
     "output_type": "stream",
     "text": [
      "Generating testbench with Phi-2...\n",
      "Testbench saved to testbenches/dff_tb.v\n",
      "Compilation failed for dff:\n",
      "testbenches/fixed_s349_0.v:2: error: Module definition dff cannot nest into module dff.\n",
      "testbenches/dff_tb.v:1: error: Module definition dff cannot nest into module dff.\n",
      "testbenches/dff_tb.v:1: error: 'dff' has already been declared in this scope.\n",
      "testbenches/fixed_s349_0.v:2:      : It was declared here as a module.\n",
      "testbenches/dff_tb.v:2: error: Module definition dff cannot nest into module dff.\n",
      "testbenches/dff_tb.v:7: syntax error\n",
      "I give up.\n",
      "\n",
      "\n",
      "Processing /content/drive/MyDrive/RTLData/Negation of assignment/c7552_3.v...\n",
      "Module: c7552, Ports: {'N1': 'input', 'N5': 'unknown', 'N9': 'unknown', 'N12': 'unknown', 'N15': 'unknown', 'N18': 'unknown', 'N23': 'unknown', 'N26': 'unknown', 'N29': 'unknown', 'N32': 'unknown', 'N35': 'unknown', 'N38': 'unknown', 'N41': 'unknown', 'N44': 'unknown', 'N47': 'unknown', 'N50': 'unknown', 'N53': 'unknown', 'N54': 'unknown', 'N55': 'unknown', 'N56': 'unknown', 'N57': 'unknown', 'N58': 'unknown', 'N59': 'unknown', 'N60': 'unknown', 'N61': 'unknown', 'N62': 'unknown', 'N63': 'unknown', 'N64': 'unknown', 'N65': 'unknown', 'N66': 'unknown', 'N69': 'unknown', 'N70': 'unknown', 'N73': 'unknown', 'N74': 'unknown', 'N75': 'unknown', 'N76': 'unknown', 'N77': 'unknown', 'N78': 'unknown', 'N79': 'unknown', 'N80': 'unknown', 'N81': 'unknown', 'N82': 'unknown', 'N83': 'unknown', 'N84': 'unknown', 'N85': 'unknown', 'N86': 'unknown', 'N87': 'unknown', 'N88': 'unknown', 'N89': 'unknown', 'N94': 'unknown', 'N97': 'unknown', 'N100': 'unknown', 'N103': 'unknown', 'N106': 'unknown', 'N109': 'unknown', 'N110': 'unknown', 'N111': 'unknown', 'N112': 'unknown', 'N113': 'unknown', 'N114': 'unknown', 'N115': 'unknown', 'N118': 'unknown', 'N121': 'unknown', 'N124': 'unknown', 'N127': 'unknown', 'N130': 'unknown', 'N133': 'unknown', 'N134': 'unknown', 'N135': 'unknown', 'N138': 'unknown', 'N141': 'unknown', 'N144': 'unknown', 'N147': 'unknown', 'N150': 'unknown', 'N151': 'unknown', 'N152': 'unknown', 'N153': 'unknown', 'N154': 'unknown', 'N155': 'unknown', 'N156': 'unknown', 'N157': 'unknown', 'N158': 'unknown', 'N159': 'unknown', 'N160': 'unknown', 'N161': 'unknown', 'N162': 'unknown', 'N163': 'unknown', 'N164': 'unknown', 'N165': 'unknown', 'N166': 'unknown', 'N167': 'unknown', 'N168': 'unknown', 'N169': 'unknown', 'N170': 'unknown', 'N171': 'unknown', 'N172': 'unknown', 'N173': 'unknown', 'N174': 'unknown', 'N175': 'unknown', 'N176': 'unknown', 'N177': 'unknown', 'N178': 'unknown', 'N179': 'unknown', 'N180': 'unknown', 'N181': 'unknown', 'N182': 'unknown', 'N183': 'unknown', 'N184': 'unknown', 'N185': 'unknown', 'N186': 'unknown', 'N187': 'unknown', 'N188': 'unknown', 'N189': 'unknown', 'N190': 'unknown', 'N191': 'unknown', 'N192': 'unknown', 'N193': 'unknown', 'N194': 'unknown', 'N195': 'unknown', 'N196': 'unknown', 'N197': 'unknown', 'N198': 'unknown', 'N199': 'unknown', 'N200': 'unknown', 'N201': 'unknown', 'N202': 'unknown', 'N203': 'unknown', 'N204': 'unknown', 'N205': 'unknown', 'N206': 'unknown', 'N207': 'unknown', 'N208': 'unknown', 'N209': 'unknown', 'N210': 'unknown', 'N211': 'unknown', 'N212': 'unknown', 'N213': 'unknown', 'N214': 'unknown', 'N215': 'unknown', 'N216': 'unknown', 'N217': 'unknown', 'N218': 'unknown', 'N219': 'unknown', 'N220': 'unknown', 'N221': 'unknown', 'N222': 'unknown', 'N223': 'unknown', 'N224': 'unknown', 'N225': 'unknown', 'N226': 'unknown', 'N227': 'unknown', 'N228': 'unknown', 'N229': 'unknown', 'N230': 'unknown', 'N231': 'unknown', 'N232': 'unknown', 'N233': 'unknown', 'N234': 'unknown', 'N235': 'unknown', 'N236': 'unknown', 'N237': 'unknown', 'N238': 'unknown', 'N239': 'unknown', 'N240': 'unknown', 'N242': 'unknown', 'N245': 'unknown', 'N248': 'unknown', 'N251': 'unknown', 'N254': 'unknown', 'N257': 'unknown', 'N260': 'unknown', 'N263': 'unknown', 'N267': 'unknown', 'N271': 'unknown', 'N274': 'unknown', 'N277': 'unknown', 'N280': 'unknown', 'N283': 'unknown', 'N286': 'unknown', 'N289': 'unknown', 'N293': 'unknown', 'N296': 'unknown', 'N299': 'unknown', 'N303': 'unknown', 'N307': 'unknown', 'N310': 'unknown', 'N313': 'unknown', 'N316': 'unknown', 'N319': 'unknown', 'N322': 'unknown', 'N325': 'unknown', 'N328': 'unknown', 'N331': 'unknown', 'N334': 'unknown', 'N337': 'unknown', 'N340': 'unknown', 'N343': 'unknown', 'N346': 'unknown', 'N349': 'unknown', 'N352': 'unknown', 'N355': 'unknown', 'N358': 'unknown', 'N361': 'unknown', 'N364': 'unknown', 'N367': 'unknown', 'N382': 'unknown', 'N241_I': 'unknown', 'N387': 'output', 'N388': 'unknown', 'N478': 'unknown', 'N482': 'unknown', 'N484': 'unknown', 'N486': 'unknown', 'N489': 'unknown', 'N492': 'unknown', 'N501': 'unknown', 'N505': 'unknown', 'N507': 'unknown', 'N509': 'unknown', 'N511': 'unknown', 'N513': 'unknown', 'N515': 'unknown', 'N517': 'unknown', 'N519': 'unknown', 'N535': 'unknown', 'N537': 'unknown', 'N539': 'unknown', 'N541': 'unknown', 'N543': 'unknown', 'N545': 'unknown', 'N547': 'unknown', 'N549': 'unknown', 'N551': 'unknown', 'N553': 'unknown', 'N556': 'unknown', 'N559': 'unknown', 'N561': 'unknown', 'N563': 'unknown', 'N565': 'unknown', 'N567': 'unknown', 'N569': 'unknown', 'N571': 'unknown', 'N573': 'unknown', 'N582': 'unknown', 'N643': 'unknown', 'N707': 'unknown', 'N813': 'unknown', 'N881': 'unknown', 'N882': 'unknown', 'N883': 'unknown', 'N884': 'unknown', 'N885': 'unknown', 'N889': 'unknown', 'N945': 'unknown', 'N1110': 'unknown', 'N1111': 'unknown', 'N1112': 'unknown', 'N1113': 'unknown', 'N1114': 'unknown', 'N1489': 'unknown', 'N1490': 'unknown', 'N1781': 'unknown', 'N10025': 'unknown', 'N10101': 'unknown', 'N10102': 'unknown', 'N10103': 'unknown', 'N10104': 'unknown', 'N10109': 'unknown', 'N10110': 'unknown', 'N10111': 'unknown', 'N10112': 'unknown', 'N10350': 'unknown', 'N10351': 'unknown', 'N10352': 'unknown', 'N10353': 'unknown', 'N10574': 'unknown', 'N10575': 'unknown', 'N10576': 'unknown', 'N10628': 'unknown', 'N10632': 'unknown', 'N10641': 'unknown', 'N10704': 'unknown', 'N10706': 'unknown', 'N10711': 'unknown', 'N10712': 'unknown', 'N10713': 'unknown', 'N10714': 'unknown', 'N10715': 'unknown', 'N10716': 'unknown', 'N10717': 'unknown', 'N10718': 'unknown', 'N10729': 'unknown', 'N10759': 'unknown', 'N10760': 'unknown', 'N10761': 'unknown', 'N10762': 'unknown', 'N10763': 'unknown', 'N10827': 'unknown', 'N10837': 'unknown', 'N10838': 'unknown', 'N10839': 'unknown', 'N10840': 'unknown', 'N10868': 'unknown', 'N10869': 'unknown', 'N10870': 'unknown', 'N10871': 'unknown', 'N10905': 'unknown', 'N10906': 'unknown', 'N10907': 'unknown', 'N10908': 'unknown', 'N11333': 'unknown', 'N11334': 'unknown', 'N11340': 'unknown', 'N11342': 'unknown', 'N241_O': 'unknown'}\n",
      "Running LLM analysis with Phi-2...\n"
     ]
    },
    {
     "metadata": {
      "tags": null
     },
     "name": "stderr",
     "output_type": "stream",
     "text": [
      "The attention mask and the pad token id were not set. As a consequence, you may observe unexpected behavior. Please pass your input's `attention_mask` to obtain reliable results.\n",
      "Setting `pad_token_id` to `eos_token_id`:50256 for open-end generation.\n"
     ]
    },
    {
     "metadata": {
      "tags": null
     },
     "name": "stdout",
     "output_type": "stream",
     "text": [
      "Error generating with Phi-2: Input length of input_ids is 62593, but `max_length` is set to 2048. This can lead to unexpected behavior. You should consider increasing `max_length` or, better yet, setting `max_new_tokens`.\n",
      "Using device for rule-based analysis: cuda\n",
      "Generating testbench with Phi-2...\n"
     ]
    },
    {
     "metadata": {
      "tags": null
     },
     "name": "stderr",
     "output_type": "stream",
     "text": [
      "The attention mask and the pad token id were not set. As a consequence, you may observe unexpected behavior. Please pass your input's `attention_mask` to obtain reliable results.\n",
      "Setting `pad_token_id` to `eos_token_id`:50256 for open-end generation.\n",
      "The attention mask and the pad token id were not set. As a consequence, you may observe unexpected behavior. Please pass your input's `attention_mask` to obtain reliable results.\n",
      "Setting `pad_token_id` to `eos_token_id`:50256 for open-end generation.\n"
     ]
    },
    {
     "metadata": {
      "tags": null
     },
     "name": "stdout",
     "output_type": "stream",
     "text": [
      "Error generating with Phi-2: Input length of input_ids is 64624, but `max_length` is set to 4096. This can lead to unexpected behavior. You should consider increasing `max_length` or, better yet, setting `max_new_tokens`.\n",
      "Testbench saved to testbenches/c7552_tb.v\n",
      "Compilation failed for c7552:\n",
      "/content/drive/MyDrive/RTLData/Negation of assignment/c7552_3.v:384: syntax error\n",
      "/content/drive/MyDrive/RTLData/Negation of assignment/c7552_3.v:384: error: syntax error in left side of continuous assignment.\n",
      "/content/drive/MyDrive/RTLData/Negation of assignment/c7552_3.v:385: syntax error\n",
      "/content/drive/MyDrive/RTLData/Negation of assignment/c7552_3.v:385: error: syntax error in left side of continuous assignment.\n",
      "\n",
      "\n",
      "Processing /content/drive/MyDrive/RTLData/Negation of assignment/Asynchronous4BitCounter_0.v...\n",
      "Multiple or nested module definitions detected.\n",
      "Created fixed Verilog file: testbenches/fixed_Asynchronous4BitCounter_0.v\n",
      "Module: jAsyncCntrDFlipFlop, Ports: {'q': 'output', 'qbar': 'output', 'clk': 'input', 'rst': 'input', 'd': 'input'}\n",
      "Running LLM analysis with Phi-2...\n"
     ]
    },
    {
     "metadata": {
      "tags": null
     },
     "name": "stderr",
     "output_type": "stream",
     "text": [
      "The attention mask and the pad token id were not set. As a consequence, you may observe unexpected behavior. Please pass your input's `attention_mask` to obtain reliable results.\n",
      "Setting `pad_token_id` to `eos_token_id`:50256 for open-end generation.\n"
     ]
    },
    {
     "metadata": {
      "tags": null
     },
     "name": "stdout",
     "output_type": "stream",
     "text": [
      "Generating testbench with Phi-2...\n",
      "Testbench saved to testbenches/jAsyncCntrDFlipFlop_tb.v\n",
      "Compilation failed for jAsyncCntrDFlipFlop:\n",
      "testbenches/jAsyncCntrDFlipFlop_tb.v:1: error: 'jAsyncCntrDFlipFlop' has already been declared in this scope.\n",
      "testbenches/fixed_Asynchronous4BitCounter_0.v:1:      : It was declared here as a module.\n",
      "testbenches/jAsyncCntrDFlipFlop_tb.v:18: Module jAsyncCntrDFlipFlop was already declared here: testbenches/fixed_Asynchronous4BitCounter_0.v:1\n",
      "\n",
      "\n",
      "\n",
      "Processing /content/drive/MyDrive/RTLData/Negation of assignment/i2c_2.v...\n",
      "Module: i2c, Ports: {'pi000': 'input', 'pi001': 'unknown', 'pi002': 'unknown', 'pi003': 'unknown', 'pi004': 'unknown', 'pi005': 'unknown', 'pi006': 'unknown', 'pi007': 'unknown', 'pi008': 'unknown', 'pi009': 'unknown', 'pi010': 'unknown', 'pi011': 'unknown', 'pi012': 'unknown', 'pi013': 'unknown', 'pi014': 'unknown', 'pi015': 'unknown', 'pi016': 'unknown', 'pi017': 'unknown', 'pi018': 'unknown', 'pi019': 'unknown', 'pi020': 'unknown', 'pi021': 'unknown', 'pi022': 'unknown', 'pi023': 'unknown', 'pi024': 'unknown', 'pi025': 'unknown', 'pi026': 'unknown', 'pi027': 'unknown', 'pi028': 'unknown', 'pi029': 'unknown', 'pi030': 'unknown', 'pi031': 'unknown', 'pi032': 'unknown', 'pi033': 'unknown', 'pi034': 'unknown', 'pi035': 'unknown', 'pi036': 'unknown', 'pi037': 'unknown', 'pi038': 'unknown', 'pi039': 'unknown', 'pi040': 'unknown', 'pi041': 'unknown', 'pi042': 'unknown', 'pi043': 'unknown', 'pi044': 'unknown', 'pi045': 'unknown', 'pi046': 'unknown', 'pi047': 'unknown', 'pi048': 'unknown', 'pi049': 'unknown', 'pi050': 'unknown', 'pi051': 'unknown', 'pi052': 'unknown', 'pi053': 'unknown', 'pi054': 'unknown', 'pi055': 'unknown', 'pi056': 'unknown', 'pi057': 'unknown', 'pi058': 'unknown', 'pi059': 'unknown', 'pi060': 'unknown', 'pi061': 'unknown', 'pi062': 'unknown', 'pi063': 'unknown', 'pi064': 'unknown', 'pi065': 'unknown', 'pi066': 'unknown', 'pi067': 'unknown', 'pi068': 'unknown', 'pi069': 'unknown', 'pi070': 'unknown', 'pi071': 'unknown', 'pi072': 'unknown', 'pi073': 'unknown', 'pi074': 'unknown', 'pi075': 'unknown', 'pi076': 'unknown', 'pi077': 'unknown', 'pi078': 'unknown', 'pi079': 'unknown', 'pi080': 'unknown', 'pi081': 'unknown', 'pi082': 'unknown', 'pi083': 'unknown', 'pi084': 'unknown', 'pi085': 'unknown', 'pi086': 'unknown', 'pi087': 'unknown', 'pi088': 'unknown', 'pi089': 'unknown', 'pi090': 'unknown', 'pi091': 'unknown', 'pi092': 'unknown', 'pi093': 'unknown', 'pi094': 'unknown', 'pi095': 'unknown', 'pi096': 'unknown', 'pi097': 'unknown', 'pi098': 'unknown', 'pi099': 'unknown', 'pi100': 'unknown', 'pi101': 'unknown', 'pi102': 'unknown', 'pi103': 'unknown', 'pi104': 'unknown', 'pi105': 'unknown', 'pi106': 'unknown', 'pi107': 'unknown', 'pi108': 'unknown', 'pi109': 'unknown', 'pi110': 'unknown', 'pi111': 'unknown', 'pi112': 'unknown', 'pi113': 'unknown', 'pi114': 'unknown', 'pi115': 'unknown', 'pi116': 'unknown', 'pi117': 'unknown', 'pi118': 'unknown', 'pi119': 'unknown', 'pi120': 'unknown', 'pi121': 'unknown', 'pi122': 'unknown', 'pi123': 'unknown', 'pi124': 'unknown', 'pi125': 'unknown', 'pi126': 'unknown', 'pi127': 'unknown', 'pi128': 'unknown', 'pi129': 'unknown', 'pi130': 'unknown', 'pi131': 'unknown', 'pi132': 'unknown', 'pi133': 'unknown', 'pi134': 'unknown', 'pi135': 'unknown', 'pi136': 'unknown', 'pi137': 'unknown', 'pi138': 'unknown', 'pi139': 'unknown', 'pi140': 'unknown', 'pi141': 'unknown', 'pi142': 'unknown', 'pi143': 'unknown', 'pi144': 'unknown', 'pi145': 'unknown', 'pi146': 'unknown', 'po000': 'output', 'po001': 'unknown', 'po002': 'unknown', 'po003': 'unknown', 'po004': 'unknown', 'po005': 'unknown', 'po006': 'unknown', 'po007': 'unknown', 'po008': 'unknown', 'po009': 'unknown', 'po010': 'unknown', 'po011': 'unknown', 'po012': 'unknown', 'po013': 'unknown', 'po014': 'unknown', 'po015': 'unknown', 'po016': 'unknown', 'po017': 'unknown', 'po018': 'unknown', 'po019': 'unknown', 'po020': 'unknown', 'po021': 'unknown', 'po022': 'unknown', 'po023': 'unknown', 'po024': 'unknown', 'po025': 'unknown', 'po026': 'unknown', 'po027': 'unknown', 'po028': 'unknown', 'po029': 'unknown', 'po030': 'unknown', 'po031': 'unknown', 'po032': 'unknown', 'po033': 'unknown', 'po034': 'unknown', 'po035': 'unknown', 'po036': 'unknown', 'po037': 'unknown', 'po038': 'unknown', 'po039': 'unknown', 'po040': 'unknown', 'po041': 'unknown', 'po042': 'unknown', 'po043': 'unknown', 'po044': 'unknown', 'po045': 'unknown', 'po046': 'unknown', 'po047': 'unknown', 'po048': 'unknown', 'po049': 'unknown', 'po050': 'unknown', 'po051': 'unknown', 'po052': 'unknown', 'po053': 'unknown', 'po054': 'unknown', 'po055': 'unknown', 'po056': 'unknown', 'po057': 'unknown', 'po058': 'unknown', 'po059': 'unknown', 'po060': 'unknown', 'po061': 'unknown', 'po062': 'unknown', 'po063': 'unknown', 'po064': 'unknown', 'po065': 'unknown', 'po066': 'unknown', 'po067': 'unknown', 'po068': 'unknown', 'po069': 'unknown', 'po070': 'unknown', 'po071': 'unknown', 'po072': 'unknown', 'po073': 'unknown', 'po074': 'unknown', 'po075': 'unknown', 'po076': 'unknown', 'po077': 'unknown', 'po078': 'unknown', 'po079': 'unknown', 'po080': 'unknown', 'po081': 'unknown', 'po082': 'unknown', 'po083': 'unknown', 'po084': 'unknown', 'po085': 'unknown', 'po086': 'unknown', 'po087': 'unknown', 'po088': 'unknown', 'po089': 'unknown', 'po090': 'unknown', 'po091': 'unknown', 'po092': 'unknown', 'po093': 'unknown', 'po094': 'unknown', 'po095': 'unknown', 'po096': 'unknown', 'po097': 'unknown', 'po098': 'unknown', 'po099': 'unknown', 'po100': 'unknown', 'po101': 'unknown', 'po102': 'unknown', 'po103': 'unknown', 'po104': 'unknown', 'po105': 'unknown', 'po106': 'unknown', 'po107': 'unknown', 'po108': 'unknown', 'po109': 'unknown', 'po110': 'unknown', 'po111': 'unknown', 'po112': 'unknown', 'po113': 'unknown', 'po114': 'unknown', 'po115': 'unknown', 'po116': 'unknown', 'po117': 'unknown', 'po118': 'unknown', 'po119': 'unknown', 'po120': 'unknown', 'po121': 'unknown', 'po122': 'unknown', 'po123': 'unknown', 'po124': 'unknown', 'po125': 'unknown', 'po126': 'unknown', 'po127': 'unknown', 'po128': 'unknown', 'po129': 'unknown', 'po130': 'unknown', 'po131': 'unknown', 'po132': 'unknown', 'po133': 'unknown', 'po134': 'unknown', 'po135': 'unknown', 'po136': 'unknown', 'po137': 'unknown', 'po138': 'unknown', 'po139': 'unknown', 'po140': 'unknown', 'po141': 'unknown'}\n",
      "Running LLM analysis with Phi-2...\n"
     ]
    },
    {
     "metadata": {
      "tags": null
     },
     "name": "stderr",
     "output_type": "stream",
     "text": [
      "The attention mask and the pad token id were not set. As a consequence, you may observe unexpected behavior. Please pass your input's `attention_mask` to obtain reliable results.\n",
      "Setting `pad_token_id` to `eos_token_id`:50256 for open-end generation.\n"
     ]
    },
    {
     "metadata": {
      "tags": null
     },
     "name": "stdout",
     "output_type": "stream",
     "text": [
      "Error generating with Phi-2: Input length of input_ids is 45587, but `max_length` is set to 2048. This can lead to unexpected behavior. You should consider increasing `max_length` or, better yet, setting `max_new_tokens`.\n",
      "Using device for rule-based analysis: cuda\n",
      "Generating testbench with Phi-2...\n"
     ]
    },
    {
     "metadata": {
      "tags": null
     },
     "name": "stderr",
     "output_type": "stream",
     "text": [
      "The attention mask and the pad token id were not set. As a consequence, you may observe unexpected behavior. Please pass your input's `attention_mask` to obtain reliable results.\n",
      "Setting `pad_token_id` to `eos_token_id`:50256 for open-end generation.\n"
     ]
    },
    {
     "metadata": {
      "tags": null
     },
     "name": "stdout",
     "output_type": "stream",
     "text": [
      "Error generating with Phi-2: Input length of input_ids is 47473, but `max_length` is set to 4096. This can lead to unexpected behavior. You should consider increasing `max_length` or, better yet, setting `max_new_tokens`.\n",
      "Testbench saved to testbenches/i2c_tb.v\n",
      "Compilation failed for i2c:\n",
      "/content/drive/MyDrive/RTLData/Negation of assignment/i2c_2.v:339: syntax error\n",
      "/content/drive/MyDrive/RTLData/Negation of assignment/i2c_2.v:339: error: syntax error in left side of continuous assignment.\n",
      "\n",
      "\n",
      "Processing /content/drive/MyDrive/RTLData/Negation of assignment/c5315_4.v...\n",
      "Module: c5315, Ports: {'N1': 'input', 'N4': 'unknown', 'N11': 'unknown', 'N14': 'unknown', 'N17': 'unknown', 'N20': 'unknown', 'N23': 'unknown', 'N24': 'unknown', 'N25': 'unknown', 'N26': 'unknown', 'N27': 'unknown', 'N31': 'unknown', 'N34': 'unknown', 'N37': 'unknown', 'N40': 'unknown', 'N43': 'unknown', 'N46': 'unknown', 'N49': 'unknown', 'N52': 'unknown', 'N53': 'unknown', 'N54': 'unknown', 'N61': 'unknown', 'N64': 'unknown', 'N67': 'unknown', 'N70': 'unknown', 'N73': 'unknown', 'N76': 'unknown', 'N79': 'unknown', 'N80': 'unknown', 'N81': 'unknown', 'N82': 'unknown', 'N83': 'unknown', 'N86': 'unknown', 'N87': 'unknown', 'N88': 'unknown', 'N91': 'unknown', 'N94': 'unknown', 'N97': 'unknown', 'N100': 'unknown', 'N103': 'unknown', 'N106': 'unknown', 'N109': 'unknown', 'N112': 'unknown', 'N113': 'unknown', 'N114': 'unknown', 'N115': 'unknown', 'N116': 'unknown', 'N117': 'unknown', 'N118': 'unknown', 'N119': 'unknown', 'N120': 'unknown', 'N121': 'unknown', 'N122': 'unknown', 'N123': 'unknown', 'N126': 'unknown', 'N127': 'unknown', 'N128': 'unknown', 'N129': 'unknown', 'N130': 'unknown', 'N131': 'unknown', 'N132': 'unknown', 'N135': 'unknown', 'N136': 'unknown', 'N137': 'unknown', 'N140': 'unknown', 'N141': 'unknown', 'N145': 'unknown', 'N146': 'unknown', 'N149': 'unknown', 'N152': 'unknown', 'N155': 'unknown', 'N158': 'unknown', 'N161': 'unknown', 'N164': 'unknown', 'N167': 'unknown', 'N170': 'unknown', 'N173': 'unknown', 'N176': 'unknown', 'N179': 'unknown', 'N182': 'unknown', 'N185': 'unknown', 'N188': 'unknown', 'N191': 'unknown', 'N194': 'unknown', 'N197': 'unknown', 'N200': 'unknown', 'N203': 'unknown', 'N206': 'unknown', 'N209': 'unknown', 'N210': 'unknown', 'N217': 'unknown', 'N218': 'unknown', 'N225': 'unknown', 'N226': 'unknown', 'N233': 'unknown', 'N234': 'unknown', 'N241': 'unknown', 'N242': 'unknown', 'N245': 'unknown', 'N248': 'unknown', 'N251': 'unknown', 'N254': 'unknown', 'N257': 'unknown', 'N264': 'unknown', 'N265': 'unknown', 'N272': 'unknown', 'N273': 'unknown', 'N280': 'unknown', 'N281': 'unknown', 'N288': 'unknown', 'N289': 'unknown', 'N292': 'unknown', 'N293': 'unknown', 'N299': 'unknown', 'N302': 'unknown', 'N307': 'unknown', 'N308': 'unknown', 'N315': 'unknown', 'N316': 'unknown', 'N323': 'unknown', 'N324': 'unknown', 'N331': 'unknown', 'N332': 'unknown', 'N335': 'unknown', 'N338': 'unknown', 'N341': 'unknown', 'N348': 'unknown', 'N351': 'unknown', 'N358': 'unknown', 'N361': 'unknown', 'N366': 'unknown', 'N369': 'unknown', 'N372': 'unknown', 'N373': 'unknown', 'N374': 'unknown', 'N386': 'unknown', 'N389': 'unknown', 'N400': 'unknown', 'N411': 'unknown', 'N422': 'unknown', 'N435': 'unknown', 'N446': 'unknown', 'N457': 'unknown', 'N468': 'unknown', 'N479': 'unknown', 'N490': 'unknown', 'N503': 'unknown', 'N514': 'unknown', 'N523': 'unknown', 'N534': 'unknown', 'N545': 'unknown', 'N549': 'unknown', 'N552': 'unknown', 'N556': 'unknown', 'N559': 'unknown', 'N562': 'unknown', 'N566': 'unknown', 'N571': 'unknown', 'N574': 'unknown', 'N577': 'unknown', 'N580': 'unknown', 'N583': 'unknown', 'N588': 'unknown', 'N591': 'unknown', 'N592': 'unknown', 'N595': 'unknown', 'N596': 'unknown', 'N597': 'unknown', 'N598': 'unknown', 'N599': 'unknown', 'N603': 'unknown', 'N607': 'unknown', 'N610': 'unknown', 'N613': 'unknown', 'N616': 'unknown', 'N619': 'unknown', 'N625': 'unknown', 'N631': 'unknown', 'N709': 'output', 'N816': 'unknown', 'N1066': 'unknown', 'N1137': 'unknown', 'N1138': 'unknown', 'N1139': 'unknown', 'N1140': 'unknown', 'N1141': 'unknown', 'N1142': 'unknown', 'N1143': 'unknown', 'N1144': 'unknown', 'N1145': 'unknown', 'N1147': 'unknown', 'N1152': 'unknown', 'N1153': 'unknown', 'N1154': 'unknown', 'N1155': 'unknown', 'N1972': 'unknown', 'N2054': 'unknown', 'N2060': 'unknown', 'N2061': 'unknown', 'N2139': 'unknown', 'N2142': 'unknown', 'N2309': 'unknown', 'N2387': 'unknown', 'N2527': 'unknown', 'N2584': 'unknown', 'N2590': 'unknown', 'N2623': 'unknown', 'N3357': 'unknown', 'N3358': 'unknown', 'N3359': 'unknown', 'N3360': 'unknown', 'N3604': 'unknown', 'N3613': 'unknown', 'N4272': 'unknown', 'N4275': 'unknown', 'N4278': 'unknown', 'N4279': 'unknown', 'N4737': 'unknown', 'N4738': 'unknown', 'N4739': 'unknown', 'N4740': 'unknown', 'N5240': 'unknown', 'N5388': 'unknown', 'N6641': 'unknown', 'N6643': 'unknown', 'N6646': 'unknown', 'N6648': 'unknown', 'N6716': 'unknown', 'N6877': 'unknown', 'N6924': 'unknown', 'N6925': 'unknown', 'N6926': 'unknown', 'N6927': 'unknown', 'N7015': 'unknown', 'N7363': 'unknown', 'N7365': 'unknown', 'N7432': 'unknown', 'N7449': 'unknown', 'N7465': 'unknown', 'N7466': 'unknown', 'N7467': 'unknown', 'N7469': 'unknown', 'N7470': 'unknown', 'N7471': 'unknown', 'N7472': 'unknown', 'N7473': 'unknown', 'N7474': 'unknown', 'N7476': 'unknown', 'N7503': 'unknown', 'N7504': 'unknown', 'N7506': 'unknown', 'N7511': 'unknown', 'N7515': 'unknown', 'N7516': 'unknown', 'N7517': 'unknown', 'N7518': 'unknown', 'N7519': 'unknown', 'N7520': 'unknown', 'N7521': 'unknown', 'N7522': 'unknown', 'N7600': 'unknown', 'N7601': 'unknown', 'N7602': 'unknown', 'N7603': 'unknown', 'N7604': 'unknown', 'N7605': 'unknown', 'N7606': 'unknown', 'N7607': 'unknown', 'N7626': 'unknown', 'N7698': 'unknown', 'N7699': 'unknown', 'N7700': 'unknown', 'N7701': 'unknown', 'N7702': 'unknown', 'N7703': 'unknown', 'N7704': 'unknown', 'N7705': 'unknown', 'N7706': 'unknown', 'N7707': 'unknown', 'N7735': 'unknown', 'N7736': 'unknown', 'N7737': 'unknown', 'N7738': 'unknown', 'N7739': 'unknown', 'N7740': 'unknown', 'N7741': 'unknown', 'N7742': 'unknown', 'N7754': 'unknown', 'N7755': 'unknown', 'N7756': 'unknown', 'N7757': 'unknown', 'N7758': 'unknown', 'N7759': 'unknown', 'N7760': 'unknown', 'N7761': 'unknown', 'N8075': 'unknown', 'N8076': 'unknown', 'N8123': 'unknown', 'N8124': 'unknown', 'N8127': 'unknown', 'N8128': 'unknown'}\n",
      "Running LLM analysis with Phi-2...\n"
     ]
    },
    {
     "metadata": {
      "tags": null
     },
     "name": "stderr",
     "output_type": "stream",
     "text": [
      "The attention mask and the pad token id were not set. As a consequence, you may observe unexpected behavior. Please pass your input's `attention_mask` to obtain reliable results.\n",
      "Setting `pad_token_id` to `eos_token_id`:50256 for open-end generation.\n",
      "The attention mask and the pad token id were not set. As a consequence, you may observe unexpected behavior. Please pass your input's `attention_mask` to obtain reliable results.\n",
      "Setting `pad_token_id` to `eos_token_id`:50256 for open-end generation.\n"
     ]
    },
    {
     "metadata": {
      "tags": null
     },
     "name": "stdout",
     "output_type": "stream",
     "text": [
      "Error generating with Phi-2: Input length of input_ids is 43659, but `max_length` is set to 2048. This can lead to unexpected behavior. You should consider increasing `max_length` or, better yet, setting `max_new_tokens`.\n",
      "Using device for rule-based analysis: cuda\n",
      "Generating testbench with Phi-2...\n",
      "Error generating with Phi-2: Input length of input_ids is 45657, but `max_length` is set to 4096. This can lead to unexpected behavior. You should consider increasing `max_length` or, better yet, setting `max_new_tokens`.\n",
      "Testbench saved to testbenches/c5315_tb.v\n"
     ]
    },
    {
     "metadata": {
      "tags": null
     },
     "name": "stderr",
     "output_type": "stream",
     "text": [
      "The attention mask and the pad token id were not set. As a consequence, you may observe unexpected behavior. Please pass your input's `attention_mask` to obtain reliable results.\n",
      "Setting `pad_token_id` to `eos_token_id`:50256 for open-end generation.\n"
     ]
    },
    {
     "metadata": {
      "tags": null
     },
     "name": "stdout",
     "output_type": "stream",
     "text": [
      "Compilation failed for c5315:\n",
      "/content/drive/MyDrive/RTLData/Negation of assignment/c5315_4.v:282: syntax error\n",
      "/content/drive/MyDrive/RTLData/Negation of assignment/c5315_4.v:282: error: syntax error in left side of continuous assignment.\n",
      "\n",
      "\n",
      "Processing /content/drive/MyDrive/RTLData/Negation of assignment/s298_0.v...\n",
      "Multiple or nested module definitions detected.\n",
      "Created fixed Verilog file: testbenches/fixed_s298_0.v\n",
      "Module: dff, Ports: {'CK': 'input', 'q': 'output', 'd': 'unknown'}\n",
      "Running LLM analysis with Phi-2...\n"
     ]
    },
    {
     "metadata": {
      "tags": null
     },
     "name": "stderr",
     "output_type": "stream",
     "text": [
      "The attention mask and the pad token id were not set. As a consequence, you may observe unexpected behavior. Please pass your input's `attention_mask` to obtain reliable results.\n",
      "Setting `pad_token_id` to `eos_token_id`:50256 for open-end generation.\n"
     ]
    },
    {
     "metadata": {
      "tags": null
     },
     "name": "stdout",
     "output_type": "stream",
     "text": [
      "Generating testbench with Phi-2...\n"
     ]
    },
    {
     "metadata": {
      "tags": null
     },
     "name": "stderr",
     "output_type": "stream",
     "text": [
      "The attention mask and the pad token id were not set. As a consequence, you may observe unexpected behavior. Please pass your input's `attention_mask` to obtain reliable results.\n",
      "Setting `pad_token_id` to `eos_token_id`:50256 for open-end generation.\n",
      "The attention mask and the pad token id were not set. As a consequence, you may observe unexpected behavior. Please pass your input's `attention_mask` to obtain reliable results.\n",
      "Setting `pad_token_id` to `eos_token_id`:50256 for open-end generation.\n"
     ]
    },
    {
     "metadata": {
      "tags": null
     },
     "name": "stdout",
     "output_type": "stream",
     "text": [
      "Testbench saved to testbenches/dff_tb.v\n",
      "Compilation failed for dff:\n",
      "testbenches/dff_tb.v:1: error: 'dff' has already been declared in this scope.\n",
      "testbenches/fixed_s298_0.v:1:      : It was declared here as a module.\n",
      "testbenches/dff_tb.v:6: Module dff was already declared here: testbenches/fixed_s298_0.v:1\n",
      "\n",
      "\n",
      "\n",
      "Processing /content/drive/MyDrive/RTLData/Negation of assignment/WallecTreeMultiplier_4.v...\n",
      "Multiple or nested module definitions detected.\n",
      "Created fixed Verilog file: testbenches/fixed_WallecTreeMultiplier_4.v\n",
      "Module: half_adder, Ports: {'input a': 'unknown', 'b': 'unknown', 'output s0': 'output', 'c0': 'unknown'}\n",
      "Running LLM analysis with Phi-2...\n",
      "Generating testbench with Phi-2...\n"
     ]
    },
    {
     "metadata": {
      "tags": null
     },
     "name": "stderr",
     "output_type": "stream",
     "text": [
      "The attention mask and the pad token id were not set. As a consequence, you may observe unexpected behavior. Please pass your input's `attention_mask` to obtain reliable results.\n",
      "Setting `pad_token_id` to `eos_token_id`:50256 for open-end generation.\n"
     ]
    },
    {
     "metadata": {
      "tags": null
     },
     "name": "stdout",
     "output_type": "stream",
     "text": [
      "Testbench saved to testbenches/half_adder_tb.v\n",
      "Compilation failed for half_adder:\n",
      "testbenches/half_adder_tb.v:9: syntax error\n",
      "testbenches/half_adder_tb.v:9: error: Invalid module instantiation\n",
      "\n",
      "\n",
      "Processing /content/drive/MyDrive/RTLData/Negation of assignment/ModNCounter_0.v...\n",
      "No valid module declaration found.\n",
      "Created fixed Verilog file: testbenches/fixed_ModNCounter_0.v\n",
      "Could not parse module definition in testbenches/fixed_ModNCounter_0.v\n",
      "\n",
      "Processing /content/drive/MyDrive/RTLData/Negation of assignment/s35932_0.v...\n",
      "Multiple or nested module definitions detected.\n",
      "Created fixed Verilog file: testbenches/fixed_s35932_0.v\n",
      "Module: dff, Ports: {'CK': 'input', 'q': 'output', 'd': 'unknown'}\n",
      "Running LLM analysis with Phi-2...\n"
     ]
    },
    {
     "metadata": {
      "tags": null
     },
     "name": "stderr",
     "output_type": "stream",
     "text": [
      "The attention mask and the pad token id were not set. As a consequence, you may observe unexpected behavior. Please pass your input's `attention_mask` to obtain reliable results.\n",
      "Setting `pad_token_id` to `eos_token_id`:50256 for open-end generation.\n"
     ]
    },
    {
     "metadata": {
      "tags": null
     },
     "name": "stdout",
     "output_type": "stream",
     "text": [
      "Generating testbench with Phi-2...\n"
     ]
    },
    {
     "metadata": {
      "tags": null
     },
     "name": "stderr",
     "output_type": "stream",
     "text": [
      "The attention mask and the pad token id were not set. As a consequence, you may observe unexpected behavior. Please pass your input's `attention_mask` to obtain reliable results.\n",
      "Setting `pad_token_id` to `eos_token_id`:50256 for open-end generation.\n"
     ]
    },
    {
     "metadata": {
      "tags": null
     },
     "name": "stdout",
     "output_type": "stream",
     "text": [
      "Testbench saved to testbenches/dff_tb.v\n",
      "Compilation failed for dff:\n",
      "testbenches/dff_tb.v:1: error: 'dff' has already been declared in this scope.\n",
      "testbenches/fixed_s35932_0.v:1:      : It was declared here as a module.\n",
      "testbenches/dff_tb.v:6: Module dff was already declared here: testbenches/fixed_s35932_0.v:1\n",
      "\n",
      "\n",
      "\n",
      "Processing /content/drive/MyDrive/RTLData/Negation of assignment/s400_0.v...\n",
      "Multiple or nested module definitions detected.\n",
      "Created fixed Verilog file: testbenches/fixed_s400_0.v\n",
      "Module: dff, Ports: {'CK': 'input', 'Q': 'output', 'D': 'unknown'}\n",
      "Running LLM analysis with Phi-2...\n"
     ]
    },
    {
     "metadata": {
      "tags": null
     },
     "name": "stderr",
     "output_type": "stream",
     "text": [
      "The attention mask and the pad token id were not set. As a consequence, you may observe unexpected behavior. Please pass your input's `attention_mask` to obtain reliable results.\n",
      "Setting `pad_token_id` to `eos_token_id`:50256 for open-end generation.\n"
     ]
    },
    {
     "metadata": {
      "tags": null
     },
     "name": "stdout",
     "output_type": "stream",
     "text": [
      "Generating testbench with Phi-2...\n",
      "Testbench saved to testbenches/dff_tb.v\n",
      "Compilation failed for dff:\n",
      "testbenches/fixed_s400_0.v:2: error: Module definition dff cannot nest into module dff.\n",
      "testbenches/dff_tb.v:1: error: Module definition dff cannot nest into module dff.\n",
      "testbenches/dff_tb.v:1: error: 'dff' has already been declared in this scope.\n",
      "testbenches/fixed_s400_0.v:2:      : It was declared here as a module.\n",
      "testbenches/dff_tb.v:2: error: Module definition dff cannot nest into module dff.\n",
      "testbenches/dff_tb.v:7: syntax error\n",
      "I give up.\n",
      "\n",
      "\n",
      "Processing /content/drive/MyDrive/RTLData/Negation of assignment/c7552_2.v...\n",
      "Module: c7552, Ports: {'N1': 'input', 'N5': 'unknown', 'N9': 'unknown', 'N12': 'unknown', 'N15': 'unknown', 'N18': 'unknown', 'N23': 'unknown', 'N26': 'unknown', 'N29': 'unknown', 'N32': 'unknown', 'N35': 'unknown', 'N38': 'unknown', 'N41': 'unknown', 'N44': 'unknown', 'N47': 'unknown', 'N50': 'unknown', 'N53': 'unknown', 'N54': 'unknown', 'N55': 'unknown', 'N56': 'unknown', 'N57': 'unknown', 'N58': 'unknown', 'N59': 'unknown', 'N60': 'unknown', 'N61': 'unknown', 'N62': 'unknown', 'N63': 'unknown', 'N64': 'unknown', 'N65': 'unknown', 'N66': 'unknown', 'N69': 'unknown', 'N70': 'unknown', 'N73': 'unknown', 'N74': 'unknown', 'N75': 'unknown', 'N76': 'unknown', 'N77': 'unknown', 'N78': 'unknown', 'N79': 'unknown', 'N80': 'unknown', 'N81': 'unknown', 'N82': 'unknown', 'N83': 'unknown', 'N84': 'unknown', 'N85': 'unknown', 'N86': 'unknown', 'N87': 'unknown', 'N88': 'unknown', 'N89': 'unknown', 'N94': 'unknown', 'N97': 'unknown', 'N100': 'unknown', 'N103': 'unknown', 'N106': 'unknown', 'N109': 'unknown', 'N110': 'unknown', 'N111': 'unknown', 'N112': 'unknown', 'N113': 'unknown', 'N114': 'unknown', 'N115': 'unknown', 'N118': 'unknown', 'N121': 'unknown', 'N124': 'unknown', 'N127': 'unknown', 'N130': 'unknown', 'N133': 'unknown', 'N134': 'unknown', 'N135': 'unknown', 'N138': 'unknown', 'N141': 'unknown', 'N144': 'unknown', 'N147': 'unknown', 'N150': 'unknown', 'N151': 'unknown', 'N152': 'unknown', 'N153': 'unknown', 'N154': 'unknown', 'N155': 'unknown', 'N156': 'unknown', 'N157': 'unknown', 'N158': 'unknown', 'N159': 'unknown', 'N160': 'unknown', 'N161': 'unknown', 'N162': 'unknown', 'N163': 'unknown', 'N164': 'unknown', 'N165': 'unknown', 'N166': 'unknown', 'N167': 'unknown', 'N168': 'unknown', 'N169': 'unknown', 'N170': 'unknown', 'N171': 'unknown', 'N172': 'unknown', 'N173': 'unknown', 'N174': 'unknown', 'N175': 'unknown', 'N176': 'unknown', 'N177': 'unknown', 'N178': 'unknown', 'N179': 'unknown', 'N180': 'unknown', 'N181': 'unknown', 'N182': 'unknown', 'N183': 'unknown', 'N184': 'unknown', 'N185': 'unknown', 'N186': 'unknown', 'N187': 'unknown', 'N188': 'unknown', 'N189': 'unknown', 'N190': 'unknown', 'N191': 'unknown', 'N192': 'unknown', 'N193': 'unknown', 'N194': 'unknown', 'N195': 'unknown', 'N196': 'unknown', 'N197': 'unknown', 'N198': 'unknown', 'N199': 'unknown', 'N200': 'unknown', 'N201': 'unknown', 'N202': 'unknown', 'N203': 'unknown', 'N204': 'unknown', 'N205': 'unknown', 'N206': 'unknown', 'N207': 'unknown', 'N208': 'unknown', 'N209': 'unknown', 'N210': 'unknown', 'N211': 'unknown', 'N212': 'unknown', 'N213': 'unknown', 'N214': 'unknown', 'N215': 'unknown', 'N216': 'unknown', 'N217': 'unknown', 'N218': 'unknown', 'N219': 'unknown', 'N220': 'unknown', 'N221': 'unknown', 'N222': 'unknown', 'N223': 'unknown', 'N224': 'unknown', 'N225': 'unknown', 'N226': 'unknown', 'N227': 'unknown', 'N228': 'unknown', 'N229': 'unknown', 'N230': 'unknown', 'N231': 'unknown', 'N232': 'unknown', 'N233': 'unknown', 'N234': 'unknown', 'N235': 'unknown', 'N236': 'unknown', 'N237': 'unknown', 'N238': 'unknown', 'N239': 'unknown', 'N240': 'unknown', 'N242': 'unknown', 'N245': 'unknown', 'N248': 'unknown', 'N251': 'unknown', 'N254': 'unknown', 'N257': 'unknown', 'N260': 'unknown', 'N263': 'unknown', 'N267': 'unknown', 'N271': 'unknown', 'N274': 'unknown', 'N277': 'unknown', 'N280': 'unknown', 'N283': 'unknown', 'N286': 'unknown', 'N289': 'unknown', 'N293': 'unknown', 'N296': 'unknown', 'N299': 'unknown', 'N303': 'unknown', 'N307': 'unknown', 'N310': 'unknown', 'N313': 'unknown', 'N316': 'unknown', 'N319': 'unknown', 'N322': 'unknown', 'N325': 'unknown', 'N328': 'unknown', 'N331': 'unknown', 'N334': 'unknown', 'N337': 'unknown', 'N340': 'unknown', 'N343': 'unknown', 'N346': 'unknown', 'N349': 'unknown', 'N352': 'unknown', 'N355': 'unknown', 'N358': 'unknown', 'N361': 'unknown', 'N364': 'unknown', 'N367': 'unknown', 'N382': 'unknown', 'N241_I': 'unknown', 'N387': 'output', 'N388': 'unknown', 'N478': 'unknown', 'N482': 'unknown', 'N484': 'unknown', 'N486': 'unknown', 'N489': 'unknown', 'N492': 'unknown', 'N501': 'unknown', 'N505': 'unknown', 'N507': 'unknown', 'N509': 'unknown', 'N511': 'unknown', 'N513': 'unknown', 'N515': 'unknown', 'N517': 'unknown', 'N519': 'unknown', 'N535': 'unknown', 'N537': 'unknown', 'N539': 'unknown', 'N541': 'unknown', 'N543': 'unknown', 'N545': 'unknown', 'N547': 'unknown', 'N549': 'unknown', 'N551': 'unknown', 'N553': 'unknown', 'N556': 'unknown', 'N559': 'unknown', 'N561': 'unknown', 'N563': 'unknown', 'N565': 'unknown', 'N567': 'unknown', 'N569': 'unknown', 'N571': 'unknown', 'N573': 'unknown', 'N582': 'unknown', 'N643': 'unknown', 'N707': 'unknown', 'N813': 'unknown', 'N881': 'unknown', 'N882': 'unknown', 'N883': 'unknown', 'N884': 'unknown', 'N885': 'unknown', 'N889': 'unknown', 'N945': 'unknown', 'N1110': 'unknown', 'N1111': 'unknown', 'N1112': 'unknown', 'N1113': 'unknown', 'N1114': 'unknown', 'N1489': 'unknown', 'N1490': 'unknown', 'N1781': 'unknown', 'N10025': 'unknown', 'N10101': 'unknown', 'N10102': 'unknown', 'N10103': 'unknown', 'N10104': 'unknown', 'N10109': 'unknown', 'N10110': 'unknown', 'N10111': 'unknown', 'N10112': 'unknown', 'N10350': 'unknown', 'N10351': 'unknown', 'N10352': 'unknown', 'N10353': 'unknown', 'N10574': 'unknown', 'N10575': 'unknown', 'N10576': 'unknown', 'N10628': 'unknown', 'N10632': 'unknown', 'N10641': 'unknown', 'N10704': 'unknown', 'N10706': 'unknown', 'N10711': 'unknown', 'N10712': 'unknown', 'N10713': 'unknown', 'N10714': 'unknown', 'N10715': 'unknown', 'N10716': 'unknown', 'N10717': 'unknown', 'N10718': 'unknown', 'N10729': 'unknown', 'N10759': 'unknown', 'N10760': 'unknown', 'N10761': 'unknown', 'N10762': 'unknown', 'N10763': 'unknown', 'N10827': 'unknown', 'N10837': 'unknown', 'N10838': 'unknown', 'N10839': 'unknown', 'N10840': 'unknown', 'N10868': 'unknown', 'N10869': 'unknown', 'N10870': 'unknown', 'N10871': 'unknown', 'N10905': 'unknown', 'N10906': 'unknown', 'N10907': 'unknown', 'N10908': 'unknown', 'N11333': 'unknown', 'N11334': 'unknown', 'N11340': 'unknown', 'N11342': 'unknown', 'N241_O': 'unknown'}\n",
      "Running LLM analysis with Phi-2...\n"
     ]
    },
    {
     "metadata": {
      "tags": null
     },
     "name": "stderr",
     "output_type": "stream",
     "text": [
      "The attention mask and the pad token id were not set. As a consequence, you may observe unexpected behavior. Please pass your input's `attention_mask` to obtain reliable results.\n",
      "Setting `pad_token_id` to `eos_token_id`:50256 for open-end generation.\n",
      "The attention mask and the pad token id were not set. As a consequence, you may observe unexpected behavior. Please pass your input's `attention_mask` to obtain reliable results.\n",
      "Setting `pad_token_id` to `eos_token_id`:50256 for open-end generation.\n"
     ]
    },
    {
     "metadata": {
      "tags": null
     },
     "name": "stdout",
     "output_type": "stream",
     "text": [
      "Error generating with Phi-2: Input length of input_ids is 62592, but `max_length` is set to 2048. This can lead to unexpected behavior. You should consider increasing `max_length` or, better yet, setting `max_new_tokens`.\n",
      "Using device for rule-based analysis: cuda\n",
      "Generating testbench with Phi-2...\n",
      "Error generating with Phi-2: Input length of input_ids is 64623, but `max_length` is set to 4096. This can lead to unexpected behavior. You should consider increasing `max_length` or, better yet, setting `max_new_tokens`.\n"
     ]
    },
    {
     "metadata": {
      "tags": null
     },
     "name": "stderr",
     "output_type": "stream",
     "text": [
      "The attention mask and the pad token id were not set. As a consequence, you may observe unexpected behavior. Please pass your input's `attention_mask` to obtain reliable results.\n",
      "Setting `pad_token_id` to `eos_token_id`:50256 for open-end generation.\n"
     ]
    },
    {
     "metadata": {
      "tags": null
     },
     "name": "stdout",
     "output_type": "stream",
     "text": [
      "Testbench saved to testbenches/c7552_tb.v\n",
      "Compilation failed for c7552:\n",
      "/content/drive/MyDrive/RTLData/Negation of assignment/c7552_2.v:385: syntax error\n",
      "/content/drive/MyDrive/RTLData/Negation of assignment/c7552_2.v:385: error: syntax error in left side of continuous assignment.\n",
      "\n",
      "\n",
      "Processing /content/drive/MyDrive/RTLData/Negation of assignment/s1423_0.v...\n",
      "Multiple or nested module definitions detected.\n",
      "Created fixed Verilog file: testbenches/fixed_s1423_0.v\n",
      "Module: dff, Ports: {'CK': 'input', 'q': 'output', 'd': 'unknown'}\n",
      "Running LLM analysis with Phi-2...\n"
     ]
    },
    {
     "metadata": {
      "tags": null
     },
     "name": "stderr",
     "output_type": "stream",
     "text": [
      "The attention mask and the pad token id were not set. As a consequence, you may observe unexpected behavior. Please pass your input's `attention_mask` to obtain reliable results.\n",
      "Setting `pad_token_id` to `eos_token_id`:50256 for open-end generation.\n"
     ]
    },
    {
     "metadata": {
      "tags": null
     },
     "name": "stdout",
     "output_type": "stream",
     "text": [
      "Generating testbench with Phi-2...\n"
     ]
    },
    {
     "metadata": {
      "tags": null
     },
     "name": "stderr",
     "output_type": "stream",
     "text": [
      "The attention mask and the pad token id were not set. As a consequence, you may observe unexpected behavior. Please pass your input's `attention_mask` to obtain reliable results.\n",
      "Setting `pad_token_id` to `eos_token_id`:50256 for open-end generation.\n"
     ]
    },
    {
     "metadata": {
      "tags": null
     },
     "name": "stdout",
     "output_type": "stream",
     "text": [
      "Testbench saved to testbenches/dff_tb.v\n",
      "Simulation output saved for dff\n",
      "\n",
      "Processing /content/drive/MyDrive/RTLData/Negation of assignment/LIFOBuffer_0.v...\n",
      "Module: jLIFO, Ports: {'DATAOUT': 'output', 'full': 'output', 'empty': 'unknown', 'clock': 'input', 'reset': 'input', 'wn': 'unknown', 'rn': 'unknown', 'DATAIN': 'input'}\n",
      "Running LLM analysis with Phi-2...\n"
     ]
    },
    {
     "metadata": {
      "tags": null
     },
     "name": "stderr",
     "output_type": "stream",
     "text": [
      "The attention mask and the pad token id were not set. As a consequence, you may observe unexpected behavior. Please pass your input's `attention_mask` to obtain reliable results.\n",
      "Setting `pad_token_id` to `eos_token_id`:50256 for open-end generation.\n"
     ]
    },
    {
     "metadata": {
      "tags": null
     },
     "name": "stdout",
     "output_type": "stream",
     "text": [
      "Generating testbench with Phi-2...\n",
      "Testbench saved to testbenches/jLIFO_tb.v\n",
      "Compilation failed for jLIFO:\n",
      "testbenches/jLIFO_tb.v:16: warning: macro verilog undefined (and assumed null) at this point.\n",
      "testbenches/jLIFO_tb.v:1: syntax error\n",
      "I give up.\n",
      "\n",
      "\n",
      "Processing /content/drive/MyDrive/RTLData/Negation of assignment/UPCounter_2.v...\n",
      "No valid module declaration found.\n",
      "Created fixed Verilog file: testbenches/fixed_UPCounter_2.v\n",
      "Could not parse module definition in testbenches/fixed_UPCounter_2.v\n",
      "\n",
      "Processing /content/drive/MyDrive/RTLData/Negation of assignment/MooreOverlap copy_ParameterError_5.v...\n",
      "Module: jfsmMooreWithOverlap, Ports: {'dataout': 'output', 'clock': 'input', 'reset': 'input', 'datain': 'unknown'}\n"
     ]
    },
    {
     "metadata": {
      "tags": null
     },
     "name": "stderr",
     "output_type": "stream",
     "text": [
      "The attention mask and the pad token id were not set. As a consequence, you may observe unexpected behavior. Please pass your input's `attention_mask` to obtain reliable results.\n",
      "Setting `pad_token_id` to `eos_token_id`:50256 for open-end generation.\n"
     ]
    },
    {
     "metadata": {
      "tags": null
     },
     "name": "stdout",
     "output_type": "stream",
     "text": [
      "Running LLM analysis with Phi-2...\n"
     ]
    },
    {
     "metadata": {
      "tags": null
     },
     "name": "stderr",
     "output_type": "stream",
     "text": [
      "The attention mask and the pad token id were not set. As a consequence, you may observe unexpected behavior. Please pass your input's `attention_mask` to obtain reliable results.\n",
      "Setting `pad_token_id` to `eos_token_id`:50256 for open-end generation.\n"
     ]
    },
    {
     "metadata": {
      "tags": null
     },
     "name": "stdout",
     "output_type": "stream",
     "text": [
      "Generating testbench with Phi-2...\n"
     ]
    },
    {
     "metadata": {
      "tags": null
     },
     "name": "stderr",
     "output_type": "stream",
     "text": [
      "The attention mask and the pad token id were not set. As a consequence, you may observe unexpected behavior. Please pass your input's `attention_mask` to obtain reliable results.\n",
      "Setting `pad_token_id` to `eos_token_id`:50256 for open-end generation.\n"
     ]
    },
    {
     "metadata": {
      "tags": null
     },
     "name": "stdout",
     "output_type": "stream",
     "text": [
      "Phi-2 didn't generate a valid testbench, using rule-based generation\n",
      "Testbench saved to testbenches/jfsmMooreWithOverlap_tb.v\n",
      "Simulation output saved for jfsmMooreWithOverlap\n",
      "\n",
      "Processing /content/drive/MyDrive/RTLData/Negation of assignment/FirstCounterOverflow_4.v...\n",
      "Multiple or nested module definitions detected.\n",
      "Created fixed Verilog file: testbenches/fixed_FirstCounterOverflow_4.v\n",
      "Module: first_counter, Ports: {'clk': 'input', 'reset': 'input', 'enable': 'input', 'counter_out': 'output', 'overflow_out': 'output'}\n",
      "Running LLM analysis with Phi-2...\n"
     ]
    },
    {
     "metadata": {
      "tags": null
     },
     "name": "stderr",
     "output_type": "stream",
     "text": [
      "The attention mask and the pad token id were not set. As a consequence, you may observe unexpected behavior. Please pass your input's `attention_mask` to obtain reliable results.\n",
      "Setting `pad_token_id` to `eos_token_id`:50256 for open-end generation.\n"
     ]
    },
    {
     "metadata": {
      "tags": null
     },
     "name": "stdout",
     "output_type": "stream",
     "text": [
      "Generating testbench with Phi-2...\n"
     ]
    },
    {
     "metadata": {
      "tags": null
     },
     "name": "stderr",
     "output_type": "stream",
     "text": [
      "The attention mask and the pad token id were not set. As a consequence, you may observe unexpected behavior. Please pass your input's `attention_mask` to obtain reliable results.\n",
      "Setting `pad_token_id` to `eos_token_id`:50256 for open-end generation.\n"
     ]
    },
    {
     "metadata": {
      "tags": null
     },
     "name": "stdout",
     "output_type": "stream",
     "text": [
      "Testbench saved to testbenches/first_counter_tb.v\n",
      "Compilation failed for first_counter:\n",
      "testbenches/fixed_FirstCounterOverflow_4.v:48: error: Unable to bind wire/reg/memory `c' in `first_counter.COUNTER'\n",
      "testbenches/fixed_FirstCounterOverflow_4.v:48: error: Unable to bind wire/reg/memory `ounter_out' in `first_counter.COUNTER'\n",
      "testbenches/fixed_FirstCounterOverflow_4.v:48: error: Unable to elaborate condition expression.\n",
      "testbenches/first_counter_tb.v:41: error: Unable to bind wire/reg/memory `c' in `first_counter_testbench.COUNTER'\n",
      "testbenches/first_counter_tb.v:41: error: Unable to elaborate condition expression.\n",
      "5 error(s) during elaboration.\n",
      "\n",
      "\n",
      "Processing /content/drive/MyDrive/RTLData/Negation of assignment/s5378a_0.v...\n",
      "Multiple or nested module definitions detected.\n",
      "Created fixed Verilog file: testbenches/fixed_s5378a_0.v\n",
      "Module: dff, Ports: {'CK': 'input', 'q': 'output', 'd': 'unknown'}\n",
      "Running LLM analysis with Phi-2...\n"
     ]
    },
    {
     "metadata": {
      "tags": null
     },
     "name": "stderr",
     "output_type": "stream",
     "text": [
      "The attention mask and the pad token id were not set. As a consequence, you may observe unexpected behavior. Please pass your input's `attention_mask` to obtain reliable results.\n",
      "Setting `pad_token_id` to `eos_token_id`:50256 for open-end generation.\n"
     ]
    },
    {
     "metadata": {
      "tags": null
     },
     "name": "stdout",
     "output_type": "stream",
     "text": [
      "Generating testbench with Phi-2...\n"
     ]
    },
    {
     "metadata": {
      "tags": null
     },
     "name": "stderr",
     "output_type": "stream",
     "text": [
      "The attention mask and the pad token id were not set. As a consequence, you may observe unexpected behavior. Please pass your input's `attention_mask` to obtain reliable results.\n",
      "Setting `pad_token_id` to `eos_token_id`:50256 for open-end generation.\n"
     ]
    },
    {
     "metadata": {
      "tags": null
     },
     "name": "stdout",
     "output_type": "stream",
     "text": [
      "Testbench saved to testbenches/dff_tb.v\n",
      "Simulation output saved for dff\n",
      "\n",
      "Processing /content/drive/MyDrive/RTLData/Negation of assignment/lshift_reg_3.v...\n",
      "Module: lshift_reg, Ports: {'input             clk': 'input', '// Clock input                   input            rstn': 'input', '// Active low reset input                   input [7:0]       load_val': 'input', '// Load value                    input             load_en': 'unknown', '// Load enable                   output reg [7:0] op': 'output'}\n",
      "Running LLM analysis with Phi-2...\n"
     ]
    },
    {
     "metadata": {
      "tags": null
     },
     "name": "stderr",
     "output_type": "stream",
     "text": [
      "The attention mask and the pad token id were not set. As a consequence, you may observe unexpected behavior. Please pass your input's `attention_mask` to obtain reliable results.\n",
      "Setting `pad_token_id` to `eos_token_id`:50256 for open-end generation.\n"
     ]
    },
    {
     "metadata": {
      "tags": null
     },
     "name": "stdout",
     "output_type": "stream",
     "text": [
      "Generating testbench with Phi-2...\n"
     ]
    },
    {
     "metadata": {
      "tags": null
     },
     "name": "stderr",
     "output_type": "stream",
     "text": [
      "The attention mask and the pad token id were not set. As a consequence, you may observe unexpected behavior. Please pass your input's `attention_mask` to obtain reliable results.\n",
      "Setting `pad_token_id` to `eos_token_id`:50256 for open-end generation.\n"
     ]
    },
    {
     "metadata": {
      "tags": null
     },
     "name": "stdout",
     "output_type": "stream",
     "text": [
      "Testbench saved to testbenches/lshift_reg_tb.v\n",
      "Compilation failed for lshift_reg:\n",
      "testbenches/lshift_reg_tb.v:9: syntax error\n",
      "testbenches/lshift_reg_tb.v:9: error: Invalid module instantiation\n",
      "testbenches/lshift_reg_tb.v:15: syntax error\n",
      "testbenches/lshift_reg_tb.v:15: error: Invalid module instantiation\n",
      "testbenches/lshift_reg_tb.v:16: error: Invalid module instantiation\n",
      "testbenches/lshift_reg_tb.v:17: error: Invalid module instantiation\n",
      "testbenches/lshift_reg_tb.v:18: error: Invalid module instantiation\n",
      "testbenches/lshift_reg_tb.v:19: error: Invalid module instantiation\n",
      "testbenches/lshift_reg_tb.v:20: error: Invalid module instantiation\n",
      "testbenches/lshift_reg_tb.v:21: error: Invalid module instantiation\n",
      "testbenches/lshift_reg_tb.v:22: error: Invalid module instantiation\n",
      "testbenches/lshift_reg_tb.v:23: error: Invalid module instantiation\n",
      "testbenches/lshift_reg_tb.v:26: error: Invalid module instantiation\n",
      "testbenches/lshift_reg_tb.v:29: error: Invalid module instantiation\n",
      "testbenches/lshift_reg_tb.v:32: error: Invalid module instantiation\n",
      "testbenches/lshift_reg_tb.v:33: error: Invalid module instantiation\n",
      "testbenches/lshift_reg_tb.v:39: syntax error\n",
      "testbenches/lshift_reg_tb.v:39: error: Invalid module instantiation\n",
      "testbenches/lshift_reg_tb.v:42: error: Invalid module instantiation\n",
      "testbenches/lshift_reg_tb.v:45: error: Invalid module instantiation\n",
      "testbenches/lshift_reg_tb.v:48: error: Invalid module instantiation\n",
      "testbenches/lshift_reg_tb.v:49: error: Invalid module instantiation\n",
      "\n",
      "\n",
      "Processing /content/drive/MyDrive/RTLData/Negation of assignment/JKFlipFlop_0.v...\n",
      "Module: jjkflipflop, Ports: {'q': 'output', 'qbar': 'output', 'clk': 'input', 'rst': 'input', 'jk': 'input'}\n",
      "Running LLM analysis with Phi-2...\n"
     ]
    },
    {
     "metadata": {
      "tags": null
     },
     "name": "stderr",
     "output_type": "stream",
     "text": [
      "The attention mask and the pad token id were not set. As a consequence, you may observe unexpected behavior. Please pass your input's `attention_mask` to obtain reliable results.\n",
      "Setting `pad_token_id` to `eos_token_id`:50256 for open-end generation.\n"
     ]
    },
    {
     "metadata": {
      "tags": null
     },
     "name": "stdout",
     "output_type": "stream",
     "text": [
      "Generating testbench with Phi-2...\n"
     ]
    },
    {
     "metadata": {
      "tags": null
     },
     "name": "stderr",
     "output_type": "stream",
     "text": [
      "The attention mask and the pad token id were not set. As a consequence, you may observe unexpected behavior. Please pass your input's `attention_mask` to obtain reliable results.\n",
      "Setting `pad_token_id` to `eos_token_id`:50256 for open-end generation.\n"
     ]
    },
    {
     "metadata": {
      "tags": null
     },
     "name": "stdout",
     "output_type": "stream",
     "text": [
      "Phi-2 didn't generate a valid testbench, using rule-based generation\n",
      "Testbench saved to testbenches/jjkflipflop_tb.v\n",
      "Simulation output saved for jjkflipflop\n",
      "\n",
      "Processing /content/drive/MyDrive/RTLData/Negation of assignment/FSm_full_1.v...\n",
      "Module: fsm_full, Ports: {'clock': 'input', '// Clockreset': 'input', '// Active high resetreq_0': 'input', '// Active high request from agent 0req_1': 'output', '// Active high request from agent 1req_2': 'output', '// Active high request from agent 2req_3': 'output', '// Active high request from agent 3gnt_0': 'output', '// Active high grant to agent 0gnt_1': 'unknown', '// Active high grant to agent 1gnt_2': 'unknown', '// Active high grant to agent 2gnt_3   // Active high grant to agent 3': 'unknown'}\n",
      "Running LLM analysis with Phi-2...\n"
     ]
    },
    {
     "metadata": {
      "tags": null
     },
     "name": "stderr",
     "output_type": "stream",
     "text": [
      "The attention mask and the pad token id were not set. As a consequence, you may observe unexpected behavior. Please pass your input's `attention_mask` to obtain reliable results.\n",
      "Setting `pad_token_id` to `eos_token_id`:50256 for open-end generation.\n"
     ]
    },
    {
     "metadata": {
      "tags": null
     },
     "name": "stdout",
     "output_type": "stream",
     "text": [
      "Generating testbench with Phi-2...\n"
     ]
    },
    {
     "metadata": {
      "tags": null
     },
     "name": "stderr",
     "output_type": "stream",
     "text": [
      "The attention mask and the pad token id were not set. As a consequence, you may observe unexpected behavior. Please pass your input's `attention_mask` to obtain reliable results.\n",
      "Setting `pad_token_id` to `eos_token_id`:50256 for open-end generation.\n"
     ]
    },
    {
     "metadata": {
      "tags": null
     },
     "name": "stdout",
     "output_type": "stream",
     "text": [
      "Testbench saved to testbenches/fsm_full_tb.v\n",
      "Compilation failed for fsm_full:\n",
      "/content/drive/MyDrive/RTLData/Negation of assignment/FSm_full_1.v:31: syntax error\n",
      "/content/drive/MyDrive/RTLData/Negation of assignment/FSm_full_1.v:31: error: syntax error in parameter list.\n",
      "testbenches/fsm_full_tb.v:1: error: 'fsm_full' has already been declared in this scope.\n",
      "/content/drive/MyDrive/RTLData/Negation of assignment/FSm_full_1.v:1:      : It was declared here as a module.\n",
      "testbenches/fsm_full_tb.v:31: syntax error\n",
      "testbenches/fsm_full_tb.v:31: error: syntax error in parameter list.\n",
      "testbenches/fsm_full_tb.v:114: Module fsm_full was already declared here: /content/drive/MyDrive/RTLData/Negation of assignment/FSm_full_1.v:1\n",
      "\n",
      "\n",
      "\n",
      "Processing /content/drive/MyDrive/RTLData/Negation of assignment/SequenceDetector_4.v...\n",
      "Module: seq_detector_1010, Ports: {'input bit clk': 'input', 'rst_n': 'input', 'x': 'unknown', 'output z': 'output'}\n",
      "Running LLM analysis with Phi-2...\n"
     ]
    },
    {
     "metadata": {
      "tags": null
     },
     "name": "stderr",
     "output_type": "stream",
     "text": [
      "The attention mask and the pad token id were not set. As a consequence, you may observe unexpected behavior. Please pass your input's `attention_mask` to obtain reliable results.\n",
      "Setting `pad_token_id` to `eos_token_id`:50256 for open-end generation.\n"
     ]
    },
    {
     "metadata": {
      "tags": null
     },
     "name": "stdout",
     "output_type": "stream",
     "text": [
      "Generating testbench with Phi-2...\n"
     ]
    },
    {
     "metadata": {
      "tags": null
     },
     "name": "stderr",
     "output_type": "stream",
     "text": [
      "The attention mask and the pad token id were not set. As a consequence, you may observe unexpected behavior. Please pass your input's `attention_mask` to obtain reliable results.\n",
      "Setting `pad_token_id` to `eos_token_id`:50256 for open-end generation.\n"
     ]
    },
    {
     "metadata": {
      "tags": null
     },
     "name": "stdout",
     "output_type": "stream",
     "text": [
      "Testbench saved to testbenches/seq_detector_1010_tb.v\n",
      "Compilation failed for seq_detector_1010:\n",
      "/content/drive/MyDrive/RTLData/Negation of assignment/SequenceDetector_4.v:1: syntax error\n",
      "/content/drive/MyDrive/RTLData/Negation of assignment/SequenceDetector_4.v:1: Errors in port declarations.\n",
      "/content/drive/MyDrive/RTLData/Negation of assignment/SequenceDetector_4.v:4: syntax error\n",
      "/content/drive/MyDrive/RTLData/Negation of assignment/SequenceDetector_4.v:4: error: syntax error in parameter list.\n",
      "/content/drive/MyDrive/RTLData/Negation of assignment/SequenceDetector_4.v:7: syntax error\n",
      "/content/drive/MyDrive/RTLData/Negation of assignment/SequenceDetector_4.v:7: error: Invalid module instantiation\n",
      "testbenches/seq_detector_1010_tb.v:1: error: 'seq_detector_1010' has already been declared in this scope.\n",
      "/content/drive/MyDrive/RTLData/Negation of assignment/SequenceDetector_4.v:1:      : It was declared here as a module.\n",
      "testbenches/seq_detector_1010_tb.v:1: syntax error\n",
      "testbenches/seq_detector_1010_tb.v:1: Errors in port declarations.\n",
      "testbenches/seq_detector_1010_tb.v:4: syntax error\n",
      "testbenches/seq_detector_1010_tb.v:4: error: syntax error in parameter list.\n",
      "testbenches/seq_detector_1010_tb.v:7: syntax error\n",
      "testbenches/seq_detector_1010_tb.v:7: error: Invalid module instantiation\n",
      "testbenches/seq_detector_1010_tb.v:37: Module seq_detector_1010 was already declared here: /content/drive/MyDrive/RTLData/Negation of assignment/SequenceDetector_4.v:1\n",
      "\n",
      "\n",
      "\n",
      "Processing /content/drive/MyDrive/RTLData/Negation of assignment/SequenceDetector_0.v...\n",
      "Module: seq_detector_1010, Ports: {'input bit clk': 'input', 'rst_n': 'input', 'x': 'unknown', 'output z': 'output'}\n",
      "Running LLM analysis with Phi-2...\n"
     ]
    },
    {
     "metadata": {
      "tags": null
     },
     "name": "stderr",
     "output_type": "stream",
     "text": [
      "The attention mask and the pad token id were not set. As a consequence, you may observe unexpected behavior. Please pass your input's `attention_mask` to obtain reliable results.\n",
      "Setting `pad_token_id` to `eos_token_id`:50256 for open-end generation.\n"
     ]
    },
    {
     "metadata": {
      "tags": null
     },
     "name": "stdout",
     "output_type": "stream",
     "text": [
      "Generating testbench with Phi-2...\n"
     ]
    },
    {
     "metadata": {
      "tags": null
     },
     "name": "stderr",
     "output_type": "stream",
     "text": [
      "The attention mask and the pad token id were not set. As a consequence, you may observe unexpected behavior. Please pass your input's `attention_mask` to obtain reliable results.\n",
      "Setting `pad_token_id` to `eos_token_id`:50256 for open-end generation.\n"
     ]
    },
    {
     "metadata": {
      "tags": null
     },
     "name": "stdout",
     "output_type": "stream",
     "text": [
      "Testbench saved to testbenches/seq_detector_1010_tb.v\n",
      "Compilation failed for seq_detector_1010:\n",
      "/content/drive/MyDrive/RTLData/Negation of assignment/SequenceDetector_0.v:1: syntax error\n",
      "/content/drive/MyDrive/RTLData/Negation of assignment/SequenceDetector_0.v:1: Errors in port declarations.\n",
      "/content/drive/MyDrive/RTLData/Negation of assignment/SequenceDetector_0.v:7: syntax error\n",
      "/content/drive/MyDrive/RTLData/Negation of assignment/SequenceDetector_0.v:7: error: Invalid module instantiation\n",
      "testbenches/seq_detector_1010_tb.v:1: syntax error\n",
      "testbenches/seq_detector_1010_tb.v:1: Errors in port declarations.\n",
      "testbenches/seq_detector_1010_tb.v:7: syntax error\n",
      "testbenches/seq_detector_1010_tb.v:7: error: Invalid module instantiation\n",
      "\n",
      "\n",
      "Processing /content/drive/MyDrive/RTLData/Negation of assignment/MooreOverlap copy_ParameterError_3.v...\n",
      "Module: jfsmMooreWithOverlap, Ports: {'dataout': 'output', 'clock': 'input', 'reset': 'input', 'datain': 'unknown'}\n",
      "Running LLM analysis with Phi-2...\n"
     ]
    },
    {
     "metadata": {
      "tags": null
     },
     "name": "stderr",
     "output_type": "stream",
     "text": [
      "The attention mask and the pad token id were not set. As a consequence, you may observe unexpected behavior. Please pass your input's `attention_mask` to obtain reliable results.\n",
      "Setting `pad_token_id` to `eos_token_id`:50256 for open-end generation.\n"
     ]
    },
    {
     "metadata": {
      "tags": null
     },
     "name": "stdout",
     "output_type": "stream",
     "text": [
      "Generating testbench with Phi-2...\n"
     ]
    },
    {
     "metadata": {
      "tags": null
     },
     "name": "stderr",
     "output_type": "stream",
     "text": [
      "The attention mask and the pad token id were not set. As a consequence, you may observe unexpected behavior. Please pass your input's `attention_mask` to obtain reliable results.\n",
      "Setting `pad_token_id` to `eos_token_id`:50256 for open-end generation.\n"
     ]
    },
    {
     "metadata": {
      "tags": null
     },
     "name": "stdout",
     "output_type": "stream",
     "text": [
      "Testbench saved to testbenches/jfsmMooreWithOverlap_tb.v\n",
      "Compilation failed for jfsmMooreWithOverlap:\n",
      "testbenches/jfsmMooreWithOverlap_tb.v:1: error: Port dataout (1) of module jfsmMooreWithOverlap_testbench is not declared within module.\n",
      "testbenches/jfsmMooreWithOverlap_tb.v:1: error: Port clock (2) of module jfsmMooreWithOverlap_testbench is not declared within module.\n",
      "testbenches/jfsmMooreWithOverlap_tb.v:1: error: Port reset (3) of module jfsmMooreWithOverlap_testbench is not declared within module.\n",
      "testbenches/jfsmMooreWithOverlap_tb.v:1: error: Port datain (4) of module jfsmMooreWithOverlap_testbench is not declared within module.\n",
      "testbenches/jfsmMooreWithOverlap_tb.v:3: error: no wire/reg dataout in module jfsmMooreWithOverlap_testbench.\n",
      "testbenches/jfsmMooreWithOverlap_tb.v:3: error: no wire/reg clock in module jfsmMooreWithOverlap_testbench.\n",
      "testbenches/jfsmMooreWithOverlap_tb.v:3: error: no wire/reg reset in module jfsmMooreWithOverlap_testbench.\n",
      "testbenches/jfsmMooreWithOverlap_tb.v:3: error: no wire/reg datain in module jfsmMooreWithOverlap_testbench.\n",
      "testbenches/jfsmMooreWithOverlap_tb.v:17: error: Unable to bind wire/reg/memory `reset' in `jfsmMooreWithOverlap_testbench'\n",
      "testbenches/jfsmMooreWithOverlap_tb.v:17: error: Unable to elaborate condition expression.\n",
      "testbenches/jfsmMooreWithOverlap_tb.v:28: error: Unable to bind wire/reg/memory `datain' in `jfsmMooreWithOverlap_testbench'\n",
      "testbenches/jfsmMooreWithOverlap_tb.v:28: error: Unable to elaborate condition expression.\n",
      "testbenches/jfsmMooreWithOverlap_tb.v:35: error: Unable to bind wire/reg/memory `datain' in `jfsmMooreWithOverlap_testbench'\n",
      "testbenches/jfsmMooreWithOverlap_tb.v:35: error: Unable to elaborate condition expression.\n",
      "testbenches/jfsmMooreWithOverlap_tb.v:42: error: Unable to bind wire/reg/memory `datain' in `jfsmMooreWithOverlap_testbench'\n",
      "testbenches/jfsmMooreWithOverlap_tb.v:42: error: Unable to elaborate condition expression.\n",
      "testbenches/jfsmMooreWithOverlap_tb.v:49: error: Unable to bind wire/reg/memory `datain' in `jfsmMooreWithOverlap_testbench'\n",
      "testbenches/jfsmMooreWithOverlap_tb.v:49: error: Unable to elaborate condition expression.\n",
      "testbenches/jfsmMooreWithOverlap_tb.v:56: error: Unable to bind wire/reg/memory `datain' in `jfsmMooreWithOverlap_testbench'\n",
      "testbenches/jfsmMooreWithOverlap_tb.v:56: error: Unable to elaborate condition expression.\n",
      "testbenches/jfsmMooreWithOverlap_tb.v:63: error: Unable to bind wire/reg/memory `datain' in `jfsmMooreWithOverlap_testbench'\n",
      "testbenches/jfsmMooreWithOverlap_tb.v:63: error: Unable to elaborate condition expression.\n",
      "testbenches/jfsmMooreWithOverlap_tb.v:23: error: Unable to bind wire/reg/memory `datain' in `jfsmMooreWithOverlap_testbench'\n",
      "testbenches/jfsmMooreWithOverlap_tb.v:23: error: Failed to evaluate event expression 'datain'.\n",
      "testbenches/jfsmMooreWithOverlap_tb.v:73: error: Unable to bind wire/reg/memory `datain' in `jfsmMooreWithOverlap_testbench'\n",
      "testbenches/jfsmMooreWithOverlap_tb.v:73: error: Unable to elaborate condition expression.\n",
      "Elaboration failed\n",
      "\n",
      "\n",
      "Processing /content/drive/MyDrive/RTLData/Negation of assignment/FSm_full_ParameterError_2.v...\n",
      "Module: fsm_full, Ports: {'clock': 'input', '// Clockreset': 'input', '// Active high resetreq_0': 'input', '// Active high request from agent 0req_1': 'output', '// Active high request from agent 1req_2': 'output', '// Active high request from agent 2req_3': 'output', '// Active high request from agent 3gnt_0': 'output', '// Active high grant to agent 0gnt_1': 'unknown', '// Active high grant to agent 1gnt_2': 'unknown', '// Active high grant to agent 2gnt_3   // Active high grant to agent 3': 'unknown'}\n",
      "Running LLM analysis with Phi-2...\n"
     ]
    },
    {
     "metadata": {
      "tags": null
     },
     "name": "stderr",
     "output_type": "stream",
     "text": [
      "The attention mask and the pad token id were not set. As a consequence, you may observe unexpected behavior. Please pass your input's `attention_mask` to obtain reliable results.\n",
      "Setting `pad_token_id` to `eos_token_id`:50256 for open-end generation.\n"
     ]
    },
    {
     "metadata": {
      "tags": null
     },
     "name": "stdout",
     "output_type": "stream",
     "text": [
      "Generating testbench with Phi-2...\n"
     ]
    },
    {
     "metadata": {
      "tags": null
     },
     "name": "stderr",
     "output_type": "stream",
     "text": [
      "The attention mask and the pad token id were not set. As a consequence, you may observe unexpected behavior. Please pass your input's `attention_mask` to obtain reliable results.\n",
      "Setting `pad_token_id` to `eos_token_id`:50256 for open-end generation.\n"
     ]
    },
    {
     "metadata": {
      "tags": null
     },
     "name": "stdout",
     "output_type": "stream",
     "text": [
      "Testbench saved to testbenches/fsm_full_tb.v\n",
      "Compilation failed for fsm_full:\n",
      "testbenches/fsm_full_tb.v:1: error: 'fsm_full' has already been declared in this scope.\n",
      "/content/drive/MyDrive/RTLData/Negation of assignment/FSm_full_ParameterError_2.v:1:      : It was declared here as a module.\n",
      "testbenches/fsm_full_tb.v:114: Module fsm_full was already declared here: /content/drive/MyDrive/RTLData/Negation of assignment/FSm_full_ParameterError_2.v:1\n",
      "\n",
      "\n",
      "\n",
      "Processing /content/drive/MyDrive/RTLData/Negation of assignment/s5378_0.v...\n",
      "Multiple or nested module definitions detected.\n",
      "Created fixed Verilog file: testbenches/fixed_s5378_0.v\n",
      "Module: dff, Ports: {'CK': 'input', 'q': 'output', 'd': 'unknown'}\n",
      "Running LLM analysis with Phi-2...\n"
     ]
    },
    {
     "metadata": {
      "tags": null
     },
     "name": "stderr",
     "output_type": "stream",
     "text": [
      "The attention mask and the pad token id were not set. As a consequence, you may observe unexpected behavior. Please pass your input's `attention_mask` to obtain reliable results.\n",
      "Setting `pad_token_id` to `eos_token_id`:50256 for open-end generation.\n"
     ]
    },
    {
     "metadata": {
      "tags": null
     },
     "name": "stdout",
     "output_type": "stream",
     "text": [
      "Generating testbench with Phi-2...\n",
      "Testbench saved to testbenches/dff_tb.v\n",
      "Compilation failed for dff:\n",
      "testbenches/dff_tb.v:13: warning: extra digits given for sized binary constant.\n",
      "testbenches/dff_tb.v:12: error: CK is not a valid l-value in dff_testbench.\n",
      "testbenches/dff_tb.v:3:      : CK is declared here as wire.\n",
      "testbenches/dff_tb.v:13: error: d is not a valid l-value in dff_testbench.\n",
      "testbenches/dff_tb.v:5:      : d is declared here as wire.\n",
      "2 error(s) during elaboration.\n",
      "\n",
      "\n",
      "Processing /content/drive/MyDrive/RTLData/Negation of assignment/square_0.v...\n",
      "Module: square, Ports: {'\\\\a[0]': 'unknown', '\\\\a[1]': 'unknown', '\\\\a[2]': 'unknown', '\\\\a[3]': 'unknown', '\\\\a[4]': 'unknown', '\\\\a[5]': 'unknown', '\\\\a[6]': 'unknown', '\\\\a[7]': 'unknown', '\\\\a[8]': 'unknown', '\\\\a[9]': 'unknown', '\\\\a[10]': 'unknown', '\\\\a[11]': 'unknown', '\\\\a[12]': 'unknown', '\\\\a[13]': 'unknown', '\\\\a[14]': 'unknown', '\\\\a[15]': 'unknown', '\\\\a[16]': 'unknown', '\\\\a[17]': 'unknown', '\\\\a[18]': 'unknown', '\\\\a[19]': 'unknown', '\\\\a[20]': 'unknown', '\\\\a[21]': 'unknown', '\\\\a[22]': 'unknown', '\\\\a[23]': 'unknown', '\\\\a[24]': 'unknown', '\\\\a[25]': 'unknown', '\\\\a[26]': 'unknown', '\\\\a[27]': 'unknown', '\\\\a[28]': 'unknown', '\\\\a[29]': 'unknown', '\\\\a[30]': 'unknown', '\\\\a[31]': 'unknown', '\\\\a[32]': 'unknown', '\\\\a[33]': 'unknown', '\\\\a[34]': 'unknown', '\\\\a[35]': 'unknown', '\\\\a[36]': 'unknown', '\\\\a[37]': 'unknown', '\\\\a[38]': 'unknown', '\\\\a[39]': 'unknown', '\\\\a[40]': 'unknown', '\\\\a[41]': 'unknown', '\\\\a[42]': 'unknown', '\\\\a[43]': 'unknown', '\\\\a[44]': 'unknown', '\\\\a[45]': 'unknown', '\\\\a[46]': 'unknown', '\\\\a[47]': 'unknown', '\\\\a[48]': 'unknown', '\\\\a[49]': 'unknown', '\\\\a[50]': 'unknown', '\\\\a[51]': 'unknown', '\\\\a[52]': 'unknown', '\\\\a[53]': 'unknown', '\\\\a[54]': 'unknown', '\\\\a[55]': 'unknown', '\\\\a[56]': 'unknown', '\\\\a[57]': 'unknown', '\\\\a[58]': 'unknown', '\\\\a[59]': 'unknown', '\\\\a[60]': 'unknown', '\\\\a[61]': 'unknown', '\\\\a[62]': 'unknown', '\\\\a[63]': 'unknown', '\\\\asquared[0]': 'output', '\\\\asquared[1]': 'output', '\\\\asquared[2]': 'output', '\\\\asquared[3]': 'output', '\\\\asquared[4]': 'output', '\\\\asquared[5]': 'output', '\\\\asquared[6]': 'output', '\\\\asquared[7]': 'output', '\\\\asquared[8]': 'output', '\\\\asquared[9]': 'output', '\\\\asquared[10]': 'output', '\\\\asquared[11]': 'output', '\\\\asquared[12]': 'output', '\\\\asquared[13]': 'output', '\\\\asquared[14]': 'output', '\\\\asquared[15]': 'output', '\\\\asquared[16]': 'output', '\\\\asquared[17]': 'output', '\\\\asquared[18]': 'output', '\\\\asquared[19]': 'output', '\\\\asquared[20]': 'output', '\\\\asquared[21]': 'output', '\\\\asquared[22]': 'output', '\\\\asquared[23]': 'output', '\\\\asquared[24]': 'output', '\\\\asquared[25]': 'output', '\\\\asquared[26]': 'output', '\\\\asquared[27]': 'output', '\\\\asquared[28]': 'output', '\\\\asquared[29]': 'output', '\\\\asquared[30]': 'output', '\\\\asquared[31]': 'output', '\\\\asquared[32]': 'output', '\\\\asquared[33]': 'output', '\\\\asquared[34]': 'output', '\\\\asquared[35]': 'output', '\\\\asquared[36]': 'output', '\\\\asquared[37]': 'output', '\\\\asquared[38]': 'output', '\\\\asquared[39]': 'output', '\\\\asquared[40]': 'output', '\\\\asquared[41]': 'output', '\\\\asquared[42]': 'output', '\\\\asquared[43]': 'output', '\\\\asquared[44]': 'output', '\\\\asquared[45]': 'output', '\\\\asquared[46]': 'output', '\\\\asquared[47]': 'output', '\\\\asquared[48]': 'output', '\\\\asquared[49]': 'output', '\\\\asquared[50]': 'output', '\\\\asquared[51]': 'output', '\\\\asquared[52]': 'output', '\\\\asquared[53]': 'output', '\\\\asquared[54]': 'output', '\\\\asquared[55]': 'output', '\\\\asquared[56]': 'output', '\\\\asquared[57]': 'output', '\\\\asquared[58]': 'output', '\\\\asquared[59]': 'output', '\\\\asquared[60]': 'output', '\\\\asquared[61]': 'output', '\\\\asquared[62]': 'output', '\\\\asquared[63]': 'output', '\\\\asquared[64]': 'output', '\\\\asquared[65]': 'output', '\\\\asquared[66]': 'output', '\\\\asquared[67]': 'output', '\\\\asquared[68]': 'output', '\\\\asquared[69]': 'output', '\\\\asquared[70]': 'output', '\\\\asquared[71]': 'output', '\\\\asquared[72]': 'output', '\\\\asquared[73]': 'output', '\\\\asquared[74]': 'output', '\\\\asquared[75]': 'output', '\\\\asquared[76]': 'output', '\\\\asquared[77]': 'output', '\\\\asquared[78]': 'output', '\\\\asquared[79]': 'output', '\\\\asquared[80]': 'output', '\\\\asquared[81]': 'output', '\\\\asquared[82]': 'output', '\\\\asquared[83]': 'output', '\\\\asquared[84]': 'output', '\\\\asquared[85]': 'output', '\\\\asquared[86]': 'output', '\\\\asquared[87]': 'output', '\\\\asquared[88]': 'output', '\\\\asquared[89]': 'output', '\\\\asquared[90]': 'output', '\\\\asquared[91]': 'output', '\\\\asquared[92]': 'output', '\\\\asquared[93]': 'output', '\\\\asquared[94]': 'output', '\\\\asquared[95]': 'output', '\\\\asquared[96]': 'output', '\\\\asquared[97]': 'output', '\\\\asquared[98]': 'output', '\\\\asquared[99]': 'output', '\\\\asquared[100]': 'output', '\\\\asquared[101]': 'output', '\\\\asquared[102]': 'output', '\\\\asquared[103]': 'output', '\\\\asquared[104]': 'output', '\\\\asquared[105]': 'output', '\\\\asquared[106]': 'output', '\\\\asquared[107]': 'output', '\\\\asquared[108]': 'output', '\\\\asquared[109]': 'output', '\\\\asquared[110]': 'output', '\\\\asquared[111]': 'output', '\\\\asquared[112]': 'output', '\\\\asquared[113]': 'output', '\\\\asquared[114]': 'output', '\\\\asquared[115]': 'output', '\\\\asquared[116]': 'output', '\\\\asquared[117]': 'output', '\\\\asquared[118]': 'output', '\\\\asquared[119]': 'output', '\\\\asquared[120]': 'output', '\\\\asquared[121]': 'output', '\\\\asquared[122]': 'output', '\\\\asquared[123]': 'output', '\\\\asquared[124]': 'output', '\\\\asquared[125]': 'output', '\\\\asquared[126]': 'output', '\\\\asquared[127]': 'output'}\n",
      "Running LLM analysis with Phi-2...\n"
     ]
    },
    {
     "metadata": {
      "tags": null
     },
     "name": "stderr",
     "output_type": "stream",
     "text": [
      "The attention mask and the pad token id were not set. As a consequence, you may observe unexpected behavior. Please pass your input's `attention_mask` to obtain reliable results.\n",
      "Setting `pad_token_id` to `eos_token_id`:50256 for open-end generation.\n"
     ]
    },
    {
     "metadata": {
      "tags": null
     },
     "name": "stdout",
     "output_type": "stream",
     "text": [
      "Error generating with Phi-2: Input length of input_ids is 825674, but `max_length` is set to 2048. This can lead to unexpected behavior. You should consider increasing `max_length` or, better yet, setting `max_new_tokens`.\n",
      "Using device for rule-based analysis: cuda\n",
      "Generating testbench with Phi-2...\n"
     ]
    },
    {
     "metadata": {
      "tags": null
     },
     "name": "stderr",
     "output_type": "stream",
     "text": [
      "The attention mask and the pad token id were not set. As a consequence, you may observe unexpected behavior. Please pass your input's `attention_mask` to obtain reliable results.\n",
      "Setting `pad_token_id` to `eos_token_id`:50256 for open-end generation.\n"
     ]
    },
    {
     "metadata": {
      "tags": null
     },
     "name": "stdout",
     "output_type": "stream",
     "text": [
      "Error generating with Phi-2: Input length of input_ids is 827532, but `max_length` is set to 4096. This can lead to unexpected behavior. You should consider increasing `max_length` or, better yet, setting `max_new_tokens`.\n",
      "Testbench saved to testbenches/square_tb.v\n",
      "Compilation failed for square:\n",
      "testbenches/square_tb.v:3: syntax error\n",
      "testbenches/square_tb.v:325: error: invalid module item.\n",
      "testbenches/square_tb.v:336: syntax error\n",
      "I give up.\n",
      "\n",
      "\n",
      "Processing /content/drive/MyDrive/RTLData/Negation of assignment/c7552_4.v...\n",
      "Module: c7552, Ports: {'N1': 'input', 'N5': 'unknown', 'N9': 'unknown', 'N12': 'unknown', 'N15': 'unknown', 'N18': 'unknown', 'N23': 'unknown', 'N26': 'unknown', 'N29': 'unknown', 'N32': 'unknown', 'N35': 'unknown', 'N38': 'unknown', 'N41': 'unknown', 'N44': 'unknown', 'N47': 'unknown', 'N50': 'unknown', 'N53': 'unknown', 'N54': 'unknown', 'N55': 'unknown', 'N56': 'unknown', 'N57': 'unknown', 'N58': 'unknown', 'N59': 'unknown', 'N60': 'unknown', 'N61': 'unknown', 'N62': 'unknown', 'N63': 'unknown', 'N64': 'unknown', 'N65': 'unknown', 'N66': 'unknown', 'N69': 'unknown', 'N70': 'unknown', 'N73': 'unknown', 'N74': 'unknown', 'N75': 'unknown', 'N76': 'unknown', 'N77': 'unknown', 'N78': 'unknown', 'N79': 'unknown', 'N80': 'unknown', 'N81': 'unknown', 'N82': 'unknown', 'N83': 'unknown', 'N84': 'unknown', 'N85': 'unknown', 'N86': 'unknown', 'N87': 'unknown', 'N88': 'unknown', 'N89': 'unknown', 'N94': 'unknown', 'N97': 'unknown', 'N100': 'unknown', 'N103': 'unknown', 'N106': 'unknown', 'N109': 'unknown', 'N110': 'unknown', 'N111': 'unknown', 'N112': 'unknown', 'N113': 'unknown', 'N114': 'unknown', 'N115': 'unknown', 'N118': 'unknown', 'N121': 'unknown', 'N124': 'unknown', 'N127': 'unknown', 'N130': 'unknown', 'N133': 'unknown', 'N134': 'unknown', 'N135': 'unknown', 'N138': 'unknown', 'N141': 'unknown', 'N144': 'unknown', 'N147': 'unknown', 'N150': 'unknown', 'N151': 'unknown', 'N152': 'unknown', 'N153': 'unknown', 'N154': 'unknown', 'N155': 'unknown', 'N156': 'unknown', 'N157': 'unknown', 'N158': 'unknown', 'N159': 'unknown', 'N160': 'unknown', 'N161': 'unknown', 'N162': 'unknown', 'N163': 'unknown', 'N164': 'unknown', 'N165': 'unknown', 'N166': 'unknown', 'N167': 'unknown', 'N168': 'unknown', 'N169': 'unknown', 'N170': 'unknown', 'N171': 'unknown', 'N172': 'unknown', 'N173': 'unknown', 'N174': 'unknown', 'N175': 'unknown', 'N176': 'unknown', 'N177': 'unknown', 'N178': 'unknown', 'N179': 'unknown', 'N180': 'unknown', 'N181': 'unknown', 'N182': 'unknown', 'N183': 'unknown', 'N184': 'unknown', 'N185': 'unknown', 'N186': 'unknown', 'N187': 'unknown', 'N188': 'unknown', 'N189': 'unknown', 'N190': 'unknown', 'N191': 'unknown', 'N192': 'unknown', 'N193': 'unknown', 'N194': 'unknown', 'N195': 'unknown', 'N196': 'unknown', 'N197': 'unknown', 'N198': 'unknown', 'N199': 'unknown', 'N200': 'unknown', 'N201': 'unknown', 'N202': 'unknown', 'N203': 'unknown', 'N204': 'unknown', 'N205': 'unknown', 'N206': 'unknown', 'N207': 'unknown', 'N208': 'unknown', 'N209': 'unknown', 'N210': 'unknown', 'N211': 'unknown', 'N212': 'unknown', 'N213': 'unknown', 'N214': 'unknown', 'N215': 'unknown', 'N216': 'unknown', 'N217': 'unknown', 'N218': 'unknown', 'N219': 'unknown', 'N220': 'unknown', 'N221': 'unknown', 'N222': 'unknown', 'N223': 'unknown', 'N224': 'unknown', 'N225': 'unknown', 'N226': 'unknown', 'N227': 'unknown', 'N228': 'unknown', 'N229': 'unknown', 'N230': 'unknown', 'N231': 'unknown', 'N232': 'unknown', 'N233': 'unknown', 'N234': 'unknown', 'N235': 'unknown', 'N236': 'unknown', 'N237': 'unknown', 'N238': 'unknown', 'N239': 'unknown', 'N240': 'unknown', 'N242': 'unknown', 'N245': 'unknown', 'N248': 'unknown', 'N251': 'unknown', 'N254': 'unknown', 'N257': 'unknown', 'N260': 'unknown', 'N263': 'unknown', 'N267': 'unknown', 'N271': 'unknown', 'N274': 'unknown', 'N277': 'unknown', 'N280': 'unknown', 'N283': 'unknown', 'N286': 'unknown', 'N289': 'unknown', 'N293': 'unknown', 'N296': 'unknown', 'N299': 'unknown', 'N303': 'unknown', 'N307': 'unknown', 'N310': 'unknown', 'N313': 'unknown', 'N316': 'unknown', 'N319': 'unknown', 'N322': 'unknown', 'N325': 'unknown', 'N328': 'unknown', 'N331': 'unknown', 'N334': 'unknown', 'N337': 'unknown', 'N340': 'unknown', 'N343': 'unknown', 'N346': 'unknown', 'N349': 'unknown', 'N352': 'unknown', 'N355': 'unknown', 'N358': 'unknown', 'N361': 'unknown', 'N364': 'unknown', 'N367': 'unknown', 'N382': 'unknown', 'N241_I': 'unknown', 'N387': 'output', 'N388': 'unknown', 'N478': 'unknown', 'N482': 'unknown', 'N484': 'unknown', 'N486': 'unknown', 'N489': 'unknown', 'N492': 'unknown', 'N501': 'unknown', 'N505': 'unknown', 'N507': 'unknown', 'N509': 'unknown', 'N511': 'unknown', 'N513': 'unknown', 'N515': 'unknown', 'N517': 'unknown', 'N519': 'unknown', 'N535': 'unknown', 'N537': 'unknown', 'N539': 'unknown', 'N541': 'unknown', 'N543': 'unknown', 'N545': 'unknown', 'N547': 'unknown', 'N549': 'unknown', 'N551': 'unknown', 'N553': 'unknown', 'N556': 'unknown', 'N559': 'unknown', 'N561': 'unknown', 'N563': 'unknown', 'N565': 'unknown', 'N567': 'unknown', 'N569': 'unknown', 'N571': 'unknown', 'N573': 'unknown', 'N582': 'unknown', 'N643': 'unknown', 'N707': 'unknown', 'N813': 'unknown', 'N881': 'unknown', 'N882': 'unknown', 'N883': 'unknown', 'N884': 'unknown', 'N885': 'unknown', 'N889': 'unknown', 'N945': 'unknown', 'N1110': 'unknown', 'N1111': 'unknown', 'N1112': 'unknown', 'N1113': 'unknown', 'N1114': 'unknown', 'N1489': 'unknown', 'N1490': 'unknown', 'N1781': 'unknown', 'N10025': 'unknown', 'N10101': 'unknown', 'N10102': 'unknown', 'N10103': 'unknown', 'N10104': 'unknown', 'N10109': 'unknown', 'N10110': 'unknown', 'N10111': 'unknown', 'N10112': 'unknown', 'N10350': 'unknown', 'N10351': 'unknown', 'N10352': 'unknown', 'N10353': 'unknown', 'N10574': 'unknown', 'N10575': 'unknown', 'N10576': 'unknown', 'N10628': 'unknown', 'N10632': 'unknown', 'N10641': 'unknown', 'N10704': 'unknown', 'N10706': 'unknown', 'N10711': 'unknown', 'N10712': 'unknown', 'N10713': 'unknown', 'N10714': 'unknown', 'N10715': 'unknown', 'N10716': 'unknown', 'N10717': 'unknown', 'N10718': 'unknown', 'N10729': 'unknown', 'N10759': 'unknown', 'N10760': 'unknown', 'N10761': 'unknown', 'N10762': 'unknown', 'N10763': 'unknown', 'N10827': 'unknown', 'N10837': 'unknown', 'N10838': 'unknown', 'N10839': 'unknown', 'N10840': 'unknown', 'N10868': 'unknown', 'N10869': 'unknown', 'N10870': 'unknown', 'N10871': 'unknown', 'N10905': 'unknown', 'N10906': 'unknown', 'N10907': 'unknown', 'N10908': 'unknown', 'N11333': 'unknown', 'N11334': 'unknown', 'N11340': 'unknown', 'N11342': 'unknown', 'N241_O': 'unknown'}\n",
      "Running LLM analysis with Phi-2...\n"
     ]
    },
    {
     "metadata": {
      "tags": null
     },
     "name": "stderr",
     "output_type": "stream",
     "text": [
      "The attention mask and the pad token id were not set. As a consequence, you may observe unexpected behavior. Please pass your input's `attention_mask` to obtain reliable results.\n",
      "Setting `pad_token_id` to `eos_token_id`:50256 for open-end generation.\n"
     ]
    },
    {
     "metadata": {
      "tags": null
     },
     "name": "stdout",
     "output_type": "stream",
     "text": [
      "Error generating with Phi-2: Input length of input_ids is 62592, but `max_length` is set to 2048. This can lead to unexpected behavior. You should consider increasing `max_length` or, better yet, setting `max_new_tokens`.\n",
      "Using device for rule-based analysis: cuda\n",
      "Generating testbench with Phi-2...\n"
     ]
    },
    {
     "metadata": {
      "tags": null
     },
     "name": "stderr",
     "output_type": "stream",
     "text": [
      "The attention mask and the pad token id were not set. As a consequence, you may observe unexpected behavior. Please pass your input's `attention_mask` to obtain reliable results.\n",
      "Setting `pad_token_id` to `eos_token_id`:50256 for open-end generation.\n"
     ]
    },
    {
     "metadata": {
      "tags": null
     },
     "name": "stdout",
     "output_type": "stream",
     "text": [
      "Error generating with Phi-2: Input length of input_ids is 64623, but `max_length` is set to 4096. This can lead to unexpected behavior. You should consider increasing `max_length` or, better yet, setting `max_new_tokens`.\n",
      "Testbench saved to testbenches/c7552_tb.v\n",
      "Compilation failed for c7552:\n",
      "/content/drive/MyDrive/RTLData/Negation of assignment/c7552_4.v:386: syntax error\n",
      "/content/drive/MyDrive/RTLData/Negation of assignment/c7552_4.v:386: error: syntax error in left side of continuous assignment.\n",
      "\n",
      "\n",
      "Processing /content/drive/MyDrive/RTLData/Negation of assignment/s13207a_0.v...\n",
      "Module: dff, Ports: {'CK': 'input', 'q': 'output', 'd': 'unknown'}\n",
      "Running LLM analysis with Phi-2...\n"
     ]
    },
    {
     "metadata": {
      "tags": null
     },
     "name": "stderr",
     "output_type": "stream",
     "text": [
      "The attention mask and the pad token id were not set. As a consequence, you may observe unexpected behavior. Please pass your input's `attention_mask` to obtain reliable results.\n",
      "Setting `pad_token_id` to `eos_token_id`:50256 for open-end generation.\n"
     ]
    },
    {
     "metadata": {
      "tags": null
     },
     "name": "stdout",
     "output_type": "stream",
     "text": [
      "Error generating with Phi-2: Input length of input_ids is 189685, but `max_length` is set to 2048. This can lead to unexpected behavior. You should consider increasing `max_length` or, better yet, setting `max_new_tokens`.\n",
      "Using device for rule-based analysis: cuda\n",
      "Generating testbench with Phi-2...\n"
     ]
    },
    {
     "metadata": {
      "tags": null
     },
     "name": "stderr",
     "output_type": "stream",
     "text": [
      "The attention mask and the pad token id were not set. As a consequence, you may observe unexpected behavior. Please pass your input's `attention_mask` to obtain reliable results.\n",
      "Setting `pad_token_id` to `eos_token_id`:50256 for open-end generation.\n"
     ]
    },
    {
     "metadata": {
      "tags": null
     },
     "name": "stdout",
     "output_type": "stream",
     "text": [
      "Error generating with Phi-2: Input length of input_ids is 189767, but `max_length` is set to 4096. This can lead to unexpected behavior. You should consider increasing `max_length` or, better yet, setting `max_new_tokens`.\n",
      "Testbench saved to testbenches/dff_tb.v\n",
      "Compilation failed for dff:\n",
      "/content/drive/MyDrive/RTLData/Negation of assignment/s13207a_0.v:7: syntax error\n",
      "I give up.\n",
      "\n",
      "\n",
      "Processing /content/drive/MyDrive/RTLData/Negation of assignment/voter_0.v...\n",
      "Module: voter, Ports: {'\\\\A[0]': 'unknown', '\\\\A[1]': 'unknown', '\\\\A[2]': 'unknown', '\\\\A[3]': 'unknown', '\\\\A[4]': 'unknown', '\\\\A[5]': 'unknown', '\\\\A[6]': 'unknown', '\\\\A[7]': 'unknown', '\\\\A[8]': 'unknown', '\\\\A[9]': 'unknown', '\\\\A[10]': 'unknown', '\\\\A[11]': 'unknown', '\\\\A[12]': 'unknown', '\\\\A[13]': 'unknown', '\\\\A[14]': 'unknown', '\\\\A[15]': 'unknown', '\\\\A[16]': 'unknown', '\\\\A[17]': 'unknown', '\\\\A[18]': 'unknown', '\\\\A[19]': 'unknown', '\\\\A[20]': 'unknown', '\\\\A[21]': 'unknown', '\\\\A[22]': 'unknown', '\\\\A[23]': 'unknown', '\\\\A[24]': 'unknown', '\\\\A[25]': 'unknown', '\\\\A[26]': 'unknown', '\\\\A[27]': 'unknown', '\\\\A[28]': 'unknown', '\\\\A[29]': 'unknown', '\\\\A[30]': 'unknown', '\\\\A[31]': 'unknown', '\\\\A[32]': 'unknown', '\\\\A[33]': 'unknown', '\\\\A[34]': 'unknown', '\\\\A[35]': 'unknown', '\\\\A[36]': 'unknown', '\\\\A[37]': 'unknown', '\\\\A[38]': 'unknown', '\\\\A[39]': 'unknown', '\\\\A[40]': 'unknown', '\\\\A[41]': 'unknown', '\\\\A[42]': 'unknown', '\\\\A[43]': 'unknown', '\\\\A[44]': 'unknown', '\\\\A[45]': 'unknown', '\\\\A[46]': 'unknown', '\\\\A[47]': 'unknown', '\\\\A[48]': 'unknown', '\\\\A[49]': 'unknown', '\\\\A[50]': 'unknown', '\\\\A[51]': 'unknown', '\\\\A[52]': 'unknown', '\\\\A[53]': 'unknown', '\\\\A[54]': 'unknown', '\\\\A[55]': 'unknown', '\\\\A[56]': 'unknown', '\\\\A[57]': 'unknown', '\\\\A[58]': 'unknown', '\\\\A[59]': 'unknown', '\\\\A[60]': 'unknown', '\\\\A[61]': 'unknown', '\\\\A[62]': 'unknown', '\\\\A[63]': 'unknown', '\\\\A[64]': 'unknown', '\\\\A[65]': 'unknown', '\\\\A[66]': 'unknown', '\\\\A[67]': 'unknown', '\\\\A[68]': 'unknown', '\\\\A[69]': 'unknown', '\\\\A[70]': 'unknown', '\\\\A[71]': 'unknown', '\\\\A[72]': 'unknown', '\\\\A[73]': 'unknown', '\\\\A[74]': 'unknown', '\\\\A[75]': 'unknown', '\\\\A[76]': 'unknown', '\\\\A[77]': 'unknown', '\\\\A[78]': 'unknown', '\\\\A[79]': 'unknown', '\\\\A[80]': 'unknown', '\\\\A[81]': 'unknown', '\\\\A[82]': 'unknown', '\\\\A[83]': 'unknown', '\\\\A[84]': 'unknown', '\\\\A[85]': 'unknown', '\\\\A[86]': 'unknown', '\\\\A[87]': 'unknown', '\\\\A[88]': 'unknown', '\\\\A[89]': 'unknown', '\\\\A[90]': 'unknown', '\\\\A[91]': 'unknown', '\\\\A[92]': 'unknown', '\\\\A[93]': 'unknown', '\\\\A[94]': 'unknown', '\\\\A[95]': 'unknown', '\\\\A[96]': 'unknown', '\\\\A[97]': 'unknown', '\\\\A[98]': 'unknown', '\\\\A[99]': 'unknown', '\\\\A[100]': 'unknown', '\\\\A[101]': 'unknown', '\\\\A[102]': 'unknown', '\\\\A[103]': 'unknown', '\\\\A[104]': 'unknown', '\\\\A[105]': 'unknown', '\\\\A[106]': 'unknown', '\\\\A[107]': 'unknown', '\\\\A[108]': 'unknown', '\\\\A[109]': 'unknown', '\\\\A[110]': 'unknown', '\\\\A[111]': 'unknown', '\\\\A[112]': 'unknown', '\\\\A[113]': 'unknown', '\\\\A[114]': 'unknown', '\\\\A[115]': 'unknown', '\\\\A[116]': 'unknown', '\\\\A[117]': 'unknown', '\\\\A[118]': 'unknown', '\\\\A[119]': 'unknown', '\\\\A[120]': 'unknown', '\\\\A[121]': 'unknown', '\\\\A[122]': 'unknown', '\\\\A[123]': 'unknown', '\\\\A[124]': 'unknown', '\\\\A[125]': 'unknown', '\\\\A[126]': 'unknown', '\\\\A[127]': 'unknown', '\\\\A[128]': 'unknown', '\\\\A[129]': 'unknown', '\\\\A[130]': 'unknown', '\\\\A[131]': 'unknown', '\\\\A[132]': 'unknown', '\\\\A[133]': 'unknown', '\\\\A[134]': 'unknown', '\\\\A[135]': 'unknown', '\\\\A[136]': 'unknown', '\\\\A[137]': 'unknown', '\\\\A[138]': 'unknown', '\\\\A[139]': 'unknown', '\\\\A[140]': 'unknown', '\\\\A[141]': 'unknown', '\\\\A[142]': 'unknown', '\\\\A[143]': 'unknown', '\\\\A[144]': 'unknown', '\\\\A[145]': 'unknown', '\\\\A[146]': 'unknown', '\\\\A[147]': 'unknown', '\\\\A[148]': 'unknown', '\\\\A[149]': 'unknown', '\\\\A[150]': 'unknown', '\\\\A[151]': 'unknown', '\\\\A[152]': 'unknown', '\\\\A[153]': 'unknown', '\\\\A[154]': 'unknown', '\\\\A[155]': 'unknown', '\\\\A[156]': 'unknown', '\\\\A[157]': 'unknown', '\\\\A[158]': 'unknown', '\\\\A[159]': 'unknown', '\\\\A[160]': 'unknown', '\\\\A[161]': 'unknown', '\\\\A[162]': 'unknown', '\\\\A[163]': 'unknown', '\\\\A[164]': 'unknown', '\\\\A[165]': 'unknown', '\\\\A[166]': 'unknown', '\\\\A[167]': 'unknown', '\\\\A[168]': 'unknown', '\\\\A[169]': 'unknown', '\\\\A[170]': 'unknown', '\\\\A[171]': 'unknown', '\\\\A[172]': 'unknown', '\\\\A[173]': 'unknown', '\\\\A[174]': 'unknown', '\\\\A[175]': 'unknown', '\\\\A[176]': 'unknown', '\\\\A[177]': 'unknown', '\\\\A[178]': 'unknown', '\\\\A[179]': 'unknown', '\\\\A[180]': 'unknown', '\\\\A[181]': 'unknown', '\\\\A[182]': 'unknown', '\\\\A[183]': 'unknown', '\\\\A[184]': 'unknown', '\\\\A[185]': 'unknown', '\\\\A[186]': 'unknown', '\\\\A[187]': 'unknown', '\\\\A[188]': 'unknown', '\\\\A[189]': 'unknown', '\\\\A[190]': 'unknown', '\\\\A[191]': 'unknown', '\\\\A[192]': 'unknown', '\\\\A[193]': 'unknown', '\\\\A[194]': 'unknown', '\\\\A[195]': 'unknown', '\\\\A[196]': 'unknown', '\\\\A[197]': 'unknown', '\\\\A[198]': 'unknown', '\\\\A[199]': 'unknown', '\\\\A[200]': 'unknown', '\\\\A[201]': 'unknown', '\\\\A[202]': 'unknown', '\\\\A[203]': 'unknown', '\\\\A[204]': 'unknown', '\\\\A[205]': 'unknown', '\\\\A[206]': 'unknown', '\\\\A[207]': 'unknown', '\\\\A[208]': 'unknown', '\\\\A[209]': 'unknown', '\\\\A[210]': 'unknown', '\\\\A[211]': 'unknown', '\\\\A[212]': 'unknown', '\\\\A[213]': 'unknown', '\\\\A[214]': 'unknown', '\\\\A[215]': 'unknown', '\\\\A[216]': 'unknown', '\\\\A[217]': 'unknown', '\\\\A[218]': 'unknown', '\\\\A[219]': 'unknown', '\\\\A[220]': 'unknown', '\\\\A[221]': 'unknown', '\\\\A[222]': 'unknown', '\\\\A[223]': 'unknown', '\\\\A[224]': 'unknown', '\\\\A[225]': 'unknown', '\\\\A[226]': 'unknown', '\\\\A[227]': 'unknown', '\\\\A[228]': 'unknown', '\\\\A[229]': 'unknown', '\\\\A[230]': 'unknown', '\\\\A[231]': 'unknown', '\\\\A[232]': 'unknown', '\\\\A[233]': 'unknown', '\\\\A[234]': 'unknown', '\\\\A[235]': 'unknown', '\\\\A[236]': 'unknown', '\\\\A[237]': 'unknown', '\\\\A[238]': 'unknown', '\\\\A[239]': 'unknown', '\\\\A[240]': 'unknown', '\\\\A[241]': 'unknown', '\\\\A[242]': 'unknown', '\\\\A[243]': 'unknown', '\\\\A[244]': 'unknown', '\\\\A[245]': 'unknown', '\\\\A[246]': 'unknown', '\\\\A[247]': 'unknown', '\\\\A[248]': 'unknown', '\\\\A[249]': 'unknown', '\\\\A[250]': 'unknown', '\\\\A[251]': 'unknown', '\\\\A[252]': 'unknown', '\\\\A[253]': 'unknown', '\\\\A[254]': 'unknown', '\\\\A[255]': 'unknown', '\\\\A[256]': 'unknown', '\\\\A[257]': 'unknown', '\\\\A[258]': 'unknown', '\\\\A[259]': 'unknown', '\\\\A[260]': 'unknown', '\\\\A[261]': 'unknown', '\\\\A[262]': 'unknown', '\\\\A[263]': 'unknown', '\\\\A[264]': 'unknown', '\\\\A[265]': 'unknown', '\\\\A[266]': 'unknown', '\\\\A[267]': 'unknown', '\\\\A[268]': 'unknown', '\\\\A[269]': 'unknown', '\\\\A[270]': 'unknown', '\\\\A[271]': 'unknown', '\\\\A[272]': 'unknown', '\\\\A[273]': 'unknown', '\\\\A[274]': 'unknown', '\\\\A[275]': 'unknown', '\\\\A[276]': 'unknown', '\\\\A[277]': 'unknown', '\\\\A[278]': 'unknown', '\\\\A[279]': 'unknown', '\\\\A[280]': 'unknown', '\\\\A[281]': 'unknown', '\\\\A[282]': 'unknown', '\\\\A[283]': 'unknown', '\\\\A[284]': 'unknown', '\\\\A[285]': 'unknown', '\\\\A[286]': 'unknown', '\\\\A[287]': 'unknown', '\\\\A[288]': 'unknown', '\\\\A[289]': 'unknown', '\\\\A[290]': 'unknown', '\\\\A[291]': 'unknown', '\\\\A[292]': 'unknown', '\\\\A[293]': 'unknown', '\\\\A[294]': 'unknown', '\\\\A[295]': 'unknown', '\\\\A[296]': 'unknown', '\\\\A[297]': 'unknown', '\\\\A[298]': 'unknown', '\\\\A[299]': 'unknown', '\\\\A[300]': 'unknown', '\\\\A[301]': 'unknown', '\\\\A[302]': 'unknown', '\\\\A[303]': 'unknown', '\\\\A[304]': 'unknown', '\\\\A[305]': 'unknown', '\\\\A[306]': 'unknown', '\\\\A[307]': 'unknown', '\\\\A[308]': 'unknown', '\\\\A[309]': 'unknown', '\\\\A[310]': 'unknown', '\\\\A[311]': 'unknown', '\\\\A[312]': 'unknown', '\\\\A[313]': 'unknown', '\\\\A[314]': 'unknown', '\\\\A[315]': 'unknown', '\\\\A[316]': 'unknown', '\\\\A[317]': 'unknown', '\\\\A[318]': 'unknown', '\\\\A[319]': 'unknown', '\\\\A[320]': 'unknown', '\\\\A[321]': 'unknown', '\\\\A[322]': 'unknown', '\\\\A[323]': 'unknown', '\\\\A[324]': 'unknown', '\\\\A[325]': 'unknown', '\\\\A[326]': 'unknown', '\\\\A[327]': 'unknown', '\\\\A[328]': 'unknown', '\\\\A[329]': 'unknown', '\\\\A[330]': 'unknown', '\\\\A[331]': 'unknown', '\\\\A[332]': 'unknown', '\\\\A[333]': 'unknown', '\\\\A[334]': 'unknown', '\\\\A[335]': 'unknown', '\\\\A[336]': 'unknown', '\\\\A[337]': 'unknown', '\\\\A[338]': 'unknown', '\\\\A[339]': 'unknown', '\\\\A[340]': 'unknown', '\\\\A[341]': 'unknown', '\\\\A[342]': 'unknown', '\\\\A[343]': 'unknown', '\\\\A[344]': 'unknown', '\\\\A[345]': 'unknown', '\\\\A[346]': 'unknown', '\\\\A[347]': 'unknown', '\\\\A[348]': 'unknown', '\\\\A[349]': 'unknown', '\\\\A[350]': 'unknown', '\\\\A[351]': 'unknown', '\\\\A[352]': 'unknown', '\\\\A[353]': 'unknown', '\\\\A[354]': 'unknown', '\\\\A[355]': 'unknown', '\\\\A[356]': 'unknown', '\\\\A[357]': 'unknown', '\\\\A[358]': 'unknown', '\\\\A[359]': 'unknown', '\\\\A[360]': 'unknown', '\\\\A[361]': 'unknown', '\\\\A[362]': 'unknown', '\\\\A[363]': 'unknown', '\\\\A[364]': 'unknown', '\\\\A[365]': 'unknown', '\\\\A[366]': 'unknown', '\\\\A[367]': 'unknown', '\\\\A[368]': 'unknown', '\\\\A[369]': 'unknown', '\\\\A[370]': 'unknown', '\\\\A[371]': 'unknown', '\\\\A[372]': 'unknown', '\\\\A[373]': 'unknown', '\\\\A[374]': 'unknown', '\\\\A[375]': 'unknown', '\\\\A[376]': 'unknown', '\\\\A[377]': 'unknown', '\\\\A[378]': 'unknown', '\\\\A[379]': 'unknown', '\\\\A[380]': 'unknown', '\\\\A[381]': 'unknown', '\\\\A[382]': 'unknown', '\\\\A[383]': 'unknown', '\\\\A[384]': 'unknown', '\\\\A[385]': 'unknown', '\\\\A[386]': 'unknown', '\\\\A[387]': 'unknown', '\\\\A[388]': 'unknown', '\\\\A[389]': 'unknown', '\\\\A[390]': 'unknown', '\\\\A[391]': 'unknown', '\\\\A[392]': 'unknown', '\\\\A[393]': 'unknown', '\\\\A[394]': 'unknown', '\\\\A[395]': 'unknown', '\\\\A[396]': 'unknown', '\\\\A[397]': 'unknown', '\\\\A[398]': 'unknown', '\\\\A[399]': 'unknown', '\\\\A[400]': 'unknown', '\\\\A[401]': 'unknown', '\\\\A[402]': 'unknown', '\\\\A[403]': 'unknown', '\\\\A[404]': 'unknown', '\\\\A[405]': 'unknown', '\\\\A[406]': 'unknown', '\\\\A[407]': 'unknown', '\\\\A[408]': 'unknown', '\\\\A[409]': 'unknown', '\\\\A[410]': 'unknown', '\\\\A[411]': 'unknown', '\\\\A[412]': 'unknown', '\\\\A[413]': 'unknown', '\\\\A[414]': 'unknown', '\\\\A[415]': 'unknown', '\\\\A[416]': 'unknown', '\\\\A[417]': 'unknown', '\\\\A[418]': 'unknown', '\\\\A[419]': 'unknown', '\\\\A[420]': 'unknown', '\\\\A[421]': 'unknown', '\\\\A[422]': 'unknown', '\\\\A[423]': 'unknown', '\\\\A[424]': 'unknown', '\\\\A[425]': 'unknown', '\\\\A[426]': 'unknown', '\\\\A[427]': 'unknown', '\\\\A[428]': 'unknown', '\\\\A[429]': 'unknown', '\\\\A[430]': 'unknown', '\\\\A[431]': 'unknown', '\\\\A[432]': 'unknown', '\\\\A[433]': 'unknown', '\\\\A[434]': 'unknown', '\\\\A[435]': 'unknown', '\\\\A[436]': 'unknown', '\\\\A[437]': 'unknown', '\\\\A[438]': 'unknown', '\\\\A[439]': 'unknown', '\\\\A[440]': 'unknown', '\\\\A[441]': 'unknown', '\\\\A[442]': 'unknown', '\\\\A[443]': 'unknown', '\\\\A[444]': 'unknown', '\\\\A[445]': 'unknown', '\\\\A[446]': 'unknown', '\\\\A[447]': 'unknown', '\\\\A[448]': 'unknown', '\\\\A[449]': 'unknown', '\\\\A[450]': 'unknown', '\\\\A[451]': 'unknown', '\\\\A[452]': 'unknown', '\\\\A[453]': 'unknown', '\\\\A[454]': 'unknown', '\\\\A[455]': 'unknown', '\\\\A[456]': 'unknown', '\\\\A[457]': 'unknown', '\\\\A[458]': 'unknown', '\\\\A[459]': 'unknown', '\\\\A[460]': 'unknown', '\\\\A[461]': 'unknown', '\\\\A[462]': 'unknown', '\\\\A[463]': 'unknown', '\\\\A[464]': 'unknown', '\\\\A[465]': 'unknown', '\\\\A[466]': 'unknown', '\\\\A[467]': 'unknown', '\\\\A[468]': 'unknown', '\\\\A[469]': 'unknown', '\\\\A[470]': 'unknown', '\\\\A[471]': 'unknown', '\\\\A[472]': 'unknown', '\\\\A[473]': 'unknown', '\\\\A[474]': 'unknown', '\\\\A[475]': 'unknown', '\\\\A[476]': 'unknown', '\\\\A[477]': 'unknown', '\\\\A[478]': 'unknown', '\\\\A[479]': 'unknown', '\\\\A[480]': 'unknown', '\\\\A[481]': 'unknown', '\\\\A[482]': 'unknown', '\\\\A[483]': 'unknown', '\\\\A[484]': 'unknown', '\\\\A[485]': 'unknown', '\\\\A[486]': 'unknown', '\\\\A[487]': 'unknown', '\\\\A[488]': 'unknown', '\\\\A[489]': 'unknown', '\\\\A[490]': 'unknown', '\\\\A[491]': 'unknown', '\\\\A[492]': 'unknown', '\\\\A[493]': 'unknown', '\\\\A[494]': 'unknown', '\\\\A[495]': 'unknown', '\\\\A[496]': 'unknown', '\\\\A[497]': 'unknown', '\\\\A[498]': 'unknown', '\\\\A[499]': 'unknown', '\\\\A[500]': 'unknown', '\\\\A[501]': 'unknown', '\\\\A[502]': 'unknown', '\\\\A[503]': 'unknown', '\\\\A[504]': 'unknown', '\\\\A[505]': 'unknown', '\\\\A[506]': 'unknown', '\\\\A[507]': 'unknown', '\\\\A[508]': 'unknown', '\\\\A[509]': 'unknown', '\\\\A[510]': 'unknown', '\\\\A[511]': 'unknown', '\\\\A[512]': 'unknown', '\\\\A[513]': 'unknown', '\\\\A[514]': 'unknown', '\\\\A[515]': 'unknown', '\\\\A[516]': 'unknown', '\\\\A[517]': 'unknown', '\\\\A[518]': 'unknown', '\\\\A[519]': 'unknown', '\\\\A[520]': 'unknown', '\\\\A[521]': 'unknown', '\\\\A[522]': 'unknown', '\\\\A[523]': 'unknown', '\\\\A[524]': 'unknown', '\\\\A[525]': 'unknown', '\\\\A[526]': 'unknown', '\\\\A[527]': 'unknown', '\\\\A[528]': 'unknown', '\\\\A[529]': 'unknown', '\\\\A[530]': 'unknown', '\\\\A[531]': 'unknown', '\\\\A[532]': 'unknown', '\\\\A[533]': 'unknown', '\\\\A[534]': 'unknown', '\\\\A[535]': 'unknown', '\\\\A[536]': 'unknown', '\\\\A[537]': 'unknown', '\\\\A[538]': 'unknown', '\\\\A[539]': 'unknown', '\\\\A[540]': 'unknown', '\\\\A[541]': 'unknown', '\\\\A[542]': 'unknown', '\\\\A[543]': 'unknown', '\\\\A[544]': 'unknown', '\\\\A[545]': 'unknown', '\\\\A[546]': 'unknown', '\\\\A[547]': 'unknown', '\\\\A[548]': 'unknown', '\\\\A[549]': 'unknown', '\\\\A[550]': 'unknown', '\\\\A[551]': 'unknown', '\\\\A[552]': 'unknown', '\\\\A[553]': 'unknown', '\\\\A[554]': 'unknown', '\\\\A[555]': 'unknown', '\\\\A[556]': 'unknown', '\\\\A[557]': 'unknown', '\\\\A[558]': 'unknown', '\\\\A[559]': 'unknown', '\\\\A[560]': 'unknown', '\\\\A[561]': 'unknown', '\\\\A[562]': 'unknown', '\\\\A[563]': 'unknown', '\\\\A[564]': 'unknown', '\\\\A[565]': 'unknown', '\\\\A[566]': 'unknown', '\\\\A[567]': 'unknown', '\\\\A[568]': 'unknown', '\\\\A[569]': 'unknown', '\\\\A[570]': 'unknown', '\\\\A[571]': 'unknown', '\\\\A[572]': 'unknown', '\\\\A[573]': 'unknown', '\\\\A[574]': 'unknown', '\\\\A[575]': 'unknown', '\\\\A[576]': 'unknown', '\\\\A[577]': 'unknown', '\\\\A[578]': 'unknown', '\\\\A[579]': 'unknown', '\\\\A[580]': 'unknown', '\\\\A[581]': 'unknown', '\\\\A[582]': 'unknown', '\\\\A[583]': 'unknown', '\\\\A[584]': 'unknown', '\\\\A[585]': 'unknown', '\\\\A[586]': 'unknown', '\\\\A[587]': 'unknown', '\\\\A[588]': 'unknown', '\\\\A[589]': 'unknown', '\\\\A[590]': 'unknown', '\\\\A[591]': 'unknown', '\\\\A[592]': 'unknown', '\\\\A[593]': 'unknown', '\\\\A[594]': 'unknown', '\\\\A[595]': 'unknown', '\\\\A[596]': 'unknown', '\\\\A[597]': 'unknown', '\\\\A[598]': 'unknown', '\\\\A[599]': 'unknown', '\\\\A[600]': 'unknown', '\\\\A[601]': 'unknown', '\\\\A[602]': 'unknown', '\\\\A[603]': 'unknown', '\\\\A[604]': 'unknown', '\\\\A[605]': 'unknown', '\\\\A[606]': 'unknown', '\\\\A[607]': 'unknown', '\\\\A[608]': 'unknown', '\\\\A[609]': 'unknown', '\\\\A[610]': 'unknown', '\\\\A[611]': 'unknown', '\\\\A[612]': 'unknown', '\\\\A[613]': 'unknown', '\\\\A[614]': 'unknown', '\\\\A[615]': 'unknown', '\\\\A[616]': 'unknown', '\\\\A[617]': 'unknown', '\\\\A[618]': 'unknown', '\\\\A[619]': 'unknown', '\\\\A[620]': 'unknown', '\\\\A[621]': 'unknown', '\\\\A[622]': 'unknown', '\\\\A[623]': 'unknown', '\\\\A[624]': 'unknown', '\\\\A[625]': 'unknown', '\\\\A[626]': 'unknown', '\\\\A[627]': 'unknown', '\\\\A[628]': 'unknown', '\\\\A[629]': 'unknown', '\\\\A[630]': 'unknown', '\\\\A[631]': 'unknown', '\\\\A[632]': 'unknown', '\\\\A[633]': 'unknown', '\\\\A[634]': 'unknown', '\\\\A[635]': 'unknown', '\\\\A[636]': 'unknown', '\\\\A[637]': 'unknown', '\\\\A[638]': 'unknown', '\\\\A[639]': 'unknown', '\\\\A[640]': 'unknown', '\\\\A[641]': 'unknown', '\\\\A[642]': 'unknown', '\\\\A[643]': 'unknown', '\\\\A[644]': 'unknown', '\\\\A[645]': 'unknown', '\\\\A[646]': 'unknown', '\\\\A[647]': 'unknown', '\\\\A[648]': 'unknown', '\\\\A[649]': 'unknown', '\\\\A[650]': 'unknown', '\\\\A[651]': 'unknown', '\\\\A[652]': 'unknown', '\\\\A[653]': 'unknown', '\\\\A[654]': 'unknown', '\\\\A[655]': 'unknown', '\\\\A[656]': 'unknown', '\\\\A[657]': 'unknown', '\\\\A[658]': 'unknown', '\\\\A[659]': 'unknown', '\\\\A[660]': 'unknown', '\\\\A[661]': 'unknown', '\\\\A[662]': 'unknown', '\\\\A[663]': 'unknown', '\\\\A[664]': 'unknown', '\\\\A[665]': 'unknown', '\\\\A[666]': 'unknown', '\\\\A[667]': 'unknown', '\\\\A[668]': 'unknown', '\\\\A[669]': 'unknown', '\\\\A[670]': 'unknown', '\\\\A[671]': 'unknown', '\\\\A[672]': 'unknown', '\\\\A[673]': 'unknown', '\\\\A[674]': 'unknown', '\\\\A[675]': 'unknown', '\\\\A[676]': 'unknown', '\\\\A[677]': 'unknown', '\\\\A[678]': 'unknown', '\\\\A[679]': 'unknown', '\\\\A[680]': 'unknown', '\\\\A[681]': 'unknown', '\\\\A[682]': 'unknown', '\\\\A[683]': 'unknown', '\\\\A[684]': 'unknown', '\\\\A[685]': 'unknown', '\\\\A[686]': 'unknown', '\\\\A[687]': 'unknown', '\\\\A[688]': 'unknown', '\\\\A[689]': 'unknown', '\\\\A[690]': 'unknown', '\\\\A[691]': 'unknown', '\\\\A[692]': 'unknown', '\\\\A[693]': 'unknown', '\\\\A[694]': 'unknown', '\\\\A[695]': 'unknown', '\\\\A[696]': 'unknown', '\\\\A[697]': 'unknown', '\\\\A[698]': 'unknown', '\\\\A[699]': 'unknown', '\\\\A[700]': 'unknown', '\\\\A[701]': 'unknown', '\\\\A[702]': 'unknown', '\\\\A[703]': 'unknown', '\\\\A[704]': 'unknown', '\\\\A[705]': 'unknown', '\\\\A[706]': 'unknown', '\\\\A[707]': 'unknown', '\\\\A[708]': 'unknown', '\\\\A[709]': 'unknown', '\\\\A[710]': 'unknown', '\\\\A[711]': 'unknown', '\\\\A[712]': 'unknown', '\\\\A[713]': 'unknown', '\\\\A[714]': 'unknown', '\\\\A[715]': 'unknown', '\\\\A[716]': 'unknown', '\\\\A[717]': 'unknown', '\\\\A[718]': 'unknown', '\\\\A[719]': 'unknown', '\\\\A[720]': 'unknown', '\\\\A[721]': 'unknown', '\\\\A[722]': 'unknown', '\\\\A[723]': 'unknown', '\\\\A[724]': 'unknown', '\\\\A[725]': 'unknown', '\\\\A[726]': 'unknown', '\\\\A[727]': 'unknown', '\\\\A[728]': 'unknown', '\\\\A[729]': 'unknown', '\\\\A[730]': 'unknown', '\\\\A[731]': 'unknown', '\\\\A[732]': 'unknown', '\\\\A[733]': 'unknown', '\\\\A[734]': 'unknown', '\\\\A[735]': 'unknown', '\\\\A[736]': 'unknown', '\\\\A[737]': 'unknown', '\\\\A[738]': 'unknown', '\\\\A[739]': 'unknown', '\\\\A[740]': 'unknown', '\\\\A[741]': 'unknown', '\\\\A[742]': 'unknown', '\\\\A[743]': 'unknown', '\\\\A[744]': 'unknown', '\\\\A[745]': 'unknown', '\\\\A[746]': 'unknown', '\\\\A[747]': 'unknown', '\\\\A[748]': 'unknown', '\\\\A[749]': 'unknown', '\\\\A[750]': 'unknown', '\\\\A[751]': 'unknown', '\\\\A[752]': 'unknown', '\\\\A[753]': 'unknown', '\\\\A[754]': 'unknown', '\\\\A[755]': 'unknown', '\\\\A[756]': 'unknown', '\\\\A[757]': 'unknown', '\\\\A[758]': 'unknown', '\\\\A[759]': 'unknown', '\\\\A[760]': 'unknown', '\\\\A[761]': 'unknown', '\\\\A[762]': 'unknown', '\\\\A[763]': 'unknown', '\\\\A[764]': 'unknown', '\\\\A[765]': 'unknown', '\\\\A[766]': 'unknown', '\\\\A[767]': 'unknown', '\\\\A[768]': 'unknown', '\\\\A[769]': 'unknown', '\\\\A[770]': 'unknown', '\\\\A[771]': 'unknown', '\\\\A[772]': 'unknown', '\\\\A[773]': 'unknown', '\\\\A[774]': 'unknown', '\\\\A[775]': 'unknown', '\\\\A[776]': 'unknown', '\\\\A[777]': 'unknown', '\\\\A[778]': 'unknown', '\\\\A[779]': 'unknown', '\\\\A[780]': 'unknown', '\\\\A[781]': 'unknown', '\\\\A[782]': 'unknown', '\\\\A[783]': 'unknown', '\\\\A[784]': 'unknown', '\\\\A[785]': 'unknown', '\\\\A[786]': 'unknown', '\\\\A[787]': 'unknown', '\\\\A[788]': 'unknown', '\\\\A[789]': 'unknown', '\\\\A[790]': 'unknown', '\\\\A[791]': 'unknown', '\\\\A[792]': 'unknown', '\\\\A[793]': 'unknown', '\\\\A[794]': 'unknown', '\\\\A[795]': 'unknown', '\\\\A[796]': 'unknown', '\\\\A[797]': 'unknown', '\\\\A[798]': 'unknown', '\\\\A[799]': 'unknown', '\\\\A[800]': 'unknown', '\\\\A[801]': 'unknown', '\\\\A[802]': 'unknown', '\\\\A[803]': 'unknown', '\\\\A[804]': 'unknown', '\\\\A[805]': 'unknown', '\\\\A[806]': 'unknown', '\\\\A[807]': 'unknown', '\\\\A[808]': 'unknown', '\\\\A[809]': 'unknown', '\\\\A[810]': 'unknown', '\\\\A[811]': 'unknown', '\\\\A[812]': 'unknown', '\\\\A[813]': 'unknown', '\\\\A[814]': 'unknown', '\\\\A[815]': 'unknown', '\\\\A[816]': 'unknown', '\\\\A[817]': 'unknown', '\\\\A[818]': 'unknown', '\\\\A[819]': 'unknown', '\\\\A[820]': 'unknown', '\\\\A[821]': 'unknown', '\\\\A[822]': 'unknown', '\\\\A[823]': 'unknown', '\\\\A[824]': 'unknown', '\\\\A[825]': 'unknown', '\\\\A[826]': 'unknown', '\\\\A[827]': 'unknown', '\\\\A[828]': 'unknown', '\\\\A[829]': 'unknown', '\\\\A[830]': 'unknown', '\\\\A[831]': 'unknown', '\\\\A[832]': 'unknown', '\\\\A[833]': 'unknown', '\\\\A[834]': 'unknown', '\\\\A[835]': 'unknown', '\\\\A[836]': 'unknown', '\\\\A[837]': 'unknown', '\\\\A[838]': 'unknown', '\\\\A[839]': 'unknown', '\\\\A[840]': 'unknown', '\\\\A[841]': 'unknown', '\\\\A[842]': 'unknown', '\\\\A[843]': 'unknown', '\\\\A[844]': 'unknown', '\\\\A[845]': 'unknown', '\\\\A[846]': 'unknown', '\\\\A[847]': 'unknown', '\\\\A[848]': 'unknown', '\\\\A[849]': 'unknown', '\\\\A[850]': 'unknown', '\\\\A[851]': 'unknown', '\\\\A[852]': 'unknown', '\\\\A[853]': 'unknown', '\\\\A[854]': 'unknown', '\\\\A[855]': 'unknown', '\\\\A[856]': 'unknown', '\\\\A[857]': 'unknown', '\\\\A[858]': 'unknown', '\\\\A[859]': 'unknown', '\\\\A[860]': 'unknown', '\\\\A[861]': 'unknown', '\\\\A[862]': 'unknown', '\\\\A[863]': 'unknown', '\\\\A[864]': 'unknown', '\\\\A[865]': 'unknown', '\\\\A[866]': 'unknown', '\\\\A[867]': 'unknown', '\\\\A[868]': 'unknown', '\\\\A[869]': 'unknown', '\\\\A[870]': 'unknown', '\\\\A[871]': 'unknown', '\\\\A[872]': 'unknown', '\\\\A[873]': 'unknown', '\\\\A[874]': 'unknown', '\\\\A[875]': 'unknown', '\\\\A[876]': 'unknown', '\\\\A[877]': 'unknown', '\\\\A[878]': 'unknown', '\\\\A[879]': 'unknown', '\\\\A[880]': 'unknown', '\\\\A[881]': 'unknown', '\\\\A[882]': 'unknown', '\\\\A[883]': 'unknown', '\\\\A[884]': 'unknown', '\\\\A[885]': 'unknown', '\\\\A[886]': 'unknown', '\\\\A[887]': 'unknown', '\\\\A[888]': 'unknown', '\\\\A[889]': 'unknown', '\\\\A[890]': 'unknown', '\\\\A[891]': 'unknown', '\\\\A[892]': 'unknown', '\\\\A[893]': 'unknown', '\\\\A[894]': 'unknown', '\\\\A[895]': 'unknown', '\\\\A[896]': 'unknown', '\\\\A[897]': 'unknown', '\\\\A[898]': 'unknown', '\\\\A[899]': 'unknown', '\\\\A[900]': 'unknown', '\\\\A[901]': 'unknown', '\\\\A[902]': 'unknown', '\\\\A[903]': 'unknown', '\\\\A[904]': 'unknown', '\\\\A[905]': 'unknown', '\\\\A[906]': 'unknown', '\\\\A[907]': 'unknown', '\\\\A[908]': 'unknown', '\\\\A[909]': 'unknown', '\\\\A[910]': 'unknown', '\\\\A[911]': 'unknown', '\\\\A[912]': 'unknown', '\\\\A[913]': 'unknown', '\\\\A[914]': 'unknown', '\\\\A[915]': 'unknown', '\\\\A[916]': 'unknown', '\\\\A[917]': 'unknown', '\\\\A[918]': 'unknown', '\\\\A[919]': 'unknown', '\\\\A[920]': 'unknown', '\\\\A[921]': 'unknown', '\\\\A[922]': 'unknown', '\\\\A[923]': 'unknown', '\\\\A[924]': 'unknown', '\\\\A[925]': 'unknown', '\\\\A[926]': 'unknown', '\\\\A[927]': 'unknown', '\\\\A[928]': 'unknown', '\\\\A[929]': 'unknown', '\\\\A[930]': 'unknown', '\\\\A[931]': 'unknown', '\\\\A[932]': 'unknown', '\\\\A[933]': 'unknown', '\\\\A[934]': 'unknown', '\\\\A[935]': 'unknown', '\\\\A[936]': 'unknown', '\\\\A[937]': 'unknown', '\\\\A[938]': 'unknown', '\\\\A[939]': 'unknown', '\\\\A[940]': 'unknown', '\\\\A[941]': 'unknown', '\\\\A[942]': 'unknown', '\\\\A[943]': 'unknown', '\\\\A[944]': 'unknown', '\\\\A[945]': 'unknown', '\\\\A[946]': 'unknown', '\\\\A[947]': 'unknown', '\\\\A[948]': 'unknown', '\\\\A[949]': 'unknown', '\\\\A[950]': 'unknown', '\\\\A[951]': 'unknown', '\\\\A[952]': 'unknown', '\\\\A[953]': 'unknown', '\\\\A[954]': 'unknown', '\\\\A[955]': 'unknown', '\\\\A[956]': 'unknown', '\\\\A[957]': 'unknown', '\\\\A[958]': 'unknown', '\\\\A[959]': 'unknown', '\\\\A[960]': 'unknown', '\\\\A[961]': 'unknown', '\\\\A[962]': 'unknown', '\\\\A[963]': 'unknown', '\\\\A[964]': 'unknown', '\\\\A[965]': 'unknown', '\\\\A[966]': 'unknown', '\\\\A[967]': 'unknown', '\\\\A[968]': 'unknown', '\\\\A[969]': 'unknown', '\\\\A[970]': 'unknown', '\\\\A[971]': 'unknown', '\\\\A[972]': 'unknown', '\\\\A[973]': 'unknown', '\\\\A[974]': 'unknown', '\\\\A[975]': 'unknown', '\\\\A[976]': 'unknown', '\\\\A[977]': 'unknown', '\\\\A[978]': 'unknown', '\\\\A[979]': 'unknown', '\\\\A[980]': 'unknown', '\\\\A[981]': 'unknown', '\\\\A[982]': 'unknown', '\\\\A[983]': 'unknown', '\\\\A[984]': 'unknown', '\\\\A[985]': 'unknown', '\\\\A[986]': 'unknown', '\\\\A[987]': 'unknown', '\\\\A[988]': 'unknown', '\\\\A[989]': 'unknown', '\\\\A[990]': 'unknown', '\\\\A[991]': 'unknown', '\\\\A[992]': 'unknown', '\\\\A[993]': 'unknown', '\\\\A[994]': 'unknown', '\\\\A[995]': 'unknown', '\\\\A[996]': 'unknown', '\\\\A[997]': 'unknown', '\\\\A[998]': 'unknown', '\\\\A[999]': 'unknown', '\\\\A[1000]': 'unknown', 'maj': 'output'}\n",
      "Running LLM analysis with Phi-2...\n"
     ]
    },
    {
     "metadata": {
      "tags": null
     },
     "name": "stderr",
     "output_type": "stream",
     "text": [
      "The attention mask and the pad token id were not set. As a consequence, you may observe unexpected behavior. Please pass your input's `attention_mask` to obtain reliable results.\n",
      "Setting `pad_token_id` to `eos_token_id`:50256 for open-end generation.\n"
     ]
    },
    {
     "metadata": {
      "tags": null
     },
     "name": "stdout",
     "output_type": "stream",
     "text": [
      "Error generating with Phi-2: Input length of input_ids is 629658, but `max_length` is set to 2048. This can lead to unexpected behavior. You should consider increasing `max_length` or, better yet, setting `max_new_tokens`.\n",
      "Using device for rule-based analysis: cuda\n",
      "Generating testbench with Phi-2...\n"
     ]
    },
    {
     "metadata": {
      "tags": null
     },
     "name": "stderr",
     "output_type": "stream",
     "text": [
      "The attention mask and the pad token id were not set. As a consequence, you may observe unexpected behavior. Please pass your input's `attention_mask` to obtain reliable results.\n",
      "Setting `pad_token_id` to `eos_token_id`:50256 for open-end generation.\n"
     ]
    },
    {
     "metadata": {
      "tags": null
     },
     "name": "stdout",
     "output_type": "stream",
     "text": [
      "Error generating with Phi-2: Input length of input_ids is 637918, but `max_length` is set to 4096. This can lead to unexpected behavior. You should consider increasing `max_length` or, better yet, setting `max_new_tokens`.\n",
      "Testbench saved to testbenches/voter_tb.v\n"
     ]
    },
    {
     "metadata": {
      "tags": null
     },
     "name": "stderr",
     "output_type": "stream",
     "text": [
      "The attention mask and the pad token id were not set. As a consequence, you may observe unexpected behavior. Please pass your input's `attention_mask` to obtain reliable results.\n",
      "Setting `pad_token_id` to `eos_token_id`:50256 for open-end generation.\n"
     ]
    },
    {
     "metadata": {
      "tags": null
     },
     "name": "stdout",
     "output_type": "stream",
     "text": [
      "Compilation failed for voter:\n",
      "testbenches/voter_tb.v:7: syntax error\n",
      "testbenches/voter_tb.v:5: error: Syntax error in instance port expression(s).\n",
      "testbenches/voter_tb.v:5: error: Invalid module instantiation\n",
      "\n",
      "\n",
      "Processing /content/drive/MyDrive/RTLData/Negation of assignment/s1196b_0.v...\n",
      "Multiple or nested module definitions detected.\n",
      "Created fixed Verilog file: testbenches/fixed_s1196b_0.v\n",
      "Module: dff, Ports: {'CK': 'input', 'q': 'output', 'd': 'unknown'}\n",
      "Running LLM analysis with Phi-2...\n"
     ]
    },
    {
     "metadata": {
      "tags": null
     },
     "name": "stderr",
     "output_type": "stream",
     "text": [
      "The attention mask and the pad token id were not set. As a consequence, you may observe unexpected behavior. Please pass your input's `attention_mask` to obtain reliable results.\n",
      "Setting `pad_token_id` to `eos_token_id`:50256 for open-end generation.\n"
     ]
    },
    {
     "metadata": {
      "tags": null
     },
     "name": "stdout",
     "output_type": "stream",
     "text": [
      "Generating testbench with Phi-2...\n",
      "Testbench saved to testbenches/dff_tb.v\n",
      "Compilation failed for dff:\n",
      "testbenches/dff_tb.v:1: error: 'dff' has already been declared in this scope.\n",
      "testbenches/fixed_s1196b_0.v:1:      : It was declared here as a module.\n",
      "testbenches/dff_tb.v:6: Module dff was already declared here: testbenches/fixed_s1196b_0.v:1\n",
      "\n",
      "\n",
      "\n",
      "Processing /content/drive/MyDrive/RTLData/Negation of assignment/c2670_3.v...\n"
     ]
    },
    {
     "metadata": {
      "tags": null
     },
     "name": "stderr",
     "output_type": "stream",
     "text": [
      "The attention mask and the pad token id were not set. As a consequence, you may observe unexpected behavior. Please pass your input's `attention_mask` to obtain reliable results.\n",
      "Setting `pad_token_id` to `eos_token_id`:50256 for open-end generation.\n"
     ]
    },
    {
     "metadata": {
      "tags": null
     },
     "name": "stdout",
     "output_type": "stream",
     "text": [
      "Module: c2670, Ports: {'N1': 'input', 'N2': 'unknown', 'N3': 'unknown', 'N4': 'unknown', 'N5': 'unknown', 'N6': 'unknown', 'N7': 'unknown', 'N8': 'unknown', 'N11': 'unknown', 'N14': 'unknown', 'N15': 'unknown', 'N16': 'unknown', 'N19': 'unknown', 'N20': 'unknown', 'N21': 'unknown', 'N22': 'unknown', 'N23': 'unknown', 'N24': 'unknown', 'N25': 'unknown', 'N26': 'unknown', 'N27': 'unknown', 'N28': 'unknown', 'N29': 'unknown', 'N32': 'unknown', 'N33': 'unknown', 'N34': 'unknown', 'N35': 'unknown', 'N36': 'unknown', 'N37': 'unknown', 'N40': 'unknown', 'N43': 'unknown', 'N44': 'unknown', 'N47': 'unknown', 'N48': 'unknown', 'N49': 'unknown', 'N50': 'unknown', 'N51': 'unknown', 'N52': 'unknown', 'N53': 'unknown', 'N54': 'unknown', 'N55': 'unknown', 'N56': 'unknown', 'N57': 'unknown', 'N60': 'unknown', 'N61': 'unknown', 'N62': 'unknown', 'N63': 'unknown', 'N64': 'unknown', 'N65': 'unknown', 'N66': 'unknown', 'N67': 'unknown', 'N68': 'unknown', 'N69': 'unknown', 'N72': 'unknown', 'N73': 'unknown', 'N74': 'unknown', 'N75': 'unknown', 'N76': 'unknown', 'N77': 'unknown', 'N78': 'unknown', 'N79': 'unknown', 'N80': 'unknown', 'N81': 'unknown', 'N82': 'unknown', 'N85': 'unknown', 'N86': 'unknown', 'N87': 'unknown', 'N88': 'unknown', 'N89': 'unknown', 'N90': 'unknown', 'N91': 'unknown', 'N92': 'unknown', 'N93': 'unknown', 'N94': 'unknown', 'N95': 'unknown', 'N96': 'unknown', 'N99': 'unknown', 'N100': 'unknown', 'N101': 'unknown', 'N102': 'unknown', 'N103': 'unknown', 'N104': 'unknown', 'N105': 'unknown', 'N106': 'unknown', 'N107': 'unknown', 'N108': 'unknown', 'N111': 'unknown', 'N112': 'unknown', 'N113': 'unknown', 'N114': 'unknown', 'N115': 'unknown', 'N116': 'unknown', 'N117': 'unknown', 'N118': 'unknown', 'N119': 'unknown', 'N120': 'unknown', 'N123': 'unknown', 'N124': 'unknown', 'N125': 'unknown', 'N126': 'unknown', 'N127': 'unknown', 'N128': 'unknown', 'N129': 'unknown', 'N130': 'unknown', 'N131': 'unknown', 'N132': 'unknown', 'N135': 'unknown', 'N136': 'unknown', 'N137': 'unknown', 'N138': 'unknown', 'N139': 'unknown', 'N140': 'unknown', 'N141': 'unknown', 'N142': 'unknown', 'N219': 'unknown', 'N224': 'unknown', 'N227': 'unknown', 'N230': 'unknown', 'N231': 'unknown', 'N234': 'unknown', 'N237': 'unknown', 'N241': 'unknown', 'N246': 'unknown', 'N253': 'unknown', 'N256': 'unknown', 'N259': 'unknown', 'N262': 'unknown', 'N263': 'unknown', 'N266': 'unknown', 'N269': 'unknown', 'N272': 'unknown', 'N275': 'unknown', 'N278': 'unknown', 'N281': 'unknown', 'N284': 'unknown', 'N287': 'unknown', 'N290': 'unknown', 'N294': 'unknown', 'N297': 'unknown', 'N301': 'unknown', 'N305': 'unknown', 'N309': 'unknown', 'N313': 'unknown', 'N316': 'unknown', 'N319': 'unknown', 'N322': 'unknown', 'N325': 'unknown', 'N328': 'unknown', 'N331': 'unknown', 'N334': 'unknown', 'N337': 'unknown', 'N340': 'unknown', 'N343': 'unknown', 'N346': 'unknown', 'N349': 'unknown', 'N352': 'unknown', 'N355': 'unknown', 'N143_I': 'unknown', 'N144_I': 'unknown', 'N145_I': 'unknown', 'N146_I': 'unknown', 'N147_I': 'unknown', 'N148_I': 'unknown', 'N149_I': 'unknown', 'N150_I': 'unknown', 'N151_I': 'unknown', 'N152_I': 'unknown', 'N153_I': 'unknown', 'N154_I': 'unknown', 'N155_I': 'unknown', 'N156_I': 'unknown', 'N157_I': 'unknown', 'N158_I': 'unknown', 'N159_I': 'unknown', 'N160_I': 'unknown', 'N161_I': 'unknown', 'N162_I': 'unknown', 'N163_I': 'unknown', 'N164_I': 'unknown', 'N165_I': 'unknown', 'N166_I': 'unknown', 'N167_I': 'unknown', 'N168_I': 'unknown', 'N169_I': 'unknown', 'N170_I': 'unknown', 'N171_I': 'unknown', 'N172_I': 'unknown', 'N173_I': 'unknown', 'N174_I': 'unknown', 'N175_I': 'unknown', 'N176_I': 'unknown', 'N177_I': 'unknown', 'N178_I': 'unknown', 'N179_I': 'unknown', 'N180_I': 'unknown', 'N181_I': 'unknown', 'N182_I': 'unknown', 'N183_I': 'unknown', 'N184_I': 'unknown', 'N185_I': 'unknown', 'N186_I': 'unknown', 'N187_I': 'unknown', 'N188_I': 'unknown', 'N189_I': 'unknown', 'N190_I': 'unknown', 'N191_I': 'unknown', 'N192_I': 'unknown', 'N193_I': 'unknown', 'N194_I': 'unknown', 'N195_I': 'unknown', 'N196_I': 'unknown', 'N197_I': 'unknown', 'N198_I': 'unknown', 'N199_I': 'unknown', 'N200_I': 'unknown', 'N201_I': 'unknown', 'N202_I': 'unknown', 'N203_I': 'unknown', 'N204_I': 'unknown', 'N205_I': 'unknown', 'N206_I': 'unknown', 'N207_I': 'unknown', 'N208_I': 'unknown', 'N209_I': 'unknown', 'N210_I': 'unknown', 'N211_I': 'unknown', 'N212_I': 'unknown', 'N213_I': 'unknown', 'N214_I': 'unknown', 'N215_I': 'unknown', 'N216_I': 'unknown', 'N217_I': 'unknown', 'N218_I': 'unknown', 'N398': 'output', 'N400': 'unknown', 'N401': 'unknown', 'N419': 'unknown', 'N420': 'unknown', 'N456': 'unknown', 'N457': 'unknown', 'N458': 'unknown', 'N487': 'unknown', 'N488': 'unknown', 'N489': 'unknown', 'N490': 'unknown', 'N491': 'unknown', 'N492': 'unknown', 'N493': 'unknown', 'N494': 'unknown', 'N792': 'unknown', 'N799': 'unknown', 'N805': 'unknown', 'N1026': 'unknown', 'N1028': 'unknown', 'N1029': 'unknown', 'N1269': 'unknown', 'N1277': 'unknown', 'N1448': 'unknown', 'N1726': 'unknown', 'N1816': 'unknown', 'N1817': 'unknown', 'N1818': 'unknown', 'N1819': 'unknown', 'N1820': 'unknown', 'N1821': 'unknown', 'N1969': 'unknown', 'N1970': 'unknown', 'N1971': 'unknown', 'N2010': 'unknown', 'N2012': 'unknown', 'N2014': 'unknown', 'N2016': 'unknown', 'N2018': 'unknown', 'N2020': 'unknown', 'N2022': 'unknown', 'N2387': 'unknown', 'N2388': 'unknown', 'N2389': 'unknown', 'N2390': 'unknown', 'N2496': 'unknown', 'N2643': 'unknown', 'N2644': 'unknown', 'N2891': 'unknown', 'N2925': 'unknown', 'N2970': 'unknown', 'N2971': 'unknown', 'N3038': 'unknown', 'N3079': 'unknown', 'N3546': 'unknown', 'N3671': 'unknown', 'N3803': 'unknown', 'N3804': 'unknown', 'N3809': 'unknown', 'N3851': 'unknown', 'N3875': 'unknown', 'N3881': 'unknown', 'N3882': 'unknown', 'N143_O': 'unknown', 'N144_O': 'unknown', 'N145_O': 'unknown', 'N146_O': 'unknown', 'N147_O': 'unknown', 'N148_O': 'unknown', 'N149_O': 'unknown', 'N150_O': 'unknown', 'N151_O': 'unknown', 'N152_O': 'unknown', 'N153_O': 'unknown', 'N154_O': 'unknown', 'N155_O': 'unknown', 'N156_O': 'unknown', 'N157_O': 'unknown', 'N158_O': 'unknown', 'N159_O': 'unknown', 'N160_O': 'unknown', 'N161_O': 'unknown', 'N162_O': 'unknown', 'N163_O': 'unknown', 'N164_O': 'unknown', 'N165_O': 'unknown', 'N166_O': 'unknown', 'N167_O': 'unknown', 'N168_O': 'unknown', 'N169_O': 'unknown', 'N170_O': 'unknown', 'N171_O': 'unknown', 'N172_O': 'unknown', 'N173_O': 'unknown', 'N174_O': 'unknown', 'N175_O': 'unknown', 'N176_O': 'unknown', 'N177_O': 'unknown', 'N178_O': 'unknown', 'N179_O': 'unknown', 'N180_O': 'unknown', 'N181_O': 'unknown', 'N182_O': 'unknown', 'N183_O': 'unknown', 'N184_O': 'unknown', 'N185_O': 'unknown', 'N186_O': 'unknown', 'N187_O': 'unknown', 'N188_O': 'unknown', 'N189_O': 'unknown', 'N190_O': 'unknown', 'N191_O': 'unknown', 'N192_O': 'unknown', 'N193_O': 'unknown', 'N194_O': 'unknown', 'N195_O': 'unknown', 'N196_O': 'unknown', 'N197_O': 'unknown', 'N198_O': 'unknown', 'N199_O': 'unknown', 'N200_O': 'unknown', 'N201_O': 'unknown', 'N202_O': 'unknown', 'N203_O': 'unknown', 'N204_O': 'unknown', 'N205_O': 'unknown', 'N206_O': 'unknown', 'N207_O': 'unknown', 'N208_O': 'unknown', 'N209_O': 'unknown', 'N210_O': 'unknown', 'N211_O': 'unknown', 'N212_O': 'unknown', 'N213_O': 'unknown', 'N214_O': 'unknown', 'N215_O': 'unknown', 'N216_O': 'unknown', 'N217_O': 'unknown', 'N218_O': 'unknown'}\n",
      "Running LLM analysis with Phi-2...\n",
      "Error generating with Phi-2: Input length of input_ids is 22708, but `max_length` is set to 2048. This can lead to unexpected behavior. You should consider increasing `max_length` or, better yet, setting `max_new_tokens`.\n",
      "Using device for rule-based analysis: cuda\n"
     ]
    },
    {
     "metadata": {
      "tags": null
     },
     "name": "stderr",
     "output_type": "stream",
     "text": [
      "The attention mask and the pad token id were not set. As a consequence, you may observe unexpected behavior. Please pass your input's `attention_mask` to obtain reliable results.\n",
      "Setting `pad_token_id` to `eos_token_id`:50256 for open-end generation.\n"
     ]
    },
    {
     "metadata": {
      "tags": null
     },
     "name": "stdout",
     "output_type": "stream",
     "text": [
      "Generating testbench with Phi-2...\n",
      "Error generating with Phi-2: Input length of input_ids is 25354, but `max_length` is set to 4096. This can lead to unexpected behavior. You should consider increasing `max_length` or, better yet, setting `max_new_tokens`.\n",
      "Testbench saved to testbenches/c2670_tb.v\n",
      "Compilation failed for c2670:\n",
      "/content/drive/MyDrive/RTLData/Negation of assignment/c2670_3.v:205: syntax error\n",
      "/content/drive/MyDrive/RTLData/Negation of assignment/c2670_3.v:205: error: syntax error in left side of continuous assignment.\n",
      "/content/drive/MyDrive/RTLData/Negation of assignment/c2670_3.v:206: syntax error\n",
      "/content/drive/MyDrive/RTLData/Negation of assignment/c2670_3.v:206: error: syntax error in left side of continuous assignment.\n",
      "\n",
      "\n",
      "Processing /content/drive/MyDrive/RTLData/Negation of assignment/PatternDetector_4.v...\n",
      "Module: det_110101, Ports: {'input clk': 'input', 'input rstn': 'input', 'input in': 'unknown', 'output out': 'output'}\n"
     ]
    },
    {
     "metadata": {
      "tags": null
     },
     "name": "stderr",
     "output_type": "stream",
     "text": [
      "The attention mask and the pad token id were not set. As a consequence, you may observe unexpected behavior. Please pass your input's `attention_mask` to obtain reliable results.\n",
      "Setting `pad_token_id` to `eos_token_id`:50256 for open-end generation.\n"
     ]
    },
    {
     "metadata": {
      "tags": null
     },
     "name": "stdout",
     "output_type": "stream",
     "text": [
      "Running LLM analysis with Phi-2...\n"
     ]
    },
    {
     "metadata": {
      "tags": null
     },
     "name": "stderr",
     "output_type": "stream",
     "text": [
      "The attention mask and the pad token id were not set. As a consequence, you may observe unexpected behavior. Please pass your input's `attention_mask` to obtain reliable results.\n",
      "Setting `pad_token_id` to `eos_token_id`:50256 for open-end generation.\n"
     ]
    },
    {
     "metadata": {
      "tags": null
     },
     "name": "stdout",
     "output_type": "stream",
     "text": [
      "Generating testbench with Phi-2...\n"
     ]
    },
    {
     "metadata": {
      "tags": null
     },
     "name": "stderr",
     "output_type": "stream",
     "text": [
      "The attention mask and the pad token id were not set. As a consequence, you may observe unexpected behavior. Please pass your input's `attention_mask` to obtain reliable results.\n"
     ]
    },
    {
     "metadata": {
      "tags": null
     },
     "name": "stdout",
     "output_type": "stream",
     "text": [
      "Testbench saved to testbenches/det_110101_tb.v\n",
      "Compilation failed for det_110101:\n",
      "/content/drive/MyDrive/RTLData/Negation of assignment/PatternDetector_4.v:8: syntax error\n",
      "/content/drive/MyDrive/RTLData/Negation of assignment/PatternDetector_4.v:6: error: syntax error in parameter list.\n",
      "testbenches/det_110101_tb.v:1: error: 'det_110101' has already been declared in this scope.\n",
      "/content/drive/MyDrive/RTLData/Negation of assignment/PatternDetector_4.v:1:      : It was declared here as a module.\n",
      "testbenches/det_110101_tb.v:8: syntax error\n",
      "testbenches/det_110101_tb.v:6: error: syntax error in parameter list.\n",
      "testbenches/det_110101_tb.v:63: Module det_110101 was already declared here: /content/drive/MyDrive/RTLData/Negation of assignment/PatternDetector_4.v:1\n",
      "\n",
      "\n",
      "\n",
      "Processing /content/drive/MyDrive/RTLData/Negation of assignment/s9234a_0.v...\n",
      "Multiple or nested module definitions detected.\n",
      "Created fixed Verilog file: testbenches/fixed_s9234a_0.v\n",
      "Module: dff, Ports: {'CK': 'input', 'q': 'output', 'd': 'unknown'}\n",
      "Running LLM analysis with Phi-2...\n"
     ]
    },
    {
     "metadata": {
      "tags": null
     },
     "name": "stderr",
     "output_type": "stream",
     "text": [
      "Setting `pad_token_id` to `eos_token_id`:50256 for open-end generation.\n",
      "The attention mask and the pad token id were not set. As a consequence, you may observe unexpected behavior. Please pass your input's `attention_mask` to obtain reliable results.\n",
      "Setting `pad_token_id` to `eos_token_id`:50256 for open-end generation.\n"
     ]
    },
    {
     "metadata": {
      "tags": null
     },
     "name": "stdout",
     "output_type": "stream",
     "text": [
      "Generating testbench with Phi-2...\n"
     ]
    },
    {
     "metadata": {
      "tags": null
     },
     "name": "stderr",
     "output_type": "stream",
     "text": [
      "The attention mask and the pad token id were not set. As a consequence, you may observe unexpected behavior. Please pass your input's `attention_mask` to obtain reliable results.\n",
      "Setting `pad_token_id` to `eos_token_id`:50256 for open-end generation.\n"
     ]
    },
    {
     "metadata": {
      "tags": null
     },
     "name": "stdout",
     "output_type": "stream",
     "text": [
      "Testbench saved to testbenches/dff_tb.v\n",
      "Compilation failed for dff:\n",
      "testbenches/dff_tb.v:1: error: 'dff' has already been declared in this scope.\n",
      "testbenches/fixed_s9234a_0.v:1:      : It was declared here as a module.\n",
      "testbenches/dff_tb.v:6: Module dff was already declared here: testbenches/fixed_s9234a_0.v:1\n",
      "\n",
      "\n",
      "\n",
      "Processing /content/drive/MyDrive/RTLData/Negation of assignment/BothMultipler_4X4_4.v...\n",
      "Module: jboothMultiplier, Ports: {'PRODUCT': 'unknown', 'A': 'unknown', 'B': 'unknown'}\n",
      "Running LLM analysis with Phi-2...\n"
     ]
    },
    {
     "metadata": {
      "tags": null
     },
     "name": "stderr",
     "output_type": "stream",
     "text": [
      "The attention mask and the pad token id were not set. As a consequence, you may observe unexpected behavior. Please pass your input's `attention_mask` to obtain reliable results.\n",
      "Setting `pad_token_id` to `eos_token_id`:50256 for open-end generation.\n"
     ]
    },
    {
     "metadata": {
      "tags": null
     },
     "name": "stdout",
     "output_type": "stream",
     "text": [
      "Generating testbench with Phi-2...\n",
      "Phi-2 didn't generate a valid testbench, using rule-based generation\n",
      "Testbench saved to testbenches/jboothMultiplier_tb.v\n",
      "Compilation failed for jboothMultiplier:\n",
      "/content/drive/MyDrive/RTLData/Negation of assignment/BothMultipler_4X4_4.v:17: syntax error\n",
      "/content/drive/MyDrive/RTLData/Negation of assignment/BothMultipler_4X4_4.v:17: Syntax in assignment statement l-value.\n",
      "\n",
      "\n",
      "Processing /content/drive/MyDrive/RTLData/Negation of assignment/SinglePortRAM_0.v...\n",
      "No valid module declaration found.\n",
      "Created fixed Verilog file: testbenches/fixed_SinglePortRAM_0.v\n",
      "Could not parse module definition in testbenches/fixed_SinglePortRAM_0.v\n",
      "\n",
      "Processing /content/drive/MyDrive/RTLData/Negation of assignment/c3540_0.v...\n",
      "Module: c3540, Ports: {'N1': 'input', 'N13': 'unknown', 'N20': 'unknown', 'N33': 'unknown', 'N41': 'unknown', 'N45': 'unknown', 'N50': 'unknown', 'N58': 'unknown', 'N68': 'unknown', 'N77': 'unknown', 'N87': 'unknown', 'N97': 'unknown', 'N107': 'unknown', 'N116': 'unknown', 'N124': 'unknown', 'N125': 'unknown', 'N128': 'unknown', 'N132': 'unknown', 'N137': 'unknown', 'N143': 'unknown', 'N150': 'unknown', 'N159': 'unknown', 'N169': 'unknown', 'N179': 'unknown', 'N190': 'unknown', 'N200': 'unknown', 'N213': 'unknown', 'N222': 'unknown', 'N223': 'unknown', 'N226': 'unknown', 'N232': 'unknown', 'N238': 'unknown', 'N244': 'unknown', 'N250': 'unknown', 'N257': 'unknown', 'N264': 'unknown', 'N270': 'unknown', 'N274': 'unknown', 'N283': 'unknown', 'N294': 'unknown', 'N303': 'unknown', 'N311': 'unknown', 'N317': 'unknown', 'N322': 'unknown', 'N326': 'unknown', 'N329': 'unknown', 'N330': 'unknown', 'N343': 'unknown', 'N349': 'unknown', 'N350': 'unknown', 'N1713': 'output', 'N1947': 'unknown', 'N3195': 'unknown', 'N3833': 'unknown', 'N3987': 'unknown', 'N4028': 'unknown', 'N4145': 'unknown', 'N4589': 'unknown', 'N4667': 'unknown', 'N4815': 'unknown', 'N4944': 'unknown', 'N5002': 'unknown', 'N5045': 'unknown', 'N5047': 'unknown', 'N5078': 'unknown', 'N5102': 'unknown', 'N5120': 'unknown', 'N5121': 'unknown', 'N5192': 'unknown', 'N5231': 'unknown', 'N5360': 'unknown', 'N5361': 'unknown'}\n"
     ]
    },
    {
     "metadata": {
      "tags": null
     },
     "name": "stderr",
     "output_type": "stream",
     "text": [
      "The attention mask and the pad token id were not set. As a consequence, you may observe unexpected behavior. Please pass your input's `attention_mask` to obtain reliable results.\n",
      "Setting `pad_token_id` to `eos_token_id`:50256 for open-end generation.\n"
     ]
    },
    {
     "metadata": {
      "tags": null
     },
     "name": "stdout",
     "output_type": "stream",
     "text": [
      "Running LLM analysis with Phi-2...\n",
      "Error generating with Phi-2: Input length of input_ids is 26287, but `max_length` is set to 2048. This can lead to unexpected behavior. You should consider increasing `max_length` or, better yet, setting `max_new_tokens`.\n",
      "Using device for rule-based analysis: cuda\n",
      "Generating testbench with Phi-2...\n"
     ]
    },
    {
     "metadata": {
      "tags": null
     },
     "name": "stderr",
     "output_type": "stream",
     "text": [
      "The attention mask and the pad token id were not set. As a consequence, you may observe unexpected behavior. Please pass your input's `attention_mask` to obtain reliable results.\n",
      "Setting `pad_token_id` to `eos_token_id`:50256 for open-end generation.\n",
      "The attention mask and the pad token id were not set. As a consequence, you may observe unexpected behavior. Please pass your input's `attention_mask` to obtain reliable results.\n",
      "Setting `pad_token_id` to `eos_token_id`:50256 for open-end generation.\n"
     ]
    },
    {
     "metadata": {
      "tags": null
     },
     "name": "stdout",
     "output_type": "stream",
     "text": [
      "Error generating with Phi-2: Input length of input_ids is 26809, but `max_length` is set to 4096. This can lead to unexpected behavior. You should consider increasing `max_length` or, better yet, setting `max_new_tokens`.\n",
      "Testbench saved to testbenches/c3540_tb.v\n",
      "Simulation output saved for c3540\n",
      "\n",
      "Processing /content/drive/MyDrive/RTLData/Negation of assignment/lshift_reg_1.v...\n",
      "Module: lshift_reg, Ports: {'input             clk': 'input', '// Clock input                   input            rstn': 'input', '// Active low reset input                   input [7:0]       load_val': 'input', '// Load value                    input             load_en': 'unknown', '// Load enable                   output reg [7:0] op': 'output'}\n",
      "Running LLM analysis with Phi-2...\n"
     ]
    },
    {
     "metadata": {
      "tags": null
     },
     "name": "stderr",
     "output_type": "stream",
     "text": [
      "The attention mask and the pad token id were not set. As a consequence, you may observe unexpected behavior. Please pass your input's `attention_mask` to obtain reliable results.\n",
      "Setting `pad_token_id` to `eos_token_id`:50256 for open-end generation.\n"
     ]
    },
    {
     "metadata": {
      "tags": null
     },
     "name": "stdout",
     "output_type": "stream",
     "text": [
      "Generating testbench with Phi-2...\n"
     ]
    },
    {
     "metadata": {
      "tags": null
     },
     "name": "stderr",
     "output_type": "stream",
     "text": [
      "The attention mask and the pad token id were not set. As a consequence, you may observe unexpected behavior. Please pass your input's `attention_mask` to obtain reliable results.\n",
      "Setting `pad_token_id` to `eos_token_id`:50256 for open-end generation.\n"
     ]
    },
    {
     "metadata": {
      "tags": null
     },
     "name": "stdout",
     "output_type": "stream",
     "text": [
      "Phi-2 didn't generate a valid testbench, using rule-based generation\n",
      "Testbench saved to testbenches/lshift_reg_tb.v\n",
      "Compilation failed for lshift_reg:\n",
      "testbenches/lshift_reg_tb.v:2: syntax error\n",
      "testbenches/lshift_reg_tb.v:2: error: invalid module item.\n",
      "testbenches/lshift_reg_tb.v:5: syntax error\n",
      "testbenches/lshift_reg_tb.v:14: error: invalid module item.\n",
      "testbenches/lshift_reg_tb.v:20: syntax error\n",
      "testbenches/lshift_reg_tb.v:26: error: malformed statement\n",
      "testbenches/lshift_reg_tb.v:35: syntax error\n",
      "I give up.\n",
      "\n",
      "\n",
      "Processing /content/drive/MyDrive/RTLData/Negation of assignment/MooreOverlap copy_3.v...\n",
      "Module: jfsmMooreWithOverlap, Ports: {'dataout': 'output', 'clock': 'input', 'reset': 'input', 'datain': 'unknown'}\n",
      "Running LLM analysis with Phi-2...\n"
     ]
    },
    {
     "metadata": {
      "tags": null
     },
     "name": "stderr",
     "output_type": "stream",
     "text": [
      "The attention mask and the pad token id were not set. As a consequence, you may observe unexpected behavior. Please pass your input's `attention_mask` to obtain reliable results.\n",
      "Setting `pad_token_id` to `eos_token_id`:50256 for open-end generation.\n"
     ]
    },
    {
     "metadata": {
      "tags": null
     },
     "name": "stdout",
     "output_type": "stream",
     "text": [
      "Generating testbench with Phi-2...\n",
      "Testbench saved to testbenches/jfsmMooreWithOverlap_tb.v\n",
      "Compilation failed for jfsmMooreWithOverlap:\n",
      "/content/drive/MyDrive/RTLData/Negation of assignment/MooreOverlap copy_3.v:9: syntax error\n",
      "/content/drive/MyDrive/RTLData/Negation of assignment/MooreOverlap copy_3.v:9: error: syntax error in parameter list.\n",
      "/content/drive/MyDrive/RTLData/Negation of assignment/MooreOverlap copy_3.v:10: syntax error\n",
      "/content/drive/MyDrive/RTLData/Negation of assignment/MooreOverlap copy_3.v:10: error: syntax error in parameter list.\n",
      "testbenches/jfsmMooreWithOverlap_tb.v:2: syntax error\n",
      "I give up.\n",
      "\n",
      "\n",
      "Processing /content/drive/MyDrive/RTLData/Negation of assignment/memctrl_1.v...\n",
      "Module: memctrl, Ports: {'pi0000': 'input', 'pi0001': 'unknown', 'pi0002': 'unknown', 'pi0003': 'unknown', 'pi0004': 'unknown', 'pi0005': 'unknown', 'pi0006': 'unknown', 'pi0007': 'unknown', 'pi0008': 'unknown', 'pi0009': 'unknown', 'pi0010': 'unknown', 'pi0011': 'unknown', 'pi0012': 'unknown', 'pi0013': 'unknown', 'pi0014': 'unknown', 'pi0015': 'unknown', 'pi0016': 'unknown', 'pi0017': 'unknown', 'pi0018': 'unknown', 'pi0019': 'unknown', 'pi0020': 'unknown', 'pi0021': 'unknown', 'pi0022': 'unknown', 'pi0023': 'unknown', 'pi0024': 'unknown', 'pi0025': 'unknown', 'pi0026': 'unknown', 'pi0027': 'unknown', 'pi0028': 'unknown', 'pi0029': 'unknown', 'pi0030': 'unknown', 'pi0031': 'unknown', 'pi0032': 'unknown', 'pi0033': 'unknown', 'pi0034': 'unknown', 'pi0035': 'unknown', 'pi0036': 'unknown', 'pi0037': 'unknown', 'pi0038': 'unknown', 'pi0039': 'unknown', 'pi0040': 'unknown', 'pi0041': 'unknown', 'pi0042': 'unknown', 'pi0043': 'unknown', 'pi0044': 'unknown', 'pi0045': 'unknown', 'pi0046': 'unknown', 'pi0047': 'unknown', 'pi0048': 'unknown', 'pi0049': 'unknown', 'pi0050': 'unknown', 'pi0051': 'unknown', 'pi0052': 'unknown', 'pi0053': 'unknown', 'pi0054': 'unknown', 'pi0055': 'unknown', 'pi0056': 'unknown', 'pi0057': 'unknown', 'pi0058': 'unknown', 'pi0059': 'unknown', 'pi0060': 'unknown', 'pi0061': 'unknown', 'pi0062': 'unknown', 'pi0063': 'unknown', 'pi0064': 'unknown', 'pi0065': 'unknown', 'pi0066': 'unknown', 'pi0067': 'unknown', 'pi0068': 'unknown', 'pi0069': 'unknown', 'pi0070': 'unknown', 'pi0071': 'unknown', 'pi0072': 'unknown', 'pi0073': 'unknown', 'pi0074': 'unknown', 'pi0075': 'unknown', 'pi0076': 'unknown', 'pi0077': 'unknown', 'pi0078': 'unknown', 'pi0079': 'unknown', 'pi0080': 'unknown', 'pi0081': 'unknown', 'pi0082': 'unknown', 'pi0083': 'unknown', 'pi0084': 'unknown', 'pi0085': 'unknown', 'pi0086': 'unknown', 'pi0087': 'unknown', 'pi0088': 'unknown', 'pi0089': 'unknown', 'pi0090': 'unknown', 'pi0091': 'unknown', 'pi0092': 'unknown', 'pi0093': 'unknown', 'pi0094': 'unknown', 'pi0095': 'unknown', 'pi0096': 'unknown', 'pi0097': 'unknown', 'pi0098': 'unknown', 'pi0099': 'unknown', 'pi0100': 'unknown', 'pi0101': 'unknown', 'pi0102': 'unknown', 'pi0103': 'unknown', 'pi0104': 'unknown', 'pi0105': 'unknown', 'pi0106': 'unknown', 'pi0107': 'unknown', 'pi0108': 'unknown', 'pi0109': 'unknown', 'pi0110': 'unknown', 'pi0111': 'unknown', 'pi0112': 'unknown', 'pi0113': 'unknown', 'pi0114': 'unknown', 'pi0115': 'unknown', 'pi0116': 'unknown', 'pi0117': 'unknown', 'pi0118': 'unknown', 'pi0119': 'unknown', 'pi0120': 'unknown', 'pi0121': 'unknown', 'pi0122': 'unknown', 'pi0123': 'unknown', 'pi0124': 'unknown', 'pi0125': 'unknown', 'pi0126': 'unknown', 'pi0127': 'unknown', 'pi0128': 'unknown', 'pi0129': 'unknown', 'pi0130': 'unknown', 'pi0131': 'unknown', 'pi0132': 'unknown', 'pi0133': 'unknown', 'pi0134': 'unknown', 'pi0135': 'unknown', 'pi0136': 'unknown', 'pi0137': 'unknown', 'pi0138': 'unknown', 'pi0139': 'unknown', 'pi0140': 'unknown', 'pi0141': 'unknown', 'pi0142': 'unknown', 'pi0143': 'unknown', 'pi0144': 'unknown', 'pi0145': 'unknown', 'pi0146': 'unknown', 'pi0147': 'unknown', 'pi0148': 'unknown', 'pi0149': 'unknown', 'pi0150': 'unknown', 'pi0151': 'unknown', 'pi0152': 'unknown', 'pi0153': 'unknown', 'pi0154': 'unknown', 'pi0155': 'unknown', 'pi0156': 'unknown', 'pi0157': 'unknown', 'pi0158': 'unknown', 'pi0159': 'unknown', 'pi0160': 'unknown', 'pi0161': 'unknown', 'pi0162': 'unknown', 'pi0163': 'unknown', 'pi0164': 'unknown', 'pi0165': 'unknown', 'pi0166': 'unknown', 'pi0167': 'unknown', 'pi0168': 'unknown', 'pi0169': 'unknown', 'pi0170': 'unknown', 'pi0171': 'unknown', 'pi0172': 'unknown', 'pi0173': 'unknown', 'pi0174': 'unknown', 'pi0175': 'unknown', 'pi0176': 'unknown', 'pi0177': 'unknown', 'pi0178': 'unknown', 'pi0179': 'unknown', 'pi0180': 'unknown', 'pi0181': 'unknown', 'pi0182': 'unknown', 'pi0183': 'unknown', 'pi0184': 'unknown', 'pi0185': 'unknown', 'pi0186': 'unknown', 'pi0187': 'unknown', 'pi0188': 'unknown', 'pi0189': 'unknown', 'pi0190': 'unknown', 'pi0191': 'unknown', 'pi0192': 'unknown', 'pi0193': 'unknown', 'pi0194': 'unknown', 'pi0195': 'unknown', 'pi0196': 'unknown', 'pi0197': 'unknown', 'pi0198': 'unknown', 'pi0199': 'unknown', 'pi0200': 'unknown', 'pi0201': 'unknown', 'pi0202': 'unknown', 'pi0203': 'unknown', 'pi0204': 'unknown', 'pi0205': 'unknown', 'pi0206': 'unknown', 'pi0207': 'unknown', 'pi0208': 'unknown', 'pi0209': 'unknown', 'pi0210': 'unknown', 'pi0211': 'unknown', 'pi0212': 'unknown', 'pi0213': 'unknown', 'pi0214': 'unknown', 'pi0215': 'unknown', 'pi0216': 'unknown', 'pi0217': 'unknown', 'pi0218': 'unknown', 'pi0219': 'unknown', 'pi0220': 'unknown', 'pi0221': 'unknown', 'pi0222': 'unknown', 'pi0223': 'unknown', 'pi0224': 'unknown', 'pi0225': 'unknown', 'pi0226': 'unknown', 'pi0227': 'unknown', 'pi0228': 'unknown', 'pi0229': 'unknown', 'pi0230': 'unknown', 'pi0231': 'unknown', 'pi0232': 'unknown', 'pi0233': 'unknown', 'pi0234': 'unknown', 'pi0235': 'unknown', 'pi0236': 'unknown', 'pi0237': 'unknown', 'pi0238': 'unknown', 'pi0239': 'unknown', 'pi0240': 'unknown', 'pi0241': 'unknown', 'pi0242': 'unknown', 'pi0243': 'unknown', 'pi0244': 'unknown', 'pi0245': 'unknown', 'pi0246': 'unknown', 'pi0247': 'unknown', 'pi0248': 'unknown', 'pi0249': 'unknown', 'pi0250': 'unknown', 'pi0251': 'unknown', 'pi0252': 'unknown', 'pi0253': 'unknown', 'pi0254': 'unknown', 'pi0255': 'unknown', 'pi0256': 'unknown', 'pi0257': 'unknown', 'pi0258': 'unknown', 'pi0259': 'unknown', 'pi0260': 'unknown', 'pi0261': 'unknown', 'pi0262': 'unknown', 'pi0263': 'unknown', 'pi0264': 'unknown', 'pi0265': 'unknown', 'pi0266': 'unknown', 'pi0267': 'unknown', 'pi0268': 'unknown', 'pi0269': 'unknown', 'pi0270': 'unknown', 'pi0271': 'unknown', 'pi0272': 'unknown', 'pi0273': 'unknown', 'pi0274': 'unknown', 'pi0275': 'unknown', 'pi0276': 'unknown', 'pi0277': 'unknown', 'pi0278': 'unknown', 'pi0279': 'unknown', 'pi0280': 'unknown', 'pi0281': 'unknown', 'pi0282': 'unknown', 'pi0283': 'unknown', 'pi0284': 'unknown', 'pi0285': 'unknown', 'pi0286': 'unknown', 'pi0287': 'unknown', 'pi0288': 'unknown', 'pi0289': 'unknown', 'pi0290': 'unknown', 'pi0291': 'unknown', 'pi0292': 'unknown', 'pi0293': 'unknown', 'pi0294': 'unknown', 'pi0295': 'unknown', 'pi0296': 'unknown', 'pi0297': 'unknown', 'pi0298': 'unknown', 'pi0299': 'unknown', 'pi0300': 'unknown', 'pi0301': 'unknown', 'pi0302': 'unknown', 'pi0303': 'unknown', 'pi0304': 'unknown', 'pi0305': 'unknown', 'pi0306': 'unknown', 'pi0307': 'unknown', 'pi0308': 'unknown', 'pi0309': 'unknown', 'pi0310': 'unknown', 'pi0311': 'unknown', 'pi0312': 'unknown', 'pi0313': 'unknown', 'pi0314': 'unknown', 'pi0315': 'unknown', 'pi0316': 'unknown', 'pi0317': 'unknown', 'pi0318': 'unknown', 'pi0319': 'unknown', 'pi0320': 'unknown', 'pi0321': 'unknown', 'pi0322': 'unknown', 'pi0323': 'unknown', 'pi0324': 'unknown', 'pi0325': 'unknown', 'pi0326': 'unknown', 'pi0327': 'unknown', 'pi0328': 'unknown', 'pi0329': 'unknown', 'pi0330': 'unknown', 'pi0331': 'unknown', 'pi0332': 'unknown', 'pi0333': 'unknown', 'pi0334': 'unknown', 'pi0335': 'unknown', 'pi0336': 'unknown', 'pi0337': 'unknown', 'pi0338': 'unknown', 'pi0339': 'unknown', 'pi0340': 'unknown', 'pi0341': 'unknown', 'pi0342': 'unknown', 'pi0343': 'unknown', 'pi0344': 'unknown', 'pi0345': 'unknown', 'pi0346': 'unknown', 'pi0347': 'unknown', 'pi0348': 'unknown', 'pi0349': 'unknown', 'pi0350': 'unknown', 'pi0351': 'unknown', 'pi0352': 'unknown', 'pi0353': 'unknown', 'pi0354': 'unknown', 'pi0355': 'unknown', 'pi0356': 'unknown', 'pi0357': 'unknown', 'pi0358': 'unknown', 'pi0359': 'unknown', 'pi0360': 'unknown', 'pi0361': 'unknown', 'pi0362': 'unknown', 'pi0363': 'unknown', 'pi0364': 'unknown', 'pi0365': 'unknown', 'pi0366': 'unknown', 'pi0367': 'unknown', 'pi0368': 'unknown', 'pi0369': 'unknown', 'pi0370': 'unknown', 'pi0371': 'unknown', 'pi0372': 'unknown', 'pi0373': 'unknown', 'pi0374': 'unknown', 'pi0375': 'unknown', 'pi0376': 'unknown', 'pi0377': 'unknown', 'pi0378': 'unknown', 'pi0379': 'unknown', 'pi0380': 'unknown', 'pi0381': 'unknown', 'pi0382': 'unknown', 'pi0383': 'unknown', 'pi0384': 'unknown', 'pi0385': 'unknown', 'pi0386': 'unknown', 'pi0387': 'unknown', 'pi0388': 'unknown', 'pi0389': 'unknown', 'pi0390': 'unknown', 'pi0391': 'unknown', 'pi0392': 'unknown', 'pi0393': 'unknown', 'pi0394': 'unknown', 'pi0395': 'unknown', 'pi0396': 'unknown', 'pi0397': 'unknown', 'pi0398': 'unknown', 'pi0399': 'unknown', 'pi0400': 'unknown', 'pi0401': 'unknown', 'pi0402': 'unknown', 'pi0403': 'unknown', 'pi0404': 'unknown', 'pi0405': 'unknown', 'pi0406': 'unknown', 'pi0407': 'unknown', 'pi0408': 'unknown', 'pi0409': 'unknown', 'pi0410': 'unknown', 'pi0411': 'unknown', 'pi0412': 'unknown', 'pi0413': 'unknown', 'pi0414': 'unknown', 'pi0415': 'unknown', 'pi0416': 'unknown', 'pi0417': 'unknown', 'pi0418': 'unknown', 'pi0419': 'unknown', 'pi0420': 'unknown', 'pi0421': 'unknown', 'pi0422': 'unknown', 'pi0423': 'unknown', 'pi0424': 'unknown', 'pi0425': 'unknown', 'pi0426': 'unknown', 'pi0427': 'unknown', 'pi0428': 'unknown', 'pi0429': 'unknown', 'pi0430': 'unknown', 'pi0431': 'unknown', 'pi0432': 'unknown', 'pi0433': 'unknown', 'pi0434': 'unknown', 'pi0435': 'unknown', 'pi0436': 'unknown', 'pi0437': 'unknown', 'pi0438': 'unknown', 'pi0439': 'unknown', 'pi0440': 'unknown', 'pi0441': 'unknown', 'pi0442': 'unknown', 'pi0443': 'unknown', 'pi0444': 'unknown', 'pi0445': 'unknown', 'pi0446': 'unknown', 'pi0447': 'unknown', 'pi0448': 'unknown', 'pi0449': 'unknown', 'pi0450': 'unknown', 'pi0451': 'unknown', 'pi0452': 'unknown', 'pi0453': 'unknown', 'pi0454': 'unknown', 'pi0455': 'unknown', 'pi0456': 'unknown', 'pi0457': 'unknown', 'pi0458': 'unknown', 'pi0459': 'unknown', 'pi0460': 'unknown', 'pi0461': 'unknown', 'pi0462': 'unknown', 'pi0463': 'unknown', 'pi0464': 'unknown', 'pi0465': 'unknown', 'pi0466': 'unknown', 'pi0467': 'unknown', 'pi0468': 'unknown', 'pi0469': 'unknown', 'pi0470': 'unknown', 'pi0471': 'unknown', 'pi0472': 'unknown', 'pi0473': 'unknown', 'pi0474': 'unknown', 'pi0475': 'unknown', 'pi0476': 'unknown', 'pi0477': 'unknown', 'pi0478': 'unknown', 'pi0479': 'unknown', 'pi0480': 'unknown', 'pi0481': 'unknown', 'pi0482': 'unknown', 'pi0483': 'unknown', 'pi0484': 'unknown', 'pi0485': 'unknown', 'pi0486': 'unknown', 'pi0487': 'unknown', 'pi0488': 'unknown', 'pi0489': 'unknown', 'pi0490': 'unknown', 'pi0491': 'unknown', 'pi0492': 'unknown', 'pi0493': 'unknown', 'pi0494': 'unknown', 'pi0495': 'unknown', 'pi0496': 'unknown', 'pi0497': 'unknown', 'pi0498': 'unknown', 'pi0499': 'unknown', 'pi0500': 'unknown', 'pi0501': 'unknown', 'pi0502': 'unknown', 'pi0503': 'unknown', 'pi0504': 'unknown', 'pi0505': 'unknown', 'pi0506': 'unknown', 'pi0507': 'unknown', 'pi0508': 'unknown', 'pi0509': 'unknown', 'pi0510': 'unknown', 'pi0511': 'unknown', 'pi0512': 'unknown', 'pi0513': 'unknown', 'pi0514': 'unknown', 'pi0515': 'unknown', 'pi0516': 'unknown', 'pi0517': 'unknown', 'pi0518': 'unknown', 'pi0519': 'unknown', 'pi0520': 'unknown', 'pi0521': 'unknown', 'pi0522': 'unknown', 'pi0523': 'unknown', 'pi0524': 'unknown', 'pi0525': 'unknown', 'pi0526': 'unknown', 'pi0527': 'unknown', 'pi0528': 'unknown', 'pi0529': 'unknown', 'pi0530': 'unknown', 'pi0531': 'unknown', 'pi0532': 'unknown', 'pi0533': 'unknown', 'pi0534': 'unknown', 'pi0535': 'unknown', 'pi0536': 'unknown', 'pi0537': 'unknown', 'pi0538': 'unknown', 'pi0539': 'unknown', 'pi0540': 'unknown', 'pi0541': 'unknown', 'pi0542': 'unknown', 'pi0543': 'unknown', 'pi0544': 'unknown', 'pi0545': 'unknown', 'pi0546': 'unknown', 'pi0547': 'unknown', 'pi0548': 'unknown', 'pi0549': 'unknown', 'pi0550': 'unknown', 'pi0551': 'unknown', 'pi0552': 'unknown', 'pi0553': 'unknown', 'pi0554': 'unknown', 'pi0555': 'unknown', 'pi0556': 'unknown', 'pi0557': 'unknown', 'pi0558': 'unknown', 'pi0559': 'unknown', 'pi0560': 'unknown', 'pi0561': 'unknown', 'pi0562': 'unknown', 'pi0563': 'unknown', 'pi0564': 'unknown', 'pi0565': 'unknown', 'pi0566': 'unknown', 'pi0567': 'unknown', 'pi0568': 'unknown', 'pi0569': 'unknown', 'pi0570': 'unknown', 'pi0571': 'unknown', 'pi0572': 'unknown', 'pi0573': 'unknown', 'pi0574': 'unknown', 'pi0575': 'unknown', 'pi0576': 'unknown', 'pi0577': 'unknown', 'pi0578': 'unknown', 'pi0579': 'unknown', 'pi0580': 'unknown', 'pi0581': 'unknown', 'pi0582': 'unknown', 'pi0583': 'unknown', 'pi0584': 'unknown', 'pi0585': 'unknown', 'pi0586': 'unknown', 'pi0587': 'unknown', 'pi0588': 'unknown', 'pi0589': 'unknown', 'pi0590': 'unknown', 'pi0591': 'unknown', 'pi0592': 'unknown', 'pi0593': 'unknown', 'pi0594': 'unknown', 'pi0595': 'unknown', 'pi0596': 'unknown', 'pi0597': 'unknown', 'pi0598': 'unknown', 'pi0599': 'unknown', 'pi0600': 'unknown', 'pi0601': 'unknown', 'pi0602': 'unknown', 'pi0603': 'unknown', 'pi0604': 'unknown', 'pi0605': 'unknown', 'pi0606': 'unknown', 'pi0607': 'unknown', 'pi0608': 'unknown', 'pi0609': 'unknown', 'pi0610': 'unknown', 'pi0611': 'unknown', 'pi0612': 'unknown', 'pi0613': 'unknown', 'pi0614': 'unknown', 'pi0615': 'unknown', 'pi0616': 'unknown', 'pi0617': 'unknown', 'pi0618': 'unknown', 'pi0619': 'unknown', 'pi0620': 'unknown', 'pi0621': 'unknown', 'pi0622': 'unknown', 'pi0623': 'unknown', 'pi0624': 'unknown', 'pi0625': 'unknown', 'pi0626': 'unknown', 'pi0627': 'unknown', 'pi0628': 'unknown', 'pi0629': 'unknown', 'pi0630': 'unknown', 'pi0631': 'unknown', 'pi0632': 'unknown', 'pi0633': 'unknown', 'pi0634': 'unknown', 'pi0635': 'unknown', 'pi0636': 'unknown', 'pi0637': 'unknown', 'pi0638': 'unknown', 'pi0639': 'unknown', 'pi0640': 'unknown', 'pi0641': 'unknown', 'pi0642': 'unknown', 'pi0643': 'unknown', 'pi0644': 'unknown', 'pi0645': 'unknown', 'pi0646': 'unknown', 'pi0647': 'unknown', 'pi0648': 'unknown', 'pi0649': 'unknown', 'pi0650': 'unknown', 'pi0651': 'unknown', 'pi0652': 'unknown', 'pi0653': 'unknown', 'pi0654': 'unknown', 'pi0655': 'unknown', 'pi0656': 'unknown', 'pi0657': 'unknown', 'pi0658': 'unknown', 'pi0659': 'unknown', 'pi0660': 'unknown', 'pi0661': 'unknown', 'pi0662': 'unknown', 'pi0663': 'unknown', 'pi0664': 'unknown', 'pi0665': 'unknown', 'pi0666': 'unknown', 'pi0667': 'unknown', 'pi0668': 'unknown', 'pi0669': 'unknown', 'pi0670': 'unknown', 'pi0671': 'unknown', 'pi0672': 'unknown', 'pi0673': 'unknown', 'pi0674': 'unknown', 'pi0675': 'unknown', 'pi0676': 'unknown', 'pi0677': 'unknown', 'pi0678': 'unknown', 'pi0679': 'unknown', 'pi0680': 'unknown', 'pi0681': 'unknown', 'pi0682': 'unknown', 'pi0683': 'unknown', 'pi0684': 'unknown', 'pi0685': 'unknown', 'pi0686': 'unknown', 'pi0687': 'unknown', 'pi0688': 'unknown', 'pi0689': 'unknown', 'pi0690': 'unknown', 'pi0691': 'unknown', 'pi0692': 'unknown', 'pi0693': 'unknown', 'pi0694': 'unknown', 'pi0695': 'unknown', 'pi0696': 'unknown', 'pi0697': 'unknown', 'pi0698': 'unknown', 'pi0699': 'unknown', 'pi0700': 'unknown', 'pi0701': 'unknown', 'pi0702': 'unknown', 'pi0703': 'unknown', 'pi0704': 'unknown', 'pi0705': 'unknown', 'pi0706': 'unknown', 'pi0707': 'unknown', 'pi0708': 'unknown', 'pi0709': 'unknown', 'pi0710': 'unknown', 'pi0711': 'unknown', 'pi0712': 'unknown', 'pi0713': 'unknown', 'pi0714': 'unknown', 'pi0715': 'unknown', 'pi0716': 'unknown', 'pi0717': 'unknown', 'pi0718': 'unknown', 'pi0719': 'unknown', 'pi0720': 'unknown', 'pi0721': 'unknown', 'pi0722': 'unknown', 'pi0723': 'unknown', 'pi0724': 'unknown', 'pi0725': 'unknown', 'pi0726': 'unknown', 'pi0727': 'unknown', 'pi0728': 'unknown', 'pi0729': 'unknown', 'pi0730': 'unknown', 'pi0731': 'unknown', 'pi0732': 'unknown', 'pi0733': 'unknown', 'pi0734': 'unknown', 'pi0735': 'unknown', 'pi0736': 'unknown', 'pi0737': 'unknown', 'pi0738': 'unknown', 'pi0739': 'unknown', 'pi0740': 'unknown', 'pi0741': 'unknown', 'pi0742': 'unknown', 'pi0743': 'unknown', 'pi0744': 'unknown', 'pi0745': 'unknown', 'pi0746': 'unknown', 'pi0747': 'unknown', 'pi0748': 'unknown', 'pi0749': 'unknown', 'pi0750': 'unknown', 'pi0751': 'unknown', 'pi0752': 'unknown', 'pi0753': 'unknown', 'pi0754': 'unknown', 'pi0755': 'unknown', 'pi0756': 'unknown', 'pi0757': 'unknown', 'pi0758': 'unknown', 'pi0759': 'unknown', 'pi0760': 'unknown', 'pi0761': 'unknown', 'pi0762': 'unknown', 'pi0763': 'unknown', 'pi0764': 'unknown', 'pi0765': 'unknown', 'pi0766': 'unknown', 'pi0767': 'unknown', 'pi0768': 'unknown', 'pi0769': 'unknown', 'pi0770': 'unknown', 'pi0771': 'unknown', 'pi0772': 'unknown', 'pi0773': 'unknown', 'pi0774': 'unknown', 'pi0775': 'unknown', 'pi0776': 'unknown', 'pi0777': 'unknown', 'pi0778': 'unknown', 'pi0779': 'unknown', 'pi0780': 'unknown', 'pi0781': 'unknown', 'pi0782': 'unknown', 'pi0783': 'unknown', 'pi0784': 'unknown', 'pi0785': 'unknown', 'pi0786': 'unknown', 'pi0787': 'unknown', 'pi0788': 'unknown', 'pi0789': 'unknown', 'pi0790': 'unknown', 'pi0791': 'unknown', 'pi0792': 'unknown', 'pi0793': 'unknown', 'pi0794': 'unknown', 'pi0795': 'unknown', 'pi0796': 'unknown', 'pi0797': 'unknown', 'pi0798': 'unknown', 'pi0799': 'unknown', 'pi0800': 'unknown', 'pi0801': 'unknown', 'pi0802': 'unknown', 'pi0803': 'unknown', 'pi0804': 'unknown', 'pi0805': 'unknown', 'pi0806': 'unknown', 'pi0807': 'unknown', 'pi0808': 'unknown', 'pi0809': 'unknown', 'pi0810': 'unknown', 'pi0811': 'unknown', 'pi0812': 'unknown', 'pi0813': 'unknown', 'pi0814': 'unknown', 'pi0815': 'unknown', 'pi0816': 'unknown', 'pi0817': 'unknown', 'pi0818': 'unknown', 'pi0819': 'unknown', 'pi0820': 'unknown', 'pi0821': 'unknown', 'pi0822': 'unknown', 'pi0823': 'unknown', 'pi0824': 'unknown', 'pi0825': 'unknown', 'pi0826': 'unknown', 'pi0827': 'unknown', 'pi0828': 'unknown', 'pi0829': 'unknown', 'pi0830': 'unknown', 'pi0831': 'unknown', 'pi0832': 'unknown', 'pi0833': 'unknown', 'pi0834': 'unknown', 'pi0835': 'unknown', 'pi0836': 'unknown', 'pi0837': 'unknown', 'pi0838': 'unknown', 'pi0839': 'unknown', 'pi0840': 'unknown', 'pi0841': 'unknown', 'pi0842': 'unknown', 'pi0843': 'unknown', 'pi0844': 'unknown', 'pi0845': 'unknown', 'pi0846': 'unknown', 'pi0847': 'unknown', 'pi0848': 'unknown', 'pi0849': 'unknown', 'pi0850': 'unknown', 'pi0851': 'unknown', 'pi0852': 'unknown', 'pi0853': 'unknown', 'pi0854': 'unknown', 'pi0855': 'unknown', 'pi0856': 'unknown', 'pi0857': 'unknown', 'pi0858': 'unknown', 'pi0859': 'unknown', 'pi0860': 'unknown', 'pi0861': 'unknown', 'pi0862': 'unknown', 'pi0863': 'unknown', 'pi0864': 'unknown', 'pi0865': 'unknown', 'pi0866': 'unknown', 'pi0867': 'unknown', 'pi0868': 'unknown', 'pi0869': 'unknown', 'pi0870': 'unknown', 'pi0871': 'unknown', 'pi0872': 'unknown', 'pi0873': 'unknown', 'pi0874': 'unknown', 'pi0875': 'unknown', 'pi0876': 'unknown', 'pi0877': 'unknown', 'pi0878': 'unknown', 'pi0879': 'unknown', 'pi0880': 'unknown', 'pi0881': 'unknown', 'pi0882': 'unknown', 'pi0883': 'unknown', 'pi0884': 'unknown', 'pi0885': 'unknown', 'pi0886': 'unknown', 'pi0887': 'unknown', 'pi0888': 'unknown', 'pi0889': 'unknown', 'pi0890': 'unknown', 'pi0891': 'unknown', 'pi0892': 'unknown', 'pi0893': 'unknown', 'pi0894': 'unknown', 'pi0895': 'unknown', 'pi0896': 'unknown', 'pi0897': 'unknown', 'pi0898': 'unknown', 'pi0899': 'unknown', 'pi0900': 'unknown', 'pi0901': 'unknown', 'pi0902': 'unknown', 'pi0903': 'unknown', 'pi0904': 'unknown', 'pi0905': 'unknown', 'pi0906': 'unknown', 'pi0907': 'unknown', 'pi0908': 'unknown', 'pi0909': 'unknown', 'pi0910': 'unknown', 'pi0911': 'unknown', 'pi0912': 'unknown', 'pi0913': 'unknown', 'pi0914': 'unknown', 'pi0915': 'unknown', 'pi0916': 'unknown', 'pi0917': 'unknown', 'pi0918': 'unknown', 'pi0919': 'unknown', 'pi0920': 'unknown', 'pi0921': 'unknown', 'pi0922': 'unknown', 'pi0923': 'unknown', 'pi0924': 'unknown', 'pi0925': 'unknown', 'pi0926': 'unknown', 'pi0927': 'unknown', 'pi0928': 'unknown', 'pi0929': 'unknown', 'pi0930': 'unknown', 'pi0931': 'unknown', 'pi0932': 'unknown', 'pi0933': 'unknown', 'pi0934': 'unknown', 'pi0935': 'unknown', 'pi0936': 'unknown', 'pi0937': 'unknown', 'pi0938': 'unknown', 'pi0939': 'unknown', 'pi0940': 'unknown', 'pi0941': 'unknown', 'pi0942': 'unknown', 'pi0943': 'unknown', 'pi0944': 'unknown', 'pi0945': 'unknown', 'pi0946': 'unknown', 'pi0947': 'unknown', 'pi0948': 'unknown', 'pi0949': 'unknown', 'pi0950': 'unknown', 'pi0951': 'unknown', 'pi0952': 'unknown', 'pi0953': 'unknown', 'pi0954': 'unknown', 'pi0955': 'unknown', 'pi0956': 'unknown', 'pi0957': 'unknown', 'pi0958': 'unknown', 'pi0959': 'unknown', 'pi0960': 'unknown', 'pi0961': 'unknown', 'pi0962': 'unknown', 'pi0963': 'unknown', 'pi0964': 'unknown', 'pi0965': 'unknown', 'pi0966': 'unknown', 'pi0967': 'unknown', 'pi0968': 'unknown', 'pi0969': 'unknown', 'pi0970': 'unknown', 'pi0971': 'unknown', 'pi0972': 'unknown', 'pi0973': 'unknown', 'pi0974': 'unknown', 'pi0975': 'unknown', 'pi0976': 'unknown', 'pi0977': 'unknown', 'pi0978': 'unknown', 'pi0979': 'unknown', 'pi0980': 'unknown', 'pi0981': 'unknown', 'pi0982': 'unknown', 'pi0983': 'unknown', 'pi0984': 'unknown', 'pi0985': 'unknown', 'pi0986': 'unknown', 'pi0987': 'unknown', 'pi0988': 'unknown', 'pi0989': 'unknown', 'pi0990': 'unknown', 'pi0991': 'unknown', 'pi0992': 'unknown', 'pi0993': 'unknown', 'pi0994': 'unknown', 'pi0995': 'unknown', 'pi0996': 'unknown', 'pi0997': 'unknown', 'pi0998': 'unknown', 'pi0999': 'unknown', 'pi1000': 'unknown', 'pi1001': 'unknown', 'pi1002': 'unknown', 'pi1003': 'unknown', 'pi1004': 'unknown', 'pi1005': 'unknown', 'pi1006': 'unknown', 'pi1007': 'unknown', 'pi1008': 'unknown', 'pi1009': 'unknown', 'pi1010': 'unknown', 'pi1011': 'unknown', 'pi1012': 'unknown', 'pi1013': 'unknown', 'pi1014': 'unknown', 'pi1015': 'unknown', 'pi1016': 'unknown', 'pi1017': 'unknown', 'pi1018': 'unknown', 'pi1019': 'unknown', 'pi1020': 'unknown', 'pi1021': 'unknown', 'pi1022': 'unknown', 'pi1023': 'unknown', 'pi1024': 'unknown', 'pi1025': 'unknown', 'pi1026': 'unknown', 'pi1027': 'unknown', 'pi1028': 'unknown', 'pi1029': 'unknown', 'pi1030': 'unknown', 'pi1031': 'unknown', 'pi1032': 'unknown', 'pi1033': 'unknown', 'pi1034': 'unknown', 'pi1035': 'unknown', 'pi1036': 'unknown', 'pi1037': 'unknown', 'pi1038': 'unknown', 'pi1039': 'unknown', 'pi1040': 'unknown', 'pi1041': 'unknown', 'pi1042': 'unknown', 'pi1043': 'unknown', 'pi1044': 'unknown', 'pi1045': 'unknown', 'pi1046': 'unknown', 'pi1047': 'unknown', 'pi1048': 'unknown', 'pi1049': 'unknown', 'pi1050': 'unknown', 'pi1051': 'unknown', 'pi1052': 'unknown', 'pi1053': 'unknown', 'pi1054': 'unknown', 'pi1055': 'unknown', 'pi1056': 'unknown', 'pi1057': 'unknown', 'pi1058': 'unknown', 'pi1059': 'unknown', 'pi1060': 'unknown', 'pi1061': 'unknown', 'pi1062': 'unknown', 'pi1063': 'unknown', 'pi1064': 'unknown', 'pi1065': 'unknown', 'pi1066': 'unknown', 'pi1067': 'unknown', 'pi1068': 'unknown', 'pi1069': 'unknown', 'pi1070': 'unknown', 'pi1071': 'unknown', 'pi1072': 'unknown', 'pi1073': 'unknown', 'pi1074': 'unknown', 'pi1075': 'unknown', 'pi1076': 'unknown', 'pi1077': 'unknown', 'pi1078': 'unknown', 'pi1079': 'unknown', 'pi1080': 'unknown', 'pi1081': 'unknown', 'pi1082': 'unknown', 'pi1083': 'unknown', 'pi1084': 'unknown', 'pi1085': 'unknown', 'pi1086': 'unknown', 'pi1087': 'unknown', 'pi1088': 'unknown', 'pi1089': 'unknown', 'pi1090': 'unknown', 'pi1091': 'unknown', 'pi1092': 'unknown', 'pi1093': 'unknown', 'pi1094': 'unknown', 'pi1095': 'unknown', 'pi1096': 'unknown', 'pi1097': 'unknown', 'pi1098': 'unknown', 'pi1099': 'unknown', 'pi1100': 'unknown', 'pi1101': 'unknown', 'pi1102': 'unknown', 'pi1103': 'unknown', 'pi1104': 'unknown', 'pi1105': 'unknown', 'pi1106': 'unknown', 'pi1107': 'unknown', 'pi1108': 'unknown', 'pi1109': 'unknown', 'pi1110': 'unknown', 'pi1111': 'unknown', 'pi1112': 'unknown', 'pi1113': 'unknown', 'pi1114': 'unknown', 'pi1115': 'unknown', 'pi1116': 'unknown', 'pi1117': 'unknown', 'pi1118': 'unknown', 'pi1119': 'unknown', 'pi1120': 'unknown', 'pi1121': 'unknown', 'pi1122': 'unknown', 'pi1123': 'unknown', 'pi1124': 'unknown', 'pi1125': 'unknown', 'pi1126': 'unknown', 'pi1127': 'unknown', 'pi1128': 'unknown', 'pi1129': 'unknown', 'pi1130': 'unknown', 'pi1131': 'unknown', 'pi1132': 'unknown', 'pi1133': 'unknown', 'pi1134': 'unknown', 'pi1135': 'unknown', 'pi1136': 'unknown', 'pi1137': 'unknown', 'pi1138': 'unknown', 'pi1139': 'unknown', 'pi1140': 'unknown', 'pi1141': 'unknown', 'pi1142': 'unknown', 'pi1143': 'unknown', 'pi1144': 'unknown', 'pi1145': 'unknown', 'pi1146': 'unknown', 'pi1147': 'unknown', 'pi1148': 'unknown', 'pi1149': 'unknown', 'pi1150': 'unknown', 'pi1151': 'unknown', 'pi1152': 'unknown', 'pi1153': 'unknown', 'pi1154': 'unknown', 'pi1155': 'unknown', 'pi1156': 'unknown', 'pi1157': 'unknown', 'pi1158': 'unknown', 'pi1159': 'unknown', 'pi1160': 'unknown', 'pi1161': 'unknown', 'pi1162': 'unknown', 'pi1163': 'unknown', 'pi1164': 'unknown', 'pi1165': 'unknown', 'pi1166': 'unknown', 'pi1167': 'unknown', 'pi1168': 'unknown', 'pi1169': 'unknown', 'pi1170': 'unknown', 'pi1171': 'unknown', 'pi1172': 'unknown', 'pi1173': 'unknown', 'pi1174': 'unknown', 'pi1175': 'unknown', 'pi1176': 'unknown', 'pi1177': 'unknown', 'pi1178': 'unknown', 'pi1179': 'unknown', 'pi1180': 'unknown', 'pi1181': 'unknown', 'pi1182': 'unknown', 'pi1183': 'unknown', 'pi1184': 'unknown', 'pi1185': 'unknown', 'pi1186': 'unknown', 'pi1187': 'unknown', 'pi1188': 'unknown', 'pi1189': 'unknown', 'pi1190': 'unknown', 'pi1191': 'unknown', 'pi1192': 'unknown', 'pi1193': 'unknown', 'pi1194': 'unknown', 'pi1195': 'unknown', 'pi1196': 'unknown', 'pi1197': 'unknown', 'pi1198': 'unknown', 'pi1199': 'unknown', 'pi1200': 'unknown', 'pi1201': 'unknown', 'pi1202': 'unknown', 'pi1203': 'unknown', 'po0000': 'output', 'po0001': 'unknown', 'po0002': 'unknown', 'po0003': 'unknown', 'po0004': 'unknown', 'po0005': 'unknown', 'po0006': 'unknown', 'po0007': 'unknown', 'po0008': 'unknown', 'po0009': 'unknown', 'po0010': 'unknown', 'po0011': 'unknown', 'po0012': 'unknown', 'po0013': 'unknown', 'po0014': 'unknown', 'po0015': 'unknown', 'po0016': 'unknown', 'po0017': 'unknown', 'po0018': 'unknown', 'po0019': 'unknown', 'po0020': 'unknown', 'po0021': 'unknown', 'po0022': 'unknown', 'po0023': 'unknown', 'po0024': 'unknown', 'po0025': 'unknown', 'po0026': 'unknown', 'po0027': 'unknown', 'po0028': 'unknown', 'po0029': 'unknown', 'po0030': 'unknown', 'po0031': 'unknown', 'po0032': 'unknown', 'po0033': 'unknown', 'po0034': 'unknown', 'po0035': 'unknown', 'po0036': 'unknown', 'po0037': 'unknown', 'po0038': 'unknown', 'po0039': 'unknown', 'po0040': 'unknown', 'po0041': 'unknown', 'po0042': 'unknown', 'po0043': 'unknown', 'po0044': 'unknown', 'po0045': 'unknown', 'po0046': 'unknown', 'po0047': 'unknown', 'po0048': 'unknown', 'po0049': 'unknown', 'po0050': 'unknown', 'po0051': 'unknown', 'po0052': 'unknown', 'po0053': 'unknown', 'po0054': 'unknown', 'po0055': 'unknown', 'po0056': 'unknown', 'po0057': 'unknown', 'po0058': 'unknown', 'po0059': 'unknown', 'po0060': 'unknown', 'po0061': 'unknown', 'po0062': 'unknown', 'po0063': 'unknown', 'po0064': 'unknown', 'po0065': 'unknown', 'po0066': 'unknown', 'po0067': 'unknown', 'po0068': 'unknown', 'po0069': 'unknown', 'po0070': 'unknown', 'po0071': 'unknown', 'po0072': 'unknown', 'po0073': 'unknown', 'po0074': 'unknown', 'po0075': 'unknown', 'po0076': 'unknown', 'po0077': 'unknown', 'po0078': 'unknown', 'po0079': 'unknown', 'po0080': 'unknown', 'po0081': 'unknown', 'po0082': 'unknown', 'po0083': 'unknown', 'po0084': 'unknown', 'po0085': 'unknown', 'po0086': 'unknown', 'po0087': 'unknown', 'po0088': 'unknown', 'po0089': 'unknown', 'po0090': 'unknown', 'po0091': 'unknown', 'po0092': 'unknown', 'po0093': 'unknown', 'po0094': 'unknown', 'po0095': 'unknown', 'po0096': 'unknown', 'po0097': 'unknown', 'po0098': 'unknown', 'po0099': 'unknown', 'po0100': 'unknown', 'po0101': 'unknown', 'po0102': 'unknown', 'po0103': 'unknown', 'po0104': 'unknown', 'po0105': 'unknown', 'po0106': 'unknown', 'po0107': 'unknown', 'po0108': 'unknown', 'po0109': 'unknown', 'po0110': 'unknown', 'po0111': 'unknown', 'po0112': 'unknown', 'po0113': 'unknown', 'po0114': 'unknown', 'po0115': 'unknown', 'po0116': 'unknown', 'po0117': 'unknown', 'po0118': 'unknown', 'po0119': 'unknown', 'po0120': 'unknown', 'po0121': 'unknown', 'po0122': 'unknown', 'po0123': 'unknown', 'po0124': 'unknown', 'po0125': 'unknown', 'po0126': 'unknown', 'po0127': 'unknown', 'po0128': 'unknown', 'po0129': 'unknown', 'po0130': 'unknown', 'po0131': 'unknown', 'po0132': 'unknown', 'po0133': 'unknown', 'po0134': 'unknown', 'po0135': 'unknown', 'po0136': 'unknown', 'po0137': 'unknown', 'po0138': 'unknown', 'po0139': 'unknown', 'po0140': 'unknown', 'po0141': 'unknown', 'po0142': 'unknown', 'po0143': 'unknown', 'po0144': 'unknown', 'po0145': 'unknown', 'po0146': 'unknown', 'po0147': 'unknown', 'po0148': 'unknown', 'po0149': 'unknown', 'po0150': 'unknown', 'po0151': 'unknown', 'po0152': 'unknown', 'po0153': 'unknown', 'po0154': 'unknown', 'po0155': 'unknown', 'po0156': 'unknown', 'po0157': 'unknown', 'po0158': 'unknown', 'po0159': 'unknown', 'po0160': 'unknown', 'po0161': 'unknown', 'po0162': 'unknown', 'po0163': 'unknown', 'po0164': 'unknown', 'po0165': 'unknown', 'po0166': 'unknown', 'po0167': 'unknown', 'po0168': 'unknown', 'po0169': 'unknown', 'po0170': 'unknown', 'po0171': 'unknown', 'po0172': 'unknown', 'po0173': 'unknown', 'po0174': 'unknown', 'po0175': 'unknown', 'po0176': 'unknown', 'po0177': 'unknown', 'po0178': 'unknown', 'po0179': 'unknown', 'po0180': 'unknown', 'po0181': 'unknown', 'po0182': 'unknown', 'po0183': 'unknown', 'po0184': 'unknown', 'po0185': 'unknown', 'po0186': 'unknown', 'po0187': 'unknown', 'po0188': 'unknown', 'po0189': 'unknown', 'po0190': 'unknown', 'po0191': 'unknown', 'po0192': 'unknown', 'po0193': 'unknown', 'po0194': 'unknown', 'po0195': 'unknown', 'po0196': 'unknown', 'po0197': 'unknown', 'po0198': 'unknown', 'po0199': 'unknown', 'po0200': 'unknown', 'po0201': 'unknown', 'po0202': 'unknown', 'po0203': 'unknown', 'po0204': 'unknown', 'po0205': 'unknown', 'po0206': 'unknown', 'po0207': 'unknown', 'po0208': 'unknown', 'po0209': 'unknown', 'po0210': 'unknown', 'po0211': 'unknown', 'po0212': 'unknown', 'po0213': 'unknown', 'po0214': 'unknown', 'po0215': 'unknown', 'po0216': 'unknown', 'po0217': 'unknown', 'po0218': 'unknown', 'po0219': 'unknown', 'po0220': 'unknown', 'po0221': 'unknown', 'po0222': 'unknown', 'po0223': 'unknown', 'po0224': 'unknown', 'po0225': 'unknown', 'po0226': 'unknown', 'po0227': 'unknown', 'po0228': 'unknown', 'po0229': 'unknown', 'po0230': 'unknown', 'po0231': 'unknown', 'po0232': 'unknown', 'po0233': 'unknown', 'po0234': 'unknown', 'po0235': 'unknown', 'po0236': 'unknown', 'po0237': 'unknown', 'po0238': 'unknown', 'po0239': 'unknown', 'po0240': 'unknown', 'po0241': 'unknown', 'po0242': 'unknown', 'po0243': 'unknown', 'po0244': 'unknown', 'po0245': 'unknown', 'po0246': 'unknown', 'po0247': 'unknown', 'po0248': 'unknown', 'po0249': 'unknown', 'po0250': 'unknown', 'po0251': 'unknown', 'po0252': 'unknown', 'po0253': 'unknown', 'po0254': 'unknown', 'po0255': 'unknown', 'po0256': 'unknown', 'po0257': 'unknown', 'po0258': 'unknown', 'po0259': 'unknown', 'po0260': 'unknown', 'po0261': 'unknown', 'po0262': 'unknown', 'po0263': 'unknown', 'po0264': 'unknown', 'po0265': 'unknown', 'po0266': 'unknown', 'po0267': 'unknown', 'po0268': 'unknown', 'po0269': 'unknown', 'po0270': 'unknown', 'po0271': 'unknown', 'po0272': 'unknown', 'po0273': 'unknown', 'po0274': 'unknown', 'po0275': 'unknown', 'po0276': 'unknown', 'po0277': 'unknown', 'po0278': 'unknown', 'po0279': 'unknown', 'po0280': 'unknown', 'po0281': 'unknown', 'po0282': 'unknown', 'po0283': 'unknown', 'po0284': 'unknown', 'po0285': 'unknown', 'po0286': 'unknown', 'po0287': 'unknown', 'po0288': 'unknown', 'po0289': 'unknown', 'po0290': 'unknown', 'po0291': 'unknown', 'po0292': 'unknown', 'po0293': 'unknown', 'po0294': 'unknown', 'po0295': 'unknown', 'po0296': 'unknown', 'po0297': 'unknown', 'po0298': 'unknown', 'po0299': 'unknown', 'po0300': 'unknown', 'po0301': 'unknown', 'po0302': 'unknown', 'po0303': 'unknown', 'po0304': 'unknown', 'po0305': 'unknown', 'po0306': 'unknown', 'po0307': 'unknown', 'po0308': 'unknown', 'po0309': 'unknown', 'po0310': 'unknown', 'po0311': 'unknown', 'po0312': 'unknown', 'po0313': 'unknown', 'po0314': 'unknown', 'po0315': 'unknown', 'po0316': 'unknown', 'po0317': 'unknown', 'po0318': 'unknown', 'po0319': 'unknown', 'po0320': 'unknown', 'po0321': 'unknown', 'po0322': 'unknown', 'po0323': 'unknown', 'po0324': 'unknown', 'po0325': 'unknown', 'po0326': 'unknown', 'po0327': 'unknown', 'po0328': 'unknown', 'po0329': 'unknown', 'po0330': 'unknown', 'po0331': 'unknown', 'po0332': 'unknown', 'po0333': 'unknown', 'po0334': 'unknown', 'po0335': 'unknown', 'po0336': 'unknown', 'po0337': 'unknown', 'po0338': 'unknown', 'po0339': 'unknown', 'po0340': 'unknown', 'po0341': 'unknown', 'po0342': 'unknown', 'po0343': 'unknown', 'po0344': 'unknown', 'po0345': 'unknown', 'po0346': 'unknown', 'po0347': 'unknown', 'po0348': 'unknown', 'po0349': 'unknown', 'po0350': 'unknown', 'po0351': 'unknown', 'po0352': 'unknown', 'po0353': 'unknown', 'po0354': 'unknown', 'po0355': 'unknown', 'po0356': 'unknown', 'po0357': 'unknown', 'po0358': 'unknown', 'po0359': 'unknown', 'po0360': 'unknown', 'po0361': 'unknown', 'po0362': 'unknown', 'po0363': 'unknown', 'po0364': 'unknown', 'po0365': 'unknown', 'po0366': 'unknown', 'po0367': 'unknown', 'po0368': 'unknown', 'po0369': 'unknown', 'po0370': 'unknown', 'po0371': 'unknown', 'po0372': 'unknown', 'po0373': 'unknown', 'po0374': 'unknown', 'po0375': 'unknown', 'po0376': 'unknown', 'po0377': 'unknown', 'po0378': 'unknown', 'po0379': 'unknown', 'po0380': 'unknown', 'po0381': 'unknown', 'po0382': 'unknown', 'po0383': 'unknown', 'po0384': 'unknown', 'po0385': 'unknown', 'po0386': 'unknown', 'po0387': 'unknown', 'po0388': 'unknown', 'po0389': 'unknown', 'po0390': 'unknown', 'po0391': 'unknown', 'po0392': 'unknown', 'po0393': 'unknown', 'po0394': 'unknown', 'po0395': 'unknown', 'po0396': 'unknown', 'po0397': 'unknown', 'po0398': 'unknown', 'po0399': 'unknown', 'po0400': 'unknown', 'po0401': 'unknown', 'po0402': 'unknown', 'po0403': 'unknown', 'po0404': 'unknown', 'po0405': 'unknown', 'po0406': 'unknown', 'po0407': 'unknown', 'po0408': 'unknown', 'po0409': 'unknown', 'po0410': 'unknown', 'po0411': 'unknown', 'po0412': 'unknown', 'po0413': 'unknown', 'po0414': 'unknown', 'po0415': 'unknown', 'po0416': 'unknown', 'po0417': 'unknown', 'po0418': 'unknown', 'po0419': 'unknown', 'po0420': 'unknown', 'po0421': 'unknown', 'po0422': 'unknown', 'po0423': 'unknown', 'po0424': 'unknown', 'po0425': 'unknown', 'po0426': 'unknown', 'po0427': 'unknown', 'po0428': 'unknown', 'po0429': 'unknown', 'po0430': 'unknown', 'po0431': 'unknown', 'po0432': 'unknown', 'po0433': 'unknown', 'po0434': 'unknown', 'po0435': 'unknown', 'po0436': 'unknown', 'po0437': 'unknown', 'po0438': 'unknown', 'po0439': 'unknown', 'po0440': 'unknown', 'po0441': 'unknown', 'po0442': 'unknown', 'po0443': 'unknown', 'po0444': 'unknown', 'po0445': 'unknown', 'po0446': 'unknown', 'po0447': 'unknown', 'po0448': 'unknown', 'po0449': 'unknown', 'po0450': 'unknown', 'po0451': 'unknown', 'po0452': 'unknown', 'po0453': 'unknown', 'po0454': 'unknown', 'po0455': 'unknown', 'po0456': 'unknown', 'po0457': 'unknown', 'po0458': 'unknown', 'po0459': 'unknown', 'po0460': 'unknown', 'po0461': 'unknown', 'po0462': 'unknown', 'po0463': 'unknown', 'po0464': 'unknown', 'po0465': 'unknown', 'po0466': 'unknown', 'po0467': 'unknown', 'po0468': 'unknown', 'po0469': 'unknown', 'po0470': 'unknown', 'po0471': 'unknown', 'po0472': 'unknown', 'po0473': 'unknown', 'po0474': 'unknown', 'po0475': 'unknown', 'po0476': 'unknown', 'po0477': 'unknown', 'po0478': 'unknown', 'po0479': 'unknown', 'po0480': 'unknown', 'po0481': 'unknown', 'po0482': 'unknown', 'po0483': 'unknown', 'po0484': 'unknown', 'po0485': 'unknown', 'po0486': 'unknown', 'po0487': 'unknown', 'po0488': 'unknown', 'po0489': 'unknown', 'po0490': 'unknown', 'po0491': 'unknown', 'po0492': 'unknown', 'po0493': 'unknown', 'po0494': 'unknown', 'po0495': 'unknown', 'po0496': 'unknown', 'po0497': 'unknown', 'po0498': 'unknown', 'po0499': 'unknown', 'po0500': 'unknown', 'po0501': 'unknown', 'po0502': 'unknown', 'po0503': 'unknown', 'po0504': 'unknown', 'po0505': 'unknown', 'po0506': 'unknown', 'po0507': 'unknown', 'po0508': 'unknown', 'po0509': 'unknown', 'po0510': 'unknown', 'po0511': 'unknown', 'po0512': 'unknown', 'po0513': 'unknown', 'po0514': 'unknown', 'po0515': 'unknown', 'po0516': 'unknown', 'po0517': 'unknown', 'po0518': 'unknown', 'po0519': 'unknown', 'po0520': 'unknown', 'po0521': 'unknown', 'po0522': 'unknown', 'po0523': 'unknown', 'po0524': 'unknown', 'po0525': 'unknown', 'po0526': 'unknown', 'po0527': 'unknown', 'po0528': 'unknown', 'po0529': 'unknown', 'po0530': 'unknown', 'po0531': 'unknown', 'po0532': 'unknown', 'po0533': 'unknown', 'po0534': 'unknown', 'po0535': 'unknown', 'po0536': 'unknown', 'po0537': 'unknown', 'po0538': 'unknown', 'po0539': 'unknown', 'po0540': 'unknown', 'po0541': 'unknown', 'po0542': 'unknown', 'po0543': 'unknown', 'po0544': 'unknown', 'po0545': 'unknown', 'po0546': 'unknown', 'po0547': 'unknown', 'po0548': 'unknown', 'po0549': 'unknown', 'po0550': 'unknown', 'po0551': 'unknown', 'po0552': 'unknown', 'po0553': 'unknown', 'po0554': 'unknown', 'po0555': 'unknown', 'po0556': 'unknown', 'po0557': 'unknown', 'po0558': 'unknown', 'po0559': 'unknown', 'po0560': 'unknown', 'po0561': 'unknown', 'po0562': 'unknown', 'po0563': 'unknown', 'po0564': 'unknown', 'po0565': 'unknown', 'po0566': 'unknown', 'po0567': 'unknown', 'po0568': 'unknown', 'po0569': 'unknown', 'po0570': 'unknown', 'po0571': 'unknown', 'po0572': 'unknown', 'po0573': 'unknown', 'po0574': 'unknown', 'po0575': 'unknown', 'po0576': 'unknown', 'po0577': 'unknown', 'po0578': 'unknown', 'po0579': 'unknown', 'po0580': 'unknown', 'po0581': 'unknown', 'po0582': 'unknown', 'po0583': 'unknown', 'po0584': 'unknown', 'po0585': 'unknown', 'po0586': 'unknown', 'po0587': 'unknown', 'po0588': 'unknown', 'po0589': 'unknown', 'po0590': 'unknown', 'po0591': 'unknown', 'po0592': 'unknown', 'po0593': 'unknown', 'po0594': 'unknown', 'po0595': 'unknown', 'po0596': 'unknown', 'po0597': 'unknown', 'po0598': 'unknown', 'po0599': 'unknown', 'po0600': 'unknown', 'po0601': 'unknown', 'po0602': 'unknown', 'po0603': 'unknown', 'po0604': 'unknown', 'po0605': 'unknown', 'po0606': 'unknown', 'po0607': 'unknown', 'po0608': 'unknown', 'po0609': 'unknown', 'po0610': 'unknown', 'po0611': 'unknown', 'po0612': 'unknown', 'po0613': 'unknown', 'po0614': 'unknown', 'po0615': 'unknown', 'po0616': 'unknown', 'po0617': 'unknown', 'po0618': 'unknown', 'po0619': 'unknown', 'po0620': 'unknown', 'po0621': 'unknown', 'po0622': 'unknown', 'po0623': 'unknown', 'po0624': 'unknown', 'po0625': 'unknown', 'po0626': 'unknown', 'po0627': 'unknown', 'po0628': 'unknown', 'po0629': 'unknown', 'po0630': 'unknown', 'po0631': 'unknown', 'po0632': 'unknown', 'po0633': 'unknown', 'po0634': 'unknown', 'po0635': 'unknown', 'po0636': 'unknown', 'po0637': 'unknown', 'po0638': 'unknown', 'po0639': 'unknown', 'po0640': 'unknown', 'po0641': 'unknown', 'po0642': 'unknown', 'po0643': 'unknown', 'po0644': 'unknown', 'po0645': 'unknown', 'po0646': 'unknown', 'po0647': 'unknown', 'po0648': 'unknown', 'po0649': 'unknown', 'po0650': 'unknown', 'po0651': 'unknown', 'po0652': 'unknown', 'po0653': 'unknown', 'po0654': 'unknown', 'po0655': 'unknown', 'po0656': 'unknown', 'po0657': 'unknown', 'po0658': 'unknown', 'po0659': 'unknown', 'po0660': 'unknown', 'po0661': 'unknown', 'po0662': 'unknown', 'po0663': 'unknown', 'po0664': 'unknown', 'po0665': 'unknown', 'po0666': 'unknown', 'po0667': 'unknown', 'po0668': 'unknown', 'po0669': 'unknown', 'po0670': 'unknown', 'po0671': 'unknown', 'po0672': 'unknown', 'po0673': 'unknown', 'po0674': 'unknown', 'po0675': 'unknown', 'po0676': 'unknown', 'po0677': 'unknown', 'po0678': 'unknown', 'po0679': 'unknown', 'po0680': 'unknown', 'po0681': 'unknown', 'po0682': 'unknown', 'po0683': 'unknown', 'po0684': 'unknown', 'po0685': 'unknown', 'po0686': 'unknown', 'po0687': 'unknown', 'po0688': 'unknown', 'po0689': 'unknown', 'po0690': 'unknown', 'po0691': 'unknown', 'po0692': 'unknown', 'po0693': 'unknown', 'po0694': 'unknown', 'po0695': 'unknown', 'po0696': 'unknown', 'po0697': 'unknown', 'po0698': 'unknown', 'po0699': 'unknown', 'po0700': 'unknown', 'po0701': 'unknown', 'po0702': 'unknown', 'po0703': 'unknown', 'po0704': 'unknown', 'po0705': 'unknown', 'po0706': 'unknown', 'po0707': 'unknown', 'po0708': 'unknown', 'po0709': 'unknown', 'po0710': 'unknown', 'po0711': 'unknown', 'po0712': 'unknown', 'po0713': 'unknown', 'po0714': 'unknown', 'po0715': 'unknown', 'po0716': 'unknown', 'po0717': 'unknown', 'po0718': 'unknown', 'po0719': 'unknown', 'po0720': 'unknown', 'po0721': 'unknown', 'po0722': 'unknown', 'po0723': 'unknown', 'po0724': 'unknown', 'po0725': 'unknown', 'po0726': 'unknown', 'po0727': 'unknown', 'po0728': 'unknown', 'po0729': 'unknown', 'po0730': 'unknown', 'po0731': 'unknown', 'po0732': 'unknown', 'po0733': 'unknown', 'po0734': 'unknown', 'po0735': 'unknown', 'po0736': 'unknown', 'po0737': 'unknown', 'po0738': 'unknown', 'po0739': 'unknown', 'po0740': 'unknown', 'po0741': 'unknown', 'po0742': 'unknown', 'po0743': 'unknown', 'po0744': 'unknown', 'po0745': 'unknown', 'po0746': 'unknown', 'po0747': 'unknown', 'po0748': 'unknown', 'po0749': 'unknown', 'po0750': 'unknown', 'po0751': 'unknown', 'po0752': 'unknown', 'po0753': 'unknown', 'po0754': 'unknown', 'po0755': 'unknown', 'po0756': 'unknown', 'po0757': 'unknown', 'po0758': 'unknown', 'po0759': 'unknown', 'po0760': 'unknown', 'po0761': 'unknown', 'po0762': 'unknown', 'po0763': 'unknown', 'po0764': 'unknown', 'po0765': 'unknown', 'po0766': 'unknown', 'po0767': 'unknown', 'po0768': 'unknown', 'po0769': 'unknown', 'po0770': 'unknown', 'po0771': 'unknown', 'po0772': 'unknown', 'po0773': 'unknown', 'po0774': 'unknown', 'po0775': 'unknown', 'po0776': 'unknown', 'po0777': 'unknown', 'po0778': 'unknown', 'po0779': 'unknown', 'po0780': 'unknown', 'po0781': 'unknown', 'po0782': 'unknown', 'po0783': 'unknown', 'po0784': 'unknown', 'po0785': 'unknown', 'po0786': 'unknown', 'po0787': 'unknown', 'po0788': 'unknown', 'po0789': 'unknown', 'po0790': 'unknown', 'po0791': 'unknown', 'po0792': 'unknown', 'po0793': 'unknown', 'po0794': 'unknown', 'po0795': 'unknown', 'po0796': 'unknown', 'po0797': 'unknown', 'po0798': 'unknown', 'po0799': 'unknown', 'po0800': 'unknown', 'po0801': 'unknown', 'po0802': 'unknown', 'po0803': 'unknown', 'po0804': 'unknown', 'po0805': 'unknown', 'po0806': 'unknown', 'po0807': 'unknown', 'po0808': 'unknown', 'po0809': 'unknown', 'po0810': 'unknown', 'po0811': 'unknown', 'po0812': 'unknown', 'po0813': 'unknown', 'po0814': 'unknown', 'po0815': 'unknown', 'po0816': 'unknown', 'po0817': 'unknown', 'po0818': 'unknown', 'po0819': 'unknown', 'po0820': 'unknown', 'po0821': 'unknown', 'po0822': 'unknown', 'po0823': 'unknown', 'po0824': 'unknown', 'po0825': 'unknown', 'po0826': 'unknown', 'po0827': 'unknown', 'po0828': 'unknown', 'po0829': 'unknown', 'po0830': 'unknown', 'po0831': 'unknown', 'po0832': 'unknown', 'po0833': 'unknown', 'po0834': 'unknown', 'po0835': 'unknown', 'po0836': 'unknown', 'po0837': 'unknown', 'po0838': 'unknown', 'po0839': 'unknown', 'po0840': 'unknown', 'po0841': 'unknown', 'po0842': 'unknown', 'po0843': 'unknown', 'po0844': 'unknown', 'po0845': 'unknown', 'po0846': 'unknown', 'po0847': 'unknown', 'po0848': 'unknown', 'po0849': 'unknown', 'po0850': 'unknown', 'po0851': 'unknown', 'po0852': 'unknown', 'po0853': 'unknown', 'po0854': 'unknown', 'po0855': 'unknown', 'po0856': 'unknown', 'po0857': 'unknown', 'po0858': 'unknown', 'po0859': 'unknown', 'po0860': 'unknown', 'po0861': 'unknown', 'po0862': 'unknown', 'po0863': 'unknown', 'po0864': 'unknown', 'po0865': 'unknown', 'po0866': 'unknown', 'po0867': 'unknown', 'po0868': 'unknown', 'po0869': 'unknown', 'po0870': 'unknown', 'po0871': 'unknown', 'po0872': 'unknown', 'po0873': 'unknown', 'po0874': 'unknown', 'po0875': 'unknown', 'po0876': 'unknown', 'po0877': 'unknown', 'po0878': 'unknown', 'po0879': 'unknown', 'po0880': 'unknown', 'po0881': 'unknown', 'po0882': 'unknown', 'po0883': 'unknown', 'po0884': 'unknown', 'po0885': 'unknown', 'po0886': 'unknown', 'po0887': 'unknown', 'po0888': 'unknown', 'po0889': 'unknown', 'po0890': 'unknown', 'po0891': 'unknown', 'po0892': 'unknown', 'po0893': 'unknown', 'po0894': 'unknown', 'po0895': 'unknown', 'po0896': 'unknown', 'po0897': 'unknown', 'po0898': 'unknown', 'po0899': 'unknown', 'po0900': 'unknown', 'po0901': 'unknown', 'po0902': 'unknown', 'po0903': 'unknown', 'po0904': 'unknown', 'po0905': 'unknown', 'po0906': 'unknown', 'po0907': 'unknown', 'po0908': 'unknown', 'po0909': 'unknown', 'po0910': 'unknown', 'po0911': 'unknown', 'po0912': 'unknown', 'po0913': 'unknown', 'po0914': 'unknown', 'po0915': 'unknown', 'po0916': 'unknown', 'po0917': 'unknown', 'po0918': 'unknown', 'po0919': 'unknown', 'po0920': 'unknown', 'po0921': 'unknown', 'po0922': 'unknown', 'po0923': 'unknown', 'po0924': 'unknown', 'po0925': 'unknown', 'po0926': 'unknown', 'po0927': 'unknown', 'po0928': 'unknown', 'po0929': 'unknown', 'po0930': 'unknown', 'po0931': 'unknown', 'po0932': 'unknown', 'po0933': 'unknown', 'po0934': 'unknown', 'po0935': 'unknown', 'po0936': 'unknown', 'po0937': 'unknown', 'po0938': 'unknown', 'po0939': 'unknown', 'po0940': 'unknown', 'po0941': 'unknown', 'po0942': 'unknown', 'po0943': 'unknown', 'po0944': 'unknown', 'po0945': 'unknown', 'po0946': 'unknown', 'po0947': 'unknown', 'po0948': 'unknown', 'po0949': 'unknown', 'po0950': 'unknown', 'po0951': 'unknown', 'po0952': 'unknown', 'po0953': 'unknown', 'po0954': 'unknown', 'po0955': 'unknown', 'po0956': 'unknown', 'po0957': 'unknown', 'po0958': 'unknown', 'po0959': 'unknown', 'po0960': 'unknown', 'po0961': 'unknown', 'po0962': 'unknown', 'po0963': 'unknown', 'po0964': 'unknown', 'po0965': 'unknown', 'po0966': 'unknown', 'po0967': 'unknown', 'po0968': 'unknown', 'po0969': 'unknown', 'po0970': 'unknown', 'po0971': 'unknown', 'po0972': 'unknown', 'po0973': 'unknown', 'po0974': 'unknown', 'po0975': 'unknown', 'po0976': 'unknown', 'po0977': 'unknown', 'po0978': 'unknown', 'po0979': 'unknown', 'po0980': 'unknown', 'po0981': 'unknown', 'po0982': 'unknown', 'po0983': 'unknown', 'po0984': 'unknown', 'po0985': 'unknown', 'po0986': 'unknown', 'po0987': 'unknown', 'po0988': 'unknown', 'po0989': 'unknown', 'po0990': 'unknown', 'po0991': 'unknown', 'po0992': 'unknown', 'po0993': 'unknown', 'po0994': 'unknown', 'po0995': 'unknown', 'po0996': 'unknown', 'po0997': 'unknown', 'po0998': 'unknown', 'po0999': 'unknown', 'po1000': 'unknown', 'po1001': 'unknown', 'po1002': 'unknown', 'po1003': 'unknown', 'po1004': 'unknown', 'po1005': 'unknown', 'po1006': 'unknown', 'po1007': 'unknown', 'po1008': 'unknown', 'po1009': 'unknown', 'po1010': 'unknown', 'po1011': 'unknown', 'po1012': 'unknown', 'po1013': 'unknown', 'po1014': 'unknown', 'po1015': 'unknown', 'po1016': 'unknown', 'po1017': 'unknown', 'po1018': 'unknown', 'po1019': 'unknown', 'po1020': 'unknown', 'po1021': 'unknown', 'po1022': 'unknown', 'po1023': 'unknown', 'po1024': 'unknown', 'po1025': 'unknown', 'po1026': 'unknown', 'po1027': 'unknown', 'po1028': 'unknown', 'po1029': 'unknown', 'po1030': 'unknown', 'po1031': 'unknown', 'po1032': 'unknown', 'po1033': 'unknown', 'po1034': 'unknown', 'po1035': 'unknown', 'po1036': 'unknown', 'po1037': 'unknown', 'po1038': 'unknown', 'po1039': 'unknown', 'po1040': 'unknown', 'po1041': 'unknown', 'po1042': 'unknown', 'po1043': 'unknown', 'po1044': 'unknown', 'po1045': 'unknown', 'po1046': 'unknown', 'po1047': 'unknown', 'po1048': 'unknown', 'po1049': 'unknown', 'po1050': 'unknown', 'po1051': 'unknown', 'po1052': 'unknown', 'po1053': 'unknown', 'po1054': 'unknown', 'po1055': 'unknown', 'po1056': 'unknown', 'po1057': 'unknown', 'po1058': 'unknown', 'po1059': 'unknown', 'po1060': 'unknown', 'po1061': 'unknown', 'po1062': 'unknown', 'po1063': 'unknown', 'po1064': 'unknown', 'po1065': 'unknown', 'po1066': 'unknown', 'po1067': 'unknown', 'po1068': 'unknown', 'po1069': 'unknown', 'po1070': 'unknown', 'po1071': 'unknown', 'po1072': 'unknown', 'po1073': 'unknown', 'po1074': 'unknown', 'po1075': 'unknown', 'po1076': 'unknown', 'po1077': 'unknown', 'po1078': 'unknown', 'po1079': 'unknown', 'po1080': 'unknown', 'po1081': 'unknown', 'po1082': 'unknown', 'po1083': 'unknown', 'po1084': 'unknown', 'po1085': 'unknown', 'po1086': 'unknown', 'po1087': 'unknown', 'po1088': 'unknown', 'po1089': 'unknown', 'po1090': 'unknown', 'po1091': 'unknown', 'po1092': 'unknown', 'po1093': 'unknown', 'po1094': 'unknown', 'po1095': 'unknown', 'po1096': 'unknown', 'po1097': 'unknown', 'po1098': 'unknown', 'po1099': 'unknown', 'po1100': 'unknown', 'po1101': 'unknown', 'po1102': 'unknown', 'po1103': 'unknown', 'po1104': 'unknown', 'po1105': 'unknown', 'po1106': 'unknown', 'po1107': 'unknown', 'po1108': 'unknown', 'po1109': 'unknown', 'po1110': 'unknown', 'po1111': 'unknown', 'po1112': 'unknown', 'po1113': 'unknown', 'po1114': 'unknown', 'po1115': 'unknown', 'po1116': 'unknown', 'po1117': 'unknown', 'po1118': 'unknown', 'po1119': 'unknown', 'po1120': 'unknown', 'po1121': 'unknown', 'po1122': 'unknown', 'po1123': 'unknown', 'po1124': 'unknown', 'po1125': 'unknown', 'po1126': 'unknown', 'po1127': 'unknown', 'po1128': 'unknown', 'po1129': 'unknown', 'po1130': 'unknown', 'po1131': 'unknown', 'po1132': 'unknown', 'po1133': 'unknown', 'po1134': 'unknown', 'po1135': 'unknown', 'po1136': 'unknown', 'po1137': 'unknown', 'po1138': 'unknown', 'po1139': 'unknown', 'po1140': 'unknown', 'po1141': 'unknown', 'po1142': 'unknown', 'po1143': 'unknown', 'po1144': 'unknown', 'po1145': 'unknown', 'po1146': 'unknown', 'po1147': 'unknown', 'po1148': 'unknown', 'po1149': 'unknown', 'po1150': 'unknown', 'po1151': 'unknown', 'po1152': 'unknown', 'po1153': 'unknown', 'po1154': 'unknown', 'po1155': 'unknown', 'po1156': 'unknown', 'po1157': 'unknown', 'po1158': 'unknown', 'po1159': 'unknown', 'po1160': 'unknown', 'po1161': 'unknown', 'po1162': 'unknown', 'po1163': 'unknown', 'po1164': 'unknown', 'po1165': 'unknown', 'po1166': 'unknown', 'po1167': 'unknown', 'po1168': 'unknown', 'po1169': 'unknown', 'po1170': 'unknown', 'po1171': 'unknown', 'po1172': 'unknown', 'po1173': 'unknown', 'po1174': 'unknown', 'po1175': 'unknown', 'po1176': 'unknown', 'po1177': 'unknown', 'po1178': 'unknown', 'po1179': 'unknown', 'po1180': 'unknown', 'po1181': 'unknown', 'po1182': 'unknown', 'po1183': 'unknown', 'po1184': 'unknown', 'po1185': 'unknown', 'po1186': 'unknown', 'po1187': 'unknown', 'po1188': 'unknown', 'po1189': 'unknown', 'po1190': 'unknown', 'po1191': 'unknown', 'po1192': 'unknown', 'po1193': 'unknown', 'po1194': 'unknown', 'po1195': 'unknown', 'po1196': 'unknown', 'po1197': 'unknown', 'po1198': 'unknown', 'po1199': 'unknown', 'po1200': 'unknown', 'po1201': 'unknown', 'po1202': 'unknown', 'po1203': 'unknown', 'po1204': 'unknown', 'po1205': 'unknown', 'po1206': 'unknown', 'po1207': 'unknown', 'po1208': 'unknown', 'po1209': 'unknown', 'po1210': 'unknown', 'po1211': 'unknown', 'po1212': 'unknown', 'po1213': 'unknown', 'po1214': 'unknown', 'po1215': 'unknown', 'po1216': 'unknown', 'po1217': 'unknown', 'po1218': 'unknown', 'po1219': 'unknown', 'po1220': 'unknown', 'po1221': 'unknown', 'po1222': 'unknown', 'po1223': 'unknown', 'po1224': 'unknown', 'po1225': 'unknown', 'po1226': 'unknown', 'po1227': 'unknown', 'po1228': 'unknown', 'po1229': 'unknown', 'po1230': 'unknown'}\n",
      "Running LLM analysis with Phi-2...\n"
     ]
    },
    {
     "metadata": {
      "tags": null
     },
     "name": "stderr",
     "output_type": "stream",
     "text": [
      "The attention mask and the pad token id were not set. As a consequence, you may observe unexpected behavior. Please pass your input's `attention_mask` to obtain reliable results.\n",
      "Setting `pad_token_id` to `eos_token_id`:50256 for open-end generation.\n"
     ]
    },
    {
     "metadata": {
      "tags": null
     },
     "name": "stdout",
     "output_type": "stream",
     "text": [
      "Error generating with Phi-2: Input length of input_ids is 1931142, but `max_length` is set to 2048. This can lead to unexpected behavior. You should consider increasing `max_length` or, better yet, setting `max_new_tokens`.\n",
      "Using device for rule-based analysis: cuda\n",
      "Generating testbench with Phi-2...\n"
     ]
    },
    {
     "metadata": {
      "tags": null
     },
     "name": "stderr",
     "output_type": "stream",
     "text": [
      "The attention mask and the pad token id were not set. As a consequence, you may observe unexpected behavior. Please pass your input's `attention_mask` to obtain reliable results.\n",
      "Setting `pad_token_id` to `eos_token_id`:50256 for open-end generation.\n"
     ]
    },
    {
     "metadata": {
      "tags": null
     },
     "name": "stdout",
     "output_type": "stream",
     "text": [
      "Error generating with Phi-2: Input length of input_ids is 1948224, but `max_length` is set to 4096. This can lead to unexpected behavior. You should consider increasing `max_length` or, better yet, setting `max_new_tokens`.\n",
      "Testbench saved to testbenches/memctrl_tb.v\n"
     ]
    },
    {
     "metadata": {
      "tags": null
     },
     "name": "stderr",
     "output_type": "stream",
     "text": [
      "The attention mask and the pad token id were not set. As a consequence, you may observe unexpected behavior. Please pass your input's `attention_mask` to obtain reliable results.\n",
      "Setting `pad_token_id` to `eos_token_id`:50256 for open-end generation.\n"
     ]
    },
    {
     "metadata": {
      "tags": null
     },
     "name": "stdout",
     "output_type": "stream",
     "text": [
      "Compilation failed for memctrl:\n",
      "/content/drive/MyDrive/RTLData/Negation of assignment/memctrl_1.v:14222: syntax error\n",
      "/content/drive/MyDrive/RTLData/Negation of assignment/memctrl_1.v:14222: error: syntax error in left side of continuous assignment.\n",
      "\n",
      "\n",
      "Processing /content/drive/MyDrive/RTLData/Negation of assignment/FSm_full_ParameterError_5.v...\n",
      "Module: fsm_full, Ports: {'clock': 'input', '// Clockreset': 'input', '// Active high resetreq_0': 'input', '// Active high request from agent 0req_1': 'output', '// Active high request from agent 1req_2': 'output', '// Active high request from agent 2req_3': 'output', '// Active high request from agent 3gnt_0': 'output', '// Active high grant to agent 0gnt_1': 'unknown', '// Active high grant to agent 1gnt_2': 'unknown', '// Active high grant to agent 2gnt_3   // Active high grant to agent 3': 'unknown'}\n",
      "Running LLM analysis with Phi-2...\n"
     ]
    },
    {
     "metadata": {
      "tags": null
     },
     "name": "stderr",
     "output_type": "stream",
     "text": [
      "The attention mask and the pad token id were not set. As a consequence, you may observe unexpected behavior. Please pass your input's `attention_mask` to obtain reliable results.\n",
      "Setting `pad_token_id` to `eos_token_id`:50256 for open-end generation.\n"
     ]
    },
    {
     "metadata": {
      "tags": null
     },
     "name": "stdout",
     "output_type": "stream",
     "text": [
      "Generating testbench with Phi-2...\n",
      "Testbench saved to testbenches/fsm_full_tb.v\n",
      "Compilation failed for fsm_full:\n",
      "testbenches/fsm_full_tb.v:1: error: 'fsm_full' has already been declared in this scope.\n",
      "/content/drive/MyDrive/RTLData/Negation of assignment/FSm_full_ParameterError_5.v:1:      : It was declared here as a module.\n",
      "testbenches/fsm_full_tb.v:114: Module fsm_full was already declared here: /content/drive/MyDrive/RTLData/Negation of assignment/FSm_full_ParameterError_5.v:1\n",
      "\n",
      "\n",
      "\n",
      "Processing /content/drive/MyDrive/RTLData/Negation of assignment/LIFOBuffer_4.v...\n",
      "Module: jLIFO, Ports: {'DATAOUT': 'output', 'full': 'output', 'empty': 'unknown', 'clock': 'input', 'reset': 'input', 'wn': 'unknown', 'rn': 'unknown', 'DATAIN': 'input'}\n"
     ]
    },
    {
     "metadata": {
      "tags": null
     },
     "name": "stderr",
     "output_type": "stream",
     "text": [
      "The attention mask and the pad token id were not set. As a consequence, you may observe unexpected behavior. Please pass your input's `attention_mask` to obtain reliable results.\n",
      "Setting `pad_token_id` to `eos_token_id`:50256 for open-end generation.\n",
      "The attention mask and the pad token id were not set. As a consequence, you may observe unexpected behavior. Please pass your input's `attention_mask` to obtain reliable results.\n",
      "Setting `pad_token_id` to `eos_token_id`:50256 for open-end generation.\n"
     ]
    },
    {
     "metadata": {
      "tags": null
     },
     "name": "stdout",
     "output_type": "stream",
     "text": [
      "Running LLM analysis with Phi-2...\n",
      "Generating testbench with Phi-2...\n"
     ]
    },
    {
     "metadata": {
      "tags": null
     },
     "name": "stderr",
     "output_type": "stream",
     "text": [
      "The attention mask and the pad token id were not set. As a consequence, you may observe unexpected behavior. Please pass your input's `attention_mask` to obtain reliable results.\n",
      "Setting `pad_token_id` to `eos_token_id`:50256 for open-end generation.\n"
     ]
    },
    {
     "metadata": {
      "tags": null
     },
     "name": "stdout",
     "output_type": "stream",
     "text": [
      "Testbench saved to testbenches/jLIFO_tb.v\n",
      "Compilation failed for jLIFO:\n",
      "/content/drive/MyDrive/RTLData/Negation of assignment/LIFOBuffer_4.v:14: syntax error\n",
      "/content/drive/MyDrive/RTLData/Negation of assignment/LIFOBuffer_4.v:14: error: syntax error in left side of continuous assignment.\n",
      "testbenches/jLIFO_tb.v:8: syntax error\n",
      "testbenches/jLIFO_tb.v:8: error: malformed statement\n",
      "testbenches/jLIFO_tb.v:9: syntax error\n",
      "testbenches/jLIFO_tb.v:9: error: malformed statement\n",
      "\n",
      "\n",
      "Processing /content/drive/MyDrive/RTLData/Negation of assignment/PatternDetector_2.v...\n",
      "Module: det_110101, Ports: {'input clk': 'input', 'input rstn': 'input', 'input in': 'unknown', 'output out': 'output'}\n",
      "Running LLM analysis with Phi-2...\n"
     ]
    },
    {
     "metadata": {
      "tags": null
     },
     "name": "stderr",
     "output_type": "stream",
     "text": [
      "The attention mask and the pad token id were not set. As a consequence, you may observe unexpected behavior. Please pass your input's `attention_mask` to obtain reliable results.\n",
      "Setting `pad_token_id` to `eos_token_id`:50256 for open-end generation.\n"
     ]
    },
    {
     "metadata": {
      "tags": null
     },
     "name": "stdout",
     "output_type": "stream",
     "text": [
      "Generating testbench with Phi-2...\n"
     ]
    },
    {
     "metadata": {
      "tags": null
     },
     "name": "stderr",
     "output_type": "stream",
     "text": [
      "The attention mask and the pad token id were not set. As a consequence, you may observe unexpected behavior. Please pass your input's `attention_mask` to obtain reliable results.\n",
      "Setting `pad_token_id` to `eos_token_id`:50256 for open-end generation.\n"
     ]
    },
    {
     "metadata": {
      "tags": null
     },
     "name": "stdout",
     "output_type": "stream",
     "text": [
      "Testbench saved to testbenches/det_110101_tb.v\n",
      "Compilation failed for det_110101:\n",
      "/content/drive/MyDrive/RTLData/Negation of assignment/PatternDetector_2.v:7: syntax error\n",
      "/content/drive/MyDrive/RTLData/Negation of assignment/PatternDetector_2.v:6: error: syntax error in parameter list.\n",
      "testbenches/det_110101_tb.v:1: error: 'det_110101' has already been declared in this scope.\n",
      "/content/drive/MyDrive/RTLData/Negation of assignment/PatternDetector_2.v:1:      : It was declared here as a module.\n",
      "testbenches/det_110101_tb.v:7: syntax error\n",
      "testbenches/det_110101_tb.v:6: error: syntax error in parameter list.\n",
      "testbenches/det_110101_tb.v:63: Module det_110101 was already declared here: /content/drive/MyDrive/RTLData/Negation of assignment/PatternDetector_2.v:1\n",
      "\n",
      "\n",
      "\n",
      "Processing /content/drive/MyDrive/RTLData/Negation of assignment/SequenceDetector_ParameterError_2.v...\n",
      "Module: seq_detector_1010, Ports: {'input bit clk': 'input', 'rst_n': 'input', 'x': 'unknown', 'output z': 'output'}\n",
      "Running LLM analysis with Phi-2...\n"
     ]
    },
    {
     "metadata": {
      "tags": null
     },
     "name": "stderr",
     "output_type": "stream",
     "text": [
      "The attention mask and the pad token id were not set. As a consequence, you may observe unexpected behavior. Please pass your input's `attention_mask` to obtain reliable results.\n",
      "Setting `pad_token_id` to `eos_token_id`:50256 for open-end generation.\n"
     ]
    },
    {
     "metadata": {
      "tags": null
     },
     "name": "stdout",
     "output_type": "stream",
     "text": [
      "Generating testbench with Phi-2...\n"
     ]
    },
    {
     "metadata": {
      "tags": null
     },
     "name": "stderr",
     "output_type": "stream",
     "text": [
      "The attention mask and the pad token id were not set. As a consequence, you may observe unexpected behavior. Please pass your input's `attention_mask` to obtain reliable results.\n",
      "Setting `pad_token_id` to `eos_token_id`:50256 for open-end generation.\n"
     ]
    },
    {
     "metadata": {
      "tags": null
     },
     "name": "stdout",
     "output_type": "stream",
     "text": [
      "Testbench saved to testbenches/seq_detector_1010_tb.v\n",
      "Compilation failed for seq_detector_1010:\n",
      "testbenches/seq_detector_1010_tb.v:5: warning: macro verilog undefined (and assumed null) at this point.\n",
      "testbenches/seq_detector_1010_tb.v:23: warning: macro verilog undefined (and assumed null) at this point.\n",
      "testbenches/seq_detector_1010_tb.v:39: warning: macro verilog undefined (and assumed null) at this point.\n",
      "testbenches/seq_detector_1010_tb.v:58: warning: macro verilog undefined (and assumed null) at this point.\n",
      "/content/drive/MyDrive/RTLData/Negation of assignment/SequenceDetector_ParameterError_2.v:1: syntax error\n",
      "/content/drive/MyDrive/RTLData/Negation of assignment/SequenceDetector_ParameterError_2.v:1: Errors in port declarations.\n",
      "/content/drive/MyDrive/RTLData/Negation of assignment/SequenceDetector_ParameterError_2.v:7: syntax error\n",
      "/content/drive/MyDrive/RTLData/Negation of assignment/SequenceDetector_ParameterError_2.v:7: error: Invalid module instantiation\n",
      "testbenches/seq_detector_1010_tb.v:1: error: 'seq_detector_1010' has already been declared in this scope.\n",
      "/content/drive/MyDrive/RTLData/Negation of assignment/SequenceDetector_ParameterError_2.v:1:      : It was declared here as a module.\n",
      "testbenches/seq_detector_1010_tb.v:1: syntax error\n",
      "testbenches/seq_detector_1010_tb.v:1: Errors in port declarations.\n",
      "testbenches/seq_detector_1010_tb.v:2: syntax error\n",
      "testbenches/seq_detector_1010_tb.v:7: error: invalid module item.\n",
      "testbenches/seq_detector_1010_tb.v:8: syntax error\n",
      "testbenches/seq_detector_1010_tb.v:8: error: Invalid module instantiation\n",
      "testbenches/seq_detector_1010_tb.v:9: error: Invalid module instantiation\n",
      "testbenches/seq_detector_1010_tb.v:19: syntax error\n",
      "testbenches/seq_detector_1010_tb.v:25: error: invalid module item.\n",
      "testbenches/seq_detector_1010_tb.v:35: syntax error\n",
      "testbenches/seq_detector_1010_tb.v:41: error: invalid module item.\n",
      "testbenches/seq_detector_1010_tb.v:42: syntax error\n",
      "testbenches/seq_detector_1010_tb.v:42: error: Invalid module instantiation\n",
      "testbenches/seq_detector_1010_tb.v:43: error: Invalid module instantiation\n",
      "testbenches/seq_detector_1010_tb.v:44: error: Invalid module instantiation\n",
      "testbenches/seq_detector_1010_tb.v:54: syntax error\n",
      "testbenches/seq_detector_1010_tb.v:59: error: invalid module item.\n",
      "testbenches/seq_detector_1010_tb.v:65: syntax error\n",
      "testbenches/seq_detector_1010_tb.v:65: error: Invalid module instantiation\n",
      "testbenches/seq_detector_1010_tb.v:95: Module seq_detector_1010 was already declared here: /content/drive/MyDrive/RTLData/Negation of assignment/SequenceDetector_ParameterError_2.v:1\n",
      "\n",
      "\n",
      "\n",
      "Processing /content/drive/MyDrive/RTLData/Negation of assignment/s510_0.v...\n",
      "Multiple or nested module definitions detected.\n",
      "Created fixed Verilog file: testbenches/fixed_s510_0.v\n",
      "Module: dff, Ports: {'CK': 'input', 'q': 'output', 'd': 'unknown'}\n",
      "Running LLM analysis with Phi-2...\n"
     ]
    },
    {
     "metadata": {
      "tags": null
     },
     "name": "stderr",
     "output_type": "stream",
     "text": [
      "The attention mask and the pad token id were not set. As a consequence, you may observe unexpected behavior. Please pass your input's `attention_mask` to obtain reliable results.\n",
      "Setting `pad_token_id` to `eos_token_id`:50256 for open-end generation.\n"
     ]
    },
    {
     "metadata": {
      "tags": null
     },
     "name": "stdout",
     "output_type": "stream",
     "text": [
      "Generating testbench with Phi-2...\n"
     ]
    },
    {
     "metadata": {
      "tags": null
     },
     "name": "stderr",
     "output_type": "stream",
     "text": [
      "The attention mask and the pad token id were not set. As a consequence, you may observe unexpected behavior. Please pass your input's `attention_mask` to obtain reliable results.\n",
      "Setting `pad_token_id` to `eos_token_id`:50256 for open-end generation.\n"
     ]
    },
    {
     "metadata": {
      "tags": null
     },
     "name": "stdout",
     "output_type": "stream",
     "text": [
      "Testbench saved to testbenches/dff_tb.v\n",
      "Compilation failed for dff:\n",
      "testbenches/dff_tb.v:1: error: 'dff' has already been declared in this scope.\n",
      "testbenches/fixed_s510_0.v:1:      : It was declared here as a module.\n",
      "testbenches/dff_tb.v:6: Module dff was already declared here: testbenches/fixed_s510_0.v:1\n",
      "\n",
      "\n",
      "\n",
      "Processing /content/drive/MyDrive/RTLData/Negation of assignment/SinglePortRAM_3.v...\n",
      "No valid module declaration found.\n",
      "Created fixed Verilog file: testbenches/fixed_SinglePortRAM_3.v\n",
      "Could not parse module definition in testbenches/fixed_SinglePortRAM_3.v\n",
      "\n",
      "Processing /content/drive/MyDrive/RTLData/Negation of assignment/GreyCounter_3.v...\n",
      "No valid module declaration found.\n",
      "Created fixed Verilog file: testbenches/fixed_GreyCounter_3.v\n",
      "Could not parse module definition in testbenches/fixed_GreyCounter_3.v\n",
      "\n",
      "Processing /content/drive/MyDrive/RTLData/Negation of assignment/router_0.v...\n",
      "Module: router, Ports: {'\\\\dest_x[0]': 'unknown', '\\\\dest_x[1]': 'unknown', '\\\\dest_x[2]': 'unknown', '\\\\dest_x[3]': 'unknown', '\\\\dest_x[4]': 'unknown', '\\\\dest_x[5]': 'unknown', '\\\\dest_x[6]': 'unknown', '\\\\dest_x[7]': 'unknown', '\\\\dest_x[8]': 'unknown', '\\\\dest_x[9]': 'unknown', '\\\\dest_x[10]': 'unknown', '\\\\dest_x[11]': 'unknown', '\\\\dest_x[12]': 'unknown', '\\\\dest_x[13]': 'unknown', '\\\\dest_x[14]': 'unknown', '\\\\dest_x[15]': 'unknown', '\\\\dest_x[16]': 'unknown', '\\\\dest_x[17]': 'unknown', '\\\\dest_x[18]': 'unknown', '\\\\dest_x[19]': 'unknown', '\\\\dest_x[20]': 'unknown', '\\\\dest_x[21]': 'unknown', '\\\\dest_x[22]': 'unknown', '\\\\dest_x[23]': 'unknown', '\\\\dest_x[24]': 'unknown', '\\\\dest_x[25]': 'unknown', '\\\\dest_x[26]': 'unknown', '\\\\dest_x[27]': 'unknown', '\\\\dest_x[28]': 'unknown', '\\\\dest_x[29]': 'unknown', '\\\\dest_y[0]': 'unknown', '\\\\dest_y[1]': 'unknown', '\\\\dest_y[2]': 'unknown', '\\\\dest_y[3]': 'unknown', '\\\\dest_y[4]': 'unknown', '\\\\dest_y[5]': 'unknown', '\\\\dest_y[6]': 'unknown', '\\\\dest_y[7]': 'unknown', '\\\\dest_y[8]': 'unknown', '\\\\dest_y[9]': 'unknown', '\\\\dest_y[10]': 'unknown', '\\\\dest_y[11]': 'unknown', '\\\\dest_y[12]': 'unknown', '\\\\dest_y[13]': 'unknown', '\\\\dest_y[14]': 'unknown', '\\\\dest_y[15]': 'unknown', '\\\\dest_y[16]': 'unknown', '\\\\dest_y[17]': 'unknown', '\\\\dest_y[18]': 'unknown', '\\\\dest_y[19]': 'unknown', '\\\\dest_y[20]': 'unknown', '\\\\dest_y[21]': 'unknown', '\\\\dest_y[22]': 'unknown', '\\\\dest_y[23]': 'unknown', '\\\\dest_y[24]': 'unknown', '\\\\dest_y[25]': 'unknown', '\\\\dest_y[26]': 'unknown', '\\\\dest_y[27]': 'unknown', '\\\\dest_y[28]': 'unknown', '\\\\dest_y[29]': 'unknown', '\\\\outport[0]': 'output', '\\\\outport[1]': 'output', '\\\\outport[2]': 'output', '\\\\outport[3]': 'output', '\\\\outport[4]': 'output', '\\\\outport[5]': 'output', '\\\\outport[6]': 'output', '\\\\outport[7]': 'output', '\\\\outport[8]': 'output', '\\\\outport[9]': 'output', '\\\\outport[10]': 'output', '\\\\outport[11]': 'output', '\\\\outport[12]': 'output', '\\\\outport[13]': 'output', '\\\\outport[14]': 'output', '\\\\outport[15]': 'output', '\\\\outport[16]': 'output', '\\\\outport[17]': 'output', '\\\\outport[18]': 'output', '\\\\outport[19]': 'output', '\\\\outport[20]': 'output', '\\\\outport[21]': 'output', '\\\\outport[22]': 'output', '\\\\outport[23]': 'output', '\\\\outport[24]': 'output', '\\\\outport[25]': 'output', '\\\\outport[26]': 'output', '\\\\outport[27]': 'output', '\\\\outport[28]': 'output', '\\\\outport[29]': 'output'}\n",
      "Running LLM analysis with Phi-2...\n",
      "Error generating with Phi-2: Input length of input_ids is 10479, but `max_length` is set to 2048. This can lead to unexpected behavior. You should consider increasing `max_length` or, better yet, setting `max_new_tokens`.\n"
     ]
    },
    {
     "metadata": {
      "tags": null
     },
     "name": "stderr",
     "output_type": "stream",
     "text": [
      "The attention mask and the pad token id were not set. As a consequence, you may observe unexpected behavior. Please pass your input's `attention_mask` to obtain reliable results.\n",
      "Setting `pad_token_id` to `eos_token_id`:50256 for open-end generation.\n"
     ]
    },
    {
     "metadata": {
      "tags": null
     },
     "name": "stdout",
     "output_type": "stream",
     "text": [
      "Using device for rule-based analysis: cuda\n",
      "Generating testbench with Phi-2...\n",
      "Error generating with Phi-2: Input length of input_ids is 11415, but `max_length` is set to 4096. This can lead to unexpected behavior. You should consider increasing `max_length` or, better yet, setting `max_new_tokens`.\n",
      "Testbench saved to testbenches/router_tb.v\n",
      "Compilation failed for router:\n",
      "testbenches/router_tb.v:3: syntax error\n",
      "testbenches/router_tb.v:125: error: invalid module item.\n",
      "testbenches/router_tb.v:136: syntax error\n",
      "I give up.\n",
      "\n",
      "\n",
      "Processing /content/drive/MyDrive/RTLData/Negation of assignment/UPCounter_3.v...\n",
      "No valid module declaration found.\n",
      "Created fixed Verilog file: testbenches/fixed_UPCounter_3.v\n",
      "Could not parse module definition in testbenches/fixed_UPCounter_3.v\n",
      "\n",
      "Processing /content/drive/MyDrive/RTLData/Negation of assignment/SequenceDetector_ParameterError_4.v...\n",
      "Module: seq_detector_1010, Ports: {'input bit clk': 'input', 'rst_n': 'input', 'x': 'unknown', 'output z': 'output'}\n"
     ]
    },
    {
     "metadata": {
      "tags": null
     },
     "name": "stderr",
     "output_type": "stream",
     "text": [
      "The attention mask and the pad token id were not set. As a consequence, you may observe unexpected behavior. Please pass your input's `attention_mask` to obtain reliable results.\n",
      "Setting `pad_token_id` to `eos_token_id`:50256 for open-end generation.\n",
      "The attention mask and the pad token id were not set. As a consequence, you may observe unexpected behavior. Please pass your input's `attention_mask` to obtain reliable results.\n",
      "Setting `pad_token_id` to `eos_token_id`:50256 for open-end generation.\n"
     ]
    },
    {
     "metadata": {
      "tags": null
     },
     "name": "stdout",
     "output_type": "stream",
     "text": [
      "Running LLM analysis with Phi-2...\n",
      "Generating testbench with Phi-2...\n",
      "Testbench saved to testbenches/seq_detector_1010_tb.v\n",
      "Compilation failed for seq_detector_1010:\n",
      "/content/drive/MyDrive/RTLData/Negation of assignment/SequenceDetector_ParameterError_4.v:1: syntax error\n",
      "/content/drive/MyDrive/RTLData/Negation of assignment/SequenceDetector_ParameterError_4.v:1: Errors in port declarations.\n",
      "/content/drive/MyDrive/RTLData/Negation of assignment/SequenceDetector_ParameterError_4.v:7: syntax error\n",
      "/content/drive/MyDrive/RTLData/Negation of assignment/SequenceDetector_ParameterError_4.v:7: error: Invalid module instantiation\n",
      "testbenches/seq_detector_1010_tb.v:2: syntax error\n",
      "testbenches/seq_detector_1010_tb.v:1: Errors in port declarations.\n",
      "\n",
      "\n",
      "Processing /content/drive/MyDrive/RTLData/Negation of assignment/c5315_3.v...\n"
     ]
    },
    {
     "metadata": {
      "tags": null
     },
     "name": "stderr",
     "output_type": "stream",
     "text": [
      "The attention mask and the pad token id were not set. As a consequence, you may observe unexpected behavior. Please pass your input's `attention_mask` to obtain reliable results.\n",
      "Setting `pad_token_id` to `eos_token_id`:50256 for open-end generation.\n"
     ]
    },
    {
     "metadata": {
      "tags": null
     },
     "name": "stdout",
     "output_type": "stream",
     "text": [
      "Module: c5315, Ports: {'N1': 'input', 'N4': 'unknown', 'N11': 'unknown', 'N14': 'unknown', 'N17': 'unknown', 'N20': 'unknown', 'N23': 'unknown', 'N24': 'unknown', 'N25': 'unknown', 'N26': 'unknown', 'N27': 'unknown', 'N31': 'unknown', 'N34': 'unknown', 'N37': 'unknown', 'N40': 'unknown', 'N43': 'unknown', 'N46': 'unknown', 'N49': 'unknown', 'N52': 'unknown', 'N53': 'unknown', 'N54': 'unknown', 'N61': 'unknown', 'N64': 'unknown', 'N67': 'unknown', 'N70': 'unknown', 'N73': 'unknown', 'N76': 'unknown', 'N79': 'unknown', 'N80': 'unknown', 'N81': 'unknown', 'N82': 'unknown', 'N83': 'unknown', 'N86': 'unknown', 'N87': 'unknown', 'N88': 'unknown', 'N91': 'unknown', 'N94': 'unknown', 'N97': 'unknown', 'N100': 'unknown', 'N103': 'unknown', 'N106': 'unknown', 'N109': 'unknown', 'N112': 'unknown', 'N113': 'unknown', 'N114': 'unknown', 'N115': 'unknown', 'N116': 'unknown', 'N117': 'unknown', 'N118': 'unknown', 'N119': 'unknown', 'N120': 'unknown', 'N121': 'unknown', 'N122': 'unknown', 'N123': 'unknown', 'N126': 'unknown', 'N127': 'unknown', 'N128': 'unknown', 'N129': 'unknown', 'N130': 'unknown', 'N131': 'unknown', 'N132': 'unknown', 'N135': 'unknown', 'N136': 'unknown', 'N137': 'unknown', 'N140': 'unknown', 'N141': 'unknown', 'N145': 'unknown', 'N146': 'unknown', 'N149': 'unknown', 'N152': 'unknown', 'N155': 'unknown', 'N158': 'unknown', 'N161': 'unknown', 'N164': 'unknown', 'N167': 'unknown', 'N170': 'unknown', 'N173': 'unknown', 'N176': 'unknown', 'N179': 'unknown', 'N182': 'unknown', 'N185': 'unknown', 'N188': 'unknown', 'N191': 'unknown', 'N194': 'unknown', 'N197': 'unknown', 'N200': 'unknown', 'N203': 'unknown', 'N206': 'unknown', 'N209': 'unknown', 'N210': 'unknown', 'N217': 'unknown', 'N218': 'unknown', 'N225': 'unknown', 'N226': 'unknown', 'N233': 'unknown', 'N234': 'unknown', 'N241': 'unknown', 'N242': 'unknown', 'N245': 'unknown', 'N248': 'unknown', 'N251': 'unknown', 'N254': 'unknown', 'N257': 'unknown', 'N264': 'unknown', 'N265': 'unknown', 'N272': 'unknown', 'N273': 'unknown', 'N280': 'unknown', 'N281': 'unknown', 'N288': 'unknown', 'N289': 'unknown', 'N292': 'unknown', 'N293': 'unknown', 'N299': 'unknown', 'N302': 'unknown', 'N307': 'unknown', 'N308': 'unknown', 'N315': 'unknown', 'N316': 'unknown', 'N323': 'unknown', 'N324': 'unknown', 'N331': 'unknown', 'N332': 'unknown', 'N335': 'unknown', 'N338': 'unknown', 'N341': 'unknown', 'N348': 'unknown', 'N351': 'unknown', 'N358': 'unknown', 'N361': 'unknown', 'N366': 'unknown', 'N369': 'unknown', 'N372': 'unknown', 'N373': 'unknown', 'N374': 'unknown', 'N386': 'unknown', 'N389': 'unknown', 'N400': 'unknown', 'N411': 'unknown', 'N422': 'unknown', 'N435': 'unknown', 'N446': 'unknown', 'N457': 'unknown', 'N468': 'unknown', 'N479': 'unknown', 'N490': 'unknown', 'N503': 'unknown', 'N514': 'unknown', 'N523': 'unknown', 'N534': 'unknown', 'N545': 'unknown', 'N549': 'unknown', 'N552': 'unknown', 'N556': 'unknown', 'N559': 'unknown', 'N562': 'unknown', 'N566': 'unknown', 'N571': 'unknown', 'N574': 'unknown', 'N577': 'unknown', 'N580': 'unknown', 'N583': 'unknown', 'N588': 'unknown', 'N591': 'unknown', 'N592': 'unknown', 'N595': 'unknown', 'N596': 'unknown', 'N597': 'unknown', 'N598': 'unknown', 'N599': 'unknown', 'N603': 'unknown', 'N607': 'unknown', 'N610': 'unknown', 'N613': 'unknown', 'N616': 'unknown', 'N619': 'unknown', 'N625': 'unknown', 'N631': 'unknown', 'N709': 'output', 'N816': 'unknown', 'N1066': 'unknown', 'N1137': 'unknown', 'N1138': 'unknown', 'N1139': 'unknown', 'N1140': 'unknown', 'N1141': 'unknown', 'N1142': 'unknown', 'N1143': 'unknown', 'N1144': 'unknown', 'N1145': 'unknown', 'N1147': 'unknown', 'N1152': 'unknown', 'N1153': 'unknown', 'N1154': 'unknown', 'N1155': 'unknown', 'N1972': 'unknown', 'N2054': 'unknown', 'N2060': 'unknown', 'N2061': 'unknown', 'N2139': 'unknown', 'N2142': 'unknown', 'N2309': 'unknown', 'N2387': 'unknown', 'N2527': 'unknown', 'N2584': 'unknown', 'N2590': 'unknown', 'N2623': 'unknown', 'N3357': 'unknown', 'N3358': 'unknown', 'N3359': 'unknown', 'N3360': 'unknown', 'N3604': 'unknown', 'N3613': 'unknown', 'N4272': 'unknown', 'N4275': 'unknown', 'N4278': 'unknown', 'N4279': 'unknown', 'N4737': 'unknown', 'N4738': 'unknown', 'N4739': 'unknown', 'N4740': 'unknown', 'N5240': 'unknown', 'N5388': 'unknown', 'N6641': 'unknown', 'N6643': 'unknown', 'N6646': 'unknown', 'N6648': 'unknown', 'N6716': 'unknown', 'N6877': 'unknown', 'N6924': 'unknown', 'N6925': 'unknown', 'N6926': 'unknown', 'N6927': 'unknown', 'N7015': 'unknown', 'N7363': 'unknown', 'N7365': 'unknown', 'N7432': 'unknown', 'N7449': 'unknown', 'N7465': 'unknown', 'N7466': 'unknown', 'N7467': 'unknown', 'N7469': 'unknown', 'N7470': 'unknown', 'N7471': 'unknown', 'N7472': 'unknown', 'N7473': 'unknown', 'N7474': 'unknown', 'N7476': 'unknown', 'N7503': 'unknown', 'N7504': 'unknown', 'N7506': 'unknown', 'N7511': 'unknown', 'N7515': 'unknown', 'N7516': 'unknown', 'N7517': 'unknown', 'N7518': 'unknown', 'N7519': 'unknown', 'N7520': 'unknown', 'N7521': 'unknown', 'N7522': 'unknown', 'N7600': 'unknown', 'N7601': 'unknown', 'N7602': 'unknown', 'N7603': 'unknown', 'N7604': 'unknown', 'N7605': 'unknown', 'N7606': 'unknown', 'N7607': 'unknown', 'N7626': 'unknown', 'N7698': 'unknown', 'N7699': 'unknown', 'N7700': 'unknown', 'N7701': 'unknown', 'N7702': 'unknown', 'N7703': 'unknown', 'N7704': 'unknown', 'N7705': 'unknown', 'N7706': 'unknown', 'N7707': 'unknown', 'N7735': 'unknown', 'N7736': 'unknown', 'N7737': 'unknown', 'N7738': 'unknown', 'N7739': 'unknown', 'N7740': 'unknown', 'N7741': 'unknown', 'N7742': 'unknown', 'N7754': 'unknown', 'N7755': 'unknown', 'N7756': 'unknown', 'N7757': 'unknown', 'N7758': 'unknown', 'N7759': 'unknown', 'N7760': 'unknown', 'N7761': 'unknown', 'N8075': 'unknown', 'N8076': 'unknown', 'N8123': 'unknown', 'N8124': 'unknown', 'N8127': 'unknown', 'N8128': 'unknown'}\n",
      "Running LLM analysis with Phi-2...\n",
      "Error generating with Phi-2: Input length of input_ids is 43660, but `max_length` is set to 2048. This can lead to unexpected behavior. You should consider increasing `max_length` or, better yet, setting `max_new_tokens`.\n",
      "Using device for rule-based analysis: cuda\n"
     ]
    },
    {
     "metadata": {
      "tags": null
     },
     "name": "stderr",
     "output_type": "stream",
     "text": [
      "The attention mask and the pad token id were not set. As a consequence, you may observe unexpected behavior. Please pass your input's `attention_mask` to obtain reliable results.\n",
      "Setting `pad_token_id` to `eos_token_id`:50256 for open-end generation.\n"
     ]
    },
    {
     "metadata": {
      "tags": null
     },
     "name": "stdout",
     "output_type": "stream",
     "text": [
      "Generating testbench with Phi-2...\n",
      "Error generating with Phi-2: Input length of input_ids is 45658, but `max_length` is set to 4096. This can lead to unexpected behavior. You should consider increasing `max_length` or, better yet, setting `max_new_tokens`.\n",
      "Testbench saved to testbenches/c5315_tb.v\n",
      "Compilation failed for c5315:\n",
      "/content/drive/MyDrive/RTLData/Negation of assignment/c5315_3.v:280: syntax error\n",
      "/content/drive/MyDrive/RTLData/Negation of assignment/c5315_3.v:280: error: syntax error in left side of continuous assignment.\n",
      "/content/drive/MyDrive/RTLData/Negation of assignment/c5315_3.v:281: syntax error\n",
      "/content/drive/MyDrive/RTLData/Negation of assignment/c5315_3.v:281: error: syntax error in left side of continuous assignment.\n",
      "\n",
      "\n",
      "Processing /content/drive/MyDrive/RTLData/Negation of assignment/c2670_0.v...\n"
     ]
    },
    {
     "metadata": {
      "tags": null
     },
     "name": "stderr",
     "output_type": "stream",
     "text": [
      "The attention mask and the pad token id were not set. As a consequence, you may observe unexpected behavior. Please pass your input's `attention_mask` to obtain reliable results.\n",
      "Setting `pad_token_id` to `eos_token_id`:50256 for open-end generation.\n"
     ]
    },
    {
     "metadata": {
      "tags": null
     },
     "name": "stdout",
     "output_type": "stream",
     "text": [
      "Module: c2670, Ports: {'N1': 'input', 'N2': 'unknown', 'N3': 'unknown', 'N4': 'unknown', 'N5': 'unknown', 'N6': 'unknown', 'N7': 'unknown', 'N8': 'unknown', 'N11': 'unknown', 'N14': 'unknown', 'N15': 'unknown', 'N16': 'unknown', 'N19': 'unknown', 'N20': 'unknown', 'N21': 'unknown', 'N22': 'unknown', 'N23': 'unknown', 'N24': 'unknown', 'N25': 'unknown', 'N26': 'unknown', 'N27': 'unknown', 'N28': 'unknown', 'N29': 'unknown', 'N32': 'unknown', 'N33': 'unknown', 'N34': 'unknown', 'N35': 'unknown', 'N36': 'unknown', 'N37': 'unknown', 'N40': 'unknown', 'N43': 'unknown', 'N44': 'unknown', 'N47': 'unknown', 'N48': 'unknown', 'N49': 'unknown', 'N50': 'unknown', 'N51': 'unknown', 'N52': 'unknown', 'N53': 'unknown', 'N54': 'unknown', 'N55': 'unknown', 'N56': 'unknown', 'N57': 'unknown', 'N60': 'unknown', 'N61': 'unknown', 'N62': 'unknown', 'N63': 'unknown', 'N64': 'unknown', 'N65': 'unknown', 'N66': 'unknown', 'N67': 'unknown', 'N68': 'unknown', 'N69': 'unknown', 'N72': 'unknown', 'N73': 'unknown', 'N74': 'unknown', 'N75': 'unknown', 'N76': 'unknown', 'N77': 'unknown', 'N78': 'unknown', 'N79': 'unknown', 'N80': 'unknown', 'N81': 'unknown', 'N82': 'unknown', 'N85': 'unknown', 'N86': 'unknown', 'N87': 'unknown', 'N88': 'unknown', 'N89': 'unknown', 'N90': 'unknown', 'N91': 'unknown', 'N92': 'unknown', 'N93': 'unknown', 'N94': 'unknown', 'N95': 'unknown', 'N96': 'unknown', 'N99': 'unknown', 'N100': 'unknown', 'N101': 'unknown', 'N102': 'unknown', 'N103': 'unknown', 'N104': 'unknown', 'N105': 'unknown', 'N106': 'unknown', 'N107': 'unknown', 'N108': 'unknown', 'N111': 'unknown', 'N112': 'unknown', 'N113': 'unknown', 'N114': 'unknown', 'N115': 'unknown', 'N116': 'unknown', 'N117': 'unknown', 'N118': 'unknown', 'N119': 'unknown', 'N120': 'unknown', 'N123': 'unknown', 'N124': 'unknown', 'N125': 'unknown', 'N126': 'unknown', 'N127': 'unknown', 'N128': 'unknown', 'N129': 'unknown', 'N130': 'unknown', 'N131': 'unknown', 'N132': 'unknown', 'N135': 'unknown', 'N136': 'unknown', 'N137': 'unknown', 'N138': 'unknown', 'N139': 'unknown', 'N140': 'unknown', 'N141': 'unknown', 'N142': 'unknown', 'N219': 'unknown', 'N224': 'unknown', 'N227': 'unknown', 'N230': 'unknown', 'N231': 'unknown', 'N234': 'unknown', 'N237': 'unknown', 'N241': 'unknown', 'N246': 'unknown', 'N253': 'unknown', 'N256': 'unknown', 'N259': 'unknown', 'N262': 'unknown', 'N263': 'unknown', 'N266': 'unknown', 'N269': 'unknown', 'N272': 'unknown', 'N275': 'unknown', 'N278': 'unknown', 'N281': 'unknown', 'N284': 'unknown', 'N287': 'unknown', 'N290': 'unknown', 'N294': 'unknown', 'N297': 'unknown', 'N301': 'unknown', 'N305': 'unknown', 'N309': 'unknown', 'N313': 'unknown', 'N316': 'unknown', 'N319': 'unknown', 'N322': 'unknown', 'N325': 'unknown', 'N328': 'unknown', 'N331': 'unknown', 'N334': 'unknown', 'N337': 'unknown', 'N340': 'unknown', 'N343': 'unknown', 'N346': 'unknown', 'N349': 'unknown', 'N352': 'unknown', 'N355': 'unknown', 'N143_I': 'unknown', 'N144_I': 'unknown', 'N145_I': 'unknown', 'N146_I': 'unknown', 'N147_I': 'unknown', 'N148_I': 'unknown', 'N149_I': 'unknown', 'N150_I': 'unknown', 'N151_I': 'unknown', 'N152_I': 'unknown', 'N153_I': 'unknown', 'N154_I': 'unknown', 'N155_I': 'unknown', 'N156_I': 'unknown', 'N157_I': 'unknown', 'N158_I': 'unknown', 'N159_I': 'unknown', 'N160_I': 'unknown', 'N161_I': 'unknown', 'N162_I': 'unknown', 'N163_I': 'unknown', 'N164_I': 'unknown', 'N165_I': 'unknown', 'N166_I': 'unknown', 'N167_I': 'unknown', 'N168_I': 'unknown', 'N169_I': 'unknown', 'N170_I': 'unknown', 'N171_I': 'unknown', 'N172_I': 'unknown', 'N173_I': 'unknown', 'N174_I': 'unknown', 'N175_I': 'unknown', 'N176_I': 'unknown', 'N177_I': 'unknown', 'N178_I': 'unknown', 'N179_I': 'unknown', 'N180_I': 'unknown', 'N181_I': 'unknown', 'N182_I': 'unknown', 'N183_I': 'unknown', 'N184_I': 'unknown', 'N185_I': 'unknown', 'N186_I': 'unknown', 'N187_I': 'unknown', 'N188_I': 'unknown', 'N189_I': 'unknown', 'N190_I': 'unknown', 'N191_I': 'unknown', 'N192_I': 'unknown', 'N193_I': 'unknown', 'N194_I': 'unknown', 'N195_I': 'unknown', 'N196_I': 'unknown', 'N197_I': 'unknown', 'N198_I': 'unknown', 'N199_I': 'unknown', 'N200_I': 'unknown', 'N201_I': 'unknown', 'N202_I': 'unknown', 'N203_I': 'unknown', 'N204_I': 'unknown', 'N205_I': 'unknown', 'N206_I': 'unknown', 'N207_I': 'unknown', 'N208_I': 'unknown', 'N209_I': 'unknown', 'N210_I': 'unknown', 'N211_I': 'unknown', 'N212_I': 'unknown', 'N213_I': 'unknown', 'N214_I': 'unknown', 'N215_I': 'unknown', 'N216_I': 'unknown', 'N217_I': 'unknown', 'N218_I': 'unknown', 'N398': 'output', 'N400': 'unknown', 'N401': 'unknown', 'N419': 'unknown', 'N420': 'unknown', 'N456': 'unknown', 'N457': 'unknown', 'N458': 'unknown', 'N487': 'unknown', 'N488': 'unknown', 'N489': 'unknown', 'N490': 'unknown', 'N491': 'unknown', 'N492': 'unknown', 'N493': 'unknown', 'N494': 'unknown', 'N792': 'unknown', 'N799': 'unknown', 'N805': 'unknown', 'N1026': 'unknown', 'N1028': 'unknown', 'N1029': 'unknown', 'N1269': 'unknown', 'N1277': 'unknown', 'N1448': 'unknown', 'N1726': 'unknown', 'N1816': 'unknown', 'N1817': 'unknown', 'N1818': 'unknown', 'N1819': 'unknown', 'N1820': 'unknown', 'N1821': 'unknown', 'N1969': 'unknown', 'N1970': 'unknown', 'N1971': 'unknown', 'N2010': 'unknown', 'N2012': 'unknown', 'N2014': 'unknown', 'N2016': 'unknown', 'N2018': 'unknown', 'N2020': 'unknown', 'N2022': 'unknown', 'N2387': 'unknown', 'N2388': 'unknown', 'N2389': 'unknown', 'N2390': 'unknown', 'N2496': 'unknown', 'N2643': 'unknown', 'N2644': 'unknown', 'N2891': 'unknown', 'N2925': 'unknown', 'N2970': 'unknown', 'N2971': 'unknown', 'N3038': 'unknown', 'N3079': 'unknown', 'N3546': 'unknown', 'N3671': 'unknown', 'N3803': 'unknown', 'N3804': 'unknown', 'N3809': 'unknown', 'N3851': 'unknown', 'N3875': 'unknown', 'N3881': 'unknown', 'N3882': 'unknown', 'N143_O': 'unknown', 'N144_O': 'unknown', 'N145_O': 'unknown', 'N146_O': 'unknown', 'N147_O': 'unknown', 'N148_O': 'unknown', 'N149_O': 'unknown', 'N150_O': 'unknown', 'N151_O': 'unknown', 'N152_O': 'unknown', 'N153_O': 'unknown', 'N154_O': 'unknown', 'N155_O': 'unknown', 'N156_O': 'unknown', 'N157_O': 'unknown', 'N158_O': 'unknown', 'N159_O': 'unknown', 'N160_O': 'unknown', 'N161_O': 'unknown', 'N162_O': 'unknown', 'N163_O': 'unknown', 'N164_O': 'unknown', 'N165_O': 'unknown', 'N166_O': 'unknown', 'N167_O': 'unknown', 'N168_O': 'unknown', 'N169_O': 'unknown', 'N170_O': 'unknown', 'N171_O': 'unknown', 'N172_O': 'unknown', 'N173_O': 'unknown', 'N174_O': 'unknown', 'N175_O': 'unknown', 'N176_O': 'unknown', 'N177_O': 'unknown', 'N178_O': 'unknown', 'N179_O': 'unknown', 'N180_O': 'unknown', 'N181_O': 'unknown', 'N182_O': 'unknown', 'N183_O': 'unknown', 'N184_O': 'unknown', 'N185_O': 'unknown', 'N186_O': 'unknown', 'N187_O': 'unknown', 'N188_O': 'unknown', 'N189_O': 'unknown', 'N190_O': 'unknown', 'N191_O': 'unknown', 'N192_O': 'unknown', 'N193_O': 'unknown', 'N194_O': 'unknown', 'N195_O': 'unknown', 'N196_O': 'unknown', 'N197_O': 'unknown', 'N198_O': 'unknown', 'N199_O': 'unknown', 'N200_O': 'unknown', 'N201_O': 'unknown', 'N202_O': 'unknown', 'N203_O': 'unknown', 'N204_O': 'unknown', 'N205_O': 'unknown', 'N206_O': 'unknown', 'N207_O': 'unknown', 'N208_O': 'unknown', 'N209_O': 'unknown', 'N210_O': 'unknown', 'N211_O': 'unknown', 'N212_O': 'unknown', 'N213_O': 'unknown', 'N214_O': 'unknown', 'N215_O': 'unknown', 'N216_O': 'unknown', 'N217_O': 'unknown', 'N218_O': 'unknown'}\n",
      "Running LLM analysis with Phi-2...\n",
      "Error generating with Phi-2: Input length of input_ids is 22706, but `max_length` is set to 2048. This can lead to unexpected behavior. You should consider increasing `max_length` or, better yet, setting `max_new_tokens`.\n",
      "Using device for rule-based analysis: cuda\n"
     ]
    },
    {
     "metadata": {
      "tags": null
     },
     "name": "stderr",
     "output_type": "stream",
     "text": [
      "The attention mask and the pad token id were not set. As a consequence, you may observe unexpected behavior. Please pass your input's `attention_mask` to obtain reliable results.\n",
      "Setting `pad_token_id` to `eos_token_id`:50256 for open-end generation.\n",
      "The attention mask and the pad token id were not set. As a consequence, you may observe unexpected behavior. Please pass your input's `attention_mask` to obtain reliable results.\n",
      "Setting `pad_token_id` to `eos_token_id`:50256 for open-end generation.\n"
     ]
    },
    {
     "metadata": {
      "tags": null
     },
     "name": "stdout",
     "output_type": "stream",
     "text": [
      "Generating testbench with Phi-2...\n",
      "Error generating with Phi-2: Input length of input_ids is 25352, but `max_length` is set to 4096. This can lead to unexpected behavior. You should consider increasing `max_length` or, better yet, setting `max_new_tokens`.\n",
      "Testbench saved to testbenches/c2670_tb.v\n",
      "Simulation output saved for c2670\n",
      "\n",
      "Processing /content/drive/MyDrive/RTLData/Negation of assignment/MelayOverlap_ParameterError_3.v...\n",
      "Module: jfsmMealyWithOverlap, Ports: {'dataout': 'output', 'clock': 'input', 'reset': 'input', 'datain': 'unknown'}\n",
      "Running LLM analysis with Phi-2...\n"
     ]
    },
    {
     "metadata": {
      "tags": null
     },
     "name": "stderr",
     "output_type": "stream",
     "text": [
      "The attention mask and the pad token id were not set. As a consequence, you may observe unexpected behavior. Please pass your input's `attention_mask` to obtain reliable results.\n",
      "Setting `pad_token_id` to `eos_token_id`:50256 for open-end generation.\n"
     ]
    },
    {
     "metadata": {
      "tags": null
     },
     "name": "stdout",
     "output_type": "stream",
     "text": [
      "Generating testbench with Phi-2...\n"
     ]
    },
    {
     "metadata": {
      "tags": null
     },
     "name": "stderr",
     "output_type": "stream",
     "text": [
      "The attention mask and the pad token id were not set. As a consequence, you may observe unexpected behavior. Please pass your input's `attention_mask` to obtain reliable results.\n",
      "Setting `pad_token_id` to `eos_token_id`:50256 for open-end generation.\n"
     ]
    },
    {
     "metadata": {
      "tags": null
     },
     "name": "stdout",
     "output_type": "stream",
     "text": [
      "Testbench saved to testbenches/jfsmMealyWithOverlap_tb.v\n",
      "Compilation failed for jfsmMealyWithOverlap:\n",
      "testbenches/jfsmMealyWithOverlap_tb.v:1: error: Port dataout (1) of module jfsmMealyWithOverlapTestbench is not declared within module.\n",
      "testbenches/jfsmMealyWithOverlap_tb.v:1: error: Port clock (2) of module jfsmMealyWithOverlapTestbench is not declared within module.\n",
      "testbenches/jfsmMealyWithOverlap_tb.v:1: error: Port reset (3) of module jfsmMealyWithOverlapTestbench is not declared within module.\n",
      "testbenches/jfsmMealyWithOverlap_tb.v:1: error: Port datain (4) of module jfsmMealyWithOverlapTestbench is not declared within module.\n",
      "testbenches/jfsmMealyWithOverlap_tb.v:2: error: no wire/reg dataout in module jfsmMealyWithOverlapTestbench.\n",
      "testbenches/jfsmMealyWithOverlap_tb.v:2: error: no wire/reg clock in module jfsmMealyWithOverlapTestbench.\n",
      "testbenches/jfsmMealyWithOverlap_tb.v:2: error: no wire/reg reset in module jfsmMealyWithOverlapTestbench.\n",
      "testbenches/jfsmMealyWithOverlap_tb.v:2: error: no wire/reg datain in module jfsmMealyWithOverlapTestbench.\n",
      "testbenches/jfsmMealyWithOverlap_tb.v:13: error: Unable to bind wire/reg/memory `reset' in `jfsmMealyWithOverlapTestbench'\n",
      "testbenches/jfsmMealyWithOverlap_tb.v:13: error: Unable to elaborate condition expression.\n",
      "Elaboration failed\n",
      "\n",
      "\n",
      "Processing /content/drive/MyDrive/RTLData/Negation of assignment/MooreOverlap copy_ParameterError_1.v...\n",
      "Module: jfsmMooreWithOverlap, Ports: {'dataout': 'output', 'clock': 'input', 'reset': 'input', 'datain': 'unknown'}\n",
      "Running LLM analysis with Phi-2...\n"
     ]
    },
    {
     "metadata": {
      "tags": null
     },
     "name": "stderr",
     "output_type": "stream",
     "text": [
      "The attention mask and the pad token id were not set. As a consequence, you may observe unexpected behavior. Please pass your input's `attention_mask` to obtain reliable results.\n",
      "Setting `pad_token_id` to `eos_token_id`:50256 for open-end generation.\n"
     ]
    },
    {
     "name": "stdout",
     "output_type": "stream",
     "text": [
      "Generating testbench with Phi-2...\n",
      "Phi-2 didn't generate a valid testbench, using rule-based generation\n",
      "Testbench saved to testbenches/jfsmMooreWithOverlap_tb.v\n",
      "Simulation output saved for jfsmMooreWithOverlap\n",
      "\n",
      "Processing /content/drive/MyDrive/RTLData/Negation of assignment/Priority_0.v...\n",
      "Module: Priority, Ports: {'\\\\A[0]': 'unknown', '\\\\A[1]': 'unknown', '\\\\A[2]': 'unknown', '\\\\A[3]': 'unknown', '\\\\A[4]': 'unknown', '\\\\A[5]': 'unknown', '\\\\A[6]': 'unknown', '\\\\A[7]': 'unknown', '\\\\A[8]': 'unknown', '\\\\A[9]': 'unknown', '\\\\A[10]': 'unknown', '\\\\A[11]': 'unknown', '\\\\A[12]': 'unknown', '\\\\A[13]': 'unknown', '\\\\A[14]': 'unknown', '\\\\A[15]': 'unknown', '\\\\A[16]': 'unknown', '\\\\A[17]': 'unknown', '\\\\A[18]': 'unknown', '\\\\A[19]': 'unknown', '\\\\A[20]': 'unknown', '\\\\A[21]': 'unknown', '\\\\A[22]': 'unknown', '\\\\A[23]': 'unknown', '\\\\A[24]': 'unknown', '\\\\A[25]': 'unknown', '\\\\A[26]': 'unknown', '\\\\A[27]': 'unknown', '\\\\A[28]': 'unknown', '\\\\A[29]': 'unknown', '\\\\A[30]': 'unknown', '\\\\A[31]': 'unknown', '\\\\A[32]': 'unknown', '\\\\A[33]': 'unknown', '\\\\A[34]': 'unknown', '\\\\A[35]': 'unknown', '\\\\A[36]': 'unknown', '\\\\A[37]': 'unknown', '\\\\A[38]': 'unknown', '\\\\A[39]': 'unknown', '\\\\A[40]': 'unknown', '\\\\A[41]': 'unknown', '\\\\A[42]': 'unknown', '\\\\A[43]': 'unknown', '\\\\A[44]': 'unknown', '\\\\A[45]': 'unknown', '\\\\A[46]': 'unknown', '\\\\A[47]': 'unknown', '\\\\A[48]': 'unknown', '\\\\A[49]': 'unknown', '\\\\A[50]': 'unknown', '\\\\A[51]': 'unknown', '\\\\A[52]': 'unknown', '\\\\A[53]': 'unknown', '\\\\A[54]': 'unknown', '\\\\A[55]': 'unknown', '\\\\A[56]': 'unknown', '\\\\A[57]': 'unknown', '\\\\A[58]': 'unknown', '\\\\A[59]': 'unknown', '\\\\A[60]': 'unknown', '\\\\A[61]': 'unknown', '\\\\A[62]': 'unknown', '\\\\A[63]': 'unknown', '\\\\A[64]': 'unknown', '\\\\A[65]': 'unknown', '\\\\A[66]': 'unknown', '\\\\A[67]': 'unknown', '\\\\A[68]': 'unknown', '\\\\A[69]': 'unknown', '\\\\A[70]': 'unknown', '\\\\A[71]': 'unknown', '\\\\A[72]': 'unknown', '\\\\A[73]': 'unknown', '\\\\A[74]': 'unknown', '\\\\A[75]': 'unknown', '\\\\A[76]': 'unknown', '\\\\A[77]': 'unknown', '\\\\A[78]': 'unknown', '\\\\A[79]': 'unknown', '\\\\A[80]': 'unknown', '\\\\A[81]': 'unknown', '\\\\A[82]': 'unknown', '\\\\A[83]': 'unknown', '\\\\A[84]': 'unknown', '\\\\A[85]': 'unknown', '\\\\A[86]': 'unknown', '\\\\A[87]': 'unknown', '\\\\A[88]': 'unknown', '\\\\A[89]': 'unknown', '\\\\A[90]': 'unknown', '\\\\A[91]': 'unknown', '\\\\A[92]': 'unknown', '\\\\A[93]': 'unknown', '\\\\A[94]': 'unknown', '\\\\A[95]': 'unknown', '\\\\A[96]': 'unknown', '\\\\A[97]': 'unknown', '\\\\A[98]': 'unknown', '\\\\A[99]': 'unknown', '\\\\A[100]': 'unknown', '\\\\A[101]': 'unknown', '\\\\A[102]': 'unknown', '\\\\A[103]': 'unknown', '\\\\A[104]': 'unknown', '\\\\A[105]': 'unknown', '\\\\A[106]': 'unknown', '\\\\A[107]': 'unknown', '\\\\A[108]': 'unknown', '\\\\A[109]': 'unknown', '\\\\A[110]': 'unknown', '\\\\A[111]': 'unknown', '\\\\A[112]': 'unknown', '\\\\A[113]': 'unknown', '\\\\A[114]': 'unknown', '\\\\A[115]': 'unknown', '\\\\A[116]': 'unknown', '\\\\A[117]': 'unknown', '\\\\A[118]': 'unknown', '\\\\A[119]': 'unknown', '\\\\A[120]': 'unknown', '\\\\A[121]': 'unknown', '\\\\A[122]': 'unknown', '\\\\A[123]': 'unknown', '\\\\A[124]': 'unknown', '\\\\A[125]': 'unknown', '\\\\A[126]': 'unknown', '\\\\A[127]': 'unknown', '\\\\P[0]': 'unknown', '\\\\P[1]': 'unknown', '\\\\P[2]': 'unknown', '\\\\P[3]': 'unknown', '\\\\P[4]': 'unknown', '\\\\P[5]': 'unknown', '\\\\P[6]': 'unknown', 'F': 'unknown'}\n",
      "Running LLM analysis with Phi-2...\n"
     ]
    },
    {
     "name": "stderr",
     "output_type": "stream",
     "text": [
      "The attention mask and the pad token id were not set. As a consequence, you may observe unexpected behavior. Please pass your input's `attention_mask` to obtain reliable results.\n",
      "Setting `pad_token_id` to `eos_token_id`:50256 for open-end generation.\n"
     ]
    },
    {
     "name": "stdout",
     "output_type": "stream",
     "text": [
      "Error generating with Phi-2: Input length of input_ids is 39885, but `max_length` is set to 2048. This can lead to unexpected behavior. You should consider increasing `max_length` or, better yet, setting `max_new_tokens`.\n",
      "Using device for rule-based analysis: cuda\n",
      "Generating testbench with Phi-2...\n"
     ]
    },
    {
     "name": "stderr",
     "output_type": "stream",
     "text": [
      "The attention mask and the pad token id were not set. As a consequence, you may observe unexpected behavior. Please pass your input's `attention_mask` to obtain reliable results.\n",
      "Setting `pad_token_id` to `eos_token_id`:50256 for open-end generation.\n",
      "The attention mask and the pad token id were not set. As a consequence, you may observe unexpected behavior. Please pass your input's `attention_mask` to obtain reliable results.\n",
      "Setting `pad_token_id` to `eos_token_id`:50256 for open-end generation.\n"
     ]
    },
    {
     "name": "stdout",
     "output_type": "stream",
     "text": [
      "Error generating with Phi-2: Input length of input_ids is 41036, but `max_length` is set to 4096. This can lead to unexpected behavior. You should consider increasing `max_length` or, better yet, setting `max_new_tokens`.\n",
      "Testbench saved to testbenches/Priority_tb.v\n",
      "Compilation failed for Priority:\n",
      "testbenches/Priority_tb.v:6: syntax error\n",
      "testbenches/Priority_tb.v:4: error: Syntax error in instance port expression(s).\n",
      "testbenches/Priority_tb.v:4: error: Invalid module instantiation\n",
      "\n",
      "\n",
      "Processing /content/drive/MyDrive/RTLData/Negation of assignment/ModNCounter_1.v...\n",
      "No valid module declaration found.\n",
      "Created fixed Verilog file: testbenches/fixed_ModNCounter_1.v\n",
      "Could not parse module definition in testbenches/fixed_ModNCounter_1.v\n",
      "\n",
      "Processing /content/drive/MyDrive/RTLData/Negation of assignment/s9234_0.v...\n",
      "Multiple or nested module definitions detected.\n",
      "Created fixed Verilog file: testbenches/fixed_s9234_0.v\n",
      "Module: dff, Ports: {'CK': 'input', 'q': 'output', 'd': 'unknown'}\n",
      "Running LLM analysis with Phi-2...\n"
     ]
    },
    {
     "name": "stderr",
     "output_type": "stream",
     "text": [
      "The attention mask and the pad token id were not set. As a consequence, you may observe unexpected behavior. Please pass your input's `attention_mask` to obtain reliable results.\n",
      "Setting `pad_token_id` to `eos_token_id`:50256 for open-end generation.\n"
     ]
    },
    {
     "name": "stdout",
     "output_type": "stream",
     "text": [
      "Generating testbench with Phi-2...\n",
      "Testbench saved to testbenches/dff_tb.v\n",
      "Compilation failed for dff:\n",
      "testbenches/dff_tb.v:1: error: 'dff' has already been declared in this scope.\n",
      "testbenches/fixed_s9234_0.v:1:      : It was declared here as a module.\n",
      "testbenches/dff_tb.v:6: Module dff was already declared here: testbenches/fixed_s9234_0.v:1\n",
      "\n",
      "\n",
      "\n",
      "Processing /content/drive/MyDrive/RTLData/Negation of assignment/c2670_4.v...\n"
     ]
    },
    {
     "name": "stderr",
     "output_type": "stream",
     "text": [
      "The attention mask and the pad token id were not set. As a consequence, you may observe unexpected behavior. Please pass your input's `attention_mask` to obtain reliable results.\n",
      "Setting `pad_token_id` to `eos_token_id`:50256 for open-end generation.\n"
     ]
    },
    {
     "name": "stdout",
     "output_type": "stream",
     "text": [
      "Module: c2670, Ports: {'N1': 'input', 'N2': 'unknown', 'N3': 'unknown', 'N4': 'unknown', 'N5': 'unknown', 'N6': 'unknown', 'N7': 'unknown', 'N8': 'unknown', 'N11': 'unknown', 'N14': 'unknown', 'N15': 'unknown', 'N16': 'unknown', 'N19': 'unknown', 'N20': 'unknown', 'N21': 'unknown', 'N22': 'unknown', 'N23': 'unknown', 'N24': 'unknown', 'N25': 'unknown', 'N26': 'unknown', 'N27': 'unknown', 'N28': 'unknown', 'N29': 'unknown', 'N32': 'unknown', 'N33': 'unknown', 'N34': 'unknown', 'N35': 'unknown', 'N36': 'unknown', 'N37': 'unknown', 'N40': 'unknown', 'N43': 'unknown', 'N44': 'unknown', 'N47': 'unknown', 'N48': 'unknown', 'N49': 'unknown', 'N50': 'unknown', 'N51': 'unknown', 'N52': 'unknown', 'N53': 'unknown', 'N54': 'unknown', 'N55': 'unknown', 'N56': 'unknown', 'N57': 'unknown', 'N60': 'unknown', 'N61': 'unknown', 'N62': 'unknown', 'N63': 'unknown', 'N64': 'unknown', 'N65': 'unknown', 'N66': 'unknown', 'N67': 'unknown', 'N68': 'unknown', 'N69': 'unknown', 'N72': 'unknown', 'N73': 'unknown', 'N74': 'unknown', 'N75': 'unknown', 'N76': 'unknown', 'N77': 'unknown', 'N78': 'unknown', 'N79': 'unknown', 'N80': 'unknown', 'N81': 'unknown', 'N82': 'unknown', 'N85': 'unknown', 'N86': 'unknown', 'N87': 'unknown', 'N88': 'unknown', 'N89': 'unknown', 'N90': 'unknown', 'N91': 'unknown', 'N92': 'unknown', 'N93': 'unknown', 'N94': 'unknown', 'N95': 'unknown', 'N96': 'unknown', 'N99': 'unknown', 'N100': 'unknown', 'N101': 'unknown', 'N102': 'unknown', 'N103': 'unknown', 'N104': 'unknown', 'N105': 'unknown', 'N106': 'unknown', 'N107': 'unknown', 'N108': 'unknown', 'N111': 'unknown', 'N112': 'unknown', 'N113': 'unknown', 'N114': 'unknown', 'N115': 'unknown', 'N116': 'unknown', 'N117': 'unknown', 'N118': 'unknown', 'N119': 'unknown', 'N120': 'unknown', 'N123': 'unknown', 'N124': 'unknown', 'N125': 'unknown', 'N126': 'unknown', 'N127': 'unknown', 'N128': 'unknown', 'N129': 'unknown', 'N130': 'unknown', 'N131': 'unknown', 'N132': 'unknown', 'N135': 'unknown', 'N136': 'unknown', 'N137': 'unknown', 'N138': 'unknown', 'N139': 'unknown', 'N140': 'unknown', 'N141': 'unknown', 'N142': 'unknown', 'N219': 'unknown', 'N224': 'unknown', 'N227': 'unknown', 'N230': 'unknown', 'N231': 'unknown', 'N234': 'unknown', 'N237': 'unknown', 'N241': 'unknown', 'N246': 'unknown', 'N253': 'unknown', 'N256': 'unknown', 'N259': 'unknown', 'N262': 'unknown', 'N263': 'unknown', 'N266': 'unknown', 'N269': 'unknown', 'N272': 'unknown', 'N275': 'unknown', 'N278': 'unknown', 'N281': 'unknown', 'N284': 'unknown', 'N287': 'unknown', 'N290': 'unknown', 'N294': 'unknown', 'N297': 'unknown', 'N301': 'unknown', 'N305': 'unknown', 'N309': 'unknown', 'N313': 'unknown', 'N316': 'unknown', 'N319': 'unknown', 'N322': 'unknown', 'N325': 'unknown', 'N328': 'unknown', 'N331': 'unknown', 'N334': 'unknown', 'N337': 'unknown', 'N340': 'unknown', 'N343': 'unknown', 'N346': 'unknown', 'N349': 'unknown', 'N352': 'unknown', 'N355': 'unknown', 'N143_I': 'unknown', 'N144_I': 'unknown', 'N145_I': 'unknown', 'N146_I': 'unknown', 'N147_I': 'unknown', 'N148_I': 'unknown', 'N149_I': 'unknown', 'N150_I': 'unknown', 'N151_I': 'unknown', 'N152_I': 'unknown', 'N153_I': 'unknown', 'N154_I': 'unknown', 'N155_I': 'unknown', 'N156_I': 'unknown', 'N157_I': 'unknown', 'N158_I': 'unknown', 'N159_I': 'unknown', 'N160_I': 'unknown', 'N161_I': 'unknown', 'N162_I': 'unknown', 'N163_I': 'unknown', 'N164_I': 'unknown', 'N165_I': 'unknown', 'N166_I': 'unknown', 'N167_I': 'unknown', 'N168_I': 'unknown', 'N169_I': 'unknown', 'N170_I': 'unknown', 'N171_I': 'unknown', 'N172_I': 'unknown', 'N173_I': 'unknown', 'N174_I': 'unknown', 'N175_I': 'unknown', 'N176_I': 'unknown', 'N177_I': 'unknown', 'N178_I': 'unknown', 'N179_I': 'unknown', 'N180_I': 'unknown', 'N181_I': 'unknown', 'N182_I': 'unknown', 'N183_I': 'unknown', 'N184_I': 'unknown', 'N185_I': 'unknown', 'N186_I': 'unknown', 'N187_I': 'unknown', 'N188_I': 'unknown', 'N189_I': 'unknown', 'N190_I': 'unknown', 'N191_I': 'unknown', 'N192_I': 'unknown', 'N193_I': 'unknown', 'N194_I': 'unknown', 'N195_I': 'unknown', 'N196_I': 'unknown', 'N197_I': 'unknown', 'N198_I': 'unknown', 'N199_I': 'unknown', 'N200_I': 'unknown', 'N201_I': 'unknown', 'N202_I': 'unknown', 'N203_I': 'unknown', 'N204_I': 'unknown', 'N205_I': 'unknown', 'N206_I': 'unknown', 'N207_I': 'unknown', 'N208_I': 'unknown', 'N209_I': 'unknown', 'N210_I': 'unknown', 'N211_I': 'unknown', 'N212_I': 'unknown', 'N213_I': 'unknown', 'N214_I': 'unknown', 'N215_I': 'unknown', 'N216_I': 'unknown', 'N217_I': 'unknown', 'N218_I': 'unknown', 'N398': 'output', 'N400': 'unknown', 'N401': 'unknown', 'N419': 'unknown', 'N420': 'unknown', 'N456': 'unknown', 'N457': 'unknown', 'N458': 'unknown', 'N487': 'unknown', 'N488': 'unknown', 'N489': 'unknown', 'N490': 'unknown', 'N491': 'unknown', 'N492': 'unknown', 'N493': 'unknown', 'N494': 'unknown', 'N792': 'unknown', 'N799': 'unknown', 'N805': 'unknown', 'N1026': 'unknown', 'N1028': 'unknown', 'N1029': 'unknown', 'N1269': 'unknown', 'N1277': 'unknown', 'N1448': 'unknown', 'N1726': 'unknown', 'N1816': 'unknown', 'N1817': 'unknown', 'N1818': 'unknown', 'N1819': 'unknown', 'N1820': 'unknown', 'N1821': 'unknown', 'N1969': 'unknown', 'N1970': 'unknown', 'N1971': 'unknown', 'N2010': 'unknown', 'N2012': 'unknown', 'N2014': 'unknown', 'N2016': 'unknown', 'N2018': 'unknown', 'N2020': 'unknown', 'N2022': 'unknown', 'N2387': 'unknown', 'N2388': 'unknown', 'N2389': 'unknown', 'N2390': 'unknown', 'N2496': 'unknown', 'N2643': 'unknown', 'N2644': 'unknown', 'N2891': 'unknown', 'N2925': 'unknown', 'N2970': 'unknown', 'N2971': 'unknown', 'N3038': 'unknown', 'N3079': 'unknown', 'N3546': 'unknown', 'N3671': 'unknown', 'N3803': 'unknown', 'N3804': 'unknown', 'N3809': 'unknown', 'N3851': 'unknown', 'N3875': 'unknown', 'N3881': 'unknown', 'N3882': 'unknown', 'N143_O': 'unknown', 'N144_O': 'unknown', 'N145_O': 'unknown', 'N146_O': 'unknown', 'N147_O': 'unknown', 'N148_O': 'unknown', 'N149_O': 'unknown', 'N150_O': 'unknown', 'N151_O': 'unknown', 'N152_O': 'unknown', 'N153_O': 'unknown', 'N154_O': 'unknown', 'N155_O': 'unknown', 'N156_O': 'unknown', 'N157_O': 'unknown', 'N158_O': 'unknown', 'N159_O': 'unknown', 'N160_O': 'unknown', 'N161_O': 'unknown', 'N162_O': 'unknown', 'N163_O': 'unknown', 'N164_O': 'unknown', 'N165_O': 'unknown', 'N166_O': 'unknown', 'N167_O': 'unknown', 'N168_O': 'unknown', 'N169_O': 'unknown', 'N170_O': 'unknown', 'N171_O': 'unknown', 'N172_O': 'unknown', 'N173_O': 'unknown', 'N174_O': 'unknown', 'N175_O': 'unknown', 'N176_O': 'unknown', 'N177_O': 'unknown', 'N178_O': 'unknown', 'N179_O': 'unknown', 'N180_O': 'unknown', 'N181_O': 'unknown', 'N182_O': 'unknown', 'N183_O': 'unknown', 'N184_O': 'unknown', 'N185_O': 'unknown', 'N186_O': 'unknown', 'N187_O': 'unknown', 'N188_O': 'unknown', 'N189_O': 'unknown', 'N190_O': 'unknown', 'N191_O': 'unknown', 'N192_O': 'unknown', 'N193_O': 'unknown', 'N194_O': 'unknown', 'N195_O': 'unknown', 'N196_O': 'unknown', 'N197_O': 'unknown', 'N198_O': 'unknown', 'N199_O': 'unknown', 'N200_O': 'unknown', 'N201_O': 'unknown', 'N202_O': 'unknown', 'N203_O': 'unknown', 'N204_O': 'unknown', 'N205_O': 'unknown', 'N206_O': 'unknown', 'N207_O': 'unknown', 'N208_O': 'unknown', 'N209_O': 'unknown', 'N210_O': 'unknown', 'N211_O': 'unknown', 'N212_O': 'unknown', 'N213_O': 'unknown', 'N214_O': 'unknown', 'N215_O': 'unknown', 'N216_O': 'unknown', 'N217_O': 'unknown', 'N218_O': 'unknown'}\n",
      "Running LLM analysis with Phi-2...\n",
      "Error generating with Phi-2: Input length of input_ids is 22707, but `max_length` is set to 2048. This can lead to unexpected behavior. You should consider increasing `max_length` or, better yet, setting `max_new_tokens`.\n",
      "Using device for rule-based analysis: cuda\n",
      "Generating testbench with Phi-2...\n"
     ]
    },
    {
     "name": "stderr",
     "output_type": "stream",
     "text": [
      "The attention mask and the pad token id were not set. As a consequence, you may observe unexpected behavior. Please pass your input's `attention_mask` to obtain reliable results.\n",
      "Setting `pad_token_id` to `eos_token_id`:50256 for open-end generation.\n",
      "The attention mask and the pad token id were not set. As a consequence, you may observe unexpected behavior. Please pass your input's `attention_mask` to obtain reliable results.\n",
      "Setting `pad_token_id` to `eos_token_id`:50256 for open-end generation.\n"
     ]
    },
    {
     "name": "stdout",
     "output_type": "stream",
     "text": [
      "Error generating with Phi-2: Input length of input_ids is 25353, but `max_length` is set to 4096. This can lead to unexpected behavior. You should consider increasing `max_length` or, better yet, setting `max_new_tokens`.\n",
      "Testbench saved to testbenches/c2670_tb.v\n",
      "Compilation failed for c2670:\n",
      "/content/drive/MyDrive/RTLData/Negation of assignment/c2670_4.v:207: syntax error\n",
      "/content/drive/MyDrive/RTLData/Negation of assignment/c2670_4.v:207: error: syntax error in left side of continuous assignment.\n",
      "\n",
      "\n",
      "Processing /content/drive/MyDrive/RTLData/Negation of assignment/FirstCounterOverflow_0.v...\n",
      "Multiple or nested module definitions detected.\n",
      "Created fixed Verilog file: testbenches/fixed_FirstCounterOverflow_0.v\n",
      "Module: first_counter, Ports: {'clk': 'input', 'reset': 'input', 'enable': 'input', 'counter_out': 'output', 'overflow_out': 'output'}\n",
      "Running LLM analysis with Phi-2...\n"
     ]
    },
    {
     "name": "stderr",
     "output_type": "stream",
     "text": [
      "The attention mask and the pad token id were not set. As a consequence, you may observe unexpected behavior. Please pass your input's `attention_mask` to obtain reliable results.\n",
      "Setting `pad_token_id` to `eos_token_id`:50256 for open-end generation.\n"
     ]
    },
    {
     "name": "stdout",
     "output_type": "stream",
     "text": [
      "Generating testbench with Phi-2...\n"
     ]
    },
    {
     "name": "stderr",
     "output_type": "stream",
     "text": [
      "The attention mask and the pad token id were not set. As a consequence, you may observe unexpected behavior. Please pass your input's `attention_mask` to obtain reliable results.\n",
      "Setting `pad_token_id` to `eos_token_id`:50256 for open-end generation.\n"
     ]
    },
    {
     "name": "stdout",
     "output_type": "stream",
     "text": [
      "Testbench saved to testbenches/first_counter_tb.v\n",
      "Compilation failed for first_counter:\n",
      "testbenches/first_counter_tb.v:1: error: 'first_counter' has already been declared in this scope.\n",
      "testbenches/fixed_FirstCounterOverflow_0.v:8:      : It was declared here as a module.\n",
      "testbenches/first_counter_tb.v:47: Module first_counter was already declared here: testbenches/fixed_FirstCounterOverflow_0.v:8\n",
      "\n",
      "\n",
      "\n",
      "Processing /content/drive/MyDrive/RTLData/Negation of assignment/CarrySkipAdder_3.v...\n",
      "Multiple or nested module definitions detected.\n",
      "Created fixed Verilog file: testbenches/fixed_CarrySkipAdder_3.v\n",
      "Module: jcsablock, Ports: {'Y': 'output', 'carryout': 'output', 'A': 'input', 'B': 'unknown', 'carryin': 'input'}\n",
      "Running LLM analysis with Phi-2...\n"
     ]
    },
    {
     "name": "stderr",
     "output_type": "stream",
     "text": [
      "The attention mask and the pad token id were not set. As a consequence, you may observe unexpected behavior. Please pass your input's `attention_mask` to obtain reliable results.\n",
      "Setting `pad_token_id` to `eos_token_id`:50256 for open-end generation.\n"
     ]
    },
    {
     "name": "stdout",
     "output_type": "stream",
     "text": [
      "Generating testbench with Phi-2...\n",
      "Testbench saved to testbenches/jcsablock_tb.v\n",
      "Compilation failed for jcsablock:\n",
      "testbenches/fixed_CarrySkipAdder_3.v:14: syntax error\n",
      "testbenches/fixed_CarrySkipAdder_3.v:14: error: invalid module item.\n",
      "testbenches/fixed_CarrySkipAdder_3.v:14: syntax error\n",
      "testbenches/fixed_CarrySkipAdder_3.v:14: error: Invalid module instantiation\n",
      "testbenches/fixed_CarrySkipAdder_3.v:16: error: invalid module item.\n",
      "testbenches/fixed_CarrySkipAdder_3.v:19: syntax error\n",
      "testbenches/fixed_CarrySkipAdder_3.v:22: error: invalid module item.\n",
      "testbenches/jcsablock_tb.v:1: error: 'jcsablock' has already been declared in this scope.\n",
      "testbenches/fixed_CarrySkipAdder_3.v:1:      : It was declared here as a module.\n",
      "testbenches/jcsablock_tb.v:14: syntax error\n",
      "testbenches/jcsablock_tb.v:14: error: invalid module item.\n",
      "testbenches/jcsablock_tb.v:14: syntax error\n",
      "testbenches/jcsablock_tb.v:14: error: Invalid module instantiation\n",
      "testbenches/jcsablock_tb.v:16: error: invalid module item.\n",
      "testbenches/jcsablock_tb.v:19: syntax error\n",
      "testbenches/jcsablock_tb.v:22: error: invalid module item.\n",
      "testbenches/jcsablock_tb.v:25: Module jcsablock was already declared here: testbenches/fixed_CarrySkipAdder_3.v:1\n",
      "\n",
      "\n",
      "\n",
      "Processing /content/drive/MyDrive/RTLData/Negation of assignment/adder_0.v...\n",
      "Module: adder, Ports: {'\\\\a[0]': 'unknown', '\\\\a[1]': 'unknown', '\\\\a[2]': 'unknown', '\\\\a[3]': 'unknown', '\\\\a[4]': 'unknown', '\\\\a[5]': 'unknown', '\\\\a[6]': 'unknown', '\\\\a[7]': 'unknown', '\\\\a[8]': 'unknown', '\\\\a[9]': 'unknown', '\\\\a[10]': 'unknown', '\\\\a[11]': 'unknown', '\\\\a[12]': 'unknown', '\\\\a[13]': 'unknown', '\\\\a[14]': 'unknown', '\\\\a[15]': 'unknown', '\\\\a[16]': 'unknown', '\\\\a[17]': 'unknown', '\\\\a[18]': 'unknown', '\\\\a[19]': 'unknown', '\\\\a[20]': 'unknown', '\\\\a[21]': 'unknown', '\\\\a[22]': 'unknown', '\\\\a[23]': 'unknown', '\\\\a[24]': 'unknown', '\\\\a[25]': 'unknown', '\\\\a[26]': 'unknown', '\\\\a[27]': 'unknown', '\\\\a[28]': 'unknown', '\\\\a[29]': 'unknown', '\\\\a[30]': 'unknown', '\\\\a[31]': 'unknown', '\\\\a[32]': 'unknown', '\\\\a[33]': 'unknown', '\\\\a[34]': 'unknown', '\\\\a[35]': 'unknown', '\\\\a[36]': 'unknown', '\\\\a[37]': 'unknown', '\\\\a[38]': 'unknown', '\\\\a[39]': 'unknown', '\\\\a[40]': 'unknown', '\\\\a[41]': 'unknown', '\\\\a[42]': 'unknown', '\\\\a[43]': 'unknown', '\\\\a[44]': 'unknown', '\\\\a[45]': 'unknown', '\\\\a[46]': 'unknown', '\\\\a[47]': 'unknown', '\\\\a[48]': 'unknown', '\\\\a[49]': 'unknown', '\\\\a[50]': 'unknown', '\\\\a[51]': 'unknown', '\\\\a[52]': 'unknown', '\\\\a[53]': 'unknown', '\\\\a[54]': 'unknown', '\\\\a[55]': 'unknown', '\\\\a[56]': 'unknown', '\\\\a[57]': 'unknown', '\\\\a[58]': 'unknown', '\\\\a[59]': 'unknown', '\\\\a[60]': 'unknown', '\\\\a[61]': 'unknown', '\\\\a[62]': 'unknown', '\\\\a[63]': 'unknown', '\\\\a[64]': 'unknown', '\\\\a[65]': 'unknown', '\\\\a[66]': 'unknown', '\\\\a[67]': 'unknown', '\\\\a[68]': 'unknown', '\\\\a[69]': 'unknown', '\\\\a[70]': 'unknown', '\\\\a[71]': 'unknown', '\\\\a[72]': 'unknown', '\\\\a[73]': 'unknown', '\\\\a[74]': 'unknown', '\\\\a[75]': 'unknown', '\\\\a[76]': 'unknown', '\\\\a[77]': 'unknown', '\\\\a[78]': 'unknown', '\\\\a[79]': 'unknown', '\\\\a[80]': 'unknown', '\\\\a[81]': 'unknown', '\\\\a[82]': 'unknown', '\\\\a[83]': 'unknown', '\\\\a[84]': 'unknown', '\\\\a[85]': 'unknown', '\\\\a[86]': 'unknown', '\\\\a[87]': 'unknown', '\\\\a[88]': 'unknown', '\\\\a[89]': 'unknown', '\\\\a[90]': 'unknown', '\\\\a[91]': 'unknown', '\\\\a[92]': 'unknown', '\\\\a[93]': 'unknown', '\\\\a[94]': 'unknown', '\\\\a[95]': 'unknown', '\\\\a[96]': 'unknown', '\\\\a[97]': 'unknown', '\\\\a[98]': 'unknown', '\\\\a[99]': 'unknown', '\\\\a[100]': 'unknown', '\\\\a[101]': 'unknown', '\\\\a[102]': 'unknown', '\\\\a[103]': 'unknown', '\\\\a[104]': 'unknown', '\\\\a[105]': 'unknown', '\\\\a[106]': 'unknown', '\\\\a[107]': 'unknown', '\\\\a[108]': 'unknown', '\\\\a[109]': 'unknown', '\\\\a[110]': 'unknown', '\\\\a[111]': 'unknown', '\\\\a[112]': 'unknown', '\\\\a[113]': 'unknown', '\\\\a[114]': 'unknown', '\\\\a[115]': 'unknown', '\\\\a[116]': 'unknown', '\\\\a[117]': 'unknown', '\\\\a[118]': 'unknown', '\\\\a[119]': 'unknown', '\\\\a[120]': 'unknown', '\\\\a[121]': 'unknown', '\\\\a[122]': 'unknown', '\\\\a[123]': 'unknown', '\\\\a[124]': 'unknown', '\\\\a[125]': 'unknown', '\\\\a[126]': 'unknown', '\\\\a[127]': 'unknown', '\\\\b[0]': 'unknown', '\\\\b[1]': 'unknown', '\\\\b[2]': 'unknown', '\\\\b[3]': 'unknown', '\\\\b[4]': 'unknown', '\\\\b[5]': 'unknown', '\\\\b[6]': 'unknown', '\\\\b[7]': 'unknown', '\\\\b[8]': 'unknown', '\\\\b[9]': 'unknown', '\\\\b[10]': 'unknown', '\\\\b[11]': 'unknown', '\\\\b[12]': 'unknown', '\\\\b[13]': 'unknown', '\\\\b[14]': 'unknown', '\\\\b[15]': 'unknown', '\\\\b[16]': 'unknown', '\\\\b[17]': 'unknown', '\\\\b[18]': 'unknown', '\\\\b[19]': 'unknown', '\\\\b[20]': 'unknown', '\\\\b[21]': 'unknown', '\\\\b[22]': 'unknown', '\\\\b[23]': 'unknown', '\\\\b[24]': 'unknown', '\\\\b[25]': 'unknown', '\\\\b[26]': 'unknown', '\\\\b[27]': 'unknown', '\\\\b[28]': 'unknown', '\\\\b[29]': 'unknown', '\\\\b[30]': 'unknown', '\\\\b[31]': 'unknown', '\\\\b[32]': 'unknown', '\\\\b[33]': 'unknown', '\\\\b[34]': 'unknown', '\\\\b[35]': 'unknown', '\\\\b[36]': 'unknown', '\\\\b[37]': 'unknown', '\\\\b[38]': 'unknown', '\\\\b[39]': 'unknown', '\\\\b[40]': 'unknown', '\\\\b[41]': 'unknown', '\\\\b[42]': 'unknown', '\\\\b[43]': 'unknown', '\\\\b[44]': 'unknown', '\\\\b[45]': 'unknown', '\\\\b[46]': 'unknown', '\\\\b[47]': 'unknown', '\\\\b[48]': 'unknown', '\\\\b[49]': 'unknown', '\\\\b[50]': 'unknown', '\\\\b[51]': 'unknown', '\\\\b[52]': 'unknown', '\\\\b[53]': 'unknown', '\\\\b[54]': 'unknown', '\\\\b[55]': 'unknown', '\\\\b[56]': 'unknown', '\\\\b[57]': 'unknown', '\\\\b[58]': 'unknown', '\\\\b[59]': 'unknown', '\\\\b[60]': 'unknown', '\\\\b[61]': 'unknown', '\\\\b[62]': 'unknown', '\\\\b[63]': 'unknown', '\\\\b[64]': 'unknown', '\\\\b[65]': 'unknown', '\\\\b[66]': 'unknown', '\\\\b[67]': 'unknown', '\\\\b[68]': 'unknown', '\\\\b[69]': 'unknown', '\\\\b[70]': 'unknown', '\\\\b[71]': 'unknown', '\\\\b[72]': 'unknown', '\\\\b[73]': 'unknown', '\\\\b[74]': 'unknown', '\\\\b[75]': 'unknown', '\\\\b[76]': 'unknown', '\\\\b[77]': 'unknown', '\\\\b[78]': 'unknown', '\\\\b[79]': 'unknown', '\\\\b[80]': 'unknown', '\\\\b[81]': 'unknown', '\\\\b[82]': 'unknown', '\\\\b[83]': 'unknown', '\\\\b[84]': 'unknown', '\\\\b[85]': 'unknown', '\\\\b[86]': 'unknown', '\\\\b[87]': 'unknown', '\\\\b[88]': 'unknown', '\\\\b[89]': 'unknown', '\\\\b[90]': 'unknown', '\\\\b[91]': 'unknown', '\\\\b[92]': 'unknown', '\\\\b[93]': 'unknown', '\\\\b[94]': 'unknown', '\\\\b[95]': 'unknown', '\\\\b[96]': 'unknown', '\\\\b[97]': 'unknown', '\\\\b[98]': 'unknown', '\\\\b[99]': 'unknown', '\\\\b[100]': 'unknown', '\\\\b[101]': 'unknown', '\\\\b[102]': 'unknown', '\\\\b[103]': 'unknown', '\\\\b[104]': 'unknown', '\\\\b[105]': 'unknown', '\\\\b[106]': 'unknown', '\\\\b[107]': 'unknown', '\\\\b[108]': 'unknown', '\\\\b[109]': 'unknown', '\\\\b[110]': 'unknown', '\\\\b[111]': 'unknown', '\\\\b[112]': 'unknown', '\\\\b[113]': 'unknown', '\\\\b[114]': 'unknown', '\\\\b[115]': 'unknown', '\\\\b[116]': 'unknown', '\\\\b[117]': 'unknown', '\\\\b[118]': 'unknown', '\\\\b[119]': 'unknown', '\\\\b[120]': 'unknown', '\\\\b[121]': 'unknown', '\\\\b[122]': 'unknown', '\\\\b[123]': 'unknown', '\\\\b[124]': 'unknown', '\\\\b[125]': 'unknown', '\\\\b[126]': 'unknown', '\\\\b[127]': 'unknown', '\\\\f[0]': 'unknown', '\\\\f[1]': 'unknown', '\\\\f[2]': 'unknown', '\\\\f[3]': 'unknown', '\\\\f[4]': 'unknown', '\\\\f[5]': 'unknown', '\\\\f[6]': 'unknown', '\\\\f[7]': 'unknown', '\\\\f[8]': 'unknown', '\\\\f[9]': 'unknown', '\\\\f[10]': 'unknown', '\\\\f[11]': 'unknown', '\\\\f[12]': 'unknown', '\\\\f[13]': 'unknown', '\\\\f[14]': 'unknown', '\\\\f[15]': 'unknown', '\\\\f[16]': 'unknown', '\\\\f[17]': 'unknown', '\\\\f[18]': 'unknown', '\\\\f[19]': 'unknown', '\\\\f[20]': 'unknown', '\\\\f[21]': 'unknown', '\\\\f[22]': 'unknown', '\\\\f[23]': 'unknown', '\\\\f[24]': 'unknown', '\\\\f[25]': 'unknown', '\\\\f[26]': 'unknown', '\\\\f[27]': 'unknown', '\\\\f[28]': 'unknown', '\\\\f[29]': 'unknown', '\\\\f[30]': 'unknown', '\\\\f[31]': 'unknown', '\\\\f[32]': 'unknown', '\\\\f[33]': 'unknown', '\\\\f[34]': 'unknown', '\\\\f[35]': 'unknown', '\\\\f[36]': 'unknown', '\\\\f[37]': 'unknown', '\\\\f[38]': 'unknown', '\\\\f[39]': 'unknown', '\\\\f[40]': 'unknown', '\\\\f[41]': 'unknown', '\\\\f[42]': 'unknown', '\\\\f[43]': 'unknown', '\\\\f[44]': 'unknown', '\\\\f[45]': 'unknown', '\\\\f[46]': 'unknown', '\\\\f[47]': 'unknown', '\\\\f[48]': 'unknown', '\\\\f[49]': 'unknown', '\\\\f[50]': 'unknown', '\\\\f[51]': 'unknown', '\\\\f[52]': 'unknown', '\\\\f[53]': 'unknown', '\\\\f[54]': 'unknown', '\\\\f[55]': 'unknown', '\\\\f[56]': 'unknown', '\\\\f[57]': 'unknown', '\\\\f[58]': 'unknown', '\\\\f[59]': 'unknown', '\\\\f[60]': 'unknown', '\\\\f[61]': 'unknown', '\\\\f[62]': 'unknown', '\\\\f[63]': 'unknown', '\\\\f[64]': 'unknown', '\\\\f[65]': 'unknown', '\\\\f[66]': 'unknown', '\\\\f[67]': 'unknown', '\\\\f[68]': 'unknown', '\\\\f[69]': 'unknown', '\\\\f[70]': 'unknown', '\\\\f[71]': 'unknown', '\\\\f[72]': 'unknown', '\\\\f[73]': 'unknown', '\\\\f[74]': 'unknown', '\\\\f[75]': 'unknown', '\\\\f[76]': 'unknown', '\\\\f[77]': 'unknown', '\\\\f[78]': 'unknown', '\\\\f[79]': 'unknown', '\\\\f[80]': 'unknown', '\\\\f[81]': 'unknown', '\\\\f[82]': 'unknown', '\\\\f[83]': 'unknown', '\\\\f[84]': 'unknown', '\\\\f[85]': 'unknown', '\\\\f[86]': 'unknown', '\\\\f[87]': 'unknown', '\\\\f[88]': 'unknown', '\\\\f[89]': 'unknown', '\\\\f[90]': 'unknown', '\\\\f[91]': 'unknown', '\\\\f[92]': 'unknown', '\\\\f[93]': 'unknown', '\\\\f[94]': 'unknown', '\\\\f[95]': 'unknown', '\\\\f[96]': 'unknown', '\\\\f[97]': 'unknown', '\\\\f[98]': 'unknown', '\\\\f[99]': 'unknown', '\\\\f[100]': 'unknown', '\\\\f[101]': 'unknown', '\\\\f[102]': 'unknown', '\\\\f[103]': 'unknown', '\\\\f[104]': 'unknown', '\\\\f[105]': 'unknown', '\\\\f[106]': 'unknown', '\\\\f[107]': 'unknown', '\\\\f[108]': 'unknown', '\\\\f[109]': 'unknown', '\\\\f[110]': 'unknown', '\\\\f[111]': 'unknown', '\\\\f[112]': 'unknown', '\\\\f[113]': 'unknown', '\\\\f[114]': 'unknown', '\\\\f[115]': 'unknown', '\\\\f[116]': 'unknown', '\\\\f[117]': 'unknown', '\\\\f[118]': 'unknown', '\\\\f[119]': 'unknown', '\\\\f[120]': 'unknown', '\\\\f[121]': 'unknown', '\\\\f[122]': 'unknown', '\\\\f[123]': 'unknown', '\\\\f[124]': 'unknown', '\\\\f[125]': 'unknown', '\\\\f[126]': 'unknown', '\\\\f[127]': 'unknown', 'cOut': 'output'}\n",
      "Running LLM analysis with Phi-2...\n"
     ]
    },
    {
     "name": "stderr",
     "output_type": "stream",
     "text": [
      "The attention mask and the pad token id were not set. As a consequence, you may observe unexpected behavior. Please pass your input's `attention_mask` to obtain reliable results.\n",
      "Setting `pad_token_id` to `eos_token_id`:50256 for open-end generation.\n"
     ]
    },
    {
     "name": "stdout",
     "output_type": "stream",
     "text": [
      "Error generating with Phi-2: Input length of input_ids is 53375, but `max_length` is set to 2048. This can lead to unexpected behavior. You should consider increasing `max_length` or, better yet, setting `max_new_tokens`.\n",
      "Using device for rule-based analysis: cuda\n"
     ]
    },
    {
     "name": "stderr",
     "output_type": "stream",
     "text": [
      "The attention mask and the pad token id were not set. As a consequence, you may observe unexpected behavior. Please pass your input's `attention_mask` to obtain reliable results.\n",
      "Setting `pad_token_id` to `eos_token_id`:50256 for open-end generation.\n"
     ]
    },
    {
     "name": "stdout",
     "output_type": "stream",
     "text": [
      "Generating testbench with Phi-2...\n",
      "Error generating with Phi-2: Input length of input_ids is 56520, but `max_length` is set to 4096. This can lead to unexpected behavior. You should consider increasing `max_length` or, better yet, setting `max_new_tokens`.\n",
      "Testbench saved to testbenches/adder_tb.v\n",
      "Compilation failed for adder:\n",
      "testbenches/adder_tb.v:7: syntax error\n",
      "testbenches/adder_tb.v:5: error: Syntax error in instance port expression(s).\n",
      "testbenches/adder_tb.v:5: error: Invalid module instantiation\n",
      "\n",
      "\n",
      "Processing /content/drive/MyDrive/RTLData/Negation of assignment/div_0.v...\n",
      "Module: div, Ports: {'\\\\a[0]': 'unknown', '\\\\a[1]': 'unknown', '\\\\a[2]': 'unknown', '\\\\a[3]': 'unknown', '\\\\a[4]': 'unknown', '\\\\a[5]': 'unknown', '\\\\a[6]': 'unknown', '\\\\a[7]': 'unknown', '\\\\a[8]': 'unknown', '\\\\a[9]': 'unknown', '\\\\a[10]': 'unknown', '\\\\a[11]': 'unknown', '\\\\a[12]': 'unknown', '\\\\a[13]': 'unknown', '\\\\a[14]': 'unknown', '\\\\a[15]': 'unknown', '\\\\a[16]': 'unknown', '\\\\a[17]': 'unknown', '\\\\a[18]': 'unknown', '\\\\a[19]': 'unknown', '\\\\a[20]': 'unknown', '\\\\a[21]': 'unknown', '\\\\a[22]': 'unknown', '\\\\a[23]': 'unknown', '\\\\a[24]': 'unknown', '\\\\a[25]': 'unknown', '\\\\a[26]': 'unknown', '\\\\a[27]': 'unknown', '\\\\a[28]': 'unknown', '\\\\a[29]': 'unknown', '\\\\a[30]': 'unknown', '\\\\a[31]': 'unknown', '\\\\a[32]': 'unknown', '\\\\a[33]': 'unknown', '\\\\a[34]': 'unknown', '\\\\a[35]': 'unknown', '\\\\a[36]': 'unknown', '\\\\a[37]': 'unknown', '\\\\a[38]': 'unknown', '\\\\a[39]': 'unknown', '\\\\a[40]': 'unknown', '\\\\a[41]': 'unknown', '\\\\a[42]': 'unknown', '\\\\a[43]': 'unknown', '\\\\a[44]': 'unknown', '\\\\a[45]': 'unknown', '\\\\a[46]': 'unknown', '\\\\a[47]': 'unknown', '\\\\a[48]': 'unknown', '\\\\a[49]': 'unknown', '\\\\a[50]': 'unknown', '\\\\a[51]': 'unknown', '\\\\a[52]': 'unknown', '\\\\a[53]': 'unknown', '\\\\a[54]': 'unknown', '\\\\a[55]': 'unknown', '\\\\a[56]': 'unknown', '\\\\a[57]': 'unknown', '\\\\a[58]': 'unknown', '\\\\a[59]': 'unknown', '\\\\a[60]': 'unknown', '\\\\a[61]': 'unknown', '\\\\a[62]': 'unknown', '\\\\a[63]': 'unknown', '\\\\b[0]': 'unknown', '\\\\b[1]': 'unknown', '\\\\b[2]': 'unknown', '\\\\b[3]': 'unknown', '\\\\b[4]': 'unknown', '\\\\b[5]': 'unknown', '\\\\b[6]': 'unknown', '\\\\b[7]': 'unknown', '\\\\b[8]': 'unknown', '\\\\b[9]': 'unknown', '\\\\b[10]': 'unknown', '\\\\b[11]': 'unknown', '\\\\b[12]': 'unknown', '\\\\b[13]': 'unknown', '\\\\b[14]': 'unknown', '\\\\b[15]': 'unknown', '\\\\b[16]': 'unknown', '\\\\b[17]': 'unknown', '\\\\b[18]': 'unknown', '\\\\b[19]': 'unknown', '\\\\b[20]': 'unknown', '\\\\b[21]': 'unknown', '\\\\b[22]': 'unknown', '\\\\b[23]': 'unknown', '\\\\b[24]': 'unknown', '\\\\b[25]': 'unknown', '\\\\b[26]': 'unknown', '\\\\b[27]': 'unknown', '\\\\b[28]': 'unknown', '\\\\b[29]': 'unknown', '\\\\b[30]': 'unknown', '\\\\b[31]': 'unknown', '\\\\b[32]': 'unknown', '\\\\b[33]': 'unknown', '\\\\b[34]': 'unknown', '\\\\b[35]': 'unknown', '\\\\b[36]': 'unknown', '\\\\b[37]': 'unknown', '\\\\b[38]': 'unknown', '\\\\b[39]': 'unknown', '\\\\b[40]': 'unknown', '\\\\b[41]': 'unknown', '\\\\b[42]': 'unknown', '\\\\b[43]': 'unknown', '\\\\b[44]': 'unknown', '\\\\b[45]': 'unknown', '\\\\b[46]': 'unknown', '\\\\b[47]': 'unknown', '\\\\b[48]': 'unknown', '\\\\b[49]': 'unknown', '\\\\b[50]': 'unknown', '\\\\b[51]': 'unknown', '\\\\b[52]': 'unknown', '\\\\b[53]': 'unknown', '\\\\b[54]': 'unknown', '\\\\b[55]': 'unknown', '\\\\b[56]': 'unknown', '\\\\b[57]': 'unknown', '\\\\b[58]': 'unknown', '\\\\b[59]': 'unknown', '\\\\b[60]': 'unknown', '\\\\b[61]': 'unknown', '\\\\b[62]': 'unknown', '\\\\b[63]': 'unknown', '\\\\quotient[0]': 'output', '\\\\quotient[1]': 'output', '\\\\quotient[2]': 'output', '\\\\quotient[3]': 'output', '\\\\quotient[4]': 'output', '\\\\quotient[5]': 'output', '\\\\quotient[6]': 'output', '\\\\quotient[7]': 'output', '\\\\quotient[8]': 'output', '\\\\quotient[9]': 'output', '\\\\quotient[10]': 'output', '\\\\quotient[11]': 'output', '\\\\quotient[12]': 'output', '\\\\quotient[13]': 'output', '\\\\quotient[14]': 'output', '\\\\quotient[15]': 'output', '\\\\quotient[16]': 'output', '\\\\quotient[17]': 'output', '\\\\quotient[18]': 'output', '\\\\quotient[19]': 'output', '\\\\quotient[20]': 'output', '\\\\quotient[21]': 'output', '\\\\quotient[22]': 'output', '\\\\quotient[23]': 'output', '\\\\quotient[24]': 'output', '\\\\quotient[25]': 'output', '\\\\quotient[26]': 'output', '\\\\quotient[27]': 'output', '\\\\quotient[28]': 'output', '\\\\quotient[29]': 'output', '\\\\quotient[30]': 'output', '\\\\quotient[31]': 'output', '\\\\quotient[32]': 'output', '\\\\quotient[33]': 'output', '\\\\quotient[34]': 'output', '\\\\quotient[35]': 'output', '\\\\quotient[36]': 'output', '\\\\quotient[37]': 'output', '\\\\quotient[38]': 'output', '\\\\quotient[39]': 'output', '\\\\quotient[40]': 'output', '\\\\quotient[41]': 'output', '\\\\quotient[42]': 'output', '\\\\quotient[43]': 'output', '\\\\quotient[44]': 'output', '\\\\quotient[45]': 'output', '\\\\quotient[46]': 'output', '\\\\quotient[47]': 'output', '\\\\quotient[48]': 'output', '\\\\quotient[49]': 'output', '\\\\quotient[50]': 'output', '\\\\quotient[51]': 'output', '\\\\quotient[52]': 'output', '\\\\quotient[53]': 'output', '\\\\quotient[54]': 'output', '\\\\quotient[55]': 'output', '\\\\quotient[56]': 'output', '\\\\quotient[57]': 'output', '\\\\quotient[58]': 'output', '\\\\quotient[59]': 'output', '\\\\quotient[60]': 'output', '\\\\quotient[61]': 'output', '\\\\quotient[62]': 'output', '\\\\quotient[63]': 'output', '\\\\remainder[0]': 'unknown', '\\\\remainder[1]': 'unknown', '\\\\remainder[2]': 'unknown', '\\\\remainder[3]': 'unknown', '\\\\remainder[4]': 'unknown', '\\\\remainder[5]': 'unknown', '\\\\remainder[6]': 'unknown', '\\\\remainder[7]': 'unknown', '\\\\remainder[8]': 'unknown', '\\\\remainder[9]': 'unknown', '\\\\remainder[10]': 'unknown', '\\\\remainder[11]': 'unknown', '\\\\remainder[12]': 'unknown', '\\\\remainder[13]': 'unknown', '\\\\remainder[14]': 'unknown', '\\\\remainder[15]': 'unknown', '\\\\remainder[16]': 'unknown', '\\\\remainder[17]': 'unknown', '\\\\remainder[18]': 'unknown', '\\\\remainder[19]': 'unknown', '\\\\remainder[20]': 'unknown', '\\\\remainder[21]': 'unknown', '\\\\remainder[22]': 'unknown', '\\\\remainder[23]': 'unknown', '\\\\remainder[24]': 'unknown', '\\\\remainder[25]': 'unknown', '\\\\remainder[26]': 'unknown', '\\\\remainder[27]': 'unknown', '\\\\remainder[28]': 'unknown', '\\\\remainder[29]': 'unknown', '\\\\remainder[30]': 'unknown', '\\\\remainder[31]': 'unknown', '\\\\remainder[32]': 'unknown', '\\\\remainder[33]': 'unknown', '\\\\remainder[34]': 'unknown', '\\\\remainder[35]': 'unknown', '\\\\remainder[36]': 'unknown', '\\\\remainder[37]': 'unknown', '\\\\remainder[38]': 'unknown', '\\\\remainder[39]': 'unknown', '\\\\remainder[40]': 'unknown', '\\\\remainder[41]': 'unknown', '\\\\remainder[42]': 'unknown', '\\\\remainder[43]': 'unknown', '\\\\remainder[44]': 'unknown', '\\\\remainder[45]': 'unknown', '\\\\remainder[46]': 'unknown', '\\\\remainder[47]': 'unknown', '\\\\remainder[48]': 'unknown', '\\\\remainder[49]': 'unknown', '\\\\remainder[50]': 'unknown', '\\\\remainder[51]': 'unknown', '\\\\remainder[52]': 'unknown', '\\\\remainder[53]': 'unknown', '\\\\remainder[54]': 'unknown', '\\\\remainder[55]': 'unknown', '\\\\remainder[56]': 'unknown', '\\\\remainder[57]': 'unknown', '\\\\remainder[58]': 'unknown', '\\\\remainder[59]': 'unknown', '\\\\remainder[60]': 'unknown', '\\\\remainder[61]': 'unknown', '\\\\remainder[62]': 'unknown', '\\\\remainder[63]': 'unknown'}\n",
      "Running LLM analysis with Phi-2...\n"
     ]
    },
    {
     "name": "stderr",
     "output_type": "stream",
     "text": [
      "The attention mask and the pad token id were not set. As a consequence, you may observe unexpected behavior. Please pass your input's `attention_mask` to obtain reliable results.\n",
      "Setting `pad_token_id` to `eos_token_id`:50256 for open-end generation.\n"
     ]
    },
    {
     "name": "stdout",
     "output_type": "stream",
     "text": [
      "Error generating with Phi-2: Input length of input_ids is 2398971, but `max_length` is set to 2048. This can lead to unexpected behavior. You should consider increasing `max_length` or, better yet, setting `max_new_tokens`.\n",
      "Using device for rule-based analysis: cuda\n",
      "Generating testbench with Phi-2...\n"
     ]
    },
    {
     "name": "stderr",
     "output_type": "stream",
     "text": [
      "The attention mask and the pad token id were not set. As a consequence, you may observe unexpected behavior. Please pass your input's `attention_mask` to obtain reliable results.\n",
      "Setting `pad_token_id` to `eos_token_id`:50256 for open-end generation.\n"
     ]
    },
    {
     "name": "stdout",
     "output_type": "stream",
     "text": [
      "Error generating with Phi-2: Input length of input_ids is 2401341, but `max_length` is set to 4096. This can lead to unexpected behavior. You should consider increasing `max_length` or, better yet, setting `max_new_tokens`.\n",
      "Testbench saved to testbenches/div_tb.v\n",
      "Compilation failed for div:\n",
      "testbenches/div_tb.v:3: syntax error\n",
      "testbenches/div_tb.v:325: error: invalid module item.\n",
      "testbenches/div_tb.v:336: syntax error\n",
      "I give up.\n",
      "\n",
      "\n",
      "Processing /content/drive/MyDrive/RTLData/Negation of assignment/MooreOverlap copy_0.v...\n",
      "Module: jfsmMooreWithOverlap, Ports: {'dataout': 'output', 'clock': 'input', 'reset': 'input', 'datain': 'unknown'}\n"
     ]
    },
    {
     "name": "stderr",
     "output_type": "stream",
     "text": [
      "The attention mask and the pad token id were not set. As a consequence, you may observe unexpected behavior. Please pass your input's `attention_mask` to obtain reliable results.\n",
      "Setting `pad_token_id` to `eos_token_id`:50256 for open-end generation.\n"
     ]
    },
    {
     "name": "stdout",
     "output_type": "stream",
     "text": [
      "Running LLM analysis with Phi-2...\n"
     ]
    },
    {
     "name": "stderr",
     "output_type": "stream",
     "text": [
      "The attention mask and the pad token id were not set. As a consequence, you may observe unexpected behavior. Please pass your input's `attention_mask` to obtain reliable results.\n",
      "Setting `pad_token_id` to `eos_token_id`:50256 for open-end generation.\n"
     ]
    },
    {
     "name": "stdout",
     "output_type": "stream",
     "text": [
      "Generating testbench with Phi-2...\n"
     ]
    },
    {
     "name": "stderr",
     "output_type": "stream",
     "text": [
      "The attention mask and the pad token id were not set. As a consequence, you may observe unexpected behavior. Please pass your input's `attention_mask` to obtain reliable results.\n",
      "Setting `pad_token_id` to `eos_token_id`:50256 for open-end generation.\n"
     ]
    },
    {
     "name": "stdout",
     "output_type": "stream",
     "text": [
      "Testbench saved to testbenches/jfsmMooreWithOverlap_tb.v\n",
      "Compilation failed for jfsmMooreWithOverlap:\n",
      "testbenches/jfsmMooreWithOverlap_tb.v:4: error: Module definition jfsmMooreWithOverlap cannot nest into module jfsmMooreWithOverlap_testbench.\n",
      "testbenches/jfsmMooreWithOverlap_tb.v:47: syntax error\n",
      "I give up.\n",
      "\n",
      "\n",
      "Processing /content/drive/MyDrive/RTLData/Negation of assignment/ALU8Bit_0.v...\n",
      "Module: eightbit_alu, Ports: {'input signed [7:0]a': 'unknown', 'input signed [7:0]b': 'unknown', 'input [2:0]sel': 'unknown', 'output signed [7:0]f': 'output', 'output ovf': 'output', 'output take_branch': 'output'}\n",
      "Running LLM analysis with Phi-2...\n"
     ]
    },
    {
     "name": "stderr",
     "output_type": "stream",
     "text": [
      "The attention mask and the pad token id were not set. As a consequence, you may observe unexpected behavior. Please pass your input's `attention_mask` to obtain reliable results.\n",
      "Setting `pad_token_id` to `eos_token_id`:50256 for open-end generation.\n"
     ]
    },
    {
     "name": "stdout",
     "output_type": "stream",
     "text": [
      "Generating testbench with Phi-2...\n"
     ]
    },
    {
     "name": "stderr",
     "output_type": "stream",
     "text": [
      "The attention mask and the pad token id were not set. As a consequence, you may observe unexpected behavior. Please pass your input's `attention_mask` to obtain reliable results.\n",
      "Setting `pad_token_id` to `eos_token_id`:50256 for open-end generation.\n"
     ]
    },
    {
     "name": "stdout",
     "output_type": "stream",
     "text": [
      "Testbench saved to testbenches/eightbit_alu_tb.v\n",
      "Compilation failed for eightbit_alu:\n",
      "/content/drive/MyDrive/RTLData/Negation of assignment/ALU8Bit_0.v:27: syntax error\n",
      "/content/drive/MyDrive/RTLData/Negation of assignment/ALU8Bit_0.v:28: Syntax in assignment statement l-value.\n",
      "/content/drive/MyDrive/RTLData/Negation of assignment/ALU8Bit_0.v:31: syntax error\n",
      "/content/drive/MyDrive/RTLData/Negation of assignment/ALU8Bit_0.v:32: Syntax in assignment statement l-value.\n",
      "\n",
      "\n",
      "Processing /content/drive/MyDrive/RTLData/Negation of assignment/SequenceDetector_ParameterError_3.v...\n",
      "Module: seq_detector_1010, Ports: {'input bit clk': 'input', 'rst_n': 'input', 'x': 'unknown', 'output z': 'output'}\n",
      "Running LLM analysis with Phi-2...\n"
     ]
    },
    {
     "name": "stderr",
     "output_type": "stream",
     "text": [
      "The attention mask and the pad token id were not set. As a consequence, you may observe unexpected behavior. Please pass your input's `attention_mask` to obtain reliable results.\n",
      "Setting `pad_token_id` to `eos_token_id`:50256 for open-end generation.\n"
     ]
    },
    {
     "name": "stdout",
     "output_type": "stream",
     "text": [
      "Generating testbench with Phi-2...\n"
     ]
    },
    {
     "name": "stderr",
     "output_type": "stream",
     "text": [
      "The attention mask and the pad token id were not set. As a consequence, you may observe unexpected behavior. Please pass your input's `attention_mask` to obtain reliable results.\n",
      "Setting `pad_token_id` to `eos_token_id`:50256 for open-end generation.\n"
     ]
    },
    {
     "name": "stdout",
     "output_type": "stream",
     "text": [
      "Testbench saved to testbenches/seq_detector_1010_tb.v\n",
      "Compilation failed for seq_detector_1010:\n",
      "/content/drive/MyDrive/RTLData/Negation of assignment/SequenceDetector_ParameterError_3.v:1: syntax error\n",
      "/content/drive/MyDrive/RTLData/Negation of assignment/SequenceDetector_ParameterError_3.v:1: Errors in port declarations.\n",
      "/content/drive/MyDrive/RTLData/Negation of assignment/SequenceDetector_ParameterError_3.v:7: syntax error\n",
      "/content/drive/MyDrive/RTLData/Negation of assignment/SequenceDetector_ParameterError_3.v:7: error: Invalid module instantiation\n",
      "testbenches/seq_detector_1010_tb.v:1: syntax error\n",
      "testbenches/seq_detector_1010_tb.v:1: Errors in port declarations.\n",
      "testbenches/seq_detector_1010_tb.v:7: syntax error\n",
      "testbenches/seq_detector_1010_tb.v:7: error: Invalid module instantiation\n",
      "\n",
      "\n",
      "Processing /content/drive/MyDrive/RTLData/Negation of assignment/ArbitiryCounter_0.v...\n",
      "Module: jarbitraryCounter, Ports: {'OUTPUT': 'output', 'clock': 'input', 'reset': 'input'}\n",
      "Running LLM analysis with Phi-2...\n"
     ]
    },
    {
     "name": "stderr",
     "output_type": "stream",
     "text": [
      "The attention mask and the pad token id were not set. As a consequence, you may observe unexpected behavior. Please pass your input's `attention_mask` to obtain reliable results.\n",
      "Setting `pad_token_id` to `eos_token_id`:50256 for open-end generation.\n"
     ]
    },
    {
     "name": "stdout",
     "output_type": "stream",
     "text": [
      "Generating testbench with Phi-2...\n"
     ]
    },
    {
     "name": "stderr",
     "output_type": "stream",
     "text": [
      "The attention mask and the pad token id were not set. As a consequence, you may observe unexpected behavior. Please pass your input's `attention_mask` to obtain reliable results.\n",
      "Setting `pad_token_id` to `eos_token_id`:50256 for open-end generation.\n"
     ]
    },
    {
     "name": "stdout",
     "output_type": "stream",
     "text": [
      "Phi-2 didn't generate a valid testbench, using rule-based generation\n",
      "Testbench saved to testbenches/jarbitraryCounter_tb.v\n",
      "Simulation output saved for jarbitraryCounter\n",
      "\n",
      "Processing /content/drive/MyDrive/RTLData/Negation of assignment/CarrySkipAdder_4.v...\n",
      "Multiple or nested module definitions detected.\n",
      "Created fixed Verilog file: testbenches/fixed_CarrySkipAdder_4.v\n",
      "Module: jcsablock, Ports: {'Y': 'output', 'carryout': 'output', 'A': 'input', 'B': 'unknown', 'carryin': 'input'}\n",
      "Running LLM analysis with Phi-2...\n"
     ]
    },
    {
     "name": "stderr",
     "output_type": "stream",
     "text": [
      "The attention mask and the pad token id were not set. As a consequence, you may observe unexpected behavior. Please pass your input's `attention_mask` to obtain reliable results.\n",
      "Setting `pad_token_id` to `eos_token_id`:50256 for open-end generation.\n"
     ]
    },
    {
     "name": "stdout",
     "output_type": "stream",
     "text": [
      "Generating testbench with Phi-2...\n"
     ]
    },
    {
     "name": "stderr",
     "output_type": "stream",
     "text": [
      "The attention mask and the pad token id were not set. As a consequence, you may observe unexpected behavior. Please pass your input's `attention_mask` to obtain reliable results.\n",
      "Setting `pad_token_id` to `eos_token_id`:50256 for open-end generation.\n"
     ]
    },
    {
     "name": "stdout",
     "output_type": "stream",
     "text": [
      "Testbench saved to testbenches/jcsablock_tb.v\n",
      "Compilation failed for jcsablock:\n",
      "testbenches/fixed_CarrySkipAdder_4.v:22: syntax error\n",
      "testbenches/fixed_CarrySkipAdder_4.v:22: error: syntax error in left side of continuous assignment.\n",
      "testbenches/jcsablock_tb.v:1: error: 'jcsablock' has already been declared in this scope.\n",
      "testbenches/fixed_CarrySkipAdder_4.v:1:      : It was declared here as a module.\n",
      "testbenches/jcsablock_tb.v:22: syntax error\n",
      "testbenches/jcsablock_tb.v:22: error: syntax error in left side of continuous assignment.\n",
      "testbenches/jcsablock_tb.v:25: Module jcsablock was already declared here: testbenches/fixed_CarrySkipAdder_4.v:1\n",
      "\n",
      "\n",
      "\n",
      "Processing /content/drive/MyDrive/RTLData/Negation of assignment/ALU16Bit_0.v...\n",
      "Module: alu, Ports: {'input [7:0] A': 'unknown', 'B': 'unknown', '// ALU 8-bit Inputs                            input [3:0] ALU_Sel': 'unknown', '// ALU Selection           output [7:0] ALU_Out': 'output', '// ALU 8-bit Output           output CarryOut // Carry Out Flag': 'output'}\n",
      "Running LLM analysis with Phi-2...\n"
     ]
    },
    {
     "name": "stderr",
     "output_type": "stream",
     "text": [
      "The attention mask and the pad token id were not set. As a consequence, you may observe unexpected behavior. Please pass your input's `attention_mask` to obtain reliable results.\n",
      "Setting `pad_token_id` to `eos_token_id`:50256 for open-end generation.\n"
     ]
    },
    {
     "name": "stdout",
     "output_type": "stream",
     "text": [
      "Generating testbench with Phi-2...\n"
     ]
    },
    {
     "name": "stderr",
     "output_type": "stream",
     "text": [
      "The attention mask and the pad token id were not set. As a consequence, you may observe unexpected behavior. Please pass your input's `attention_mask` to obtain reliable results.\n",
      "Setting `pad_token_id` to `eos_token_id`:50256 for open-end generation.\n"
     ]
    },
    {
     "name": "stdout",
     "output_type": "stream",
     "text": [
      "Testbench saved to testbenches/alu_tb.v\n",
      "Compilation failed for alu:\n",
      "testbenches/alu_tb.v:1: error: 'alu' has already been declared in this scope.\n",
      "/content/drive/MyDrive/RTLData/Negation of assignment/ALU16Bit_0.v:1:      : It was declared here as a module.\n",
      "testbenches/alu_tb.v:50: Module alu was already declared here: /content/drive/MyDrive/RTLData/Negation of assignment/ALU16Bit_0.v:1\n",
      "\n",
      "\n",
      "\n",
      "Processing /content/drive/MyDrive/RTLData/Negation of assignment/ALU8Bit_1.v...\n",
      "Module: eightbit_alu, Ports: {'input signed [7:0]a': 'unknown', 'input signed [7:0]b': 'unknown', 'input [2:0]sel': 'unknown', 'output signed [7:0]f': 'output', 'output ovf': 'output', 'output take_branch': 'output'}\n",
      "Running LLM analysis with Phi-2...\n"
     ]
    },
    {
     "name": "stderr",
     "output_type": "stream",
     "text": [
      "The attention mask and the pad token id were not set. As a consequence, you may observe unexpected behavior. Please pass your input's `attention_mask` to obtain reliable results.\n",
      "Setting `pad_token_id` to `eos_token_id`:50256 for open-end generation.\n"
     ]
    },
    {
     "name": "stdout",
     "output_type": "stream",
     "text": [
      "Generating testbench with Phi-2...\n"
     ]
    },
    {
     "name": "stderr",
     "output_type": "stream",
     "text": [
      "The attention mask and the pad token id were not set. As a consequence, you may observe unexpected behavior. Please pass your input's `attention_mask` to obtain reliable results.\n",
      "Setting `pad_token_id` to `eos_token_id`:50256 for open-end generation.\n"
     ]
    },
    {
     "name": "stdout",
     "output_type": "stream",
     "text": [
      "Testbench saved to testbenches/eightbit_alu_tb.v\n",
      "Compilation failed for eightbit_alu:\n",
      "/content/drive/MyDrive/RTLData/Negation of assignment/ALU8Bit_1.v:14: syntax error\n",
      "/content/drive/MyDrive/RTLData/Negation of assignment/ALU8Bit_1.v:14: Syntax in assignment statement l-value.\n",
      "/content/drive/MyDrive/RTLData/Negation of assignment/ALU8Bit_1.v:27: syntax error\n",
      "/content/drive/MyDrive/RTLData/Negation of assignment/ALU8Bit_1.v:28: Syntax in assignment statement l-value.\n",
      "/content/drive/MyDrive/RTLData/Negation of assignment/ALU8Bit_1.v:31: syntax error\n",
      "/content/drive/MyDrive/RTLData/Negation of assignment/ALU8Bit_1.v:32: Syntax in assignment statement l-value.\n",
      "testbenches/eightbit_alu_tb.v:35: syntax error\n",
      "testbenches/eightbit_alu_tb.v:35: error: Invalid module instantiation\n",
      "testbenches/eightbit_alu_tb.v:37: error: Invalid module instantiation\n",
      "testbenches/eightbit_alu_tb.v:38: error: Invalid module instantiation\n",
      "I give up.\n",
      "\n",
      "\n",
      "Processing /content/drive/MyDrive/RTLData/Negation of assignment/AES_128_2.v...\n",
      "Multiple or nested module definitions detected.\n",
      "Created fixed Verilog file: testbenches/fixed_AES_128_2.v\n",
      "Module: aes_128, Ports: {'clk': 'input', 'state': 'input', 'key': 'unknown', 'out': 'output'}\n",
      "Running LLM analysis with Phi-2...\n"
     ]
    },
    {
     "name": "stderr",
     "output_type": "stream",
     "text": [
      "The attention mask and the pad token id were not set. As a consequence, you may observe unexpected behavior. Please pass your input's `attention_mask` to obtain reliable results.\n",
      "Setting `pad_token_id` to `eos_token_id`:50256 for open-end generation.\n"
     ]
    },
    {
     "name": "stdout",
     "output_type": "stream",
     "text": [
      "Generating testbench with Phi-2...\n"
     ]
    },
    {
     "name": "stderr",
     "output_type": "stream",
     "text": [
      "The attention mask and the pad token id were not set. As a consequence, you may observe unexpected behavior. Please pass your input's `attention_mask` to obtain reliable results.\n",
      "Setting `pad_token_id` to `eos_token_id`:50256 for open-end generation.\n"
     ]
    },
    {
     "name": "stdout",
     "output_type": "stream",
     "text": [
      "Testbench saved to testbenches/aes_128_tb.v\n",
      "Compilation failed for aes_128:\n",
      "testbenches/aes_128_tb.v:1: error: 'aes_128' has already been declared in this scope.\n",
      "testbenches/fixed_AES_128_2.v:1:      : It was declared here as a module.\n",
      "testbenches/aes_128_tb.v:41: Module aes_128 was already declared here: testbenches/fixed_AES_128_2.v:1\n",
      "\n",
      "\n",
      "\n",
      "Processing /content/drive/MyDrive/RTLData/Negation of assignment/SequenceDetector_1.v...\n",
      "Module: seq_detector_1010, Ports: {'input bit clk': 'input', 'rst_n': 'input', 'x': 'unknown', 'output z': 'output'}\n",
      "Running LLM analysis with Phi-2...\n"
     ]
    },
    {
     "name": "stderr",
     "output_type": "stream",
     "text": [
      "The attention mask and the pad token id were not set. As a consequence, you may observe unexpected behavior. Please pass your input's `attention_mask` to obtain reliable results.\n",
      "Setting `pad_token_id` to `eos_token_id`:50256 for open-end generation.\n"
     ]
    },
    {
     "name": "stdout",
     "output_type": "stream",
     "text": [
      "Generating testbench with Phi-2...\n"
     ]
    },
    {
     "name": "stderr",
     "output_type": "stream",
     "text": [
      "The attention mask and the pad token id were not set. As a consequence, you may observe unexpected behavior. Please pass your input's `attention_mask` to obtain reliable results.\n",
      "Setting `pad_token_id` to `eos_token_id`:50256 for open-end generation.\n"
     ]
    },
    {
     "name": "stdout",
     "output_type": "stream",
     "text": [
      "Testbench saved to testbenches/seq_detector_1010_tb.v\n",
      "Compilation failed for seq_detector_1010:\n",
      "/content/drive/MyDrive/RTLData/Negation of assignment/SequenceDetector_1.v:1: syntax error\n",
      "/content/drive/MyDrive/RTLData/Negation of assignment/SequenceDetector_1.v:1: Errors in port declarations.\n",
      "/content/drive/MyDrive/RTLData/Negation of assignment/SequenceDetector_1.v:2: syntax error\n",
      "/content/drive/MyDrive/RTLData/Negation of assignment/SequenceDetector_1.v:2: error: syntax error in parameter list.\n",
      "/content/drive/MyDrive/RTLData/Negation of assignment/SequenceDetector_1.v:7: syntax error\n",
      "/content/drive/MyDrive/RTLData/Negation of assignment/SequenceDetector_1.v:7: error: Invalid module instantiation\n",
      "testbenches/seq_detector_1010_tb.v:1: error: 'seq_detector_1010' has already been declared in this scope.\n",
      "/content/drive/MyDrive/RTLData/Negation of assignment/SequenceDetector_1.v:1:      : It was declared here as a module.\n",
      "testbenches/seq_detector_1010_tb.v:1: syntax error\n",
      "testbenches/seq_detector_1010_tb.v:1: Errors in port declarations.\n",
      "testbenches/seq_detector_1010_tb.v:2: syntax error\n",
      "testbenches/seq_detector_1010_tb.v:2: error: syntax error in parameter list.\n",
      "testbenches/seq_detector_1010_tb.v:7: syntax error\n",
      "testbenches/seq_detector_1010_tb.v:7: error: Invalid module instantiation\n",
      "testbenches/seq_detector_1010_tb.v:37: Module seq_detector_1010 was already declared here: /content/drive/MyDrive/RTLData/Negation of assignment/SequenceDetector_1.v:1\n",
      "\n",
      "\n",
      "\n",
      "Processing /content/drive/MyDrive/RTLData/Negation of assignment/FSm_full_3.v...\n",
      "Module: fsm_full, Ports: {'clock': 'input', '// Clockreset': 'input', '// Active high resetreq_0': 'input', '// Active high request from agent 0req_1': 'output', '// Active high request from agent 1req_2': 'output', '// Active high request from agent 2req_3': 'output', '// Active high request from agent 3gnt_0': 'output', '// Active high grant to agent 0gnt_1': 'unknown', '// Active high grant to agent 1gnt_2': 'unknown', '// Active high grant to agent 2gnt_3   // Active high grant to agent 3': 'unknown'}\n",
      "Running LLM analysis with Phi-2...\n"
     ]
    },
    {
     "name": "stderr",
     "output_type": "stream",
     "text": [
      "The attention mask and the pad token id were not set. As a consequence, you may observe unexpected behavior. Please pass your input's `attention_mask` to obtain reliable results.\n",
      "Setting `pad_token_id` to `eos_token_id`:50256 for open-end generation.\n"
     ]
    },
    {
     "name": "stdout",
     "output_type": "stream",
     "text": [
      "Generating testbench with Phi-2...\n"
     ]
    },
    {
     "name": "stderr",
     "output_type": "stream",
     "text": [
      "The attention mask and the pad token id were not set. As a consequence, you may observe unexpected behavior. Please pass your input's `attention_mask` to obtain reliable results.\n",
      "Setting `pad_token_id` to `eos_token_id`:50256 for open-end generation.\n"
     ]
    },
    {
     "name": "stdout",
     "output_type": "stream",
     "text": [
      "Testbench saved to testbenches/fsm_full_tb.v\n",
      "Compilation failed for fsm_full:\n",
      "/content/drive/MyDrive/RTLData/Negation of assignment/FSm_full_3.v:31: syntax error\n",
      "/content/drive/MyDrive/RTLData/Negation of assignment/FSm_full_3.v:31: error: syntax error in parameter list.\n",
      "/content/drive/MyDrive/RTLData/Negation of assignment/FSm_full_3.v:32: syntax error\n",
      "/content/drive/MyDrive/RTLData/Negation of assignment/FSm_full_3.v:32: error: syntax error in parameter list.\n",
      "testbenches/fsm_full_tb.v:1: error: 'fsm_full' has already been declared in this scope.\n",
      "/content/drive/MyDrive/RTLData/Negation of assignment/FSm_full_3.v:1:      : It was declared here as a module.\n",
      "testbenches/fsm_full_tb.v:31: syntax error\n",
      "testbenches/fsm_full_tb.v:31: error: syntax error in parameter list.\n",
      "testbenches/fsm_full_tb.v:32: syntax error\n",
      "testbenches/fsm_full_tb.v:32: error: syntax error in parameter list.\n",
      "testbenches/fsm_full_tb.v:114: Module fsm_full was already declared here: /content/drive/MyDrive/RTLData/Negation of assignment/FSm_full_3.v:1\n",
      "\n",
      "\n",
      "\n",
      "Processing /content/drive/MyDrive/RTLData/Negation of assignment/s344_0.v...\n",
      "Multiple or nested module definitions detected.\n",
      "Created fixed Verilog file: testbenches/fixed_s344_0.v\n",
      "Module: dff, Ports: {'CK': 'input', 'q': 'output', 'd': 'unknown'}\n",
      "Running LLM analysis with Phi-2...\n"
     ]
    },
    {
     "name": "stderr",
     "output_type": "stream",
     "text": [
      "The attention mask and the pad token id were not set. As a consequence, you may observe unexpected behavior. Please pass your input's `attention_mask` to obtain reliable results.\n",
      "Setting `pad_token_id` to `eos_token_id`:50256 for open-end generation.\n"
     ]
    },
    {
     "name": "stdout",
     "output_type": "stream",
     "text": [
      "Generating testbench with Phi-2...\n",
      "Testbench saved to testbenches/dff_tb.v\n",
      "Compilation failed for dff:\n",
      "testbenches/dff_tb.v:1: error: 'dff' has already been declared in this scope.\n",
      "testbenches/fixed_s344_0.v:1:      : It was declared here as a module.\n",
      "testbenches/dff_tb.v:6: Module dff was already declared here: testbenches/fixed_s344_0.v:1\n",
      "\n",
      "\n",
      "\n",
      "Processing /content/drive/MyDrive/RTLData/Negation of assignment/c7552_1.v...\n",
      "Module: c7552, Ports: {'N1': 'input', 'N5': 'unknown', 'N9': 'unknown', 'N12': 'unknown', 'N15': 'unknown', 'N18': 'unknown', 'N23': 'unknown', 'N26': 'unknown', 'N29': 'unknown', 'N32': 'unknown', 'N35': 'unknown', 'N38': 'unknown', 'N41': 'unknown', 'N44': 'unknown', 'N47': 'unknown', 'N50': 'unknown', 'N53': 'unknown', 'N54': 'unknown', 'N55': 'unknown', 'N56': 'unknown', 'N57': 'unknown', 'N58': 'unknown', 'N59': 'unknown', 'N60': 'unknown', 'N61': 'unknown', 'N62': 'unknown', 'N63': 'unknown', 'N64': 'unknown', 'N65': 'unknown', 'N66': 'unknown', 'N69': 'unknown', 'N70': 'unknown', 'N73': 'unknown', 'N74': 'unknown', 'N75': 'unknown', 'N76': 'unknown', 'N77': 'unknown', 'N78': 'unknown', 'N79': 'unknown', 'N80': 'unknown', 'N81': 'unknown', 'N82': 'unknown', 'N83': 'unknown', 'N84': 'unknown', 'N85': 'unknown', 'N86': 'unknown', 'N87': 'unknown', 'N88': 'unknown', 'N89': 'unknown', 'N94': 'unknown', 'N97': 'unknown', 'N100': 'unknown', 'N103': 'unknown', 'N106': 'unknown', 'N109': 'unknown', 'N110': 'unknown', 'N111': 'unknown', 'N112': 'unknown', 'N113': 'unknown', 'N114': 'unknown', 'N115': 'unknown', 'N118': 'unknown', 'N121': 'unknown', 'N124': 'unknown', 'N127': 'unknown', 'N130': 'unknown', 'N133': 'unknown', 'N134': 'unknown', 'N135': 'unknown', 'N138': 'unknown', 'N141': 'unknown', 'N144': 'unknown', 'N147': 'unknown', 'N150': 'unknown', 'N151': 'unknown', 'N152': 'unknown', 'N153': 'unknown', 'N154': 'unknown', 'N155': 'unknown', 'N156': 'unknown', 'N157': 'unknown', 'N158': 'unknown', 'N159': 'unknown', 'N160': 'unknown', 'N161': 'unknown', 'N162': 'unknown', 'N163': 'unknown', 'N164': 'unknown', 'N165': 'unknown', 'N166': 'unknown', 'N167': 'unknown', 'N168': 'unknown', 'N169': 'unknown', 'N170': 'unknown', 'N171': 'unknown', 'N172': 'unknown', 'N173': 'unknown', 'N174': 'unknown', 'N175': 'unknown', 'N176': 'unknown', 'N177': 'unknown', 'N178': 'unknown', 'N179': 'unknown', 'N180': 'unknown', 'N181': 'unknown', 'N182': 'unknown', 'N183': 'unknown', 'N184': 'unknown', 'N185': 'unknown', 'N186': 'unknown', 'N187': 'unknown', 'N188': 'unknown', 'N189': 'unknown', 'N190': 'unknown', 'N191': 'unknown', 'N192': 'unknown', 'N193': 'unknown', 'N194': 'unknown', 'N195': 'unknown', 'N196': 'unknown', 'N197': 'unknown', 'N198': 'unknown', 'N199': 'unknown', 'N200': 'unknown', 'N201': 'unknown', 'N202': 'unknown', 'N203': 'unknown', 'N204': 'unknown', 'N205': 'unknown', 'N206': 'unknown', 'N207': 'unknown', 'N208': 'unknown', 'N209': 'unknown', 'N210': 'unknown', 'N211': 'unknown', 'N212': 'unknown', 'N213': 'unknown', 'N214': 'unknown', 'N215': 'unknown', 'N216': 'unknown', 'N217': 'unknown', 'N218': 'unknown', 'N219': 'unknown', 'N220': 'unknown', 'N221': 'unknown', 'N222': 'unknown', 'N223': 'unknown', 'N224': 'unknown', 'N225': 'unknown', 'N226': 'unknown', 'N227': 'unknown', 'N228': 'unknown', 'N229': 'unknown', 'N230': 'unknown', 'N231': 'unknown', 'N232': 'unknown', 'N233': 'unknown', 'N234': 'unknown', 'N235': 'unknown', 'N236': 'unknown', 'N237': 'unknown', 'N238': 'unknown', 'N239': 'unknown', 'N240': 'unknown', 'N242': 'unknown', 'N245': 'unknown', 'N248': 'unknown', 'N251': 'unknown', 'N254': 'unknown', 'N257': 'unknown', 'N260': 'unknown', 'N263': 'unknown', 'N267': 'unknown', 'N271': 'unknown', 'N274': 'unknown', 'N277': 'unknown', 'N280': 'unknown', 'N283': 'unknown', 'N286': 'unknown', 'N289': 'unknown', 'N293': 'unknown', 'N296': 'unknown', 'N299': 'unknown', 'N303': 'unknown', 'N307': 'unknown', 'N310': 'unknown', 'N313': 'unknown', 'N316': 'unknown', 'N319': 'unknown', 'N322': 'unknown', 'N325': 'unknown', 'N328': 'unknown', 'N331': 'unknown', 'N334': 'unknown', 'N337': 'unknown', 'N340': 'unknown', 'N343': 'unknown', 'N346': 'unknown', 'N349': 'unknown', 'N352': 'unknown', 'N355': 'unknown', 'N358': 'unknown', 'N361': 'unknown', 'N364': 'unknown', 'N367': 'unknown', 'N382': 'unknown', 'N241_I': 'unknown', 'N387': 'output', 'N388': 'unknown', 'N478': 'unknown', 'N482': 'unknown', 'N484': 'unknown', 'N486': 'unknown', 'N489': 'unknown', 'N492': 'unknown', 'N501': 'unknown', 'N505': 'unknown', 'N507': 'unknown', 'N509': 'unknown', 'N511': 'unknown', 'N513': 'unknown', 'N515': 'unknown', 'N517': 'unknown', 'N519': 'unknown', 'N535': 'unknown', 'N537': 'unknown', 'N539': 'unknown', 'N541': 'unknown', 'N543': 'unknown', 'N545': 'unknown', 'N547': 'unknown', 'N549': 'unknown', 'N551': 'unknown', 'N553': 'unknown', 'N556': 'unknown', 'N559': 'unknown', 'N561': 'unknown', 'N563': 'unknown', 'N565': 'unknown', 'N567': 'unknown', 'N569': 'unknown', 'N571': 'unknown', 'N573': 'unknown', 'N582': 'unknown', 'N643': 'unknown', 'N707': 'unknown', 'N813': 'unknown', 'N881': 'unknown', 'N882': 'unknown', 'N883': 'unknown', 'N884': 'unknown', 'N885': 'unknown', 'N889': 'unknown', 'N945': 'unknown', 'N1110': 'unknown', 'N1111': 'unknown', 'N1112': 'unknown', 'N1113': 'unknown', 'N1114': 'unknown', 'N1489': 'unknown', 'N1490': 'unknown', 'N1781': 'unknown', 'N10025': 'unknown', 'N10101': 'unknown', 'N10102': 'unknown', 'N10103': 'unknown', 'N10104': 'unknown', 'N10109': 'unknown', 'N10110': 'unknown', 'N10111': 'unknown', 'N10112': 'unknown', 'N10350': 'unknown', 'N10351': 'unknown', 'N10352': 'unknown', 'N10353': 'unknown', 'N10574': 'unknown', 'N10575': 'unknown', 'N10576': 'unknown', 'N10628': 'unknown', 'N10632': 'unknown', 'N10641': 'unknown', 'N10704': 'unknown', 'N10706': 'unknown', 'N10711': 'unknown', 'N10712': 'unknown', 'N10713': 'unknown', 'N10714': 'unknown', 'N10715': 'unknown', 'N10716': 'unknown', 'N10717': 'unknown', 'N10718': 'unknown', 'N10729': 'unknown', 'N10759': 'unknown', 'N10760': 'unknown', 'N10761': 'unknown', 'N10762': 'unknown', 'N10763': 'unknown', 'N10827': 'unknown', 'N10837': 'unknown', 'N10838': 'unknown', 'N10839': 'unknown', 'N10840': 'unknown', 'N10868': 'unknown', 'N10869': 'unknown', 'N10870': 'unknown', 'N10871': 'unknown', 'N10905': 'unknown', 'N10906': 'unknown', 'N10907': 'unknown', 'N10908': 'unknown', 'N11333': 'unknown', 'N11334': 'unknown', 'N11340': 'unknown', 'N11342': 'unknown', 'N241_O': 'unknown'}\n",
      "Running LLM analysis with Phi-2...\n"
     ]
    },
    {
     "name": "stderr",
     "output_type": "stream",
     "text": [
      "The attention mask and the pad token id were not set. As a consequence, you may observe unexpected behavior. Please pass your input's `attention_mask` to obtain reliable results.\n",
      "Setting `pad_token_id` to `eos_token_id`:50256 for open-end generation.\n"
     ]
    },
    {
     "name": "stdout",
     "output_type": "stream",
     "text": [
      "Error generating with Phi-2: Input length of input_ids is 62592, but `max_length` is set to 2048. This can lead to unexpected behavior. You should consider increasing `max_length` or, better yet, setting `max_new_tokens`.\n",
      "Using device for rule-based analysis: cuda\n",
      "Generating testbench with Phi-2...\n"
     ]
    },
    {
     "name": "stderr",
     "output_type": "stream",
     "text": [
      "The attention mask and the pad token id were not set. As a consequence, you may observe unexpected behavior. Please pass your input's `attention_mask` to obtain reliable results.\n",
      "Setting `pad_token_id` to `eos_token_id`:50256 for open-end generation.\n",
      "The attention mask and the pad token id were not set. As a consequence, you may observe unexpected behavior. Please pass your input's `attention_mask` to obtain reliable results.\n",
      "Setting `pad_token_id` to `eos_token_id`:50256 for open-end generation.\n"
     ]
    },
    {
     "name": "stdout",
     "output_type": "stream",
     "text": [
      "Error generating with Phi-2: Input length of input_ids is 64623, but `max_length` is set to 4096. This can lead to unexpected behavior. You should consider increasing `max_length` or, better yet, setting `max_new_tokens`.\n",
      "Testbench saved to testbenches/c7552_tb.v\n",
      "Compilation failed for c7552:\n",
      "/content/drive/MyDrive/RTLData/Negation of assignment/c7552_1.v:384: syntax error\n",
      "/content/drive/MyDrive/RTLData/Negation of assignment/c7552_1.v:384: error: syntax error in left side of continuous assignment.\n",
      "\n",
      "\n",
      "Processing /content/drive/MyDrive/RTLData/Negation of assignment/MelayOverlap_ParameterError_2.v...\n",
      "Module: jfsmMealyWithOverlap, Ports: {'dataout': 'output', 'clock': 'input', 'reset': 'input', 'datain': 'unknown'}\n",
      "Running LLM analysis with Phi-2...\n"
     ]
    },
    {
     "name": "stderr",
     "output_type": "stream",
     "text": [
      "The attention mask and the pad token id were not set. As a consequence, you may observe unexpected behavior. Please pass your input's `attention_mask` to obtain reliable results.\n",
      "Setting `pad_token_id` to `eos_token_id`:50256 for open-end generation.\n"
     ]
    },
    {
     "name": "stdout",
     "output_type": "stream",
     "text": [
      "Generating testbench with Phi-2...\n"
     ]
    },
    {
     "name": "stderr",
     "output_type": "stream",
     "text": [
      "The attention mask and the pad token id were not set. As a consequence, you may observe unexpected behavior. Please pass your input's `attention_mask` to obtain reliable results.\n",
      "Setting `pad_token_id` to `eos_token_id`:50256 for open-end generation.\n"
     ]
    },
    {
     "name": "stdout",
     "output_type": "stream",
     "text": [
      "Testbench saved to testbenches/jfsmMealyWithOverlap_tb.v\n",
      "Compilation failed for jfsmMealyWithOverlap:\n",
      "testbenches/jfsmMealyWithOverlap_tb.v:10: error: Sized numeric constant must have a size greater than zero.\n",
      "testbenches/jfsmMealyWithOverlap_tb.v:10: warning: Numeric constant truncated to 0 bits.\n",
      "\n",
      "\n",
      "Processing /content/drive/MyDrive/RTLData/Negation of assignment/ALU16Bit_4.v...\n",
      "Module: alu, Ports: {'input [7:0] A': 'unknown', 'B': 'unknown', '// ALU 8-bit Inputs                            input [3:0] ALU_Sel': 'unknown', '// ALU Selection           output [7:0] ALU_Out': 'output', '// ALU 8-bit Output           output CarryOut // Carry Out Flag': 'output'}\n",
      "Running LLM analysis with Phi-2...\n"
     ]
    },
    {
     "name": "stderr",
     "output_type": "stream",
     "text": [
      "The attention mask and the pad token id were not set. As a consequence, you may observe unexpected behavior. Please pass your input's `attention_mask` to obtain reliable results.\n",
      "Setting `pad_token_id` to `eos_token_id`:50256 for open-end generation.\n"
     ]
    },
    {
     "name": "stdout",
     "output_type": "stream",
     "text": [
      "Generating testbench with Phi-2...\n"
     ]
    },
    {
     "name": "stderr",
     "output_type": "stream",
     "text": [
      "The attention mask and the pad token id were not set. As a consequence, you may observe unexpected behavior. Please pass your input's `attention_mask` to obtain reliable results.\n",
      "Setting `pad_token_id` to `eos_token_id`:50256 for open-end generation.\n"
     ]
    },
    {
     "name": "stdout",
     "output_type": "stream",
     "text": [
      "Testbench saved to testbenches/alu_tb.v\n",
      "Compilation failed for alu:\n",
      "/content/drive/MyDrive/RTLData/Negation of assignment/ALU16Bit_4.v:11: syntax error\n",
      "/content/drive/MyDrive/RTLData/Negation of assignment/ALU16Bit_4.v:11: error: syntax error in left side of continuous assignment.\n",
      "testbenches/alu_tb.v:1: error: 'alu' has already been declared in this scope.\n",
      "/content/drive/MyDrive/RTLData/Negation of assignment/ALU16Bit_4.v:1:      : It was declared here as a module.\n",
      "testbenches/alu_tb.v:11: syntax error\n",
      "testbenches/alu_tb.v:11: error: syntax error in left side of continuous assignment.\n",
      "testbenches/alu_tb.v:50: Module alu was already declared here: /content/drive/MyDrive/RTLData/Negation of assignment/ALU16Bit_4.v:1\n",
      "\n",
      "\n",
      "\n",
      "Processing /content/drive/MyDrive/RTLData/Negation of assignment/s382_0.v...\n",
      "Multiple or nested module definitions detected.\n",
      "Created fixed Verilog file: testbenches/fixed_s382_0.v\n",
      "Module: dff, Ports: {'CK': 'input', 'q': 'output', 'd': 'unknown'}\n",
      "Running LLM analysis with Phi-2...\n"
     ]
    },
    {
     "name": "stderr",
     "output_type": "stream",
     "text": [
      "The attention mask and the pad token id were not set. As a consequence, you may observe unexpected behavior. Please pass your input's `attention_mask` to obtain reliable results.\n",
      "Setting `pad_token_id` to `eos_token_id`:50256 for open-end generation.\n"
     ]
    },
    {
     "name": "stdout",
     "output_type": "stream",
     "text": [
      "Generating testbench with Phi-2...\n",
      "Testbench saved to testbenches/dff_tb.v\n",
      "Compilation failed for dff:\n",
      "testbenches/dff_tb.v:1: error: 'dff' has already been declared in this scope.\n",
      "testbenches/fixed_s382_0.v:1:      : It was declared here as a module.\n",
      "testbenches/dff_tb.v:6: Module dff was already declared here: testbenches/fixed_s382_0.v:1\n",
      "\n",
      "\n",
      "\n",
      "Processing /content/drive/MyDrive/RTLData/Negation of assignment/GreyCounter_1.v...\n",
      "No valid module declaration found.\n",
      "Created fixed Verilog file: testbenches/fixed_GreyCounter_1.v\n",
      "Could not parse module definition in testbenches/fixed_GreyCounter_1.v\n",
      "\n",
      "Processing /content/drive/MyDrive/RTLData/Negation of assignment/c5315_2.v...\n"
     ]
    },
    {
     "name": "stderr",
     "output_type": "stream",
     "text": [
      "The attention mask and the pad token id were not set. As a consequence, you may observe unexpected behavior. Please pass your input's `attention_mask` to obtain reliable results.\n",
      "Setting `pad_token_id` to `eos_token_id`:50256 for open-end generation.\n"
     ]
    },
    {
     "name": "stdout",
     "output_type": "stream",
     "text": [
      "Module: c5315, Ports: {'N1': 'input', 'N4': 'unknown', 'N11': 'unknown', 'N14': 'unknown', 'N17': 'unknown', 'N20': 'unknown', 'N23': 'unknown', 'N24': 'unknown', 'N25': 'unknown', 'N26': 'unknown', 'N27': 'unknown', 'N31': 'unknown', 'N34': 'unknown', 'N37': 'unknown', 'N40': 'unknown', 'N43': 'unknown', 'N46': 'unknown', 'N49': 'unknown', 'N52': 'unknown', 'N53': 'unknown', 'N54': 'unknown', 'N61': 'unknown', 'N64': 'unknown', 'N67': 'unknown', 'N70': 'unknown', 'N73': 'unknown', 'N76': 'unknown', 'N79': 'unknown', 'N80': 'unknown', 'N81': 'unknown', 'N82': 'unknown', 'N83': 'unknown', 'N86': 'unknown', 'N87': 'unknown', 'N88': 'unknown', 'N91': 'unknown', 'N94': 'unknown', 'N97': 'unknown', 'N100': 'unknown', 'N103': 'unknown', 'N106': 'unknown', 'N109': 'unknown', 'N112': 'unknown', 'N113': 'unknown', 'N114': 'unknown', 'N115': 'unknown', 'N116': 'unknown', 'N117': 'unknown', 'N118': 'unknown', 'N119': 'unknown', 'N120': 'unknown', 'N121': 'unknown', 'N122': 'unknown', 'N123': 'unknown', 'N126': 'unknown', 'N127': 'unknown', 'N128': 'unknown', 'N129': 'unknown', 'N130': 'unknown', 'N131': 'unknown', 'N132': 'unknown', 'N135': 'unknown', 'N136': 'unknown', 'N137': 'unknown', 'N140': 'unknown', 'N141': 'unknown', 'N145': 'unknown', 'N146': 'unknown', 'N149': 'unknown', 'N152': 'unknown', 'N155': 'unknown', 'N158': 'unknown', 'N161': 'unknown', 'N164': 'unknown', 'N167': 'unknown', 'N170': 'unknown', 'N173': 'unknown', 'N176': 'unknown', 'N179': 'unknown', 'N182': 'unknown', 'N185': 'unknown', 'N188': 'unknown', 'N191': 'unknown', 'N194': 'unknown', 'N197': 'unknown', 'N200': 'unknown', 'N203': 'unknown', 'N206': 'unknown', 'N209': 'unknown', 'N210': 'unknown', 'N217': 'unknown', 'N218': 'unknown', 'N225': 'unknown', 'N226': 'unknown', 'N233': 'unknown', 'N234': 'unknown', 'N241': 'unknown', 'N242': 'unknown', 'N245': 'unknown', 'N248': 'unknown', 'N251': 'unknown', 'N254': 'unknown', 'N257': 'unknown', 'N264': 'unknown', 'N265': 'unknown', 'N272': 'unknown', 'N273': 'unknown', 'N280': 'unknown', 'N281': 'unknown', 'N288': 'unknown', 'N289': 'unknown', 'N292': 'unknown', 'N293': 'unknown', 'N299': 'unknown', 'N302': 'unknown', 'N307': 'unknown', 'N308': 'unknown', 'N315': 'unknown', 'N316': 'unknown', 'N323': 'unknown', 'N324': 'unknown', 'N331': 'unknown', 'N332': 'unknown', 'N335': 'unknown', 'N338': 'unknown', 'N341': 'unknown', 'N348': 'unknown', 'N351': 'unknown', 'N358': 'unknown', 'N361': 'unknown', 'N366': 'unknown', 'N369': 'unknown', 'N372': 'unknown', 'N373': 'unknown', 'N374': 'unknown', 'N386': 'unknown', 'N389': 'unknown', 'N400': 'unknown', 'N411': 'unknown', 'N422': 'unknown', 'N435': 'unknown', 'N446': 'unknown', 'N457': 'unknown', 'N468': 'unknown', 'N479': 'unknown', 'N490': 'unknown', 'N503': 'unknown', 'N514': 'unknown', 'N523': 'unknown', 'N534': 'unknown', 'N545': 'unknown', 'N549': 'unknown', 'N552': 'unknown', 'N556': 'unknown', 'N559': 'unknown', 'N562': 'unknown', 'N566': 'unknown', 'N571': 'unknown', 'N574': 'unknown', 'N577': 'unknown', 'N580': 'unknown', 'N583': 'unknown', 'N588': 'unknown', 'N591': 'unknown', 'N592': 'unknown', 'N595': 'unknown', 'N596': 'unknown', 'N597': 'unknown', 'N598': 'unknown', 'N599': 'unknown', 'N603': 'unknown', 'N607': 'unknown', 'N610': 'unknown', 'N613': 'unknown', 'N616': 'unknown', 'N619': 'unknown', 'N625': 'unknown', 'N631': 'unknown', 'N709': 'output', 'N816': 'unknown', 'N1066': 'unknown', 'N1137': 'unknown', 'N1138': 'unknown', 'N1139': 'unknown', 'N1140': 'unknown', 'N1141': 'unknown', 'N1142': 'unknown', 'N1143': 'unknown', 'N1144': 'unknown', 'N1145': 'unknown', 'N1147': 'unknown', 'N1152': 'unknown', 'N1153': 'unknown', 'N1154': 'unknown', 'N1155': 'unknown', 'N1972': 'unknown', 'N2054': 'unknown', 'N2060': 'unknown', 'N2061': 'unknown', 'N2139': 'unknown', 'N2142': 'unknown', 'N2309': 'unknown', 'N2387': 'unknown', 'N2527': 'unknown', 'N2584': 'unknown', 'N2590': 'unknown', 'N2623': 'unknown', 'N3357': 'unknown', 'N3358': 'unknown', 'N3359': 'unknown', 'N3360': 'unknown', 'N3604': 'unknown', 'N3613': 'unknown', 'N4272': 'unknown', 'N4275': 'unknown', 'N4278': 'unknown', 'N4279': 'unknown', 'N4737': 'unknown', 'N4738': 'unknown', 'N4739': 'unknown', 'N4740': 'unknown', 'N5240': 'unknown', 'N5388': 'unknown', 'N6641': 'unknown', 'N6643': 'unknown', 'N6646': 'unknown', 'N6648': 'unknown', 'N6716': 'unknown', 'N6877': 'unknown', 'N6924': 'unknown', 'N6925': 'unknown', 'N6926': 'unknown', 'N6927': 'unknown', 'N7015': 'unknown', 'N7363': 'unknown', 'N7365': 'unknown', 'N7432': 'unknown', 'N7449': 'unknown', 'N7465': 'unknown', 'N7466': 'unknown', 'N7467': 'unknown', 'N7469': 'unknown', 'N7470': 'unknown', 'N7471': 'unknown', 'N7472': 'unknown', 'N7473': 'unknown', 'N7474': 'unknown', 'N7476': 'unknown', 'N7503': 'unknown', 'N7504': 'unknown', 'N7506': 'unknown', 'N7511': 'unknown', 'N7515': 'unknown', 'N7516': 'unknown', 'N7517': 'unknown', 'N7518': 'unknown', 'N7519': 'unknown', 'N7520': 'unknown', 'N7521': 'unknown', 'N7522': 'unknown', 'N7600': 'unknown', 'N7601': 'unknown', 'N7602': 'unknown', 'N7603': 'unknown', 'N7604': 'unknown', 'N7605': 'unknown', 'N7606': 'unknown', 'N7607': 'unknown', 'N7626': 'unknown', 'N7698': 'unknown', 'N7699': 'unknown', 'N7700': 'unknown', 'N7701': 'unknown', 'N7702': 'unknown', 'N7703': 'unknown', 'N7704': 'unknown', 'N7705': 'unknown', 'N7706': 'unknown', 'N7707': 'unknown', 'N7735': 'unknown', 'N7736': 'unknown', 'N7737': 'unknown', 'N7738': 'unknown', 'N7739': 'unknown', 'N7740': 'unknown', 'N7741': 'unknown', 'N7742': 'unknown', 'N7754': 'unknown', 'N7755': 'unknown', 'N7756': 'unknown', 'N7757': 'unknown', 'N7758': 'unknown', 'N7759': 'unknown', 'N7760': 'unknown', 'N7761': 'unknown', 'N8075': 'unknown', 'N8076': 'unknown', 'N8123': 'unknown', 'N8124': 'unknown', 'N8127': 'unknown', 'N8128': 'unknown'}\n",
      "Running LLM analysis with Phi-2...\n",
      "Error generating with Phi-2: Input length of input_ids is 43659, but `max_length` is set to 2048. This can lead to unexpected behavior. You should consider increasing `max_length` or, better yet, setting `max_new_tokens`.\n",
      "Using device for rule-based analysis: cuda\n"
     ]
    },
    {
     "name": "stderr",
     "output_type": "stream",
     "text": [
      "The attention mask and the pad token id were not set. As a consequence, you may observe unexpected behavior. Please pass your input's `attention_mask` to obtain reliable results.\n",
      "Setting `pad_token_id` to `eos_token_id`:50256 for open-end generation.\n"
     ]
    },
    {
     "name": "stdout",
     "output_type": "stream",
     "text": [
      "Generating testbench with Phi-2...\n",
      "Error generating with Phi-2: Input length of input_ids is 45657, but `max_length` is set to 4096. This can lead to unexpected behavior. You should consider increasing `max_length` or, better yet, setting `max_new_tokens`.\n",
      "Testbench saved to testbenches/c5315_tb.v\n",
      "Compilation failed for c5315:\n",
      "/content/drive/MyDrive/RTLData/Negation of assignment/c5315_2.v:281: syntax error\n",
      "/content/drive/MyDrive/RTLData/Negation of assignment/c5315_2.v:281: error: syntax error in left side of continuous assignment.\n",
      "\n",
      "\n",
      "Processing /content/drive/MyDrive/RTLData/Negation of assignment/SerialAdder_2.v...\n",
      "Multiple or nested module definitions detected.\n",
      "Created fixed Verilog file: testbenches/fixed_SerialAdder_2.v\n",
      "Module: jserialadder, Ports: {'y': 'unknown', 'carryout': 'output', 'isValid': 'output', 'currentsum': 'output', 'currentcarryout': 'output', 'currentbitcount': 'unknown', 'clk': 'input', 'rst': 'input', 'a': 'input', 'b': 'unknown', 'carryin': 'unknown'}\n"
     ]
    },
    {
     "name": "stderr",
     "output_type": "stream",
     "text": [
      "The attention mask and the pad token id were not set. As a consequence, you may observe unexpected behavior. Please pass your input's `attention_mask` to obtain reliable results.\n",
      "Setting `pad_token_id` to `eos_token_id`:50256 for open-end generation.\n"
     ]
    },
    {
     "name": "stdout",
     "output_type": "stream",
     "text": [
      "Running LLM analysis with Phi-2...\n"
     ]
    },
    {
     "name": "stderr",
     "output_type": "stream",
     "text": [
      "The attention mask and the pad token id were not set. As a consequence, you may observe unexpected behavior. Please pass your input's `attention_mask` to obtain reliable results.\n",
      "Setting `pad_token_id` to `eos_token_id`:50256 for open-end generation.\n"
     ]
    },
    {
     "name": "stdout",
     "output_type": "stream",
     "text": [
      "Generating testbench with Phi-2...\n",
      "Testbench saved to testbenches/jserialadder_tb.v\n",
      "Compilation failed for jserialadder:\n",
      "testbenches/jserialadder_tb.v:1: error: 'jserialadder' has already been declared in this scope.\n",
      "testbenches/fixed_SerialAdder_2.v:1:      : It was declared here as a module.\n",
      "testbenches/jserialadder_tb.v:61: Module jserialadder was already declared here: testbenches/fixed_SerialAdder_2.v:1\n",
      "\n",
      "\n",
      "\n",
      "Processing /content/drive/MyDrive/RTLData/Negation of assignment/FSm_full_ParameterError_4.v...\n",
      "Module: fsm_full, Ports: {'clock': 'input', '// Clockreset': 'input', '// Active high resetreq_0': 'input', '// Active high request from agent 0req_1': 'output', '// Active high request from agent 1req_2': 'output', '// Active high request from agent 2req_3': 'output', '// Active high request from agent 3gnt_0': 'output', '// Active high grant to agent 0gnt_1': 'unknown', '// Active high grant to agent 1gnt_2': 'unknown', '// Active high grant to agent 2gnt_3   // Active high grant to agent 3': 'unknown'}\n"
     ]
    },
    {
     "name": "stderr",
     "output_type": "stream",
     "text": [
      "The attention mask and the pad token id were not set. As a consequence, you may observe unexpected behavior. Please pass your input's `attention_mask` to obtain reliable results.\n",
      "Setting `pad_token_id` to `eos_token_id`:50256 for open-end generation.\n"
     ]
    },
    {
     "name": "stdout",
     "output_type": "stream",
     "text": [
      "Running LLM analysis with Phi-2...\n"
     ]
    },
    {
     "name": "stderr",
     "output_type": "stream",
     "text": [
      "The attention mask and the pad token id were not set. As a consequence, you may observe unexpected behavior. Please pass your input's `attention_mask` to obtain reliable results.\n",
      "Setting `pad_token_id` to `eos_token_id`:50256 for open-end generation.\n"
     ]
    },
    {
     "name": "stdout",
     "output_type": "stream",
     "text": [
      "Generating testbench with Phi-2...\n"
     ]
    },
    {
     "name": "stderr",
     "output_type": "stream",
     "text": [
      "The attention mask and the pad token id were not set. As a consequence, you may observe unexpected behavior. Please pass your input's `attention_mask` to obtain reliable results.\n",
      "Setting `pad_token_id` to `eos_token_id`:50256 for open-end generation.\n"
     ]
    },
    {
     "name": "stdout",
     "output_type": "stream",
     "text": [
      "Testbench saved to testbenches/fsm_full_tb.v\n",
      "Compilation failed for fsm_full:\n",
      "testbenches/fsm_full_tb.v:1: error: 'fsm_full' has already been declared in this scope.\n",
      "/content/drive/MyDrive/RTLData/Negation of assignment/FSm_full_ParameterError_4.v:1:      : It was declared here as a module.\n",
      "testbenches/fsm_full_tb.v:114: Module fsm_full was already declared here: /content/drive/MyDrive/RTLData/Negation of assignment/FSm_full_ParameterError_4.v:1\n",
      "\n",
      "\n",
      "\n",
      "Processing /content/drive/MyDrive/RTLData/Negation of assignment/BothMultipler_4X4_3.v...\n",
      "Module: jboothMultiplier, Ports: {'PRODUCT': 'unknown', 'A': 'unknown', 'B': 'unknown'}\n",
      "Running LLM analysis with Phi-2...\n"
     ]
    },
    {
     "name": "stderr",
     "output_type": "stream",
     "text": [
      "The attention mask and the pad token id were not set. As a consequence, you may observe unexpected behavior. Please pass your input's `attention_mask` to obtain reliable results.\n",
      "Setting `pad_token_id` to `eos_token_id`:50256 for open-end generation.\n"
     ]
    },
    {
     "name": "stdout",
     "output_type": "stream",
     "text": [
      "Generating testbench with Phi-2...\n",
      "Testbench saved to testbenches/jboothMultiplier_tb.v\n",
      "Compilation failed for jboothMultiplier:\n",
      "/content/drive/MyDrive/RTLData/Negation of assignment/BothMultipler_4X4_3.v:15: syntax error\n",
      "/content/drive/MyDrive/RTLData/Negation of assignment/BothMultipler_4X4_3.v:15: Syntax in assignment statement l-value.\n",
      "/content/drive/MyDrive/RTLData/Negation of assignment/BothMultipler_4X4_3.v:16: syntax error\n",
      "/content/drive/MyDrive/RTLData/Negation of assignment/BothMultipler_4X4_3.v:16: Syntax in assignment statement l-value.\n",
      "testbenches/jboothMultiplier_tb.v:1: error: 'jboothMultiplier' has already been declared in this scope.\n",
      "/content/drive/MyDrive/RTLData/Negation of assignment/BothMultipler_4X4_3.v:4:      : It was declared here as a module.\n",
      "testbenches/jboothMultiplier_tb.v:12: syntax error\n",
      "testbenches/jboothMultiplier_tb.v:12: Syntax in assignment statement l-value.\n",
      "testbenches/jboothMultiplier_tb.v:13: syntax error\n",
      "testbenches/jboothMultiplier_tb.v:13: Syntax in assignment statement l-value.\n",
      "testbenches/jboothMultiplier_tb.v:30: Module jboothMultiplier was already declared here: /content/drive/MyDrive/RTLData/Negation of assignment/BothMultipler_4X4_3.v:4\n",
      "\n",
      "\n",
      "\n",
      "Processing /content/drive/MyDrive/RTLData/Negation of assignment/bar_0.v...\n",
      "Module: bar, Ports: {'\\\\a[0]': 'unknown', '\\\\a[1]': 'unknown', '\\\\a[2]': 'unknown', '\\\\a[3]': 'unknown', '\\\\a[4]': 'unknown', '\\\\a[5]': 'unknown', '\\\\a[6]': 'unknown', '\\\\a[7]': 'unknown', '\\\\a[8]': 'unknown', '\\\\a[9]': 'unknown', '\\\\a[10]': 'unknown', '\\\\a[11]': 'unknown', '\\\\a[12]': 'unknown', '\\\\a[13]': 'unknown', '\\\\a[14]': 'unknown', '\\\\a[15]': 'unknown', '\\\\a[16]': 'unknown', '\\\\a[17]': 'unknown', '\\\\a[18]': 'unknown', '\\\\a[19]': 'unknown', '\\\\a[20]': 'unknown', '\\\\a[21]': 'unknown', '\\\\a[22]': 'unknown', '\\\\a[23]': 'unknown', '\\\\a[24]': 'unknown', '\\\\a[25]': 'unknown', '\\\\a[26]': 'unknown', '\\\\a[27]': 'unknown', '\\\\a[28]': 'unknown', '\\\\a[29]': 'unknown', '\\\\a[30]': 'unknown', '\\\\a[31]': 'unknown', '\\\\a[32]': 'unknown', '\\\\a[33]': 'unknown', '\\\\a[34]': 'unknown', '\\\\a[35]': 'unknown', '\\\\a[36]': 'unknown', '\\\\a[37]': 'unknown', '\\\\a[38]': 'unknown', '\\\\a[39]': 'unknown', '\\\\a[40]': 'unknown', '\\\\a[41]': 'unknown', '\\\\a[42]': 'unknown', '\\\\a[43]': 'unknown', '\\\\a[44]': 'unknown', '\\\\a[45]': 'unknown', '\\\\a[46]': 'unknown', '\\\\a[47]': 'unknown', '\\\\a[48]': 'unknown', '\\\\a[49]': 'unknown', '\\\\a[50]': 'unknown', '\\\\a[51]': 'unknown', '\\\\a[52]': 'unknown', '\\\\a[53]': 'unknown', '\\\\a[54]': 'unknown', '\\\\a[55]': 'unknown', '\\\\a[56]': 'unknown', '\\\\a[57]': 'unknown', '\\\\a[58]': 'unknown', '\\\\a[59]': 'unknown', '\\\\a[60]': 'unknown', '\\\\a[61]': 'unknown', '\\\\a[62]': 'unknown', '\\\\a[63]': 'unknown', '\\\\a[64]': 'unknown', '\\\\a[65]': 'unknown', '\\\\a[66]': 'unknown', '\\\\a[67]': 'unknown', '\\\\a[68]': 'unknown', '\\\\a[69]': 'unknown', '\\\\a[70]': 'unknown', '\\\\a[71]': 'unknown', '\\\\a[72]': 'unknown', '\\\\a[73]': 'unknown', '\\\\a[74]': 'unknown', '\\\\a[75]': 'unknown', '\\\\a[76]': 'unknown', '\\\\a[77]': 'unknown', '\\\\a[78]': 'unknown', '\\\\a[79]': 'unknown', '\\\\a[80]': 'unknown', '\\\\a[81]': 'unknown', '\\\\a[82]': 'unknown', '\\\\a[83]': 'unknown', '\\\\a[84]': 'unknown', '\\\\a[85]': 'unknown', '\\\\a[86]': 'unknown', '\\\\a[87]': 'unknown', '\\\\a[88]': 'unknown', '\\\\a[89]': 'unknown', '\\\\a[90]': 'unknown', '\\\\a[91]': 'unknown', '\\\\a[92]': 'unknown', '\\\\a[93]': 'unknown', '\\\\a[94]': 'unknown', '\\\\a[95]': 'unknown', '\\\\a[96]': 'unknown', '\\\\a[97]': 'unknown', '\\\\a[98]': 'unknown', '\\\\a[99]': 'unknown', '\\\\a[100]': 'unknown', '\\\\a[101]': 'unknown', '\\\\a[102]': 'unknown', '\\\\a[103]': 'unknown', '\\\\a[104]': 'unknown', '\\\\a[105]': 'unknown', '\\\\a[106]': 'unknown', '\\\\a[107]': 'unknown', '\\\\a[108]': 'unknown', '\\\\a[109]': 'unknown', '\\\\a[110]': 'unknown', '\\\\a[111]': 'unknown', '\\\\a[112]': 'unknown', '\\\\a[113]': 'unknown', '\\\\a[114]': 'unknown', '\\\\a[115]': 'unknown', '\\\\a[116]': 'unknown', '\\\\a[117]': 'unknown', '\\\\a[118]': 'unknown', '\\\\a[119]': 'unknown', '\\\\a[120]': 'unknown', '\\\\a[121]': 'unknown', '\\\\a[122]': 'unknown', '\\\\a[123]': 'unknown', '\\\\a[124]': 'unknown', '\\\\a[125]': 'unknown', '\\\\a[126]': 'unknown', '\\\\a[127]': 'unknown', '\\\\shift[0]': 'unknown', '\\\\shift[1]': 'unknown', '\\\\shift[2]': 'unknown', '\\\\shift[3]': 'unknown', '\\\\shift[4]': 'unknown', '\\\\shift[5]': 'unknown', '\\\\shift[6]': 'unknown', '\\\\result[0]': 'unknown', '\\\\result[1]': 'unknown', '\\\\result[2]': 'unknown', '\\\\result[3]': 'unknown', '\\\\result[4]': 'unknown', '\\\\result[5]': 'unknown', '\\\\result[6]': 'unknown', '\\\\result[7]': 'unknown', '\\\\result[8]': 'unknown', '\\\\result[9]': 'unknown', '\\\\result[10]': 'unknown', '\\\\result[11]': 'unknown', '\\\\result[12]': 'unknown', '\\\\result[13]': 'unknown', '\\\\result[14]': 'unknown', '\\\\result[15]': 'unknown', '\\\\result[16]': 'unknown', '\\\\result[17]': 'unknown', '\\\\result[18]': 'unknown', '\\\\result[19]': 'unknown', '\\\\result[20]': 'unknown', '\\\\result[21]': 'unknown', '\\\\result[22]': 'unknown', '\\\\result[23]': 'unknown', '\\\\result[24]': 'unknown', '\\\\result[25]': 'unknown', '\\\\result[26]': 'unknown', '\\\\result[27]': 'unknown', '\\\\result[28]': 'unknown', '\\\\result[29]': 'unknown', '\\\\result[30]': 'unknown', '\\\\result[31]': 'unknown', '\\\\result[32]': 'unknown', '\\\\result[33]': 'unknown', '\\\\result[34]': 'unknown', '\\\\result[35]': 'unknown', '\\\\result[36]': 'unknown', '\\\\result[37]': 'unknown', '\\\\result[38]': 'unknown', '\\\\result[39]': 'unknown', '\\\\result[40]': 'unknown', '\\\\result[41]': 'unknown', '\\\\result[42]': 'unknown', '\\\\result[43]': 'unknown', '\\\\result[44]': 'unknown', '\\\\result[45]': 'unknown', '\\\\result[46]': 'unknown', '\\\\result[47]': 'unknown', '\\\\result[48]': 'unknown', '\\\\result[49]': 'unknown', '\\\\result[50]': 'unknown', '\\\\result[51]': 'unknown', '\\\\result[52]': 'unknown', '\\\\result[53]': 'unknown', '\\\\result[54]': 'unknown', '\\\\result[55]': 'unknown', '\\\\result[56]': 'unknown', '\\\\result[57]': 'unknown', '\\\\result[58]': 'unknown', '\\\\result[59]': 'unknown', '\\\\result[60]': 'unknown', '\\\\result[61]': 'unknown', '\\\\result[62]': 'unknown', '\\\\result[63]': 'unknown', '\\\\result[64]': 'unknown', '\\\\result[65]': 'unknown', '\\\\result[66]': 'unknown', '\\\\result[67]': 'unknown', '\\\\result[68]': 'unknown', '\\\\result[69]': 'unknown', '\\\\result[70]': 'unknown', '\\\\result[71]': 'unknown', '\\\\result[72]': 'unknown', '\\\\result[73]': 'unknown', '\\\\result[74]': 'unknown', '\\\\result[75]': 'unknown', '\\\\result[76]': 'unknown', '\\\\result[77]': 'unknown', '\\\\result[78]': 'unknown', '\\\\result[79]': 'unknown', '\\\\result[80]': 'unknown', '\\\\result[81]': 'unknown', '\\\\result[82]': 'unknown', '\\\\result[83]': 'unknown', '\\\\result[84]': 'unknown', '\\\\result[85]': 'unknown', '\\\\result[86]': 'unknown', '\\\\result[87]': 'unknown', '\\\\result[88]': 'unknown', '\\\\result[89]': 'unknown', '\\\\result[90]': 'unknown', '\\\\result[91]': 'unknown', '\\\\result[92]': 'unknown', '\\\\result[93]': 'unknown', '\\\\result[94]': 'unknown', '\\\\result[95]': 'unknown', '\\\\result[96]': 'unknown', '\\\\result[97]': 'unknown', '\\\\result[98]': 'unknown', '\\\\result[99]': 'unknown', '\\\\result[100]': 'unknown', '\\\\result[101]': 'unknown', '\\\\result[102]': 'unknown', '\\\\result[103]': 'unknown', '\\\\result[104]': 'unknown', '\\\\result[105]': 'unknown', '\\\\result[106]': 'unknown', '\\\\result[107]': 'unknown', '\\\\result[108]': 'unknown', '\\\\result[109]': 'unknown', '\\\\result[110]': 'unknown', '\\\\result[111]': 'unknown', '\\\\result[112]': 'unknown', '\\\\result[113]': 'unknown', '\\\\result[114]': 'unknown', '\\\\result[115]': 'unknown', '\\\\result[116]': 'unknown', '\\\\result[117]': 'unknown', '\\\\result[118]': 'unknown', '\\\\result[119]': 'unknown', '\\\\result[120]': 'unknown', '\\\\result[121]': 'unknown', '\\\\result[122]': 'unknown', '\\\\result[123]': 'unknown', '\\\\result[124]': 'unknown', '\\\\result[125]': 'unknown', '\\\\result[126]': 'unknown', '\\\\result[127]': 'unknown'}\n"
     ]
    },
    {
     "name": "stderr",
     "output_type": "stream",
     "text": [
      "The attention mask and the pad token id were not set. As a consequence, you may observe unexpected behavior. Please pass your input's `attention_mask` to obtain reliable results.\n",
      "Setting `pad_token_id` to `eos_token_id`:50256 for open-end generation.\n"
     ]
    },
    {
     "name": "stdout",
     "output_type": "stream",
     "text": [
      "Running LLM analysis with Phi-2...\n",
      "Error generating with Phi-2: Input length of input_ids is 75143, but `max_length` is set to 2048. This can lead to unexpected behavior. You should consider increasing `max_length` or, better yet, setting `max_new_tokens`.\n",
      "Using device for rule-based analysis: cuda\n",
      "Generating testbench with Phi-2...\n"
     ]
    },
    {
     "name": "stderr",
     "output_type": "stream",
     "text": [
      "The attention mask and the pad token id were not set. As a consequence, you may observe unexpected behavior. Please pass your input's `attention_mask` to obtain reliable results.\n",
      "Setting `pad_token_id` to `eos_token_id`:50256 for open-end generation.\n"
     ]
    },
    {
     "name": "stdout",
     "output_type": "stream",
     "text": [
      "Error generating with Phi-2: Input length of input_ids is 77313, but `max_length` is set to 4096. This can lead to unexpected behavior. You should consider increasing `max_length` or, better yet, setting `max_new_tokens`.\n",
      "Testbench saved to testbenches/bar_tb.v\n",
      "Compilation failed for bar:\n",
      "testbenches/bar_tb.v:6: syntax error\n",
      "testbenches/bar_tb.v:4: error: Syntax error in instance port expression(s).\n",
      "\n",
      "\n",
      "Processing /content/drive/MyDrive/RTLData/Negation of assignment/c6288_0.v...\n",
      "Module: c6288, Ports: {'N1': 'input', 'N18': 'unknown', 'N35': 'unknown', 'N52': 'unknown', 'N69': 'unknown', 'N86': 'unknown', 'N103': 'unknown', 'N120': 'unknown', 'N137': 'unknown', 'N154': 'unknown', 'N171': 'unknown', 'N188': 'unknown', 'N205': 'unknown', 'N222': 'unknown', 'N239': 'unknown', 'N256': 'unknown', 'N273': 'unknown', 'N290': 'unknown', 'N307': 'unknown', 'N324': 'unknown', 'N341': 'unknown', 'N358': 'unknown', 'N375': 'unknown', 'N392': 'unknown', 'N409': 'unknown', 'N426': 'unknown', 'N443': 'unknown', 'N460': 'unknown', 'N477': 'unknown', 'N494': 'unknown', 'N511': 'unknown', 'N528': 'unknown', 'N545': 'output', 'N1581': 'unknown', 'N1901': 'unknown', 'N2223': 'unknown', 'N2548': 'unknown', 'N2877': 'unknown', 'N3211': 'unknown', 'N3552': 'unknown', 'N3895': 'unknown', 'N4241': 'unknown', 'N4591': 'unknown', 'N4946': 'unknown', 'N5308': 'unknown', 'N5672': 'unknown', 'N5971': 'unknown', 'N6123': 'unknown', 'N6150': 'unknown', 'N6160': 'unknown', 'N6170': 'unknown', 'N6180': 'unknown', 'N6190': 'unknown', 'N6200': 'unknown', 'N6210': 'unknown', 'N6220': 'unknown', 'N6230': 'unknown', 'N6240': 'unknown', 'N6250': 'unknown', 'N6260': 'unknown', 'N6270': 'unknown', 'N6280': 'unknown', 'N6287': 'unknown', 'N6288': 'unknown'}\n"
     ]
    },
    {
     "name": "stderr",
     "output_type": "stream",
     "text": [
      "The attention mask and the pad token id were not set. As a consequence, you may observe unexpected behavior. Please pass your input's `attention_mask` to obtain reliable results.\n",
      "Setting `pad_token_id` to `eos_token_id`:50256 for open-end generation.\n"
     ]
    },
    {
     "name": "stdout",
     "output_type": "stream",
     "text": [
      "Running LLM analysis with Phi-2...\n",
      "Error generating with Phi-2: Input length of input_ids is 58413, but `max_length` is set to 2048. This can lead to unexpected behavior. You should consider increasing `max_length` or, better yet, setting `max_new_tokens`.\n",
      "Using device for rule-based analysis: cuda\n"
     ]
    },
    {
     "name": "stderr",
     "output_type": "stream",
     "text": [
      "The attention mask and the pad token id were not set. As a consequence, you may observe unexpected behavior. Please pass your input's `attention_mask` to obtain reliable results.\n",
      "Setting `pad_token_id` to `eos_token_id`:50256 for open-end generation.\n"
     ]
    },
    {
     "name": "stdout",
     "output_type": "stream",
     "text": [
      "Generating testbench with Phi-2...\n",
      "Error generating with Phi-2: Input length of input_ids is 58896, but `max_length` is set to 4096. This can lead to unexpected behavior. You should consider increasing `max_length` or, better yet, setting `max_new_tokens`.\n",
      "Testbench saved to testbenches/c6288_tb.v\n"
     ]
    },
    {
     "name": "stderr",
     "output_type": "stream",
     "text": [
      "The attention mask and the pad token id were not set. As a consequence, you may observe unexpected behavior. Please pass your input's `attention_mask` to obtain reliable results.\n",
      "Setting `pad_token_id` to `eos_token_id`:50256 for open-end generation.\n"
     ]
    },
    {
     "name": "stdout",
     "output_type": "stream",
     "text": [
      "Simulation output saved for c6288\n",
      "\n",
      "Processing /content/drive/MyDrive/RTLData/Negation of assignment/ArbitiryCounter_1.v...\n",
      "Module: jarbitraryCounter, Ports: {'OUTPUT': 'output', 'clock': 'input', 'reset': 'input'}\n",
      "Running LLM analysis with Phi-2...\n"
     ]
    },
    {
     "name": "stderr",
     "output_type": "stream",
     "text": [
      "The attention mask and the pad token id were not set. As a consequence, you may observe unexpected behavior. Please pass your input's `attention_mask` to obtain reliable results.\n",
      "Setting `pad_token_id` to `eos_token_id`:50256 for open-end generation.\n"
     ]
    },
    {
     "name": "stdout",
     "output_type": "stream",
     "text": [
      "Generating testbench with Phi-2...\n",
      "Phi-2 didn't generate a valid testbench, using rule-based generation\n",
      "Testbench saved to testbenches/jarbitraryCounter_tb.v\n",
      "Compilation failed for jarbitraryCounter:\n",
      "/content/drive/MyDrive/RTLData/Negation of assignment/ArbitiryCounter_1.v:12: error: Unable to bind wire/reg/memory `C' in `jarbitraryCounter_tb.uut'\n",
      "/content/drive/MyDrive/RTLData/Negation of assignment/ArbitiryCounter_1.v:12: error: Unable to bind wire/reg/memory `OUNT' in `jarbitraryCounter_tb.uut'\n",
      "/content/drive/MyDrive/RTLData/Negation of assignment/ArbitiryCounter_1.v:12: error: Unable to elaborate condition expression.\n",
      "testbenches/jarbitraryCounter_tb.v:7: warning: Port 1 (OUTPUT) of jarbitraryCounter expects 3 bits, got 1.\n",
      "testbenches/jarbitraryCounter_tb.v:7:        : Padding 2 high bits of the port.\n",
      "3 error(s) during elaboration.\n",
      "\n",
      "\n",
      "Processing /content/drive/MyDrive/RTLData/Negation of assignment/s1238a_0.v...\n",
      "Multiple or nested module definitions detected.\n"
     ]
    },
    {
     "name": "stderr",
     "output_type": "stream",
     "text": [
      "The attention mask and the pad token id were not set. As a consequence, you may observe unexpected behavior. Please pass your input's `attention_mask` to obtain reliable results.\n",
      "Setting `pad_token_id` to `eos_token_id`:50256 for open-end generation.\n"
     ]
    },
    {
     "name": "stdout",
     "output_type": "stream",
     "text": [
      "Created fixed Verilog file: testbenches/fixed_s1238a_0.v\n",
      "Module: dff, Ports: {'CK': 'input', 'q': 'output', 'd': 'unknown'}\n",
      "Running LLM analysis with Phi-2...\n"
     ]
    },
    {
     "name": "stderr",
     "output_type": "stream",
     "text": [
      "The attention mask and the pad token id were not set. As a consequence, you may observe unexpected behavior. Please pass your input's `attention_mask` to obtain reliable results.\n",
      "Setting `pad_token_id` to `eos_token_id`:50256 for open-end generation.\n"
     ]
    },
    {
     "name": "stdout",
     "output_type": "stream",
     "text": [
      "Generating testbench with Phi-2...\n",
      "Testbench saved to testbenches/dff_tb.v\n",
      "Compilation failed for dff:\n",
      "testbenches/dff_tb.v:1: error: 'dff' has already been declared in this scope.\n",
      "testbenches/fixed_s1238a_0.v:1:      : It was declared here as a module.\n",
      "testbenches/dff_tb.v:6: Module dff was already declared here: testbenches/fixed_s1238a_0.v:1\n",
      "\n",
      "\n",
      "\n",
      "Processing /content/drive/MyDrive/RTLData/Negation of assignment/i2c_0.v...\n",
      "Module: i2c, Ports: {'pi000': 'input', 'pi001': 'unknown', 'pi002': 'unknown', 'pi003': 'unknown', 'pi004': 'unknown', 'pi005': 'unknown', 'pi006': 'unknown', 'pi007': 'unknown', 'pi008': 'unknown', 'pi009': 'unknown', 'pi010': 'unknown', 'pi011': 'unknown', 'pi012': 'unknown', 'pi013': 'unknown', 'pi014': 'unknown', 'pi015': 'unknown', 'pi016': 'unknown', 'pi017': 'unknown', 'pi018': 'unknown', 'pi019': 'unknown', 'pi020': 'unknown', 'pi021': 'unknown', 'pi022': 'unknown', 'pi023': 'unknown', 'pi024': 'unknown', 'pi025': 'unknown', 'pi026': 'unknown', 'pi027': 'unknown', 'pi028': 'unknown', 'pi029': 'unknown', 'pi030': 'unknown', 'pi031': 'unknown', 'pi032': 'unknown', 'pi033': 'unknown', 'pi034': 'unknown', 'pi035': 'unknown', 'pi036': 'unknown', 'pi037': 'unknown', 'pi038': 'unknown', 'pi039': 'unknown', 'pi040': 'unknown', 'pi041': 'unknown', 'pi042': 'unknown', 'pi043': 'unknown', 'pi044': 'unknown', 'pi045': 'unknown', 'pi046': 'unknown', 'pi047': 'unknown', 'pi048': 'unknown', 'pi049': 'unknown', 'pi050': 'unknown', 'pi051': 'unknown', 'pi052': 'unknown', 'pi053': 'unknown', 'pi054': 'unknown', 'pi055': 'unknown', 'pi056': 'unknown', 'pi057': 'unknown', 'pi058': 'unknown', 'pi059': 'unknown', 'pi060': 'unknown', 'pi061': 'unknown', 'pi062': 'unknown', 'pi063': 'unknown', 'pi064': 'unknown', 'pi065': 'unknown', 'pi066': 'unknown', 'pi067': 'unknown', 'pi068': 'unknown', 'pi069': 'unknown', 'pi070': 'unknown', 'pi071': 'unknown', 'pi072': 'unknown', 'pi073': 'unknown', 'pi074': 'unknown', 'pi075': 'unknown', 'pi076': 'unknown', 'pi077': 'unknown', 'pi078': 'unknown', 'pi079': 'unknown', 'pi080': 'unknown', 'pi081': 'unknown', 'pi082': 'unknown', 'pi083': 'unknown', 'pi084': 'unknown', 'pi085': 'unknown', 'pi086': 'unknown', 'pi087': 'unknown', 'pi088': 'unknown', 'pi089': 'unknown', 'pi090': 'unknown', 'pi091': 'unknown', 'pi092': 'unknown', 'pi093': 'unknown', 'pi094': 'unknown', 'pi095': 'unknown', 'pi096': 'unknown', 'pi097': 'unknown', 'pi098': 'unknown', 'pi099': 'unknown', 'pi100': 'unknown', 'pi101': 'unknown', 'pi102': 'unknown', 'pi103': 'unknown', 'pi104': 'unknown', 'pi105': 'unknown', 'pi106': 'unknown', 'pi107': 'unknown', 'pi108': 'unknown', 'pi109': 'unknown', 'pi110': 'unknown', 'pi111': 'unknown', 'pi112': 'unknown', 'pi113': 'unknown', 'pi114': 'unknown', 'pi115': 'unknown', 'pi116': 'unknown', 'pi117': 'unknown', 'pi118': 'unknown', 'pi119': 'unknown', 'pi120': 'unknown', 'pi121': 'unknown', 'pi122': 'unknown', 'pi123': 'unknown', 'pi124': 'unknown', 'pi125': 'unknown', 'pi126': 'unknown', 'pi127': 'unknown', 'pi128': 'unknown', 'pi129': 'unknown', 'pi130': 'unknown', 'pi131': 'unknown', 'pi132': 'unknown', 'pi133': 'unknown', 'pi134': 'unknown', 'pi135': 'unknown', 'pi136': 'unknown', 'pi137': 'unknown', 'pi138': 'unknown', 'pi139': 'unknown', 'pi140': 'unknown', 'pi141': 'unknown', 'pi142': 'unknown', 'pi143': 'unknown', 'pi144': 'unknown', 'pi145': 'unknown', 'pi146': 'unknown', 'po000': 'output', 'po001': 'unknown', 'po002': 'unknown', 'po003': 'unknown', 'po004': 'unknown', 'po005': 'unknown', 'po006': 'unknown', 'po007': 'unknown', 'po008': 'unknown', 'po009': 'unknown', 'po010': 'unknown', 'po011': 'unknown', 'po012': 'unknown', 'po013': 'unknown', 'po014': 'unknown', 'po015': 'unknown', 'po016': 'unknown', 'po017': 'unknown', 'po018': 'unknown', 'po019': 'unknown', 'po020': 'unknown', 'po021': 'unknown', 'po022': 'unknown', 'po023': 'unknown', 'po024': 'unknown', 'po025': 'unknown', 'po026': 'unknown', 'po027': 'unknown', 'po028': 'unknown', 'po029': 'unknown', 'po030': 'unknown', 'po031': 'unknown', 'po032': 'unknown', 'po033': 'unknown', 'po034': 'unknown', 'po035': 'unknown', 'po036': 'unknown', 'po037': 'unknown', 'po038': 'unknown', 'po039': 'unknown', 'po040': 'unknown', 'po041': 'unknown', 'po042': 'unknown', 'po043': 'unknown', 'po044': 'unknown', 'po045': 'unknown', 'po046': 'unknown', 'po047': 'unknown', 'po048': 'unknown', 'po049': 'unknown', 'po050': 'unknown', 'po051': 'unknown', 'po052': 'unknown', 'po053': 'unknown', 'po054': 'unknown', 'po055': 'unknown', 'po056': 'unknown', 'po057': 'unknown', 'po058': 'unknown', 'po059': 'unknown', 'po060': 'unknown', 'po061': 'unknown', 'po062': 'unknown', 'po063': 'unknown', 'po064': 'unknown', 'po065': 'unknown', 'po066': 'unknown', 'po067': 'unknown', 'po068': 'unknown', 'po069': 'unknown', 'po070': 'unknown', 'po071': 'unknown', 'po072': 'unknown', 'po073': 'unknown', 'po074': 'unknown', 'po075': 'unknown', 'po076': 'unknown', 'po077': 'unknown', 'po078': 'unknown', 'po079': 'unknown', 'po080': 'unknown', 'po081': 'unknown', 'po082': 'unknown', 'po083': 'unknown', 'po084': 'unknown', 'po085': 'unknown', 'po086': 'unknown', 'po087': 'unknown', 'po088': 'unknown', 'po089': 'unknown', 'po090': 'unknown', 'po091': 'unknown', 'po092': 'unknown', 'po093': 'unknown', 'po094': 'unknown', 'po095': 'unknown', 'po096': 'unknown', 'po097': 'unknown', 'po098': 'unknown', 'po099': 'unknown', 'po100': 'unknown', 'po101': 'unknown', 'po102': 'unknown', 'po103': 'unknown', 'po104': 'unknown', 'po105': 'unknown', 'po106': 'unknown', 'po107': 'unknown', 'po108': 'unknown', 'po109': 'unknown', 'po110': 'unknown', 'po111': 'unknown', 'po112': 'unknown', 'po113': 'unknown', 'po114': 'unknown', 'po115': 'unknown', 'po116': 'unknown', 'po117': 'unknown', 'po118': 'unknown', 'po119': 'unknown', 'po120': 'unknown', 'po121': 'unknown', 'po122': 'unknown', 'po123': 'unknown', 'po124': 'unknown', 'po125': 'unknown', 'po126': 'unknown', 'po127': 'unknown', 'po128': 'unknown', 'po129': 'unknown', 'po130': 'unknown', 'po131': 'unknown', 'po132': 'unknown', 'po133': 'unknown', 'po134': 'unknown', 'po135': 'unknown', 'po136': 'unknown', 'po137': 'unknown', 'po138': 'unknown', 'po139': 'unknown', 'po140': 'unknown', 'po141': 'unknown'}\n",
      "Running LLM analysis with Phi-2...\n"
     ]
    },
    {
     "name": "stderr",
     "output_type": "stream",
     "text": [
      "The attention mask and the pad token id were not set. As a consequence, you may observe unexpected behavior. Please pass your input's `attention_mask` to obtain reliable results.\n",
      "Setting `pad_token_id` to `eos_token_id`:50256 for open-end generation.\n",
      "The attention mask and the pad token id were not set. As a consequence, you may observe unexpected behavior. Please pass your input's `attention_mask` to obtain reliable results.\n",
      "Setting `pad_token_id` to `eos_token_id`:50256 for open-end generation.\n"
     ]
    },
    {
     "name": "stdout",
     "output_type": "stream",
     "text": [
      "Error generating with Phi-2: Input length of input_ids is 45585, but `max_length` is set to 2048. This can lead to unexpected behavior. You should consider increasing `max_length` or, better yet, setting `max_new_tokens`.\n",
      "Using device for rule-based analysis: cuda\n",
      "Generating testbench with Phi-2...\n",
      "Error generating with Phi-2: Input length of input_ids is 47471, but `max_length` is set to 4096. This can lead to unexpected behavior. You should consider increasing `max_length` or, better yet, setting `max_new_tokens`.\n",
      "Testbench saved to testbenches/i2c_tb.v\n"
     ]
    },
    {
     "name": "stderr",
     "output_type": "stream",
     "text": [
      "The attention mask and the pad token id were not set. As a consequence, you may observe unexpected behavior. Please pass your input's `attention_mask` to obtain reliable results.\n",
      "Setting `pad_token_id` to `eos_token_id`:50256 for open-end generation.\n"
     ]
    },
    {
     "name": "stdout",
     "output_type": "stream",
     "text": [
      "Simulation output saved for i2c\n",
      "\n",
      "Processing /content/drive/MyDrive/RTLData/Negation of assignment/PatternDetector_0.v...\n",
      "Module: det_110101, Ports: {'input clk': 'input', 'input rstn': 'input', 'input in': 'unknown', 'output out': 'output'}\n",
      "Running LLM analysis with Phi-2...\n"
     ]
    },
    {
     "name": "stderr",
     "output_type": "stream",
     "text": [
      "The attention mask and the pad token id were not set. As a consequence, you may observe unexpected behavior. Please pass your input's `attention_mask` to obtain reliable results.\n",
      "Setting `pad_token_id` to `eos_token_id`:50256 for open-end generation.\n"
     ]
    },
    {
     "name": "stdout",
     "output_type": "stream",
     "text": [
      "Generating testbench with Phi-2...\n"
     ]
    },
    {
     "name": "stderr",
     "output_type": "stream",
     "text": [
      "The attention mask and the pad token id were not set. As a consequence, you may observe unexpected behavior. Please pass your input's `attention_mask` to obtain reliable results.\n",
      "Setting `pad_token_id` to `eos_token_id`:50256 for open-end generation.\n"
     ]
    },
    {
     "name": "stdout",
     "output_type": "stream",
     "text": [
      "Testbench saved to testbenches/det_110101_tb.v\n",
      "Compilation failed for det_110101:\n",
      "testbenches/det_110101_tb.v:1: error: 'det_110101' has already been declared in this scope.\n",
      "/content/drive/MyDrive/RTLData/Negation of assignment/PatternDetector_0.v:1:      : It was declared here as a module.\n",
      "testbenches/det_110101_tb.v:63: Module det_110101 was already declared here: /content/drive/MyDrive/RTLData/Negation of assignment/PatternDetector_0.v:1\n",
      "\n",
      "\n",
      "\n",
      "Processing /content/drive/MyDrive/RTLData/Negation of assignment/SerialAdder_4.v...\n",
      "Multiple or nested module definitions detected.\n",
      "Created fixed Verilog file: testbenches/fixed_SerialAdder_4.v\n",
      "Module: jserialadder, Ports: {'y': 'unknown', 'carryout': 'output', 'isValid': 'output', 'currentsum': 'output', 'currentcarryout': 'output', 'currentbitcount': 'unknown', 'clk': 'input', 'rst': 'input', 'a': 'input', 'b': 'unknown', 'carryin': 'unknown'}\n",
      "Running LLM analysis with Phi-2...\n"
     ]
    },
    {
     "name": "stderr",
     "output_type": "stream",
     "text": [
      "The attention mask and the pad token id were not set. As a consequence, you may observe unexpected behavior. Please pass your input's `attention_mask` to obtain reliable results.\n",
      "Setting `pad_token_id` to `eos_token_id`:50256 for open-end generation.\n"
     ]
    },
    {
     "name": "stdout",
     "output_type": "stream",
     "text": [
      "Generating testbench with Phi-2...\n"
     ]
    },
    {
     "name": "stderr",
     "output_type": "stream",
     "text": [
      "The attention mask and the pad token id were not set. As a consequence, you may observe unexpected behavior. Please pass your input's `attention_mask` to obtain reliable results.\n",
      "Setting `pad_token_id` to `eos_token_id`:50256 for open-end generation.\n"
     ]
    },
    {
     "name": "stdout",
     "output_type": "stream",
     "text": [
      "Testbench saved to testbenches/jserialadder_tb.v\n",
      "Compilation failed for jserialadder:\n",
      "testbenches/jserialadder_tb.v:1: error: 'jserialadder' has already been declared in this scope.\n",
      "testbenches/fixed_SerialAdder_4.v:1:      : It was declared here as a module.\n",
      "testbenches/jserialadder_tb.v:61: Module jserialadder was already declared here: testbenches/fixed_SerialAdder_4.v:1\n",
      "\n",
      "\n",
      "\n",
      "Processing /content/drive/MyDrive/RTLData/Negation of assignment/ALU16Bit_1.v...\n",
      "Module: alu, Ports: {'input [7:0] A': 'unknown', 'B': 'unknown', '// ALU 8-bit Inputs                            input [3:0] ALU_Sel': 'unknown', '// ALU Selection           output [7:0] ALU_Out': 'output', '// ALU 8-bit Output           output CarryOut // Carry Out Flag': 'output'}\n",
      "Running LLM analysis with Phi-2...\n"
     ]
    },
    {
     "name": "stderr",
     "output_type": "stream",
     "text": [
      "The attention mask and the pad token id were not set. As a consequence, you may observe unexpected behavior. Please pass your input's `attention_mask` to obtain reliable results.\n",
      "Setting `pad_token_id` to `eos_token_id`:50256 for open-end generation.\n"
     ]
    },
    {
     "name": "stdout",
     "output_type": "stream",
     "text": [
      "Generating testbench with Phi-2...\n"
     ]
    },
    {
     "name": "stderr",
     "output_type": "stream",
     "text": [
      "The attention mask and the pad token id were not set. As a consequence, you may observe unexpected behavior. Please pass your input's `attention_mask` to obtain reliable results.\n",
      "Setting `pad_token_id` to `eos_token_id`:50256 for open-end generation.\n"
     ]
    },
    {
     "name": "stdout",
     "output_type": "stream",
     "text": [
      "Testbench saved to testbenches/alu_tb.v\n",
      "Compilation failed for alu:\n",
      "/content/drive/MyDrive/RTLData/Negation of assignment/ALU16Bit_1.v:9: syntax error\n",
      "/content/drive/MyDrive/RTLData/Negation of assignment/ALU16Bit_1.v:9: error: syntax error in left side of continuous assignment.\n",
      "testbenches/alu_tb.v:10: syntax error\n",
      "testbenches/alu_tb.v:10: error: syntax error in left side of continuous assignment.\n",
      "\n",
      "\n",
      "Processing /content/drive/MyDrive/RTLData/Negation of assignment/lshift_reg_0.v...\n",
      "Module: lshift_reg, Ports: {'input             clk': 'input', '// Clock input                   input            rstn': 'input', '// Active low reset input                   input [7:0]       load_val': 'input', '// Load value                    input             load_en': 'unknown', '// Load enable                   output reg [7:0] op': 'output'}\n",
      "Running LLM analysis with Phi-2...\n"
     ]
    },
    {
     "name": "stderr",
     "output_type": "stream",
     "text": [
      "The attention mask and the pad token id were not set. As a consequence, you may observe unexpected behavior. Please pass your input's `attention_mask` to obtain reliable results.\n",
      "Setting `pad_token_id` to `eos_token_id`:50256 for open-end generation.\n"
     ]
    },
    {
     "name": "stdout",
     "output_type": "stream",
     "text": [
      "Generating testbench with Phi-2...\n"
     ]
    },
    {
     "name": "stderr",
     "output_type": "stream",
     "text": [
      "The attention mask and the pad token id were not set. As a consequence, you may observe unexpected behavior. Please pass your input's `attention_mask` to obtain reliable results.\n",
      "Setting `pad_token_id` to `eos_token_id`:50256 for open-end generation.\n"
     ]
    },
    {
     "name": "stdout",
     "output_type": "stream",
     "text": [
      "Testbench saved to testbenches/lshift_reg_tb.v\n",
      "Compilation failed for lshift_reg:\n",
      "testbenches/lshift_reg_tb.v:1: error: 'lshift_reg' has already been declared in this scope.\n",
      "/content/drive/MyDrive/RTLData/Negation of assignment/lshift_reg_0.v:1:      : It was declared here as a module.\n",
      "testbenches/lshift_reg_tb.v:29: Module lshift_reg was already declared here: /content/drive/MyDrive/RTLData/Negation of assignment/lshift_reg_0.v:1\n",
      "\n",
      "\n",
      "\n",
      "Processing /content/drive/MyDrive/RTLData/Negation of assignment/FIFOBuffer_4.v...\n",
      "Module: jFIFO, Ports: {'DATAOUT': 'output', 'full': 'output', 'empty': 'unknown', 'clock': 'input', 'reset': 'input', 'wn': 'unknown', 'rn': 'unknown', 'DATAIN': 'input'}\n",
      "Running LLM analysis with Phi-2...\n"
     ]
    },
    {
     "name": "stderr",
     "output_type": "stream",
     "text": [
      "The attention mask and the pad token id were not set. As a consequence, you may observe unexpected behavior. Please pass your input's `attention_mask` to obtain reliable results.\n",
      "Setting `pad_token_id` to `eos_token_id`:50256 for open-end generation.\n"
     ]
    },
    {
     "name": "stdout",
     "output_type": "stream",
     "text": [
      "Generating testbench with Phi-2...\n"
     ]
    },
    {
     "name": "stderr",
     "output_type": "stream",
     "text": [
      "The attention mask and the pad token id were not set. As a consequence, you may observe unexpected behavior. Please pass your input's `attention_mask` to obtain reliable results.\n",
      "Setting `pad_token_id` to `eos_token_id`:50256 for open-end generation.\n"
     ]
    },
    {
     "name": "stdout",
     "output_type": "stream",
     "text": [
      "Testbench saved to testbenches/jFIFO_tb.v\n",
      "Compilation failed for jFIFO:\n",
      "testbenches/jFIFO_tb.v:1: error: Port DATAOUT (1) of module jFIFO_Testbench is not declared within module.\n",
      "testbenches/jFIFO_tb.v:1: error: no wire/reg DATAOUT in module jFIFO_Testbench.\n",
      "/content/drive/MyDrive/RTLData/Negation of assignment/FIFOBuffer_4.v:13: error: Unable to bind wire/reg/memory `r' in `jFIFO'\n",
      "/content/drive/MyDrive/RTLData/Negation of assignment/FIFOBuffer_4.v:13: error: Unable to bind wire/reg/memory `ptr' in `jFIFO'\n",
      "/content/drive/MyDrive/RTLData/Negation of assignment/FIFOBuffer_4.v:13: error: Unable to elaborate r-value: (((wptr)==(3'd7))&(((r)-(ptr))==(3'd0)))?('sd1):('sd0)\n",
      "testbenches/jFIFO_tb.v:15: error: Could not find variable ``DATAOUT'' in ``jFIFO_Testbench''\n",
      "testbenches/jFIFO_tb.v:24: error: Could not find variable ``DATAOUT'' in ``jFIFO_Testbench''\n",
      "7 error(s) during elaboration.\n",
      "\n",
      "\n",
      "Processing /content/drive/MyDrive/RTLData/Negation of assignment/lshift_reg_4.v...\n",
      "Module: lshift_reg, Ports: {'input             clk': 'input', '// Clock input                   input            rstn': 'input', '// Active low reset input                   input [7:0]       load_val': 'input', '// Load value                    input             load_en': 'unknown', '// Load enable                   output reg [7:0] op': 'output'}\n",
      "Running LLM analysis with Phi-2...\n"
     ]
    },
    {
     "name": "stderr",
     "output_type": "stream",
     "text": [
      "The attention mask and the pad token id were not set. As a consequence, you may observe unexpected behavior. Please pass your input's `attention_mask` to obtain reliable results.\n",
      "Setting `pad_token_id` to `eos_token_id`:50256 for open-end generation.\n"
     ]
    },
    {
     "name": "stdout",
     "output_type": "stream",
     "text": [
      "Generating testbench with Phi-2...\n"
     ]
    },
    {
     "name": "stderr",
     "output_type": "stream",
     "text": [
      "The attention mask and the pad token id were not set. As a consequence, you may observe unexpected behavior. Please pass your input's `attention_mask` to obtain reliable results.\n",
      "Setting `pad_token_id` to `eos_token_id`:50256 for open-end generation.\n"
     ]
    },
    {
     "name": "stdout",
     "output_type": "stream",
     "text": [
      "Phi-2 didn't generate a valid testbench, using rule-based generation\n",
      "Testbench saved to testbenches/lshift_reg_tb.v\n",
      "Compilation failed for lshift_reg:\n",
      "/content/drive/MyDrive/RTLData/Negation of assignment/lshift_reg_4.v:22: syntax error\n",
      "/content/drive/MyDrive/RTLData/Negation of assignment/lshift_reg_4.v:22: error: Incomprehensible for loop.\n",
      "testbenches/lshift_reg_tb.v:2: syntax error\n",
      "testbenches/lshift_reg_tb.v:2: error: invalid module item.\n",
      "testbenches/lshift_reg_tb.v:5: syntax error\n",
      "testbenches/lshift_reg_tb.v:14: error: invalid module item.\n",
      "testbenches/lshift_reg_tb.v:20: syntax error\n",
      "testbenches/lshift_reg_tb.v:26: error: malformed statement\n",
      "testbenches/lshift_reg_tb.v:35: syntax error\n",
      "I give up.\n",
      "\n",
      "\n",
      "Processing /content/drive/MyDrive/RTLData/Negation of assignment/s1196_0.v...\n",
      "Multiple or nested module definitions detected.\n",
      "Created fixed Verilog file: testbenches/fixed_s1196_0.v\n",
      "Module: dff, Ports: {'CK': 'input', 'q': 'output', 'd': 'unknown'}\n",
      "Running LLM analysis with Phi-2...\n"
     ]
    },
    {
     "name": "stderr",
     "output_type": "stream",
     "text": [
      "The attention mask and the pad token id were not set. As a consequence, you may observe unexpected behavior. Please pass your input's `attention_mask` to obtain reliable results.\n",
      "Setting `pad_token_id` to `eos_token_id`:50256 for open-end generation.\n"
     ]
    },
    {
     "name": "stdout",
     "output_type": "stream",
     "text": [
      "Generating testbench with Phi-2...\n",
      "Testbench saved to testbenches/dff_tb.v\n",
      "Compilation failed for dff:\n",
      "testbenches/dff_tb.v:1: error: 'dff' has already been declared in this scope.\n",
      "testbenches/fixed_s1196_0.v:1:      : It was declared here as a module.\n",
      "testbenches/dff_tb.v:6: Module dff was already declared here: testbenches/fixed_s1196_0.v:1\n",
      "\n",
      "\n",
      "\n",
      "Processing /content/drive/MyDrive/RTLData/Negation of assignment/memctrl_3.v...\n",
      "Module: memctrl, Ports: {'pi0000': 'input', 'pi0001': 'unknown', 'pi0002': 'unknown', 'pi0003': 'unknown', 'pi0004': 'unknown', 'pi0005': 'unknown', 'pi0006': 'unknown', 'pi0007': 'unknown', 'pi0008': 'unknown', 'pi0009': 'unknown', 'pi0010': 'unknown', 'pi0011': 'unknown', 'pi0012': 'unknown', 'pi0013': 'unknown', 'pi0014': 'unknown', 'pi0015': 'unknown', 'pi0016': 'unknown', 'pi0017': 'unknown', 'pi0018': 'unknown', 'pi0019': 'unknown', 'pi0020': 'unknown', 'pi0021': 'unknown', 'pi0022': 'unknown', 'pi0023': 'unknown', 'pi0024': 'unknown', 'pi0025': 'unknown', 'pi0026': 'unknown', 'pi0027': 'unknown', 'pi0028': 'unknown', 'pi0029': 'unknown', 'pi0030': 'unknown', 'pi0031': 'unknown', 'pi0032': 'unknown', 'pi0033': 'unknown', 'pi0034': 'unknown', 'pi0035': 'unknown', 'pi0036': 'unknown', 'pi0037': 'unknown', 'pi0038': 'unknown', 'pi0039': 'unknown', 'pi0040': 'unknown', 'pi0041': 'unknown', 'pi0042': 'unknown', 'pi0043': 'unknown', 'pi0044': 'unknown', 'pi0045': 'unknown', 'pi0046': 'unknown', 'pi0047': 'unknown', 'pi0048': 'unknown', 'pi0049': 'unknown', 'pi0050': 'unknown', 'pi0051': 'unknown', 'pi0052': 'unknown', 'pi0053': 'unknown', 'pi0054': 'unknown', 'pi0055': 'unknown', 'pi0056': 'unknown', 'pi0057': 'unknown', 'pi0058': 'unknown', 'pi0059': 'unknown', 'pi0060': 'unknown', 'pi0061': 'unknown', 'pi0062': 'unknown', 'pi0063': 'unknown', 'pi0064': 'unknown', 'pi0065': 'unknown', 'pi0066': 'unknown', 'pi0067': 'unknown', 'pi0068': 'unknown', 'pi0069': 'unknown', 'pi0070': 'unknown', 'pi0071': 'unknown', 'pi0072': 'unknown', 'pi0073': 'unknown', 'pi0074': 'unknown', 'pi0075': 'unknown', 'pi0076': 'unknown', 'pi0077': 'unknown', 'pi0078': 'unknown', 'pi0079': 'unknown', 'pi0080': 'unknown', 'pi0081': 'unknown', 'pi0082': 'unknown', 'pi0083': 'unknown', 'pi0084': 'unknown', 'pi0085': 'unknown', 'pi0086': 'unknown', 'pi0087': 'unknown', 'pi0088': 'unknown', 'pi0089': 'unknown', 'pi0090': 'unknown', 'pi0091': 'unknown', 'pi0092': 'unknown', 'pi0093': 'unknown', 'pi0094': 'unknown', 'pi0095': 'unknown', 'pi0096': 'unknown', 'pi0097': 'unknown', 'pi0098': 'unknown', 'pi0099': 'unknown', 'pi0100': 'unknown', 'pi0101': 'unknown', 'pi0102': 'unknown', 'pi0103': 'unknown', 'pi0104': 'unknown', 'pi0105': 'unknown', 'pi0106': 'unknown', 'pi0107': 'unknown', 'pi0108': 'unknown', 'pi0109': 'unknown', 'pi0110': 'unknown', 'pi0111': 'unknown', 'pi0112': 'unknown', 'pi0113': 'unknown', 'pi0114': 'unknown', 'pi0115': 'unknown', 'pi0116': 'unknown', 'pi0117': 'unknown', 'pi0118': 'unknown', 'pi0119': 'unknown', 'pi0120': 'unknown', 'pi0121': 'unknown', 'pi0122': 'unknown', 'pi0123': 'unknown', 'pi0124': 'unknown', 'pi0125': 'unknown', 'pi0126': 'unknown', 'pi0127': 'unknown', 'pi0128': 'unknown', 'pi0129': 'unknown', 'pi0130': 'unknown', 'pi0131': 'unknown', 'pi0132': 'unknown', 'pi0133': 'unknown', 'pi0134': 'unknown', 'pi0135': 'unknown', 'pi0136': 'unknown', 'pi0137': 'unknown', 'pi0138': 'unknown', 'pi0139': 'unknown', 'pi0140': 'unknown', 'pi0141': 'unknown', 'pi0142': 'unknown', 'pi0143': 'unknown', 'pi0144': 'unknown', 'pi0145': 'unknown', 'pi0146': 'unknown', 'pi0147': 'unknown', 'pi0148': 'unknown', 'pi0149': 'unknown', 'pi0150': 'unknown', 'pi0151': 'unknown', 'pi0152': 'unknown', 'pi0153': 'unknown', 'pi0154': 'unknown', 'pi0155': 'unknown', 'pi0156': 'unknown', 'pi0157': 'unknown', 'pi0158': 'unknown', 'pi0159': 'unknown', 'pi0160': 'unknown', 'pi0161': 'unknown', 'pi0162': 'unknown', 'pi0163': 'unknown', 'pi0164': 'unknown', 'pi0165': 'unknown', 'pi0166': 'unknown', 'pi0167': 'unknown', 'pi0168': 'unknown', 'pi0169': 'unknown', 'pi0170': 'unknown', 'pi0171': 'unknown', 'pi0172': 'unknown', 'pi0173': 'unknown', 'pi0174': 'unknown', 'pi0175': 'unknown', 'pi0176': 'unknown', 'pi0177': 'unknown', 'pi0178': 'unknown', 'pi0179': 'unknown', 'pi0180': 'unknown', 'pi0181': 'unknown', 'pi0182': 'unknown', 'pi0183': 'unknown', 'pi0184': 'unknown', 'pi0185': 'unknown', 'pi0186': 'unknown', 'pi0187': 'unknown', 'pi0188': 'unknown', 'pi0189': 'unknown', 'pi0190': 'unknown', 'pi0191': 'unknown', 'pi0192': 'unknown', 'pi0193': 'unknown', 'pi0194': 'unknown', 'pi0195': 'unknown', 'pi0196': 'unknown', 'pi0197': 'unknown', 'pi0198': 'unknown', 'pi0199': 'unknown', 'pi0200': 'unknown', 'pi0201': 'unknown', 'pi0202': 'unknown', 'pi0203': 'unknown', 'pi0204': 'unknown', 'pi0205': 'unknown', 'pi0206': 'unknown', 'pi0207': 'unknown', 'pi0208': 'unknown', 'pi0209': 'unknown', 'pi0210': 'unknown', 'pi0211': 'unknown', 'pi0212': 'unknown', 'pi0213': 'unknown', 'pi0214': 'unknown', 'pi0215': 'unknown', 'pi0216': 'unknown', 'pi0217': 'unknown', 'pi0218': 'unknown', 'pi0219': 'unknown', 'pi0220': 'unknown', 'pi0221': 'unknown', 'pi0222': 'unknown', 'pi0223': 'unknown', 'pi0224': 'unknown', 'pi0225': 'unknown', 'pi0226': 'unknown', 'pi0227': 'unknown', 'pi0228': 'unknown', 'pi0229': 'unknown', 'pi0230': 'unknown', 'pi0231': 'unknown', 'pi0232': 'unknown', 'pi0233': 'unknown', 'pi0234': 'unknown', 'pi0235': 'unknown', 'pi0236': 'unknown', 'pi0237': 'unknown', 'pi0238': 'unknown', 'pi0239': 'unknown', 'pi0240': 'unknown', 'pi0241': 'unknown', 'pi0242': 'unknown', 'pi0243': 'unknown', 'pi0244': 'unknown', 'pi0245': 'unknown', 'pi0246': 'unknown', 'pi0247': 'unknown', 'pi0248': 'unknown', 'pi0249': 'unknown', 'pi0250': 'unknown', 'pi0251': 'unknown', 'pi0252': 'unknown', 'pi0253': 'unknown', 'pi0254': 'unknown', 'pi0255': 'unknown', 'pi0256': 'unknown', 'pi0257': 'unknown', 'pi0258': 'unknown', 'pi0259': 'unknown', 'pi0260': 'unknown', 'pi0261': 'unknown', 'pi0262': 'unknown', 'pi0263': 'unknown', 'pi0264': 'unknown', 'pi0265': 'unknown', 'pi0266': 'unknown', 'pi0267': 'unknown', 'pi0268': 'unknown', 'pi0269': 'unknown', 'pi0270': 'unknown', 'pi0271': 'unknown', 'pi0272': 'unknown', 'pi0273': 'unknown', 'pi0274': 'unknown', 'pi0275': 'unknown', 'pi0276': 'unknown', 'pi0277': 'unknown', 'pi0278': 'unknown', 'pi0279': 'unknown', 'pi0280': 'unknown', 'pi0281': 'unknown', 'pi0282': 'unknown', 'pi0283': 'unknown', 'pi0284': 'unknown', 'pi0285': 'unknown', 'pi0286': 'unknown', 'pi0287': 'unknown', 'pi0288': 'unknown', 'pi0289': 'unknown', 'pi0290': 'unknown', 'pi0291': 'unknown', 'pi0292': 'unknown', 'pi0293': 'unknown', 'pi0294': 'unknown', 'pi0295': 'unknown', 'pi0296': 'unknown', 'pi0297': 'unknown', 'pi0298': 'unknown', 'pi0299': 'unknown', 'pi0300': 'unknown', 'pi0301': 'unknown', 'pi0302': 'unknown', 'pi0303': 'unknown', 'pi0304': 'unknown', 'pi0305': 'unknown', 'pi0306': 'unknown', 'pi0307': 'unknown', 'pi0308': 'unknown', 'pi0309': 'unknown', 'pi0310': 'unknown', 'pi0311': 'unknown', 'pi0312': 'unknown', 'pi0313': 'unknown', 'pi0314': 'unknown', 'pi0315': 'unknown', 'pi0316': 'unknown', 'pi0317': 'unknown', 'pi0318': 'unknown', 'pi0319': 'unknown', 'pi0320': 'unknown', 'pi0321': 'unknown', 'pi0322': 'unknown', 'pi0323': 'unknown', 'pi0324': 'unknown', 'pi0325': 'unknown', 'pi0326': 'unknown', 'pi0327': 'unknown', 'pi0328': 'unknown', 'pi0329': 'unknown', 'pi0330': 'unknown', 'pi0331': 'unknown', 'pi0332': 'unknown', 'pi0333': 'unknown', 'pi0334': 'unknown', 'pi0335': 'unknown', 'pi0336': 'unknown', 'pi0337': 'unknown', 'pi0338': 'unknown', 'pi0339': 'unknown', 'pi0340': 'unknown', 'pi0341': 'unknown', 'pi0342': 'unknown', 'pi0343': 'unknown', 'pi0344': 'unknown', 'pi0345': 'unknown', 'pi0346': 'unknown', 'pi0347': 'unknown', 'pi0348': 'unknown', 'pi0349': 'unknown', 'pi0350': 'unknown', 'pi0351': 'unknown', 'pi0352': 'unknown', 'pi0353': 'unknown', 'pi0354': 'unknown', 'pi0355': 'unknown', 'pi0356': 'unknown', 'pi0357': 'unknown', 'pi0358': 'unknown', 'pi0359': 'unknown', 'pi0360': 'unknown', 'pi0361': 'unknown', 'pi0362': 'unknown', 'pi0363': 'unknown', 'pi0364': 'unknown', 'pi0365': 'unknown', 'pi0366': 'unknown', 'pi0367': 'unknown', 'pi0368': 'unknown', 'pi0369': 'unknown', 'pi0370': 'unknown', 'pi0371': 'unknown', 'pi0372': 'unknown', 'pi0373': 'unknown', 'pi0374': 'unknown', 'pi0375': 'unknown', 'pi0376': 'unknown', 'pi0377': 'unknown', 'pi0378': 'unknown', 'pi0379': 'unknown', 'pi0380': 'unknown', 'pi0381': 'unknown', 'pi0382': 'unknown', 'pi0383': 'unknown', 'pi0384': 'unknown', 'pi0385': 'unknown', 'pi0386': 'unknown', 'pi0387': 'unknown', 'pi0388': 'unknown', 'pi0389': 'unknown', 'pi0390': 'unknown', 'pi0391': 'unknown', 'pi0392': 'unknown', 'pi0393': 'unknown', 'pi0394': 'unknown', 'pi0395': 'unknown', 'pi0396': 'unknown', 'pi0397': 'unknown', 'pi0398': 'unknown', 'pi0399': 'unknown', 'pi0400': 'unknown', 'pi0401': 'unknown', 'pi0402': 'unknown', 'pi0403': 'unknown', 'pi0404': 'unknown', 'pi0405': 'unknown', 'pi0406': 'unknown', 'pi0407': 'unknown', 'pi0408': 'unknown', 'pi0409': 'unknown', 'pi0410': 'unknown', 'pi0411': 'unknown', 'pi0412': 'unknown', 'pi0413': 'unknown', 'pi0414': 'unknown', 'pi0415': 'unknown', 'pi0416': 'unknown', 'pi0417': 'unknown', 'pi0418': 'unknown', 'pi0419': 'unknown', 'pi0420': 'unknown', 'pi0421': 'unknown', 'pi0422': 'unknown', 'pi0423': 'unknown', 'pi0424': 'unknown', 'pi0425': 'unknown', 'pi0426': 'unknown', 'pi0427': 'unknown', 'pi0428': 'unknown', 'pi0429': 'unknown', 'pi0430': 'unknown', 'pi0431': 'unknown', 'pi0432': 'unknown', 'pi0433': 'unknown', 'pi0434': 'unknown', 'pi0435': 'unknown', 'pi0436': 'unknown', 'pi0437': 'unknown', 'pi0438': 'unknown', 'pi0439': 'unknown', 'pi0440': 'unknown', 'pi0441': 'unknown', 'pi0442': 'unknown', 'pi0443': 'unknown', 'pi0444': 'unknown', 'pi0445': 'unknown', 'pi0446': 'unknown', 'pi0447': 'unknown', 'pi0448': 'unknown', 'pi0449': 'unknown', 'pi0450': 'unknown', 'pi0451': 'unknown', 'pi0452': 'unknown', 'pi0453': 'unknown', 'pi0454': 'unknown', 'pi0455': 'unknown', 'pi0456': 'unknown', 'pi0457': 'unknown', 'pi0458': 'unknown', 'pi0459': 'unknown', 'pi0460': 'unknown', 'pi0461': 'unknown', 'pi0462': 'unknown', 'pi0463': 'unknown', 'pi0464': 'unknown', 'pi0465': 'unknown', 'pi0466': 'unknown', 'pi0467': 'unknown', 'pi0468': 'unknown', 'pi0469': 'unknown', 'pi0470': 'unknown', 'pi0471': 'unknown', 'pi0472': 'unknown', 'pi0473': 'unknown', 'pi0474': 'unknown', 'pi0475': 'unknown', 'pi0476': 'unknown', 'pi0477': 'unknown', 'pi0478': 'unknown', 'pi0479': 'unknown', 'pi0480': 'unknown', 'pi0481': 'unknown', 'pi0482': 'unknown', 'pi0483': 'unknown', 'pi0484': 'unknown', 'pi0485': 'unknown', 'pi0486': 'unknown', 'pi0487': 'unknown', 'pi0488': 'unknown', 'pi0489': 'unknown', 'pi0490': 'unknown', 'pi0491': 'unknown', 'pi0492': 'unknown', 'pi0493': 'unknown', 'pi0494': 'unknown', 'pi0495': 'unknown', 'pi0496': 'unknown', 'pi0497': 'unknown', 'pi0498': 'unknown', 'pi0499': 'unknown', 'pi0500': 'unknown', 'pi0501': 'unknown', 'pi0502': 'unknown', 'pi0503': 'unknown', 'pi0504': 'unknown', 'pi0505': 'unknown', 'pi0506': 'unknown', 'pi0507': 'unknown', 'pi0508': 'unknown', 'pi0509': 'unknown', 'pi0510': 'unknown', 'pi0511': 'unknown', 'pi0512': 'unknown', 'pi0513': 'unknown', 'pi0514': 'unknown', 'pi0515': 'unknown', 'pi0516': 'unknown', 'pi0517': 'unknown', 'pi0518': 'unknown', 'pi0519': 'unknown', 'pi0520': 'unknown', 'pi0521': 'unknown', 'pi0522': 'unknown', 'pi0523': 'unknown', 'pi0524': 'unknown', 'pi0525': 'unknown', 'pi0526': 'unknown', 'pi0527': 'unknown', 'pi0528': 'unknown', 'pi0529': 'unknown', 'pi0530': 'unknown', 'pi0531': 'unknown', 'pi0532': 'unknown', 'pi0533': 'unknown', 'pi0534': 'unknown', 'pi0535': 'unknown', 'pi0536': 'unknown', 'pi0537': 'unknown', 'pi0538': 'unknown', 'pi0539': 'unknown', 'pi0540': 'unknown', 'pi0541': 'unknown', 'pi0542': 'unknown', 'pi0543': 'unknown', 'pi0544': 'unknown', 'pi0545': 'unknown', 'pi0546': 'unknown', 'pi0547': 'unknown', 'pi0548': 'unknown', 'pi0549': 'unknown', 'pi0550': 'unknown', 'pi0551': 'unknown', 'pi0552': 'unknown', 'pi0553': 'unknown', 'pi0554': 'unknown', 'pi0555': 'unknown', 'pi0556': 'unknown', 'pi0557': 'unknown', 'pi0558': 'unknown', 'pi0559': 'unknown', 'pi0560': 'unknown', 'pi0561': 'unknown', 'pi0562': 'unknown', 'pi0563': 'unknown', 'pi0564': 'unknown', 'pi0565': 'unknown', 'pi0566': 'unknown', 'pi0567': 'unknown', 'pi0568': 'unknown', 'pi0569': 'unknown', 'pi0570': 'unknown', 'pi0571': 'unknown', 'pi0572': 'unknown', 'pi0573': 'unknown', 'pi0574': 'unknown', 'pi0575': 'unknown', 'pi0576': 'unknown', 'pi0577': 'unknown', 'pi0578': 'unknown', 'pi0579': 'unknown', 'pi0580': 'unknown', 'pi0581': 'unknown', 'pi0582': 'unknown', 'pi0583': 'unknown', 'pi0584': 'unknown', 'pi0585': 'unknown', 'pi0586': 'unknown', 'pi0587': 'unknown', 'pi0588': 'unknown', 'pi0589': 'unknown', 'pi0590': 'unknown', 'pi0591': 'unknown', 'pi0592': 'unknown', 'pi0593': 'unknown', 'pi0594': 'unknown', 'pi0595': 'unknown', 'pi0596': 'unknown', 'pi0597': 'unknown', 'pi0598': 'unknown', 'pi0599': 'unknown', 'pi0600': 'unknown', 'pi0601': 'unknown', 'pi0602': 'unknown', 'pi0603': 'unknown', 'pi0604': 'unknown', 'pi0605': 'unknown', 'pi0606': 'unknown', 'pi0607': 'unknown', 'pi0608': 'unknown', 'pi0609': 'unknown', 'pi0610': 'unknown', 'pi0611': 'unknown', 'pi0612': 'unknown', 'pi0613': 'unknown', 'pi0614': 'unknown', 'pi0615': 'unknown', 'pi0616': 'unknown', 'pi0617': 'unknown', 'pi0618': 'unknown', 'pi0619': 'unknown', 'pi0620': 'unknown', 'pi0621': 'unknown', 'pi0622': 'unknown', 'pi0623': 'unknown', 'pi0624': 'unknown', 'pi0625': 'unknown', 'pi0626': 'unknown', 'pi0627': 'unknown', 'pi0628': 'unknown', 'pi0629': 'unknown', 'pi0630': 'unknown', 'pi0631': 'unknown', 'pi0632': 'unknown', 'pi0633': 'unknown', 'pi0634': 'unknown', 'pi0635': 'unknown', 'pi0636': 'unknown', 'pi0637': 'unknown', 'pi0638': 'unknown', 'pi0639': 'unknown', 'pi0640': 'unknown', 'pi0641': 'unknown', 'pi0642': 'unknown', 'pi0643': 'unknown', 'pi0644': 'unknown', 'pi0645': 'unknown', 'pi0646': 'unknown', 'pi0647': 'unknown', 'pi0648': 'unknown', 'pi0649': 'unknown', 'pi0650': 'unknown', 'pi0651': 'unknown', 'pi0652': 'unknown', 'pi0653': 'unknown', 'pi0654': 'unknown', 'pi0655': 'unknown', 'pi0656': 'unknown', 'pi0657': 'unknown', 'pi0658': 'unknown', 'pi0659': 'unknown', 'pi0660': 'unknown', 'pi0661': 'unknown', 'pi0662': 'unknown', 'pi0663': 'unknown', 'pi0664': 'unknown', 'pi0665': 'unknown', 'pi0666': 'unknown', 'pi0667': 'unknown', 'pi0668': 'unknown', 'pi0669': 'unknown', 'pi0670': 'unknown', 'pi0671': 'unknown', 'pi0672': 'unknown', 'pi0673': 'unknown', 'pi0674': 'unknown', 'pi0675': 'unknown', 'pi0676': 'unknown', 'pi0677': 'unknown', 'pi0678': 'unknown', 'pi0679': 'unknown', 'pi0680': 'unknown', 'pi0681': 'unknown', 'pi0682': 'unknown', 'pi0683': 'unknown', 'pi0684': 'unknown', 'pi0685': 'unknown', 'pi0686': 'unknown', 'pi0687': 'unknown', 'pi0688': 'unknown', 'pi0689': 'unknown', 'pi0690': 'unknown', 'pi0691': 'unknown', 'pi0692': 'unknown', 'pi0693': 'unknown', 'pi0694': 'unknown', 'pi0695': 'unknown', 'pi0696': 'unknown', 'pi0697': 'unknown', 'pi0698': 'unknown', 'pi0699': 'unknown', 'pi0700': 'unknown', 'pi0701': 'unknown', 'pi0702': 'unknown', 'pi0703': 'unknown', 'pi0704': 'unknown', 'pi0705': 'unknown', 'pi0706': 'unknown', 'pi0707': 'unknown', 'pi0708': 'unknown', 'pi0709': 'unknown', 'pi0710': 'unknown', 'pi0711': 'unknown', 'pi0712': 'unknown', 'pi0713': 'unknown', 'pi0714': 'unknown', 'pi0715': 'unknown', 'pi0716': 'unknown', 'pi0717': 'unknown', 'pi0718': 'unknown', 'pi0719': 'unknown', 'pi0720': 'unknown', 'pi0721': 'unknown', 'pi0722': 'unknown', 'pi0723': 'unknown', 'pi0724': 'unknown', 'pi0725': 'unknown', 'pi0726': 'unknown', 'pi0727': 'unknown', 'pi0728': 'unknown', 'pi0729': 'unknown', 'pi0730': 'unknown', 'pi0731': 'unknown', 'pi0732': 'unknown', 'pi0733': 'unknown', 'pi0734': 'unknown', 'pi0735': 'unknown', 'pi0736': 'unknown', 'pi0737': 'unknown', 'pi0738': 'unknown', 'pi0739': 'unknown', 'pi0740': 'unknown', 'pi0741': 'unknown', 'pi0742': 'unknown', 'pi0743': 'unknown', 'pi0744': 'unknown', 'pi0745': 'unknown', 'pi0746': 'unknown', 'pi0747': 'unknown', 'pi0748': 'unknown', 'pi0749': 'unknown', 'pi0750': 'unknown', 'pi0751': 'unknown', 'pi0752': 'unknown', 'pi0753': 'unknown', 'pi0754': 'unknown', 'pi0755': 'unknown', 'pi0756': 'unknown', 'pi0757': 'unknown', 'pi0758': 'unknown', 'pi0759': 'unknown', 'pi0760': 'unknown', 'pi0761': 'unknown', 'pi0762': 'unknown', 'pi0763': 'unknown', 'pi0764': 'unknown', 'pi0765': 'unknown', 'pi0766': 'unknown', 'pi0767': 'unknown', 'pi0768': 'unknown', 'pi0769': 'unknown', 'pi0770': 'unknown', 'pi0771': 'unknown', 'pi0772': 'unknown', 'pi0773': 'unknown', 'pi0774': 'unknown', 'pi0775': 'unknown', 'pi0776': 'unknown', 'pi0777': 'unknown', 'pi0778': 'unknown', 'pi0779': 'unknown', 'pi0780': 'unknown', 'pi0781': 'unknown', 'pi0782': 'unknown', 'pi0783': 'unknown', 'pi0784': 'unknown', 'pi0785': 'unknown', 'pi0786': 'unknown', 'pi0787': 'unknown', 'pi0788': 'unknown', 'pi0789': 'unknown', 'pi0790': 'unknown', 'pi0791': 'unknown', 'pi0792': 'unknown', 'pi0793': 'unknown', 'pi0794': 'unknown', 'pi0795': 'unknown', 'pi0796': 'unknown', 'pi0797': 'unknown', 'pi0798': 'unknown', 'pi0799': 'unknown', 'pi0800': 'unknown', 'pi0801': 'unknown', 'pi0802': 'unknown', 'pi0803': 'unknown', 'pi0804': 'unknown', 'pi0805': 'unknown', 'pi0806': 'unknown', 'pi0807': 'unknown', 'pi0808': 'unknown', 'pi0809': 'unknown', 'pi0810': 'unknown', 'pi0811': 'unknown', 'pi0812': 'unknown', 'pi0813': 'unknown', 'pi0814': 'unknown', 'pi0815': 'unknown', 'pi0816': 'unknown', 'pi0817': 'unknown', 'pi0818': 'unknown', 'pi0819': 'unknown', 'pi0820': 'unknown', 'pi0821': 'unknown', 'pi0822': 'unknown', 'pi0823': 'unknown', 'pi0824': 'unknown', 'pi0825': 'unknown', 'pi0826': 'unknown', 'pi0827': 'unknown', 'pi0828': 'unknown', 'pi0829': 'unknown', 'pi0830': 'unknown', 'pi0831': 'unknown', 'pi0832': 'unknown', 'pi0833': 'unknown', 'pi0834': 'unknown', 'pi0835': 'unknown', 'pi0836': 'unknown', 'pi0837': 'unknown', 'pi0838': 'unknown', 'pi0839': 'unknown', 'pi0840': 'unknown', 'pi0841': 'unknown', 'pi0842': 'unknown', 'pi0843': 'unknown', 'pi0844': 'unknown', 'pi0845': 'unknown', 'pi0846': 'unknown', 'pi0847': 'unknown', 'pi0848': 'unknown', 'pi0849': 'unknown', 'pi0850': 'unknown', 'pi0851': 'unknown', 'pi0852': 'unknown', 'pi0853': 'unknown', 'pi0854': 'unknown', 'pi0855': 'unknown', 'pi0856': 'unknown', 'pi0857': 'unknown', 'pi0858': 'unknown', 'pi0859': 'unknown', 'pi0860': 'unknown', 'pi0861': 'unknown', 'pi0862': 'unknown', 'pi0863': 'unknown', 'pi0864': 'unknown', 'pi0865': 'unknown', 'pi0866': 'unknown', 'pi0867': 'unknown', 'pi0868': 'unknown', 'pi0869': 'unknown', 'pi0870': 'unknown', 'pi0871': 'unknown', 'pi0872': 'unknown', 'pi0873': 'unknown', 'pi0874': 'unknown', 'pi0875': 'unknown', 'pi0876': 'unknown', 'pi0877': 'unknown', 'pi0878': 'unknown', 'pi0879': 'unknown', 'pi0880': 'unknown', 'pi0881': 'unknown', 'pi0882': 'unknown', 'pi0883': 'unknown', 'pi0884': 'unknown', 'pi0885': 'unknown', 'pi0886': 'unknown', 'pi0887': 'unknown', 'pi0888': 'unknown', 'pi0889': 'unknown', 'pi0890': 'unknown', 'pi0891': 'unknown', 'pi0892': 'unknown', 'pi0893': 'unknown', 'pi0894': 'unknown', 'pi0895': 'unknown', 'pi0896': 'unknown', 'pi0897': 'unknown', 'pi0898': 'unknown', 'pi0899': 'unknown', 'pi0900': 'unknown', 'pi0901': 'unknown', 'pi0902': 'unknown', 'pi0903': 'unknown', 'pi0904': 'unknown', 'pi0905': 'unknown', 'pi0906': 'unknown', 'pi0907': 'unknown', 'pi0908': 'unknown', 'pi0909': 'unknown', 'pi0910': 'unknown', 'pi0911': 'unknown', 'pi0912': 'unknown', 'pi0913': 'unknown', 'pi0914': 'unknown', 'pi0915': 'unknown', 'pi0916': 'unknown', 'pi0917': 'unknown', 'pi0918': 'unknown', 'pi0919': 'unknown', 'pi0920': 'unknown', 'pi0921': 'unknown', 'pi0922': 'unknown', 'pi0923': 'unknown', 'pi0924': 'unknown', 'pi0925': 'unknown', 'pi0926': 'unknown', 'pi0927': 'unknown', 'pi0928': 'unknown', 'pi0929': 'unknown', 'pi0930': 'unknown', 'pi0931': 'unknown', 'pi0932': 'unknown', 'pi0933': 'unknown', 'pi0934': 'unknown', 'pi0935': 'unknown', 'pi0936': 'unknown', 'pi0937': 'unknown', 'pi0938': 'unknown', 'pi0939': 'unknown', 'pi0940': 'unknown', 'pi0941': 'unknown', 'pi0942': 'unknown', 'pi0943': 'unknown', 'pi0944': 'unknown', 'pi0945': 'unknown', 'pi0946': 'unknown', 'pi0947': 'unknown', 'pi0948': 'unknown', 'pi0949': 'unknown', 'pi0950': 'unknown', 'pi0951': 'unknown', 'pi0952': 'unknown', 'pi0953': 'unknown', 'pi0954': 'unknown', 'pi0955': 'unknown', 'pi0956': 'unknown', 'pi0957': 'unknown', 'pi0958': 'unknown', 'pi0959': 'unknown', 'pi0960': 'unknown', 'pi0961': 'unknown', 'pi0962': 'unknown', 'pi0963': 'unknown', 'pi0964': 'unknown', 'pi0965': 'unknown', 'pi0966': 'unknown', 'pi0967': 'unknown', 'pi0968': 'unknown', 'pi0969': 'unknown', 'pi0970': 'unknown', 'pi0971': 'unknown', 'pi0972': 'unknown', 'pi0973': 'unknown', 'pi0974': 'unknown', 'pi0975': 'unknown', 'pi0976': 'unknown', 'pi0977': 'unknown', 'pi0978': 'unknown', 'pi0979': 'unknown', 'pi0980': 'unknown', 'pi0981': 'unknown', 'pi0982': 'unknown', 'pi0983': 'unknown', 'pi0984': 'unknown', 'pi0985': 'unknown', 'pi0986': 'unknown', 'pi0987': 'unknown', 'pi0988': 'unknown', 'pi0989': 'unknown', 'pi0990': 'unknown', 'pi0991': 'unknown', 'pi0992': 'unknown', 'pi0993': 'unknown', 'pi0994': 'unknown', 'pi0995': 'unknown', 'pi0996': 'unknown', 'pi0997': 'unknown', 'pi0998': 'unknown', 'pi0999': 'unknown', 'pi1000': 'unknown', 'pi1001': 'unknown', 'pi1002': 'unknown', 'pi1003': 'unknown', 'pi1004': 'unknown', 'pi1005': 'unknown', 'pi1006': 'unknown', 'pi1007': 'unknown', 'pi1008': 'unknown', 'pi1009': 'unknown', 'pi1010': 'unknown', 'pi1011': 'unknown', 'pi1012': 'unknown', 'pi1013': 'unknown', 'pi1014': 'unknown', 'pi1015': 'unknown', 'pi1016': 'unknown', 'pi1017': 'unknown', 'pi1018': 'unknown', 'pi1019': 'unknown', 'pi1020': 'unknown', 'pi1021': 'unknown', 'pi1022': 'unknown', 'pi1023': 'unknown', 'pi1024': 'unknown', 'pi1025': 'unknown', 'pi1026': 'unknown', 'pi1027': 'unknown', 'pi1028': 'unknown', 'pi1029': 'unknown', 'pi1030': 'unknown', 'pi1031': 'unknown', 'pi1032': 'unknown', 'pi1033': 'unknown', 'pi1034': 'unknown', 'pi1035': 'unknown', 'pi1036': 'unknown', 'pi1037': 'unknown', 'pi1038': 'unknown', 'pi1039': 'unknown', 'pi1040': 'unknown', 'pi1041': 'unknown', 'pi1042': 'unknown', 'pi1043': 'unknown', 'pi1044': 'unknown', 'pi1045': 'unknown', 'pi1046': 'unknown', 'pi1047': 'unknown', 'pi1048': 'unknown', 'pi1049': 'unknown', 'pi1050': 'unknown', 'pi1051': 'unknown', 'pi1052': 'unknown', 'pi1053': 'unknown', 'pi1054': 'unknown', 'pi1055': 'unknown', 'pi1056': 'unknown', 'pi1057': 'unknown', 'pi1058': 'unknown', 'pi1059': 'unknown', 'pi1060': 'unknown', 'pi1061': 'unknown', 'pi1062': 'unknown', 'pi1063': 'unknown', 'pi1064': 'unknown', 'pi1065': 'unknown', 'pi1066': 'unknown', 'pi1067': 'unknown', 'pi1068': 'unknown', 'pi1069': 'unknown', 'pi1070': 'unknown', 'pi1071': 'unknown', 'pi1072': 'unknown', 'pi1073': 'unknown', 'pi1074': 'unknown', 'pi1075': 'unknown', 'pi1076': 'unknown', 'pi1077': 'unknown', 'pi1078': 'unknown', 'pi1079': 'unknown', 'pi1080': 'unknown', 'pi1081': 'unknown', 'pi1082': 'unknown', 'pi1083': 'unknown', 'pi1084': 'unknown', 'pi1085': 'unknown', 'pi1086': 'unknown', 'pi1087': 'unknown', 'pi1088': 'unknown', 'pi1089': 'unknown', 'pi1090': 'unknown', 'pi1091': 'unknown', 'pi1092': 'unknown', 'pi1093': 'unknown', 'pi1094': 'unknown', 'pi1095': 'unknown', 'pi1096': 'unknown', 'pi1097': 'unknown', 'pi1098': 'unknown', 'pi1099': 'unknown', 'pi1100': 'unknown', 'pi1101': 'unknown', 'pi1102': 'unknown', 'pi1103': 'unknown', 'pi1104': 'unknown', 'pi1105': 'unknown', 'pi1106': 'unknown', 'pi1107': 'unknown', 'pi1108': 'unknown', 'pi1109': 'unknown', 'pi1110': 'unknown', 'pi1111': 'unknown', 'pi1112': 'unknown', 'pi1113': 'unknown', 'pi1114': 'unknown', 'pi1115': 'unknown', 'pi1116': 'unknown', 'pi1117': 'unknown', 'pi1118': 'unknown', 'pi1119': 'unknown', 'pi1120': 'unknown', 'pi1121': 'unknown', 'pi1122': 'unknown', 'pi1123': 'unknown', 'pi1124': 'unknown', 'pi1125': 'unknown', 'pi1126': 'unknown', 'pi1127': 'unknown', 'pi1128': 'unknown', 'pi1129': 'unknown', 'pi1130': 'unknown', 'pi1131': 'unknown', 'pi1132': 'unknown', 'pi1133': 'unknown', 'pi1134': 'unknown', 'pi1135': 'unknown', 'pi1136': 'unknown', 'pi1137': 'unknown', 'pi1138': 'unknown', 'pi1139': 'unknown', 'pi1140': 'unknown', 'pi1141': 'unknown', 'pi1142': 'unknown', 'pi1143': 'unknown', 'pi1144': 'unknown', 'pi1145': 'unknown', 'pi1146': 'unknown', 'pi1147': 'unknown', 'pi1148': 'unknown', 'pi1149': 'unknown', 'pi1150': 'unknown', 'pi1151': 'unknown', 'pi1152': 'unknown', 'pi1153': 'unknown', 'pi1154': 'unknown', 'pi1155': 'unknown', 'pi1156': 'unknown', 'pi1157': 'unknown', 'pi1158': 'unknown', 'pi1159': 'unknown', 'pi1160': 'unknown', 'pi1161': 'unknown', 'pi1162': 'unknown', 'pi1163': 'unknown', 'pi1164': 'unknown', 'pi1165': 'unknown', 'pi1166': 'unknown', 'pi1167': 'unknown', 'pi1168': 'unknown', 'pi1169': 'unknown', 'pi1170': 'unknown', 'pi1171': 'unknown', 'pi1172': 'unknown', 'pi1173': 'unknown', 'pi1174': 'unknown', 'pi1175': 'unknown', 'pi1176': 'unknown', 'pi1177': 'unknown', 'pi1178': 'unknown', 'pi1179': 'unknown', 'pi1180': 'unknown', 'pi1181': 'unknown', 'pi1182': 'unknown', 'pi1183': 'unknown', 'pi1184': 'unknown', 'pi1185': 'unknown', 'pi1186': 'unknown', 'pi1187': 'unknown', 'pi1188': 'unknown', 'pi1189': 'unknown', 'pi1190': 'unknown', 'pi1191': 'unknown', 'pi1192': 'unknown', 'pi1193': 'unknown', 'pi1194': 'unknown', 'pi1195': 'unknown', 'pi1196': 'unknown', 'pi1197': 'unknown', 'pi1198': 'unknown', 'pi1199': 'unknown', 'pi1200': 'unknown', 'pi1201': 'unknown', 'pi1202': 'unknown', 'pi1203': 'unknown', 'po0000': 'output', 'po0001': 'unknown', 'po0002': 'unknown', 'po0003': 'unknown', 'po0004': 'unknown', 'po0005': 'unknown', 'po0006': 'unknown', 'po0007': 'unknown', 'po0008': 'unknown', 'po0009': 'unknown', 'po0010': 'unknown', 'po0011': 'unknown', 'po0012': 'unknown', 'po0013': 'unknown', 'po0014': 'unknown', 'po0015': 'unknown', 'po0016': 'unknown', 'po0017': 'unknown', 'po0018': 'unknown', 'po0019': 'unknown', 'po0020': 'unknown', 'po0021': 'unknown', 'po0022': 'unknown', 'po0023': 'unknown', 'po0024': 'unknown', 'po0025': 'unknown', 'po0026': 'unknown', 'po0027': 'unknown', 'po0028': 'unknown', 'po0029': 'unknown', 'po0030': 'unknown', 'po0031': 'unknown', 'po0032': 'unknown', 'po0033': 'unknown', 'po0034': 'unknown', 'po0035': 'unknown', 'po0036': 'unknown', 'po0037': 'unknown', 'po0038': 'unknown', 'po0039': 'unknown', 'po0040': 'unknown', 'po0041': 'unknown', 'po0042': 'unknown', 'po0043': 'unknown', 'po0044': 'unknown', 'po0045': 'unknown', 'po0046': 'unknown', 'po0047': 'unknown', 'po0048': 'unknown', 'po0049': 'unknown', 'po0050': 'unknown', 'po0051': 'unknown', 'po0052': 'unknown', 'po0053': 'unknown', 'po0054': 'unknown', 'po0055': 'unknown', 'po0056': 'unknown', 'po0057': 'unknown', 'po0058': 'unknown', 'po0059': 'unknown', 'po0060': 'unknown', 'po0061': 'unknown', 'po0062': 'unknown', 'po0063': 'unknown', 'po0064': 'unknown', 'po0065': 'unknown', 'po0066': 'unknown', 'po0067': 'unknown', 'po0068': 'unknown', 'po0069': 'unknown', 'po0070': 'unknown', 'po0071': 'unknown', 'po0072': 'unknown', 'po0073': 'unknown', 'po0074': 'unknown', 'po0075': 'unknown', 'po0076': 'unknown', 'po0077': 'unknown', 'po0078': 'unknown', 'po0079': 'unknown', 'po0080': 'unknown', 'po0081': 'unknown', 'po0082': 'unknown', 'po0083': 'unknown', 'po0084': 'unknown', 'po0085': 'unknown', 'po0086': 'unknown', 'po0087': 'unknown', 'po0088': 'unknown', 'po0089': 'unknown', 'po0090': 'unknown', 'po0091': 'unknown', 'po0092': 'unknown', 'po0093': 'unknown', 'po0094': 'unknown', 'po0095': 'unknown', 'po0096': 'unknown', 'po0097': 'unknown', 'po0098': 'unknown', 'po0099': 'unknown', 'po0100': 'unknown', 'po0101': 'unknown', 'po0102': 'unknown', 'po0103': 'unknown', 'po0104': 'unknown', 'po0105': 'unknown', 'po0106': 'unknown', 'po0107': 'unknown', 'po0108': 'unknown', 'po0109': 'unknown', 'po0110': 'unknown', 'po0111': 'unknown', 'po0112': 'unknown', 'po0113': 'unknown', 'po0114': 'unknown', 'po0115': 'unknown', 'po0116': 'unknown', 'po0117': 'unknown', 'po0118': 'unknown', 'po0119': 'unknown', 'po0120': 'unknown', 'po0121': 'unknown', 'po0122': 'unknown', 'po0123': 'unknown', 'po0124': 'unknown', 'po0125': 'unknown', 'po0126': 'unknown', 'po0127': 'unknown', 'po0128': 'unknown', 'po0129': 'unknown', 'po0130': 'unknown', 'po0131': 'unknown', 'po0132': 'unknown', 'po0133': 'unknown', 'po0134': 'unknown', 'po0135': 'unknown', 'po0136': 'unknown', 'po0137': 'unknown', 'po0138': 'unknown', 'po0139': 'unknown', 'po0140': 'unknown', 'po0141': 'unknown', 'po0142': 'unknown', 'po0143': 'unknown', 'po0144': 'unknown', 'po0145': 'unknown', 'po0146': 'unknown', 'po0147': 'unknown', 'po0148': 'unknown', 'po0149': 'unknown', 'po0150': 'unknown', 'po0151': 'unknown', 'po0152': 'unknown', 'po0153': 'unknown', 'po0154': 'unknown', 'po0155': 'unknown', 'po0156': 'unknown', 'po0157': 'unknown', 'po0158': 'unknown', 'po0159': 'unknown', 'po0160': 'unknown', 'po0161': 'unknown', 'po0162': 'unknown', 'po0163': 'unknown', 'po0164': 'unknown', 'po0165': 'unknown', 'po0166': 'unknown', 'po0167': 'unknown', 'po0168': 'unknown', 'po0169': 'unknown', 'po0170': 'unknown', 'po0171': 'unknown', 'po0172': 'unknown', 'po0173': 'unknown', 'po0174': 'unknown', 'po0175': 'unknown', 'po0176': 'unknown', 'po0177': 'unknown', 'po0178': 'unknown', 'po0179': 'unknown', 'po0180': 'unknown', 'po0181': 'unknown', 'po0182': 'unknown', 'po0183': 'unknown', 'po0184': 'unknown', 'po0185': 'unknown', 'po0186': 'unknown', 'po0187': 'unknown', 'po0188': 'unknown', 'po0189': 'unknown', 'po0190': 'unknown', 'po0191': 'unknown', 'po0192': 'unknown', 'po0193': 'unknown', 'po0194': 'unknown', 'po0195': 'unknown', 'po0196': 'unknown', 'po0197': 'unknown', 'po0198': 'unknown', 'po0199': 'unknown', 'po0200': 'unknown', 'po0201': 'unknown', 'po0202': 'unknown', 'po0203': 'unknown', 'po0204': 'unknown', 'po0205': 'unknown', 'po0206': 'unknown', 'po0207': 'unknown', 'po0208': 'unknown', 'po0209': 'unknown', 'po0210': 'unknown', 'po0211': 'unknown', 'po0212': 'unknown', 'po0213': 'unknown', 'po0214': 'unknown', 'po0215': 'unknown', 'po0216': 'unknown', 'po0217': 'unknown', 'po0218': 'unknown', 'po0219': 'unknown', 'po0220': 'unknown', 'po0221': 'unknown', 'po0222': 'unknown', 'po0223': 'unknown', 'po0224': 'unknown', 'po0225': 'unknown', 'po0226': 'unknown', 'po0227': 'unknown', 'po0228': 'unknown', 'po0229': 'unknown', 'po0230': 'unknown', 'po0231': 'unknown', 'po0232': 'unknown', 'po0233': 'unknown', 'po0234': 'unknown', 'po0235': 'unknown', 'po0236': 'unknown', 'po0237': 'unknown', 'po0238': 'unknown', 'po0239': 'unknown', 'po0240': 'unknown', 'po0241': 'unknown', 'po0242': 'unknown', 'po0243': 'unknown', 'po0244': 'unknown', 'po0245': 'unknown', 'po0246': 'unknown', 'po0247': 'unknown', 'po0248': 'unknown', 'po0249': 'unknown', 'po0250': 'unknown', 'po0251': 'unknown', 'po0252': 'unknown', 'po0253': 'unknown', 'po0254': 'unknown', 'po0255': 'unknown', 'po0256': 'unknown', 'po0257': 'unknown', 'po0258': 'unknown', 'po0259': 'unknown', 'po0260': 'unknown', 'po0261': 'unknown', 'po0262': 'unknown', 'po0263': 'unknown', 'po0264': 'unknown', 'po0265': 'unknown', 'po0266': 'unknown', 'po0267': 'unknown', 'po0268': 'unknown', 'po0269': 'unknown', 'po0270': 'unknown', 'po0271': 'unknown', 'po0272': 'unknown', 'po0273': 'unknown', 'po0274': 'unknown', 'po0275': 'unknown', 'po0276': 'unknown', 'po0277': 'unknown', 'po0278': 'unknown', 'po0279': 'unknown', 'po0280': 'unknown', 'po0281': 'unknown', 'po0282': 'unknown', 'po0283': 'unknown', 'po0284': 'unknown', 'po0285': 'unknown', 'po0286': 'unknown', 'po0287': 'unknown', 'po0288': 'unknown', 'po0289': 'unknown', 'po0290': 'unknown', 'po0291': 'unknown', 'po0292': 'unknown', 'po0293': 'unknown', 'po0294': 'unknown', 'po0295': 'unknown', 'po0296': 'unknown', 'po0297': 'unknown', 'po0298': 'unknown', 'po0299': 'unknown', 'po0300': 'unknown', 'po0301': 'unknown', 'po0302': 'unknown', 'po0303': 'unknown', 'po0304': 'unknown', 'po0305': 'unknown', 'po0306': 'unknown', 'po0307': 'unknown', 'po0308': 'unknown', 'po0309': 'unknown', 'po0310': 'unknown', 'po0311': 'unknown', 'po0312': 'unknown', 'po0313': 'unknown', 'po0314': 'unknown', 'po0315': 'unknown', 'po0316': 'unknown', 'po0317': 'unknown', 'po0318': 'unknown', 'po0319': 'unknown', 'po0320': 'unknown', 'po0321': 'unknown', 'po0322': 'unknown', 'po0323': 'unknown', 'po0324': 'unknown', 'po0325': 'unknown', 'po0326': 'unknown', 'po0327': 'unknown', 'po0328': 'unknown', 'po0329': 'unknown', 'po0330': 'unknown', 'po0331': 'unknown', 'po0332': 'unknown', 'po0333': 'unknown', 'po0334': 'unknown', 'po0335': 'unknown', 'po0336': 'unknown', 'po0337': 'unknown', 'po0338': 'unknown', 'po0339': 'unknown', 'po0340': 'unknown', 'po0341': 'unknown', 'po0342': 'unknown', 'po0343': 'unknown', 'po0344': 'unknown', 'po0345': 'unknown', 'po0346': 'unknown', 'po0347': 'unknown', 'po0348': 'unknown', 'po0349': 'unknown', 'po0350': 'unknown', 'po0351': 'unknown', 'po0352': 'unknown', 'po0353': 'unknown', 'po0354': 'unknown', 'po0355': 'unknown', 'po0356': 'unknown', 'po0357': 'unknown', 'po0358': 'unknown', 'po0359': 'unknown', 'po0360': 'unknown', 'po0361': 'unknown', 'po0362': 'unknown', 'po0363': 'unknown', 'po0364': 'unknown', 'po0365': 'unknown', 'po0366': 'unknown', 'po0367': 'unknown', 'po0368': 'unknown', 'po0369': 'unknown', 'po0370': 'unknown', 'po0371': 'unknown', 'po0372': 'unknown', 'po0373': 'unknown', 'po0374': 'unknown', 'po0375': 'unknown', 'po0376': 'unknown', 'po0377': 'unknown', 'po0378': 'unknown', 'po0379': 'unknown', 'po0380': 'unknown', 'po0381': 'unknown', 'po0382': 'unknown', 'po0383': 'unknown', 'po0384': 'unknown', 'po0385': 'unknown', 'po0386': 'unknown', 'po0387': 'unknown', 'po0388': 'unknown', 'po0389': 'unknown', 'po0390': 'unknown', 'po0391': 'unknown', 'po0392': 'unknown', 'po0393': 'unknown', 'po0394': 'unknown', 'po0395': 'unknown', 'po0396': 'unknown', 'po0397': 'unknown', 'po0398': 'unknown', 'po0399': 'unknown', 'po0400': 'unknown', 'po0401': 'unknown', 'po0402': 'unknown', 'po0403': 'unknown', 'po0404': 'unknown', 'po0405': 'unknown', 'po0406': 'unknown', 'po0407': 'unknown', 'po0408': 'unknown', 'po0409': 'unknown', 'po0410': 'unknown', 'po0411': 'unknown', 'po0412': 'unknown', 'po0413': 'unknown', 'po0414': 'unknown', 'po0415': 'unknown', 'po0416': 'unknown', 'po0417': 'unknown', 'po0418': 'unknown', 'po0419': 'unknown', 'po0420': 'unknown', 'po0421': 'unknown', 'po0422': 'unknown', 'po0423': 'unknown', 'po0424': 'unknown', 'po0425': 'unknown', 'po0426': 'unknown', 'po0427': 'unknown', 'po0428': 'unknown', 'po0429': 'unknown', 'po0430': 'unknown', 'po0431': 'unknown', 'po0432': 'unknown', 'po0433': 'unknown', 'po0434': 'unknown', 'po0435': 'unknown', 'po0436': 'unknown', 'po0437': 'unknown', 'po0438': 'unknown', 'po0439': 'unknown', 'po0440': 'unknown', 'po0441': 'unknown', 'po0442': 'unknown', 'po0443': 'unknown', 'po0444': 'unknown', 'po0445': 'unknown', 'po0446': 'unknown', 'po0447': 'unknown', 'po0448': 'unknown', 'po0449': 'unknown', 'po0450': 'unknown', 'po0451': 'unknown', 'po0452': 'unknown', 'po0453': 'unknown', 'po0454': 'unknown', 'po0455': 'unknown', 'po0456': 'unknown', 'po0457': 'unknown', 'po0458': 'unknown', 'po0459': 'unknown', 'po0460': 'unknown', 'po0461': 'unknown', 'po0462': 'unknown', 'po0463': 'unknown', 'po0464': 'unknown', 'po0465': 'unknown', 'po0466': 'unknown', 'po0467': 'unknown', 'po0468': 'unknown', 'po0469': 'unknown', 'po0470': 'unknown', 'po0471': 'unknown', 'po0472': 'unknown', 'po0473': 'unknown', 'po0474': 'unknown', 'po0475': 'unknown', 'po0476': 'unknown', 'po0477': 'unknown', 'po0478': 'unknown', 'po0479': 'unknown', 'po0480': 'unknown', 'po0481': 'unknown', 'po0482': 'unknown', 'po0483': 'unknown', 'po0484': 'unknown', 'po0485': 'unknown', 'po0486': 'unknown', 'po0487': 'unknown', 'po0488': 'unknown', 'po0489': 'unknown', 'po0490': 'unknown', 'po0491': 'unknown', 'po0492': 'unknown', 'po0493': 'unknown', 'po0494': 'unknown', 'po0495': 'unknown', 'po0496': 'unknown', 'po0497': 'unknown', 'po0498': 'unknown', 'po0499': 'unknown', 'po0500': 'unknown', 'po0501': 'unknown', 'po0502': 'unknown', 'po0503': 'unknown', 'po0504': 'unknown', 'po0505': 'unknown', 'po0506': 'unknown', 'po0507': 'unknown', 'po0508': 'unknown', 'po0509': 'unknown', 'po0510': 'unknown', 'po0511': 'unknown', 'po0512': 'unknown', 'po0513': 'unknown', 'po0514': 'unknown', 'po0515': 'unknown', 'po0516': 'unknown', 'po0517': 'unknown', 'po0518': 'unknown', 'po0519': 'unknown', 'po0520': 'unknown', 'po0521': 'unknown', 'po0522': 'unknown', 'po0523': 'unknown', 'po0524': 'unknown', 'po0525': 'unknown', 'po0526': 'unknown', 'po0527': 'unknown', 'po0528': 'unknown', 'po0529': 'unknown', 'po0530': 'unknown', 'po0531': 'unknown', 'po0532': 'unknown', 'po0533': 'unknown', 'po0534': 'unknown', 'po0535': 'unknown', 'po0536': 'unknown', 'po0537': 'unknown', 'po0538': 'unknown', 'po0539': 'unknown', 'po0540': 'unknown', 'po0541': 'unknown', 'po0542': 'unknown', 'po0543': 'unknown', 'po0544': 'unknown', 'po0545': 'unknown', 'po0546': 'unknown', 'po0547': 'unknown', 'po0548': 'unknown', 'po0549': 'unknown', 'po0550': 'unknown', 'po0551': 'unknown', 'po0552': 'unknown', 'po0553': 'unknown', 'po0554': 'unknown', 'po0555': 'unknown', 'po0556': 'unknown', 'po0557': 'unknown', 'po0558': 'unknown', 'po0559': 'unknown', 'po0560': 'unknown', 'po0561': 'unknown', 'po0562': 'unknown', 'po0563': 'unknown', 'po0564': 'unknown', 'po0565': 'unknown', 'po0566': 'unknown', 'po0567': 'unknown', 'po0568': 'unknown', 'po0569': 'unknown', 'po0570': 'unknown', 'po0571': 'unknown', 'po0572': 'unknown', 'po0573': 'unknown', 'po0574': 'unknown', 'po0575': 'unknown', 'po0576': 'unknown', 'po0577': 'unknown', 'po0578': 'unknown', 'po0579': 'unknown', 'po0580': 'unknown', 'po0581': 'unknown', 'po0582': 'unknown', 'po0583': 'unknown', 'po0584': 'unknown', 'po0585': 'unknown', 'po0586': 'unknown', 'po0587': 'unknown', 'po0588': 'unknown', 'po0589': 'unknown', 'po0590': 'unknown', 'po0591': 'unknown', 'po0592': 'unknown', 'po0593': 'unknown', 'po0594': 'unknown', 'po0595': 'unknown', 'po0596': 'unknown', 'po0597': 'unknown', 'po0598': 'unknown', 'po0599': 'unknown', 'po0600': 'unknown', 'po0601': 'unknown', 'po0602': 'unknown', 'po0603': 'unknown', 'po0604': 'unknown', 'po0605': 'unknown', 'po0606': 'unknown', 'po0607': 'unknown', 'po0608': 'unknown', 'po0609': 'unknown', 'po0610': 'unknown', 'po0611': 'unknown', 'po0612': 'unknown', 'po0613': 'unknown', 'po0614': 'unknown', 'po0615': 'unknown', 'po0616': 'unknown', 'po0617': 'unknown', 'po0618': 'unknown', 'po0619': 'unknown', 'po0620': 'unknown', 'po0621': 'unknown', 'po0622': 'unknown', 'po0623': 'unknown', 'po0624': 'unknown', 'po0625': 'unknown', 'po0626': 'unknown', 'po0627': 'unknown', 'po0628': 'unknown', 'po0629': 'unknown', 'po0630': 'unknown', 'po0631': 'unknown', 'po0632': 'unknown', 'po0633': 'unknown', 'po0634': 'unknown', 'po0635': 'unknown', 'po0636': 'unknown', 'po0637': 'unknown', 'po0638': 'unknown', 'po0639': 'unknown', 'po0640': 'unknown', 'po0641': 'unknown', 'po0642': 'unknown', 'po0643': 'unknown', 'po0644': 'unknown', 'po0645': 'unknown', 'po0646': 'unknown', 'po0647': 'unknown', 'po0648': 'unknown', 'po0649': 'unknown', 'po0650': 'unknown', 'po0651': 'unknown', 'po0652': 'unknown', 'po0653': 'unknown', 'po0654': 'unknown', 'po0655': 'unknown', 'po0656': 'unknown', 'po0657': 'unknown', 'po0658': 'unknown', 'po0659': 'unknown', 'po0660': 'unknown', 'po0661': 'unknown', 'po0662': 'unknown', 'po0663': 'unknown', 'po0664': 'unknown', 'po0665': 'unknown', 'po0666': 'unknown', 'po0667': 'unknown', 'po0668': 'unknown', 'po0669': 'unknown', 'po0670': 'unknown', 'po0671': 'unknown', 'po0672': 'unknown', 'po0673': 'unknown', 'po0674': 'unknown', 'po0675': 'unknown', 'po0676': 'unknown', 'po0677': 'unknown', 'po0678': 'unknown', 'po0679': 'unknown', 'po0680': 'unknown', 'po0681': 'unknown', 'po0682': 'unknown', 'po0683': 'unknown', 'po0684': 'unknown', 'po0685': 'unknown', 'po0686': 'unknown', 'po0687': 'unknown', 'po0688': 'unknown', 'po0689': 'unknown', 'po0690': 'unknown', 'po0691': 'unknown', 'po0692': 'unknown', 'po0693': 'unknown', 'po0694': 'unknown', 'po0695': 'unknown', 'po0696': 'unknown', 'po0697': 'unknown', 'po0698': 'unknown', 'po0699': 'unknown', 'po0700': 'unknown', 'po0701': 'unknown', 'po0702': 'unknown', 'po0703': 'unknown', 'po0704': 'unknown', 'po0705': 'unknown', 'po0706': 'unknown', 'po0707': 'unknown', 'po0708': 'unknown', 'po0709': 'unknown', 'po0710': 'unknown', 'po0711': 'unknown', 'po0712': 'unknown', 'po0713': 'unknown', 'po0714': 'unknown', 'po0715': 'unknown', 'po0716': 'unknown', 'po0717': 'unknown', 'po0718': 'unknown', 'po0719': 'unknown', 'po0720': 'unknown', 'po0721': 'unknown', 'po0722': 'unknown', 'po0723': 'unknown', 'po0724': 'unknown', 'po0725': 'unknown', 'po0726': 'unknown', 'po0727': 'unknown', 'po0728': 'unknown', 'po0729': 'unknown', 'po0730': 'unknown', 'po0731': 'unknown', 'po0732': 'unknown', 'po0733': 'unknown', 'po0734': 'unknown', 'po0735': 'unknown', 'po0736': 'unknown', 'po0737': 'unknown', 'po0738': 'unknown', 'po0739': 'unknown', 'po0740': 'unknown', 'po0741': 'unknown', 'po0742': 'unknown', 'po0743': 'unknown', 'po0744': 'unknown', 'po0745': 'unknown', 'po0746': 'unknown', 'po0747': 'unknown', 'po0748': 'unknown', 'po0749': 'unknown', 'po0750': 'unknown', 'po0751': 'unknown', 'po0752': 'unknown', 'po0753': 'unknown', 'po0754': 'unknown', 'po0755': 'unknown', 'po0756': 'unknown', 'po0757': 'unknown', 'po0758': 'unknown', 'po0759': 'unknown', 'po0760': 'unknown', 'po0761': 'unknown', 'po0762': 'unknown', 'po0763': 'unknown', 'po0764': 'unknown', 'po0765': 'unknown', 'po0766': 'unknown', 'po0767': 'unknown', 'po0768': 'unknown', 'po0769': 'unknown', 'po0770': 'unknown', 'po0771': 'unknown', 'po0772': 'unknown', 'po0773': 'unknown', 'po0774': 'unknown', 'po0775': 'unknown', 'po0776': 'unknown', 'po0777': 'unknown', 'po0778': 'unknown', 'po0779': 'unknown', 'po0780': 'unknown', 'po0781': 'unknown', 'po0782': 'unknown', 'po0783': 'unknown', 'po0784': 'unknown', 'po0785': 'unknown', 'po0786': 'unknown', 'po0787': 'unknown', 'po0788': 'unknown', 'po0789': 'unknown', 'po0790': 'unknown', 'po0791': 'unknown', 'po0792': 'unknown', 'po0793': 'unknown', 'po0794': 'unknown', 'po0795': 'unknown', 'po0796': 'unknown', 'po0797': 'unknown', 'po0798': 'unknown', 'po0799': 'unknown', 'po0800': 'unknown', 'po0801': 'unknown', 'po0802': 'unknown', 'po0803': 'unknown', 'po0804': 'unknown', 'po0805': 'unknown', 'po0806': 'unknown', 'po0807': 'unknown', 'po0808': 'unknown', 'po0809': 'unknown', 'po0810': 'unknown', 'po0811': 'unknown', 'po0812': 'unknown', 'po0813': 'unknown', 'po0814': 'unknown', 'po0815': 'unknown', 'po0816': 'unknown', 'po0817': 'unknown', 'po0818': 'unknown', 'po0819': 'unknown', 'po0820': 'unknown', 'po0821': 'unknown', 'po0822': 'unknown', 'po0823': 'unknown', 'po0824': 'unknown', 'po0825': 'unknown', 'po0826': 'unknown', 'po0827': 'unknown', 'po0828': 'unknown', 'po0829': 'unknown', 'po0830': 'unknown', 'po0831': 'unknown', 'po0832': 'unknown', 'po0833': 'unknown', 'po0834': 'unknown', 'po0835': 'unknown', 'po0836': 'unknown', 'po0837': 'unknown', 'po0838': 'unknown', 'po0839': 'unknown', 'po0840': 'unknown', 'po0841': 'unknown', 'po0842': 'unknown', 'po0843': 'unknown', 'po0844': 'unknown', 'po0845': 'unknown', 'po0846': 'unknown', 'po0847': 'unknown', 'po0848': 'unknown', 'po0849': 'unknown', 'po0850': 'unknown', 'po0851': 'unknown', 'po0852': 'unknown', 'po0853': 'unknown', 'po0854': 'unknown', 'po0855': 'unknown', 'po0856': 'unknown', 'po0857': 'unknown', 'po0858': 'unknown', 'po0859': 'unknown', 'po0860': 'unknown', 'po0861': 'unknown', 'po0862': 'unknown', 'po0863': 'unknown', 'po0864': 'unknown', 'po0865': 'unknown', 'po0866': 'unknown', 'po0867': 'unknown', 'po0868': 'unknown', 'po0869': 'unknown', 'po0870': 'unknown', 'po0871': 'unknown', 'po0872': 'unknown', 'po0873': 'unknown', 'po0874': 'unknown', 'po0875': 'unknown', 'po0876': 'unknown', 'po0877': 'unknown', 'po0878': 'unknown', 'po0879': 'unknown', 'po0880': 'unknown', 'po0881': 'unknown', 'po0882': 'unknown', 'po0883': 'unknown', 'po0884': 'unknown', 'po0885': 'unknown', 'po0886': 'unknown', 'po0887': 'unknown', 'po0888': 'unknown', 'po0889': 'unknown', 'po0890': 'unknown', 'po0891': 'unknown', 'po0892': 'unknown', 'po0893': 'unknown', 'po0894': 'unknown', 'po0895': 'unknown', 'po0896': 'unknown', 'po0897': 'unknown', 'po0898': 'unknown', 'po0899': 'unknown', 'po0900': 'unknown', 'po0901': 'unknown', 'po0902': 'unknown', 'po0903': 'unknown', 'po0904': 'unknown', 'po0905': 'unknown', 'po0906': 'unknown', 'po0907': 'unknown', 'po0908': 'unknown', 'po0909': 'unknown', 'po0910': 'unknown', 'po0911': 'unknown', 'po0912': 'unknown', 'po0913': 'unknown', 'po0914': 'unknown', 'po0915': 'unknown', 'po0916': 'unknown', 'po0917': 'unknown', 'po0918': 'unknown', 'po0919': 'unknown', 'po0920': 'unknown', 'po0921': 'unknown', 'po0922': 'unknown', 'po0923': 'unknown', 'po0924': 'unknown', 'po0925': 'unknown', 'po0926': 'unknown', 'po0927': 'unknown', 'po0928': 'unknown', 'po0929': 'unknown', 'po0930': 'unknown', 'po0931': 'unknown', 'po0932': 'unknown', 'po0933': 'unknown', 'po0934': 'unknown', 'po0935': 'unknown', 'po0936': 'unknown', 'po0937': 'unknown', 'po0938': 'unknown', 'po0939': 'unknown', 'po0940': 'unknown', 'po0941': 'unknown', 'po0942': 'unknown', 'po0943': 'unknown', 'po0944': 'unknown', 'po0945': 'unknown', 'po0946': 'unknown', 'po0947': 'unknown', 'po0948': 'unknown', 'po0949': 'unknown', 'po0950': 'unknown', 'po0951': 'unknown', 'po0952': 'unknown', 'po0953': 'unknown', 'po0954': 'unknown', 'po0955': 'unknown', 'po0956': 'unknown', 'po0957': 'unknown', 'po0958': 'unknown', 'po0959': 'unknown', 'po0960': 'unknown', 'po0961': 'unknown', 'po0962': 'unknown', 'po0963': 'unknown', 'po0964': 'unknown', 'po0965': 'unknown', 'po0966': 'unknown', 'po0967': 'unknown', 'po0968': 'unknown', 'po0969': 'unknown', 'po0970': 'unknown', 'po0971': 'unknown', 'po0972': 'unknown', 'po0973': 'unknown', 'po0974': 'unknown', 'po0975': 'unknown', 'po0976': 'unknown', 'po0977': 'unknown', 'po0978': 'unknown', 'po0979': 'unknown', 'po0980': 'unknown', 'po0981': 'unknown', 'po0982': 'unknown', 'po0983': 'unknown', 'po0984': 'unknown', 'po0985': 'unknown', 'po0986': 'unknown', 'po0987': 'unknown', 'po0988': 'unknown', 'po0989': 'unknown', 'po0990': 'unknown', 'po0991': 'unknown', 'po0992': 'unknown', 'po0993': 'unknown', 'po0994': 'unknown', 'po0995': 'unknown', 'po0996': 'unknown', 'po0997': 'unknown', 'po0998': 'unknown', 'po0999': 'unknown', 'po1000': 'unknown', 'po1001': 'unknown', 'po1002': 'unknown', 'po1003': 'unknown', 'po1004': 'unknown', 'po1005': 'unknown', 'po1006': 'unknown', 'po1007': 'unknown', 'po1008': 'unknown', 'po1009': 'unknown', 'po1010': 'unknown', 'po1011': 'unknown', 'po1012': 'unknown', 'po1013': 'unknown', 'po1014': 'unknown', 'po1015': 'unknown', 'po1016': 'unknown', 'po1017': 'unknown', 'po1018': 'unknown', 'po1019': 'unknown', 'po1020': 'unknown', 'po1021': 'unknown', 'po1022': 'unknown', 'po1023': 'unknown', 'po1024': 'unknown', 'po1025': 'unknown', 'po1026': 'unknown', 'po1027': 'unknown', 'po1028': 'unknown', 'po1029': 'unknown', 'po1030': 'unknown', 'po1031': 'unknown', 'po1032': 'unknown', 'po1033': 'unknown', 'po1034': 'unknown', 'po1035': 'unknown', 'po1036': 'unknown', 'po1037': 'unknown', 'po1038': 'unknown', 'po1039': 'unknown', 'po1040': 'unknown', 'po1041': 'unknown', 'po1042': 'unknown', 'po1043': 'unknown', 'po1044': 'unknown', 'po1045': 'unknown', 'po1046': 'unknown', 'po1047': 'unknown', 'po1048': 'unknown', 'po1049': 'unknown', 'po1050': 'unknown', 'po1051': 'unknown', 'po1052': 'unknown', 'po1053': 'unknown', 'po1054': 'unknown', 'po1055': 'unknown', 'po1056': 'unknown', 'po1057': 'unknown', 'po1058': 'unknown', 'po1059': 'unknown', 'po1060': 'unknown', 'po1061': 'unknown', 'po1062': 'unknown', 'po1063': 'unknown', 'po1064': 'unknown', 'po1065': 'unknown', 'po1066': 'unknown', 'po1067': 'unknown', 'po1068': 'unknown', 'po1069': 'unknown', 'po1070': 'unknown', 'po1071': 'unknown', 'po1072': 'unknown', 'po1073': 'unknown', 'po1074': 'unknown', 'po1075': 'unknown', 'po1076': 'unknown', 'po1077': 'unknown', 'po1078': 'unknown', 'po1079': 'unknown', 'po1080': 'unknown', 'po1081': 'unknown', 'po1082': 'unknown', 'po1083': 'unknown', 'po1084': 'unknown', 'po1085': 'unknown', 'po1086': 'unknown', 'po1087': 'unknown', 'po1088': 'unknown', 'po1089': 'unknown', 'po1090': 'unknown', 'po1091': 'unknown', 'po1092': 'unknown', 'po1093': 'unknown', 'po1094': 'unknown', 'po1095': 'unknown', 'po1096': 'unknown', 'po1097': 'unknown', 'po1098': 'unknown', 'po1099': 'unknown', 'po1100': 'unknown', 'po1101': 'unknown', 'po1102': 'unknown', 'po1103': 'unknown', 'po1104': 'unknown', 'po1105': 'unknown', 'po1106': 'unknown', 'po1107': 'unknown', 'po1108': 'unknown', 'po1109': 'unknown', 'po1110': 'unknown', 'po1111': 'unknown', 'po1112': 'unknown', 'po1113': 'unknown', 'po1114': 'unknown', 'po1115': 'unknown', 'po1116': 'unknown', 'po1117': 'unknown', 'po1118': 'unknown', 'po1119': 'unknown', 'po1120': 'unknown', 'po1121': 'unknown', 'po1122': 'unknown', 'po1123': 'unknown', 'po1124': 'unknown', 'po1125': 'unknown', 'po1126': 'unknown', 'po1127': 'unknown', 'po1128': 'unknown', 'po1129': 'unknown', 'po1130': 'unknown', 'po1131': 'unknown', 'po1132': 'unknown', 'po1133': 'unknown', 'po1134': 'unknown', 'po1135': 'unknown', 'po1136': 'unknown', 'po1137': 'unknown', 'po1138': 'unknown', 'po1139': 'unknown', 'po1140': 'unknown', 'po1141': 'unknown', 'po1142': 'unknown', 'po1143': 'unknown', 'po1144': 'unknown', 'po1145': 'unknown', 'po1146': 'unknown', 'po1147': 'unknown', 'po1148': 'unknown', 'po1149': 'unknown', 'po1150': 'unknown', 'po1151': 'unknown', 'po1152': 'unknown', 'po1153': 'unknown', 'po1154': 'unknown', 'po1155': 'unknown', 'po1156': 'unknown', 'po1157': 'unknown', 'po1158': 'unknown', 'po1159': 'unknown', 'po1160': 'unknown', 'po1161': 'unknown', 'po1162': 'unknown', 'po1163': 'unknown', 'po1164': 'unknown', 'po1165': 'unknown', 'po1166': 'unknown', 'po1167': 'unknown', 'po1168': 'unknown', 'po1169': 'unknown', 'po1170': 'unknown', 'po1171': 'unknown', 'po1172': 'unknown', 'po1173': 'unknown', 'po1174': 'unknown', 'po1175': 'unknown', 'po1176': 'unknown', 'po1177': 'unknown', 'po1178': 'unknown', 'po1179': 'unknown', 'po1180': 'unknown', 'po1181': 'unknown', 'po1182': 'unknown', 'po1183': 'unknown', 'po1184': 'unknown', 'po1185': 'unknown', 'po1186': 'unknown', 'po1187': 'unknown', 'po1188': 'unknown', 'po1189': 'unknown', 'po1190': 'unknown', 'po1191': 'unknown', 'po1192': 'unknown', 'po1193': 'unknown', 'po1194': 'unknown', 'po1195': 'unknown', 'po1196': 'unknown', 'po1197': 'unknown', 'po1198': 'unknown', 'po1199': 'unknown', 'po1200': 'unknown', 'po1201': 'unknown', 'po1202': 'unknown', 'po1203': 'unknown', 'po1204': 'unknown', 'po1205': 'unknown', 'po1206': 'unknown', 'po1207': 'unknown', 'po1208': 'unknown', 'po1209': 'unknown', 'po1210': 'unknown', 'po1211': 'unknown', 'po1212': 'unknown', 'po1213': 'unknown', 'po1214': 'unknown', 'po1215': 'unknown', 'po1216': 'unknown', 'po1217': 'unknown', 'po1218': 'unknown', 'po1219': 'unknown', 'po1220': 'unknown', 'po1221': 'unknown', 'po1222': 'unknown', 'po1223': 'unknown', 'po1224': 'unknown', 'po1225': 'unknown', 'po1226': 'unknown', 'po1227': 'unknown', 'po1228': 'unknown', 'po1229': 'unknown', 'po1230': 'unknown'}\n",
      "Running LLM analysis with Phi-2...\n"
     ]
    },
    {
     "name": "stderr",
     "output_type": "stream",
     "text": [
      "The attention mask and the pad token id were not set. As a consequence, you may observe unexpected behavior. Please pass your input's `attention_mask` to obtain reliable results.\n",
      "Setting `pad_token_id` to `eos_token_id`:50256 for open-end generation.\n"
     ]
    },
    {
     "name": "stdout",
     "output_type": "stream",
     "text": [
      "Error generating with Phi-2: Input length of input_ids is 1931144, but `max_length` is set to 2048. This can lead to unexpected behavior. You should consider increasing `max_length` or, better yet, setting `max_new_tokens`.\n",
      "Using device for rule-based analysis: cuda\n",
      "Generating testbench with Phi-2...\n"
     ]
    },
    {
     "name": "stderr",
     "output_type": "stream",
     "text": [
      "The attention mask and the pad token id were not set. As a consequence, you may observe unexpected behavior. Please pass your input's `attention_mask` to obtain reliable results.\n",
      "Setting `pad_token_id` to `eos_token_id`:50256 for open-end generation.\n"
     ]
    },
    {
     "name": "stdout",
     "output_type": "stream",
     "text": [
      "Error generating with Phi-2: Input length of input_ids is 1948226, but `max_length` is set to 4096. This can lead to unexpected behavior. You should consider increasing `max_length` or, better yet, setting `max_new_tokens`.\n",
      "Testbench saved to testbenches/memctrl_tb.v\n"
     ]
    },
    {
     "name": "stderr",
     "output_type": "stream",
     "text": [
      "The attention mask and the pad token id were not set. As a consequence, you may observe unexpected behavior. Please pass your input's `attention_mask` to obtain reliable results.\n",
      "Setting `pad_token_id` to `eos_token_id`:50256 for open-end generation.\n"
     ]
    },
    {
     "name": "stdout",
     "output_type": "stream",
     "text": [
      "Compilation failed for memctrl:\n",
      "/content/drive/MyDrive/RTLData/Negation of assignment/memctrl_3.v:14222: syntax error\n",
      "/content/drive/MyDrive/RTLData/Negation of assignment/memctrl_3.v:14222: error: syntax error in left side of continuous assignment.\n",
      "/content/drive/MyDrive/RTLData/Negation of assignment/memctrl_3.v:14223: syntax error\n",
      "/content/drive/MyDrive/RTLData/Negation of assignment/memctrl_3.v:14223: error: syntax error in left side of continuous assignment.\n",
      "\n",
      "\n",
      "Processing /content/drive/MyDrive/RTLData/Negation of assignment/FirstCounterOverflow_2.v...\n",
      "Multiple or nested module definitions detected.\n",
      "Created fixed Verilog file: testbenches/fixed_FirstCounterOverflow_2.v\n",
      "Module: first_counter, Ports: {'clk': 'input', 'reset': 'input', 'enable': 'input', 'counter_out': 'output', 'overflow_out': 'output'}\n",
      "Running LLM analysis with Phi-2...\n"
     ]
    },
    {
     "name": "stderr",
     "output_type": "stream",
     "text": [
      "The attention mask and the pad token id were not set. As a consequence, you may observe unexpected behavior. Please pass your input's `attention_mask` to obtain reliable results.\n",
      "Setting `pad_token_id` to `eos_token_id`:50256 for open-end generation.\n"
     ]
    },
    {
     "name": "stdout",
     "output_type": "stream",
     "text": [
      "Generating testbench with Phi-2...\n"
     ]
    },
    {
     "name": "stderr",
     "output_type": "stream",
     "text": [
      "The attention mask and the pad token id were not set. As a consequence, you may observe unexpected behavior. Please pass your input's `attention_mask` to obtain reliable results.\n",
      "Setting `pad_token_id` to `eos_token_id`:50256 for open-end generation.\n"
     ]
    },
    {
     "name": "stdout",
     "output_type": "stream",
     "text": [
      "Testbench saved to testbenches/first_counter_tb.v\n",
      "Compilation failed for first_counter:\n",
      "testbenches/first_counter_tb.v:173: warning: macro verilog undefined (and assumed null) at this point.\n",
      "testbenches/first_counter_tb.v:1: error: 'first_counter' has already been declared in this scope.\n",
      "testbenches/fixed_FirstCounterOverflow_2.v:8:      : It was declared here as a module.\n",
      "testbenches/first_counter_tb.v:48: error: 'clk' has already been declared in this scope.\n",
      "testbenches/first_counter_tb.v:9:      : It was declared here as a net.\n",
      "testbenches/first_counter_tb.v:49: error: 'reset' has already been declared in this scope.\n",
      "testbenches/first_counter_tb.v:10:      : It was declared here as a net.\n",
      "testbenches/first_counter_tb.v:50: error: 'enable' has already been declared in this scope.\n",
      "testbenches/first_counter_tb.v:11:      : It was declared here as a net.\n",
      "testbenches/first_counter_tb.v:53: error: 'counter_out' has already been declared in this scope.\n",
      "testbenches/first_counter_tb.v:22:      : It was declared here as a variable.\n",
      "testbenches/first_counter_tb.v:54: error: 'overflow_out' has already been declared in this scope.\n",
      "testbenches/first_counter_tb.v:23:      : It was declared here as a variable.\n",
      "testbenches/first_counter_tb.v:57: error: Module definition Test_first_counter cannot nest into module first_counter.\n",
      "testbenches/first_counter_tb.v:64: error: Module definition Test_first_counter_clk_gen cannot nest into module Test_first_counter.\n",
      "testbenches/first_counter_tb.v:69: error: Module definition Test_first_counter_reset_gen cannot nest into module Test_first_counter_clk_gen.\n",
      "testbenches/first_counter_tb.v:72: error: Module definition Test_first_counter_enable_gen cannot nest into module Test_first_counter_reset_gen.\n",
      "testbenches/first_counter_tb.v:75: error: Module definition Test_first_counter_counter_out cannot nest into module Test_first_counter_enable_gen.\n",
      "testbenches/first_counter_tb.v:79: error: Module definition Test_first_counter_counter_out_clk_gen cannot nest into module Test_first_counter_counter_out.\n",
      "testbenches/first_counter_tb.v:83: error: Module definition Test_first_counter_counter_out_reset_gen cannot nest into module Test_first_counter_counter_out_clk_gen.\n",
      "testbenches/first_counter_tb.v:87: error: Module definition Test_first_counter_counter_out_enable_gen cannot nest into module Test_first_counter_counter_out_reset_gen.\n",
      "testbenches/first_counter_tb.v:104: error: 'clk_gen' has already been declared in this scope.\n",
      "testbenches/first_counter_tb.v:94:      : It was declared here as a net.\n",
      "testbenches/first_counter_tb.v:105: error: 'reset_gen' has already been declared in this scope.\n",
      "testbenches/first_counter_tb.v:95:      : It was declared here as a net.\n",
      "testbenches/first_counter_tb.v:106: error: 'enable_gen' has already been declared in this scope.\n",
      "testbenches/first_counter_tb.v:96:      : It was declared here as a net.\n",
      "testbenches/first_counter_tb.v:109: error: 'counter_out' has already been declared in this scope.\n",
      "testbenches/first_counter_tb.v:99:      : It was declared here as a variable.\n",
      "testbenches/first_counter_tb.v:110: error: 'overflow_out' has already been declared in this scope.\n",
      "testbenches/first_counter_tb.v:100:      : It was declared here as a variable.\n",
      "testbenches/first_counter_tb.v:113: error: Module definition Test_first_counter_clk_gen cannot nest into module Test_first_counter_counter_out_enable_gen.\n",
      "testbenches/first_counter_tb.v:116: error: Module definition Test_first_counter_reset_gen cannot nest into module Test_first_counter_clk_gen.\n",
      "testbenches/first_counter_tb.v:119: error: Module definition Test_first_counter_enable_gen cannot nest into module Test_first_counter_reset_gen.\n",
      "testbenches/first_counter_tb.v:122: error: Module definition Test_first_counter_counter_out cannot nest into module Test_first_counter_enable_gen.\n",
      "testbenches/first_counter_tb.v:126: error: Module definition Test_first_counter_counter_out_clk_gen cannot nest into module Test_first_counter_counter_out.\n",
      "testbenches/first_counter_tb.v:130: error: Module definition Test_first_counter_counter_out_reset_gen cannot nest into module Test_first_counter_counter_out_clk_gen.\n",
      "testbenches/first_counter_tb.v:134: error: Module definition Test_first_counter_counter_out_enable_gen cannot nest into module Test_first_counter_counter_out_reset_gen.\n",
      "testbenches/first_counter_tb.v:151: error: 'clk_gen' has already been declared in this scope.\n",
      "testbenches/first_counter_tb.v:141:      : It was declared here as a net.\n",
      "testbenches/first_counter_tb.v:152: error: 'reset_gen' has already been declared in this scope.\n",
      "testbenches/first_counter_tb.v:142:      : It was declared here as a net.\n",
      "testbenches/first_counter_tb.v:153: error: 'enable_gen' has already been declared in this scope.\n",
      "testbenches/first_counter_tb.v:143:      : It was declared here as a net.\n",
      "testbenches/first_counter_tb.v:156: error: 'counter_out' has already been declared in this scope.\n",
      "testbenches/first_counter_tb.v:146:      : It was declared here as a variable.\n",
      "testbenches/first_counter_tb.v:157: error: 'overflow_out' has already been declared in this scope.\n",
      "testbenches/first_counter_tb.v:147:      : It was declared here as a variable.\n",
      "testbenches/first_counter_tb.v:161: error: 'clk_gen' has already been declared in this scope.\n",
      "testbenches/first_counter_tb.v:141:      : It was declared here as a net.\n",
      "testbenches/first_counter_tb.v:162: error: 'reset_gen' has already been declared in this scope.\n",
      "testbenches/first_counter_tb.v:142:      : It was declared here as a net.\n",
      "testbenches/first_counter_tb.v:163: error: 'enable_gen' has already been declared in this scope.\n",
      "testbenches/first_counter_tb.v:143:      : It was declared here as a net.\n",
      "testbenches/first_counter_tb.v:166: error: 'counter_out' has already been declared in this scope.\n",
      "testbenches/first_counter_tb.v:146:      : It was declared here as a variable.\n",
      "testbenches/first_counter_tb.v:167: error: 'overflow_out' has already been declared in this scope.\n",
      "testbenches/first_counter_tb.v:147:      : It was declared here as a variable.\n",
      "testbenches/first_counter_tb.v:170: syntax error\n",
      "testbenches/first_counter_tb.v:180: error: invalid module item.\n",
      "testbenches/first_counter_tb.v:181: error: Module definition Test_first_counter_clk_gen cannot nest into module Test_first_counter_counter_out_enable_gen.\n",
      "testbenches/first_counter_tb.v:184: error: Module definition Test_first_counter_reset_gen cannot nest into module Test_first_counter_clk_gen.\n",
      "testbenches/first_counter_tb.v:187: error: Module definition Test_first_counter_enable_gen cannot nest into module Test_first_counter_reset_gen.\n",
      "testbenches/first_counter_tb.v:190: error: Module definition Test_first_counter_counter_out cannot nest into module Test_first_counter_enable_gen.\n",
      "testbenches/first_counter_tb.v:194: error: Module definition Test_first_counter_counter_out_clk_gen cannot nest into module Test_first_counter_counter_out.\n",
      "testbenches/first_counter_tb.v:197: error: Module definition Test_first_counter_reset_gen cannot nest into module Test_first_counter_counter_out_clk_gen.\n",
      "testbenches/first_counter_tb.v:198: syntax error\n",
      "testbenches/first_counter_tb.v:198: Errors in port declarations.\n",
      "testbenches/first_counter_tb.v:205: syntax error\n",
      "I give up.\n",
      "\n",
      "\n",
      "Processing /content/drive/MyDrive/RTLData/Negation of assignment/SinglePortRAM_4.v...\n",
      "No valid module declaration found.\n",
      "Created fixed Verilog file: testbenches/fixed_SinglePortRAM_4.v\n",
      "Could not parse module definition in testbenches/fixed_SinglePortRAM_4.v\n",
      "\n",
      "Processing /content/drive/MyDrive/RTLData/Negation of assignment/ALU8Bit_4.v...\n",
      "Module: eightbit_alu, Ports: {'input signed [7:0]a': 'unknown', 'input signed [7:0]b': 'unknown', 'input [2:0]sel': 'unknown', 'output signed [7:0]f': 'output', 'output ovf': 'output', 'output take_branch': 'output'}\n",
      "Running LLM analysis with Phi-2...\n"
     ]
    },
    {
     "name": "stderr",
     "output_type": "stream",
     "text": [
      "The attention mask and the pad token id were not set. As a consequence, you may observe unexpected behavior. Please pass your input's `attention_mask` to obtain reliable results.\n",
      "Setting `pad_token_id` to `eos_token_id`:50256 for open-end generation.\n"
     ]
    },
    {
     "name": "stdout",
     "output_type": "stream",
     "text": [
      "Generating testbench with Phi-2...\n"
     ]
    },
    {
     "name": "stderr",
     "output_type": "stream",
     "text": [
      "The attention mask and the pad token id were not set. As a consequence, you may observe unexpected behavior. Please pass your input's `attention_mask` to obtain reliable results.\n",
      "Setting `pad_token_id` to `eos_token_id`:50256 for open-end generation.\n"
     ]
    },
    {
     "name": "stdout",
     "output_type": "stream",
     "text": [
      "Testbench saved to testbenches/eightbit_alu_tb.v\n",
      "Compilation failed for eightbit_alu:\n",
      "/content/drive/MyDrive/RTLData/Negation of assignment/ALU8Bit_4.v:16: syntax error\n",
      "/content/drive/MyDrive/RTLData/Negation of assignment/ALU8Bit_4.v:16: Syntax in assignment statement l-value.\n",
      "/content/drive/MyDrive/RTLData/Negation of assignment/ALU8Bit_4.v:27: syntax error\n",
      "/content/drive/MyDrive/RTLData/Negation of assignment/ALU8Bit_4.v:28: Syntax in assignment statement l-value.\n",
      "/content/drive/MyDrive/RTLData/Negation of assignment/ALU8Bit_4.v:31: syntax error\n",
      "/content/drive/MyDrive/RTLData/Negation of assignment/ALU8Bit_4.v:32: Syntax in assignment statement l-value.\n",
      "testbenches/eightbit_alu_tb.v:25: error: Sized numeric constant must have a size greater than zero.\n",
      "testbenches/eightbit_alu_tb.v:25: error: Sized numeric constant must have a size greater than zero.\n",
      "testbenches/eightbit_alu_tb.v:51: syntax error\n",
      "testbenches/eightbit_alu_tb.v:51: error: malformed statement\n",
      "testbenches/eightbit_alu_tb.v:55: syntax error\n",
      "testbenches/eightbit_alu_tb.v:55: error: malformed statement\n",
      "testbenches/eightbit_alu_tb.v:61: error: Sized numeric constant must have a size greater than zero.\n",
      "\n",
      "\n",
      "Processing /content/drive/MyDrive/RTLData/Negation of assignment/MooreOverlap copy_ParameterError_2.v...\n",
      "Module: jfsmMooreWithOverlap, Ports: {'dataout': 'output', 'clock': 'input', 'reset': 'input', 'datain': 'unknown'}\n",
      "Running LLM analysis with Phi-2...\n"
     ]
    }
   ],
   "source": [
    "import os\n",
    "import re\n",
    "import glob\n",
    "import subprocess\n",
    "import pandas as pd\n",
    "import torch\n",
    "from transformers import AutoModelForCausalLM, AutoTokenizer\n",
    "\n",
    "# Global variables for Phi-2 model caching\n",
    "phi2_model = None\n",
    "phi2_tokenizer = None\n",
    "\n",
    "def setup_phi2_model():\n",
    "    \"\"\"Load and set up the Phi-2 model.\"\"\"\n",
    "    global phi2_model, phi2_tokenizer\n",
    "\n",
    "    # Only load if not already loaded\n",
    "    if phi2_model is None or phi2_tokenizer is None:\n",
    "        print(\"Loading Phi-2 model... This may take a moment.\")\n",
    "        try:\n",
    "            phi2_tokenizer = AutoTokenizer.from_pretrained(\"microsoft/phi-2\")\n",
    "            phi2_model = AutoModelForCausalLM.from_pretrained(\n",
    "                \"microsoft/phi-2\",\n",
    "                torch_dtype=torch.float16,\n",
    "                device_map=\"auto\"\n",
    "            )\n",
    "            print(f\"Phi-2 model loaded successfully. Using device: {phi2_model.device}\")\n",
    "        except Exception as e:\n",
    "            print(f\"Error loading Phi-2 model: {str(e)}\")\n",
    "            print(\"Falling back to rule-based analysis and generation.\")\n",
    "            return None, None\n",
    "\n",
    "    return phi2_model, phi2_tokenizer\n",
    "\n",
    "def phi2_generate(prompt, max_length=2048):\n",
    "    \"\"\"Generate text using Phi-2 model.\"\"\"\n",
    "    global phi2_model, phi2_tokenizer\n",
    "\n",
    "    model, tokenizer = phi2_model, phi2_tokenizer\n",
    "    if model is None or tokenizer is None:\n",
    "        model, tokenizer = setup_phi2_model()\n",
    "        if model is None or tokenizer is None:\n",
    "            return None\n",
    "\n",
    "    try:\n",
    "        inputs = tokenizer(prompt, return_tensors=\"pt\").to(model.device)\n",
    "        outputs = model.generate(\n",
    "            inputs[\"input_ids\"],\n",
    "            max_length=max_length,\n",
    "            do_sample=True,\n",
    "            temperature=0.7,\n",
    "            top_p=0.9,\n",
    "        )\n",
    "        response = tokenizer.decode(outputs[0], skip_special_tokens=True)\n",
    "\n",
    "        # Extract the part after the prompt\n",
    "        if response.startswith(prompt):\n",
    "            response = response[len(prompt):]\n",
    "\n",
    "        return response.strip()\n",
    "    except Exception as e:\n",
    "        print(f\"Error generating with Phi-2: {str(e)}\")\n",
    "        return None\n",
    "\n",
    "def pre_validate_verilog(verilog_file):\n",
    "    \"\"\"Pre-validate Verilog file for common issues.\"\"\"\n",
    "    try:\n",
    "        with open(verilog_file, 'r') as f:\n",
    "            code = f.read()\n",
    "\n",
    "        module_starts = len(re.findall(r'\\bmodule\\b', code))\n",
    "        if module_starts > 1:\n",
    "            return False, \"Multiple or nested module definitions detected.\"\n",
    "\n",
    "        if not re.search(r'module\\s+\\w+\\s*\\(.*?\\)\\s*;', code, re.DOTALL):\n",
    "            return False, \"No valid module declaration found.\"\n",
    "\n",
    "        return True, None\n",
    "    except Exception as e:\n",
    "        return False, f\"Error reading {verilog_file}: {str(e)}\"\n",
    "\n",
    "def parse_verilog_file(verilog_file):\n",
    "    \"\"\"Parse a Verilog file to extract module name, ports, and specs.\"\"\"\n",
    "    try:\n",
    "        with open(verilog_file, 'r') as f:\n",
    "            verilog_code = f.read()\n",
    "\n",
    "        module_match = re.search(r'module\\s+(\\w+)\\s*\\((.*?)\\)\\s*;', verilog_code, re.DOTALL)\n",
    "        if not module_match:\n",
    "            return None, None, None, f\"Could not parse module definition in {verilog_file}\"\n",
    "\n",
    "        module_name = module_match.group(1)\n",
    "        ports_str = module_match.group(2).replace('\\n', '').split(',')\n",
    "        ports = [p.strip() for p in ports_str if p.strip()]\n",
    "\n",
    "        port_directions = {}\n",
    "        for port in ports:\n",
    "            input_match = re.search(rf'\\binput\\s*(?:\\[\\d+:\\d+\\])?\\s*(?:wire|reg)?\\s*{re.escape(port)}\\b', verilog_code)\n",
    "            output_match = re.search(rf'\\boutput\\s*(?:\\[\\d+:\\d+\\])?\\s*(?:wire|reg)?\\s*{re.escape(port)}\\b', verilog_code)\n",
    "            if input_match:\n",
    "                port_directions[port] = 'input'\n",
    "            elif output_match:\n",
    "                port_directions[port] = 'output'\n",
    "            else:\n",
    "                if 'clk' in port.lower() or 'clock' in port.lower() or 'rst' in port.lower() or 'reset' in port.lower():\n",
    "                    port_directions[port] = 'input'\n",
    "                elif 'q' in port.lower() or 'out' in port.lower():\n",
    "                    port_directions[port] = 'output'\n",
    "                else:\n",
    "                    port_directions[port] = 'unknown'\n",
    "\n",
    "        design_specs = f\"Module: {module_name}, Ports: {', '.join([f'{p} ({port_directions[p]})' for p in ports])}\"\n",
    "\n",
    "        return module_name, port_directions, design_specs, None\n",
    "    except Exception as e:\n",
    "        return None, None, None, f\"Error reading {verilog_file}: {str(e)}\"\n",
    "\n",
    "def fix_nested_modules(verilog_file):\n",
    "    \"\"\"Attempt to fix nested module definitions.\"\"\"\n",
    "    try:\n",
    "        with open(verilog_file, 'r') as f:\n",
    "            code = f.read()\n",
    "\n",
    "        module_matches = list(re.finditer(r'\\bmodule\\s+\\w+\\s*\\(.*?\\)\\s*;', code, re.DOTALL))\n",
    "        if len(module_matches) <= 1:\n",
    "            return code, None\n",
    "\n",
    "        first_module_start = module_matches[0].start()\n",
    "        endmodule_match = re.search(r'\\bendmodule\\b', code[first_module_start:])\n",
    "        if not endmodule_match:\n",
    "            return None, \"Could not find endmodule.\"\n",
    "\n",
    "        fixed_code = code[first_module_start:first_module_start + endmodule_match.end()]\n",
    "        return fixed_code, None\n",
    "    except Exception as e:\n",
    "        return None, f\"Error fixing nested modules in {verilog_file}: {str(e)}\"\n",
    "\n",
    "def lint_verilog(verilog_file):\n",
    "    \"\"\"Lint the Verilog file using Verilator.\"\"\"\n",
    "    try:\n",
    "        lint_cmd = [\"verilator\", \"--lint-only\", verilog_file]\n",
    "        lint_result = subprocess.run(lint_cmd, capture_output=True, text=True)\n",
    "        if lint_result.returncode == 0 and not lint_result.stderr:\n",
    "            return \"No linting errors detected.\", None\n",
    "        return lint_result.stderr, None\n",
    "    except Exception as e:\n",
    "        return None, f\"Error linting {verilog_file}: {str(e)}\"\n",
    "\n",
    "def llm_analysis(verilog_file):\n",
    "    \"\"\"Analyze Verilog code using the Phi-2 model.\"\"\"\n",
    "    try:\n",
    "        with open(verilog_file, 'r') as f:\n",
    "            code = f.read()\n",
    "\n",
    "        # Ensure Phi-2 model is loaded\n",
    "        model, tokenizer = setup_phi2_model()\n",
    "        if model is None:\n",
    "            # Fall back to rule-based analysis\n",
    "            return rule_based_analysis(verilog_file)\n",
    "\n",
    "        # Construct the prompt\n",
    "        prompt = (\n",
    "            \"As a Verilog design analyzer, examine the following code for correctness, potential issues, \"\n",
    "            \"and suggestions for improvement. Focus on syntax errors, semantic issues, and provide optimization suggestions.\\n\\n\"\n",
    "            \"Verilog Code:\\n```verilog\\n\"\n",
    "            f\"{code}\\n\"\n",
    "            \"```\\n\\n\"\n",
    "        )\n",
    "\n",
    "        # Generate analysis using Phi-2\n",
    "        analysis = phi2_generate(prompt)\n",
    "\n",
    "        if analysis is None:\n",
    "            # Fallback to rule-based analysis\n",
    "            return rule_based_analysis(verilog_file)\n",
    "\n",
    "        return analysis, None\n",
    "    except Exception as e:\n",
    "        return None, f\"Error analyzing {verilog_file} with Phi-2: {str(e)}\"\n",
    "\n",
    "def rule_based_analysis(verilog_file):\n",
    "    \"\"\"Fallback rule-based analysis when Phi-2 is unavailable.\"\"\"\n",
    "    try:\n",
    "        with open(verilog_file, 'r') as f:\n",
    "            code = f.read()\n",
    "\n",
    "        # Check for GPU availability (just for report, not using it)\n",
    "        device = torch.device(\"cuda\" if torch.cuda.is_available() else \"cpu\")\n",
    "        print(f\"Using device for rule-based analysis: {device}\")\n",
    "\n",
    "        # Basic analysis logic\n",
    "        analysis = []\n",
    "\n",
    "        # Syntax checks\n",
    "        if re.search(r'\\bmodule\\s+\\w+\\s*\\([^;]*\\bmodule\\b', code, re.DOTALL):\n",
    "            analysis.append(\"Error: Nested module declarations detected. Fix: Ensure only one module per file.\")\n",
    "\n",
    "        if not re.search(r'\\bendmodule\\b', code):\n",
    "            analysis.append(\"Error: Missing endmodule statement. Fix: Add endmodule at the end of the module.\")\n",
    "\n",
    "        port_decls = re.findall(r'\\b(input|output)\\s*(?:\\[\\d+:\\d+\\])?\\s*\\w+', code)\n",
    "        if not port_decls:\n",
    "            analysis.append(\"Warning: No input/output declarations found. Fix: Explicitly declare ports with input/output.\")\n",
    "\n",
    "        # Semantic checks\n",
    "        module_match = re.search(r'module\\s+(\\w+)\\s*\\((.*?)\\)\\s*;', code, re.DOTALL)\n",
    "        if module_match:\n",
    "            ports = [p.strip() for p in module_match.group(2).replace('\\n', '').split(',') if p.strip()]\n",
    "            for port in ports:\n",
    "                if not re.search(rf'\\b(port|{re.escape(port)})\\b', code[module_match.end():]):\n",
    "                    analysis.append(f\"Warning: Port '{port}' may be unconnected. Fix: Ensure all ports are used in the module.\")\n",
    "\n",
    "        if 'clk' in code.lower() and not re.search(r'\\balways\\s*@\\s*\\(\\s*posedge\\s+clk', code, re.IGNORECASE):\n",
    "            analysis.append(\"Warning: Clock signal detected but no posedge clock sensitivity. Fix: Use always @(posedge clk) for sequential logic.\")\n",
    "\n",
    "        # Arithmetic-specific checks\n",
    "        if any(op in code.lower() for op in ['+', '-', '*', '/']):\n",
    "            if not re.search(r'\\boutput\\s*(?:\\[\\d+:\\d+\\])?\\s*reg', code):\n",
    "                analysis.append(\"Warning: Arithmetic operation detected but no registered output. Fix: Consider registering outputs for pipelined arithmetic.\")\n",
    "            if re.search(r'\\*\\s*\\w+', code) and not re.search(r'\\binput\\s*\\[\\d+:\\d+\\]', code):\n",
    "                analysis.append(\"Suggestion: Multiplication detected with scalar inputs. Consider using vector inputs for scalability.\")\n",
    "\n",
    "        # Style and optimization\n",
    "        if 'clk' in code.lower() and 'rst' not in code.lower():\n",
    "            analysis.append(\"Suggestion: Consider adding a reset signal for synchronous designs.\")\n",
    "\n",
    "        lines = code.splitlines()\n",
    "        if len(lines) > 100:\n",
    "            analysis.append(\"Suggestion: Large module detected. Consider modularizing into smaller submodules.\")\n",
    "\n",
    "        if not re.search(r'\\breg\\s+\\w+\\s*;', code):\n",
    "            analysis.append(\"Suggestion: No internal registers found. Consider adding registers for stateful designs.\")\n",
    "\n",
    "        if re.search(r'\\b(input|output)\\s+\\w+[A-Z]\\w*', code):\n",
    "            analysis.append(\"Suggestion: Mixed-case port names detected. Use consistent naming (e.g., lowercase).\")\n",
    "\n",
    "        return \"\\n\".join(analysis) or \"No issues detected.\", None\n",
    "    except Exception as e:\n",
    "        return None, f\"Error in rule-based analysis of {verilog_file}: {str(e)}\"\n",
    "\n",
    "def generate_testbench(module_name, port_directions, verilog_file):\n",
    "    \"\"\"Generate a Verilog testbench using the Phi-2 model.\"\"\"\n",
    "    try:\n",
    "        with open(verilog_file, 'r') as f:\n",
    "            code = f.read()\n",
    "\n",
    "        # Ensure Phi-2 model is loaded\n",
    "        model, tokenizer = setup_phi2_model()\n",
    "        if model is None:\n",
    "            # Fall back to rule-based generation\n",
    "            return generate_testbench_rule_based(module_name, port_directions, verilog_file)\n",
    "\n",
    "        # Format port information\n",
    "        ports_info = \"\\n\".join([f\"- {port}: {direction}\" for port, direction in port_directions.items()])\n",
    "\n",
    "        # Construct the prompt\n",
    "        prompt = (\n",
    "            f\"Given the following Verilog module and its ports, generate a comprehensive testbench.\\n\\n\"\n",
    "            f\"Module Name: {module_name}\\n\\n\"\n",
    "            f\"Port Details:\\n{ports_info}\\n\\n\"\n",
    "            f\"Original Verilog Code:\\n```verilog\\n{code}\\n```\\n\\n\"\n",
    "            f\"Create a complete testbench for this module with:\\n\"\n",
    "            f\"1. Input stimulation including clock generation if needed\\n\"\n",
    "            f\"2. Reset handling if applicable\\n\"\n",
    "            f\"3. Appropriate test vectors for the module's purpose\\n\"\n",
    "            f\"4. Signal monitoring\\n\"\n",
    "            f\"5. Proper formatting with module declaration, instantiation, etc.\\n\\n\"\n",
    "            f\"The complete testbench code should be in standard Verilog.\"\n",
    "        )\n",
    "\n",
    "        # Generate testbench using Phi-2\n",
    "        response = phi2_generate(prompt, max_length=4096)\n",
    "\n",
    "        if response is None:\n",
    "            # Fallback to rule-based generation\n",
    "            return generate_testbench_rule_based(module_name, port_directions, verilog_file)\n",
    "\n",
    "        # Extract the testbench code from the response\n",
    "        tb_match = re.search(r'```(?:verilog)?\\s*(module[\\s\\S]+?endmodule)', response)\n",
    "        if tb_match:\n",
    "            testbench_code = tb_match.group(1)\n",
    "        else:\n",
    "            # Try another pattern if the first one doesn't match\n",
    "            tb_match = re.search(r'(module[\\s\\S]+?endmodule)', response)\n",
    "            if tb_match:\n",
    "                testbench_code = tb_match.group(1)\n",
    "            else:\n",
    "                print(\"Phi-2 didn't generate a valid testbench, using rule-based generation\")\n",
    "                return generate_testbench_rule_based(module_name, port_directions, verilog_file)\n",
    "\n",
    "        return testbench_code, None\n",
    "    except Exception as e:\n",
    "        print(f\"Error generating testbench with Phi-2: {str(e)}, falling back to rule-based generation\")\n",
    "        return generate_testbench_rule_based(module_name, port_directions, verilog_file)\n",
    "\n",
    "def generate_testbench_rule_based(module_name, port_directions, verilog_file):\n",
    "    \"\"\"Rule-based testbench generation as fallback.\"\"\"\n",
    "    try:\n",
    "        clock_signal = None\n",
    "        reset_signal = None\n",
    "        inputs = []\n",
    "        outputs = []\n",
    "\n",
    "        for port, direction in port_directions.items():\n",
    "            if direction == 'input':\n",
    "                if 'clk' in port.lower() or 'clock' in port.lower():\n",
    "                    clock_signal = port\n",
    "                elif 'rst' in port.lower() or 'reset' in port.lower():\n",
    "                    reset_signal = port\n",
    "                else:\n",
    "                    inputs.append(port)\n",
    "            elif direction == 'output':\n",
    "                outputs.append(port)\n",
    "\n",
    "        tb_code = f\"module {module_name}_tb;\\n\"\n",
    "\n",
    "        for port, direction in port_directions.items():\n",
    "            if direction == 'input':\n",
    "                tb_code += f\"    reg {port};\\n\"\n",
    "            elif direction == 'output':\n",
    "                tb_code += f\"    wire {port};\\n\"\n",
    "\n",
    "        tb_code += \"\\n\"\n",
    "\n",
    "        tb_code += f\"    // Instantiate the module\\n\"\n",
    "        tb_code += f\"    {module_name} uut (\\n\"\n",
    "        for i, port in enumerate(port_directions.keys()):\n",
    "            tb_code += f\"        .{port}({port})\"\n",
    "            tb_code += \",\" if i < len(port_directions) - 1 else \"\"\n",
    "            tb_code += \"\\n\"\n",
    "        tb_code += f\"    );\\n\\n\"\n",
    "\n",
    "        if clock_signal:\n",
    "            tb_code += f\"    // Clock generation\\n\"\n",
    "            tb_code += f\"    initial begin\\n\"\n",
    "            tb_code += f\"        {clock_signal} = 0;\\n\"\n",
    "            tb_code += f\"        forever #5 {clock_signal} = ~{clock_signal}; // 10ns period\\n\"\n",
    "            tb_code += f\"    end\\n\\n\"\n",
    "\n",
    "        tb_code += f\"    // Test stimulus\\n\"\n",
    "        tb_code += f\"    initial begin\\n\"\n",
    "        if reset_signal:\n",
    "            tb_code += f\"        // Initialize signals\\n\"\n",
    "            tb_code += f\"        {reset_signal} = 1;\\n\"\n",
    "            for inp in inputs:\n",
    "                tb_code += f\"        {inp} = 0;\\n\"\n",
    "            tb_code += f\"        #15;\\n\"\n",
    "            tb_code += f\"        {reset_signal} = 0;\\n\"\n",
    "        else:\n",
    "            tb_code += f\"        // Initialize inputs\\n\"\n",
    "            for inp in inputs:\n",
    "                tb_code += f\"        {inp} = 0;\\n\"\n",
    "\n",
    "        if 'srflipflop' in module_name.lower() and 'sr' in [p.lower() for p in inputs]:\n",
    "            tb_code += f\"        // Test SR flip-flop\\n\"\n",
    "            tb_code += f\"        #10;\\n\"\n",
    "            tb_code += f\"        {inputs[0]} = 2'b10; // Set\\n\"\n",
    "            tb_code += f\"        #10;\\n\"\n",
    "            tb_code += f\"        {inputs[0]} = 2'b01; // Reset\\n\"\n",
    "            tb_code += f\"        #10;\\n\"\n",
    "            tb_code += f\"        {inputs[0]} = 2'b00; // Hold\\n\"\n",
    "            tb_code += f\"        #10;\\n\"\n",
    "        else:\n",
    "            if inputs:\n",
    "                tb_code += f\"        // Test arithmetic module\\n\"\n",
    "                tb_code += f\"        #10;\\n\"\n",
    "                for i in range(3):\n",
    "                    for inp in inputs:\n",
    "                        tb_code += f\"        {inp} = ~{inp};\\n\"\n",
    "                    tb_code += f\"        #10;\\n\"\n",
    "\n",
    "        tb_code += f\"        #20;\\n\"\n",
    "        tb_code += f\"        $finish;\\n\"\n",
    "        tb_code += f\"    end\\n\\n\"\n",
    "\n",
    "        tb_code += f\"    // Monitor signals\\n\"\n",
    "        tb_code += f\"    initial begin\\n\"\n",
    "        monitor_str = f\"        $monitor(\\\"Time=%0t \"\n",
    "        if reset_signal:\n",
    "            monitor_str += f\"{reset_signal}=%b \"\n",
    "        if clock_signal:\n",
    "            monitor_str += f\"{clock_signal}=%b \"\n",
    "        for inp in inputs:\n",
    "            monitor_str += f\"{inp}=%b \"\n",
    "        for out in outputs:\n",
    "            monitor_str += f\"{out}=%b \"\n",
    "        monitor_str = monitor_str.strip() + \"\\\", $time\"\n",
    "        if reset_signal:\n",
    "            monitor_str += f\", {reset_signal}\"\n",
    "        if clock_signal:\n",
    "            monitor_str += f\", {clock_signal}\"\n",
    "        for inp in inputs:\n",
    "            monitor_str += f\", {inp}\"\n",
    "        for out in outputs:\n",
    "            monitor_str += f\", {out}\"\n",
    "        monitor_str += \");\\n\"\n",
    "        tb_code += monitor_str\n",
    "        tb_code += f\"    end\\n\"\n",
    "\n",
    "        tb_code += f\"endmodule\\n\"\n",
    "\n",
    "        return tb_code, None\n",
    "    except Exception as e:\n",
    "        return None, f\"Error generating testbench for {module_name}: {str(e)}\"\n",
    "\n",
    "def benchmark_verilog(verilog_file):\n",
    "    \"\"\"Estimate benchmark metrics for the Verilog file.\"\"\"\n",
    "    try:\n",
    "        with open(verilog_file, 'r') as f:\n",
    "            code = f.read()\n",
    "\n",
    "        lines = len(code.splitlines())\n",
    "\n",
    "        # More sophisticated metrics\n",
    "        operators = len(re.findall(r'[+\\-*/&|^~]', code))\n",
    "        always_blocks = len(re.findall(r'\\balways\\b', code))\n",
    "        assignments = len(re.findall(r'=', code))\n",
    "\n",
    "        # Estimate complexity\n",
    "        complexity = lines + operators + (always_blocks * 2) + assignments\n",
    "        test_vectors = max(4, complexity // 10)\n",
    "        runtime = complexity * 0.01\n",
    "\n",
    "        benchmark = f\"Lines: {lines}, Operators: {operators}, Always blocks: {always_blocks}, \" \\\n",
    "                    f\"Estimated Complexity: {complexity}, Test Vectors: {test_vectors}, \" \\\n",
    "                    f\"Estimated Runtime: {runtime:.2f}s\"\n",
    "        return benchmark, None\n",
    "    except Exception as e:\n",
    "        return None, f\"Error benchmarking {verilog_file}: {str(e)}\"\n",
    "\n",
    "def save_testbench(testbench_code, module_name, output_dir):\n",
    "    \"\"\"Save the testbench to a file.\"\"\"\n",
    "    try:\n",
    "        output_file = os.path.join(output_dir, f\"{module_name}_tb.v\")\n",
    "        with open(output_file, 'w') as f:\n",
    "            f.write(testbench_code)\n",
    "        return output_file, None\n",
    "    except Exception as e:\n",
    "        return None, f\"Error saving testbench for {module_name}: {str(e)}\"\n",
    "\n",
    "def simulate_testbench(verilog_file, testbench_file, module_name, output_dir):\n",
    "    \"\"\"Simulate the testbench and capture output.\"\"\"\n",
    "    try:\n",
    "        sim_dir = os.path.join(output_dir, \"sim\")\n",
    "        if not os.path.exists(sim_dir):\n",
    "            os.makedirs(sim_dir)\n",
    "\n",
    "        sim_output_file = os.path.join(sim_dir, f\"{module_name}_sim.txt\")\n",
    "        sim_executable = os.path.join(sim_dir, f\"{module_name}_sim\")\n",
    "\n",
    "        compile_cmd = [\"iverilog\", \"-o\", sim_executable, verilog_file, testbench_file]\n",
    "        compile_result = subprocess.run(compile_cmd, capture_output=True, text=True)\n",
    "        if compile_result.returncode != 0:\n",
    "            return None, f\"Compilation failed for {module_name}:\\n{compile_result.stderr}\"\n",
    "\n",
    "        with open(sim_output_file, 'w') as f:\n",
    "            sim_cmd = [\"vvp\", sim_executable]\n",
    "            sim_result = subprocess.run(sim_cmd, capture_output=True, text=True)\n",
    "            if sim_result.returncode != 0:\n",
    "                return None, f\"Simulation failed for {module_name}:\\n{sim_result.stderr}\"\n",
    "            f.write(sim_result.stdout)\n",
    "\n",
    "        with open(sim_output_file, 'r') as f:\n",
    "            sim_output = f.read()\n",
    "\n",
    "        return sim_output, None\n",
    "    except Exception as e:\n",
    "        return None, f\"Error simulating {module_name}: {str(e)}\"\n",
    "\n",
    "def save_to_excel(results, output_dir):\n",
    "    \"\"\"Save results to an Excel file.\"\"\"\n",
    "    try:\n",
    "        excel_file = os.path.join(output_dir, \"verilog_results.xlsx\")\n",
    "        df = pd.DataFrame(results)\n",
    "        df.to_excel(excel_file, index=False, engine='openpyxl')\n",
    "        print(f\"Results saved to {excel_file}\")\n",
    "    except Exception as e:\n",
    "        print(f\"Error saving Excel file: {str(e)}\")\n",
    "\n",
    "def main(input_dir, output_dir):\n",
    "    \"\"\"Automate Verilog processing and save to Excel.\"\"\"\n",
    "    if not os.path.exists(input_dir):\n",
    "        print(f\"Error: Input directory {input_dir} does not exist.\")\n",
    "        return\n",
    "\n",
    "    if not os.path.exists(output_dir):\n",
    "        os.makedirs(output_dir)\n",
    "        print(f\"Created output directory {output_dir}\")\n",
    "\n",
    "    # Pre-load the Phi-2 model once\n",
    "    setup_phi2_model()\n",
    "\n",
    "    verilog_files = glob.glob(os.path.join(input_dir, \"*.v\"))\n",
    "    if not verilog_files:\n",
    "        print(f\"No Verilog files found in {input_dir}\")\n",
    "        return\n",
    "\n",
    "    print(f\"Found {len(verilog_files)} Verilog files.\")\n",
    "\n",
    "    results = []\n",
    "\n",
    "    for verilog_file in verilog_files:\n",
    "        file_name = os.path.basename(verilog_file)\n",
    "        print(f\"\\nProcessing {verilog_file}...\")\n",
    "\n",
    "        result = {'File Name': file_name}\n",
    "\n",
    "        is_valid, error = pre_validate_verilog(verilog_file)\n",
    "        if not is_valid:\n",
    "            print(error)\n",
    "            fixed_code, fix_error = fix_nested_modules(verilog_file)\n",
    "            if fix_error:\n",
    "                print(fix_error)\n",
    "                result.update({\n",
    "                    'Design Specifications': '',\n",
    "                    'Linting using Verilator': '',\n",
    "                    'LLM Analysis': '',\n",
    "                    'Benchmark': '',\n",
    "                    'Testbench': '',\n",
    "                    'Simulation Output': f\"Validation failed: {error}\\nFix failed: {fix_error}\"\n",
    "                })\n",
    "                results.append(result)\n",
    "                continue\n",
    "            temp_verilog = os.path.join(output_dir, f\"fixed_{file_name}\")\n",
    "            with open(temp_verilog, 'w') as f:\n",
    "                f.write(fixed_code)\n",
    "            verilog_file = temp_verilog\n",
    "            print(f\"Created fixed Verilog file: {verilog_file}\")\n",
    "\n",
    "        module_name, port_directions, design_specs, error = parse_verilog_file(verilog_file)\n",
    "        if error:\n",
    "            print(error)\n",
    "            result.update({\n",
    "                'Design Specifications': '',\n",
    "                'Linting using Verilator': '',\n",
    "                'LLM Analysis': '',\n",
    "                'Benchmark': '',\n",
    "                'Testbench': '',\n",
    "                'Simulation Output': f\"Parsing failed: {error}\"\n",
    "            })\n",
    "            results.append(result)\n",
    "            continue\n",
    "\n",
    "        result['Design Specifications'] = design_specs or \"Parsing failed\"\n",
    "        print(f\"Module: {module_name}, Ports: {port_directions}\")\n",
    "\n",
    "        lint_output, lint_error = lint_verilog(verilog_file)\n",
    "        if lint_error:\n",
    "            print(lint_error)\n",
    "            lint_output = lint_error\n",
    "        result['Linting using Verilator'] = lint_output or \"Linting failed\"\n",
    "\n",
    "        print(\"Running LLM analysis with Phi-2...\")\n",
    "        llm_output, llm_error = llm_analysis(verilog_file)\n",
    "        if llm_error:\n",
    "            print(llm_error)\n",
    "            llm_output = llm_error\n",
    "        result['LLM Analysis'] = llm_output or \"Analysis failed\"\n",
    "\n",
    "        benchmark_output, benchmark_error = benchmark_verilog(verilog_file)\n",
    "        if benchmark_error:\n",
    "            print(benchmark_error)\n",
    "            benchmark_output = benchmark_error\n",
    "        result['Benchmark'] = benchmark_output or \"Benchmarking failed\"\n",
    "\n",
    "        print(\"Generating testbench with Phi-2...\")\n",
    "        testbench_code, error = generate_testbench(module_name, port_directions, verilog_file)\n",
    "        if error:\n",
    "            print(error)\n",
    "            result.update({\n",
    "                'Testbench': '',\n",
    "                'Simulation Output': f\"Testbench generation failed: {error}\"\n",
    "            })\n",
    "            results.append(result)\n",
    "            continue\n",
    "\n",
    "        testbench_file, error = save_testbench(testbench_code, module_name, output_dir)\n",
    "        if error:\n",
    "            print(error)\n",
    "            result.update({\n",
    "                'Testbench': testbench_code,\n",
    "                'Simulation Output': f\"Testbench saving failed: {error}\"\n",
    "            })\n",
    "            results.append(result)\n",
    "            continue\n",
    "        print(f\"Testbench saved to {testbench_file}\")\n",
    "\n",
    "        result['Testbench'] = testbench_code\n",
    "\n",
    "        sim_output, error = simulate_testbench(verilog_file, testbench_file, module_name, output_dir)\n",
    "        if error:\n",
    "            print(error)\n",
    "            result['Simulation Output'] = error\n",
    "        else:\n",
    "            print(f\"Simulation output saved for {module_name}\")\n",
    "            result['Simulation Output'] = sim_output or \"No output captured\"\n",
    "\n",
    "        results.append(result)\n",
    "\n",
    "    save_to_excel(results, output_dir)\n",
    "\n",
    "    sim_dir = os.path.join(output_dir, \"sim\")\n",
    "    for temp_file in glob.glob(os.path.join(sim_dir, \"*_sim\")):\n",
    "        try:\n",
    "            os.remove(temp_file)\n",
    "        except:\n",
    "            pass\n",
    "    for temp_file in glob.glob(os.path.join(output_dir, \"fixed_*.v\")):\n",
    "        try:\n",
    "            os.remove(temp_file)\n",
    "        except:\n",
    "            pass\n",
    "\n",
    "if __name__ == \"__main__\":\n",
    "    # Install dependencies if needed\n",
    "    try:\n",
    "        import transformers\n",
    "    except ImportError:\n",
    "        print(\"Installing required packages...\")\n",
    "        !pip install -q transformers torch pandas openpyxl\n",
    "        print(\"Packages installed.\")\n",
    "\n",
    "    # Set up directories\n",
    "    input_dir = \"/content/drive/MyDrive/RTLData/Negation of assignment\"\n",
    "    output_dir = \"testbenches\"\n",
    "\n",
    "    main(input_dir, output_dir)"
   ]
  }
 ],
 "metadata": {
  "accelerator": "GPU",
  "colab": {
   "gpuType": "T4",
   "provenance": []
  },
  "kernelspec": {
   "display_name": "Python 3",
   "name": "python3"
  },
  "language_info": {
   "name": "python"
  }
 },
 "nbformat": 4,
 "nbformat_minor": 0
}
